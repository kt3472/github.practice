{
 "cells": [
  {
   "cell_type": "code",
   "execution_count": 1,
   "metadata": {},
   "outputs": [
    {
     "name": "stdout",
     "output_type": "stream",
     "text": [
      "x_train.shape :  (3, 5, 1)\n",
      "y_train.shape :  (3,)\n"
     ]
    }
   ],
   "source": [
    "import numpy as np\n",
    "x_train = np.array([[1,2,3,4,5], [2,3,4,5,6], [3,4,5,6,7]])\n",
    "y_train = np.array([6,7,8])\n",
    "x_train = x_train.reshape(x_train.shape[0], x_train.shape[1], 1)\n",
    "print(\"x_train.shape : \", x_train.shape) #(3, 5, 1)\n",
    "print(\"y_train.shape : \", y_train.shape) #(3, )\n"
   ]
  },
  {
   "cell_type": "code",
   "execution_count": 2,
   "metadata": {},
   "outputs": [
    {
     "name": "stderr",
     "output_type": "stream",
     "text": [
      "Using TensorFlow backend.\n"
     ]
    },
    {
     "name": "stdout",
     "output_type": "stream",
     "text": [
      "Model: \"sequential\"\n",
      "_________________________________________________________________\n",
      "Layer (type)                 Output Shape              Param #   \n",
      "=================================================================\n",
      "lstm (LSTM)                  (None, 5, 7)              252       \n",
      "_________________________________________________________________\n",
      "lstm_1 (LSTM)                (None, 8)                 512       \n",
      "_________________________________________________________________\n",
      "dense (Dense)                (None, 4)                 36        \n",
      "_________________________________________________________________\n",
      "dense_1 (Dense)              (None, 1)                 5         \n",
      "=================================================================\n",
      "Total params: 805\n",
      "Trainable params: 805\n",
      "Non-trainable params: 0\n",
      "_________________________________________________________________\n"
     ]
    }
   ],
   "source": [
    "from keras.models import Sequential\n",
    "from keras.layers import Dense, LSTM\n",
    "model = Sequential()\n",
    "model.add(LSTM(7, input_shape = (5, 1), activation ='relu',\n",
    "          return_sequences=True )) # 이전 차원을 그대로 유지\n",
    "model.add(LSTM(8)) # 추가\n",
    "model.add(Dense(4))\n",
    "model.add(Dense(1))\n",
    "model.summary()"
   ]
  },
  {
   "cell_type": "code",
   "execution_count": 3,
   "metadata": {},
   "outputs": [
    {
     "name": "stdout",
     "output_type": "stream",
     "text": [
      "Epoch 1/100\n",
      "3/3 [==============================] - 0s 2ms/step - loss: 50.2545 - mse: 50.2545\n",
      "Epoch 2/100\n",
      "3/3 [==============================] - 0s 3ms/step - loss: 49.7641 - mse: 49.7641\n",
      "Epoch 3/100\n",
      "3/3 [==============================] - 0s 2ms/step - loss: 49.3443 - mse: 49.3443\n",
      "Epoch 4/100\n",
      "3/3 [==============================] - 0s 2ms/step - loss: 48.9296 - mse: 48.9296\n",
      "Epoch 5/100\n",
      "3/3 [==============================] - 0s 2ms/step - loss: 48.5059 - mse: 48.5059\n",
      "Epoch 6/100\n",
      "3/3 [==============================] - 0s 2ms/step - loss: 48.0754 - mse: 48.0754\n",
      "Epoch 7/100\n",
      "3/3 [==============================] - 0s 2ms/step - loss: 47.6874 - mse: 47.6874\n",
      "Epoch 8/100\n",
      "3/3 [==============================] - 0s 2ms/step - loss: 47.3282 - mse: 47.3282\n",
      "Epoch 9/100\n",
      "3/3 [==============================] - 0s 2ms/step - loss: 46.9328 - mse: 46.9328\n",
      "Epoch 10/100\n",
      "3/3 [==============================] - 0s 2ms/step - loss: 46.5447 - mse: 46.5447\n",
      "Epoch 11/100\n",
      "3/3 [==============================] - 0s 2ms/step - loss: 46.1037 - mse: 46.1037\n",
      "Epoch 12/100\n",
      "3/3 [==============================] - 0s 2ms/step - loss: 45.7235 - mse: 45.7235\n",
      "Epoch 13/100\n",
      "3/3 [==============================] - 0s 2ms/step - loss: 45.3079 - mse: 45.3079\n",
      "Epoch 14/100\n",
      "3/3 [==============================] - 0s 2ms/step - loss: 44.8616 - mse: 44.8616\n",
      "Epoch 15/100\n",
      "3/3 [==============================] - 0s 3ms/step - loss: 44.4569 - mse: 44.4569\n",
      "Epoch 16/100\n",
      "3/3 [==============================] - 0s 2ms/step - loss: 44.0091 - mse: 44.0091\n",
      "Epoch 17/100\n",
      "3/3 [==============================] - 0s 2ms/step - loss: 43.5444 - mse: 43.5444\n",
      "Epoch 18/100\n",
      "3/3 [==============================] - 0s 2ms/step - loss: 43.0517 - mse: 43.0517\n",
      "Epoch 19/100\n",
      "3/3 [==============================] - 0s 2ms/step - loss: 42.6129 - mse: 42.6129\n",
      "Epoch 20/100\n",
      "3/3 [==============================] - 0s 2ms/step - loss: 42.1060 - mse: 42.1060\n",
      "Epoch 21/100\n",
      "3/3 [==============================] - 0s 3ms/step - loss: 41.5808 - mse: 41.5808\n",
      "Epoch 22/100\n",
      "3/3 [==============================] - 0s 2ms/step - loss: 41.0459 - mse: 41.0459\n",
      "Epoch 23/100\n",
      "3/3 [==============================] - 0s 2ms/step - loss: 40.5366 - mse: 40.5366\n",
      "Epoch 24/100\n",
      "3/3 [==============================] - 0s 3ms/step - loss: 39.9436 - mse: 39.9436\n",
      "Epoch 25/100\n",
      "3/3 [==============================] - 0s 2ms/step - loss: 39.3818 - mse: 39.3818\n",
      "Epoch 26/100\n",
      "3/3 [==============================] - 0s 2ms/step - loss: 38.7159 - mse: 38.7159\n",
      "Epoch 27/100\n",
      "3/3 [==============================] - 0s 3ms/step - loss: 38.1163 - mse: 38.1163\n",
      "Epoch 28/100\n",
      "3/3 [==============================] - 0s 2ms/step - loss: 37.3972 - mse: 37.3972\n",
      "Epoch 29/100\n",
      "3/3 [==============================] - 0s 2ms/step - loss: 36.7146 - mse: 36.7146\n",
      "Epoch 30/100\n",
      "3/3 [==============================] - 0s 2ms/step - loss: 35.8946 - mse: 35.8946\n",
      "Epoch 31/100\n",
      "3/3 [==============================] - 0s 2ms/step - loss: 35.1726 - mse: 35.1726\n",
      "Epoch 32/100\n",
      "3/3 [==============================] - 0s 2ms/step - loss: 34.2316 - mse: 34.2316\n",
      "Epoch 33/100\n",
      "3/3 [==============================] - 0s 2ms/step - loss: 33.3580 - mse: 33.3580\n",
      "Epoch 34/100\n",
      "3/3 [==============================] - 0s 2ms/step - loss: 32.4079 - mse: 32.4079\n",
      "Epoch 35/100\n",
      "3/3 [==============================] - 0s 3ms/step - loss: 31.4606 - mse: 31.4606\n",
      "Epoch 36/100\n",
      "3/3 [==============================] - 0s 2ms/step - loss: 30.4026 - mse: 30.4026\n",
      "Epoch 37/100\n",
      "3/3 [==============================] - 0s 2ms/step - loss: 29.2967 - mse: 29.2967\n",
      "Epoch 38/100\n",
      "3/3 [==============================] - 0s 2ms/step - loss: 28.1450 - mse: 28.1450\n",
      "Epoch 39/100\n",
      "3/3 [==============================] - 0s 2ms/step - loss: 26.8905 - mse: 26.8905\n",
      "Epoch 40/100\n",
      "3/3 [==============================] - 0s 2ms/step - loss: 25.7662 - mse: 25.7662\n",
      "Epoch 41/100\n",
      "3/3 [==============================] - 0s 3ms/step - loss: 24.4630 - mse: 24.4630\n",
      "Epoch 42/100\n",
      "3/3 [==============================] - 0s 2ms/step - loss: 23.1852 - mse: 23.1852\n",
      "Epoch 43/100\n",
      "3/3 [==============================] - 0s 2ms/step - loss: 21.8990 - mse: 21.8990\n",
      "Epoch 44/100\n",
      "3/3 [==============================] - 0s 3ms/step - loss: 20.5576 - mse: 20.5576\n",
      "Epoch 45/100\n",
      "3/3 [==============================] - 0s 3ms/step - loss: 19.3929 - mse: 19.3929\n",
      "Epoch 46/100\n",
      "3/3 [==============================] - 0s 3ms/step - loss: 18.1422 - mse: 18.1422\n",
      "Epoch 47/100\n",
      "3/3 [==============================] - 0s 3ms/step - loss: 16.8582 - mse: 16.8582\n",
      "Epoch 48/100\n",
      "3/3 [==============================] - 0s 3ms/step - loss: 15.7262 - mse: 15.7262\n",
      "Epoch 49/100\n",
      "3/3 [==============================] - 0s 3ms/step - loss: 14.6865 - mse: 14.6865\n",
      "Epoch 50/100\n",
      "3/3 [==============================] - 0s 2ms/step - loss: 13.6673 - mse: 13.6673\n",
      "Epoch 51/100\n",
      "3/3 [==============================] - 0s 2ms/step - loss: 12.6319 - mse: 12.6319\n",
      "Epoch 52/100\n",
      "3/3 [==============================] - 0s 2ms/step - loss: 11.7908 - mse: 11.7908\n",
      "Epoch 53/100\n",
      "3/3 [==============================] - 0s 3ms/step - loss: 10.8899 - mse: 10.8899\n",
      "Epoch 54/100\n",
      "3/3 [==============================] - 0s 2ms/step - loss: 10.1661 - mse: 10.1661\n",
      "Epoch 55/100\n",
      "3/3 [==============================] - ETA: 0s - loss: 5.2369 - mse: 5.236 - 0s 2ms/step - loss: 9.3903 - mse: 9.3903\n",
      "Epoch 56/100\n",
      "3/3 [==============================] - 0s 3ms/step - loss: 8.7289 - mse: 8.7289\n",
      "Epoch 57/100\n",
      "3/3 [==============================] - 0s 2ms/step - loss: 8.1452 - mse: 8.1452\n",
      "Epoch 58/100\n",
      "3/3 [==============================] - 0s 3ms/step - loss: 7.5852 - mse: 7.5852\n",
      "Epoch 59/100\n",
      "3/3 [==============================] - 0s 3ms/step - loss: 7.0359 - mse: 7.0359\n",
      "Epoch 60/100\n",
      "3/3 [==============================] - 0s 3ms/step - loss: 6.5197 - mse: 6.5197\n",
      "Epoch 61/100\n",
      "3/3 [==============================] - 0s 3ms/step - loss: 6.0630 - mse: 6.0630\n",
      "Epoch 62/100\n",
      "3/3 [==============================] - 0s 2ms/step - loss: 5.6586 - mse: 5.6586\n",
      "Epoch 63/100\n",
      "3/3 [==============================] - 0s 2ms/step - loss: 5.2975 - mse: 5.2975\n",
      "Epoch 64/100\n",
      "3/3 [==============================] - 0s 2ms/step - loss: 4.9361 - mse: 4.9361\n",
      "Epoch 65/100\n",
      "3/3 [==============================] - 0s 3ms/step - loss: 4.5679 - mse: 4.5679\n",
      "Epoch 66/100\n",
      "3/3 [==============================] - 0s 3ms/step - loss: 4.2419 - mse: 4.2419\n",
      "Epoch 67/100\n",
      "3/3 [==============================] - 0s 2ms/step - loss: 3.9289 - mse: 3.9289\n",
      "Epoch 68/100\n",
      "3/3 [==============================] - 0s 3ms/step - loss: 3.6297 - mse: 3.6297\n",
      "Epoch 69/100\n",
      "3/3 [==============================] - 0s 3ms/step - loss: 3.3422 - mse: 3.3422\n",
      "Epoch 70/100\n",
      "3/3 [==============================] - 0s 3ms/step - loss: 3.0302 - mse: 3.0302\n",
      "Epoch 71/100\n",
      "3/3 [==============================] - 0s 2ms/step - loss: 2.8163 - mse: 2.8163\n",
      "Epoch 72/100\n",
      "3/3 [==============================] - 0s 3ms/step - loss: 2.5519 - mse: 2.5519\n",
      "Epoch 73/100\n",
      "3/3 [==============================] - 0s 2ms/step - loss: 2.2812 - mse: 2.2812\n",
      "Epoch 74/100\n",
      "3/3 [==============================] - 0s 3ms/step - loss: 2.0640 - mse: 2.0640\n",
      "Epoch 75/100\n",
      "3/3 [==============================] - 0s 2ms/step - loss: 1.8006 - mse: 1.8006\n",
      "Epoch 76/100\n",
      "3/3 [==============================] - 0s 3ms/step - loss: 1.6454 - mse: 1.6454\n",
      "Epoch 77/100\n",
      "3/3 [==============================] - 0s 2ms/step - loss: 1.4249 - mse: 1.4249\n",
      "Epoch 78/100\n",
      "3/3 [==============================] - 0s 2ms/step - loss: 1.2950 - mse: 1.2950\n",
      "Epoch 79/100\n",
      "3/3 [==============================] - 0s 3ms/step - loss: 1.1272 - mse: 1.1272\n",
      "Epoch 80/100\n",
      "3/3 [==============================] - 0s 3ms/step - loss: 1.0190 - mse: 1.0190\n",
      "Epoch 81/100\n",
      "3/3 [==============================] - 0s 3ms/step - loss: 0.9352 - mse: 0.9352\n",
      "Epoch 82/100\n",
      "3/3 [==============================] - 0s 2ms/step - loss: 0.8804 - mse: 0.8804\n",
      "Epoch 83/100\n",
      "3/3 [==============================] - 0s 2ms/step - loss: 0.7852 - mse: 0.7852\n",
      "Epoch 84/100\n",
      "3/3 [==============================] - 0s 2ms/step - loss: 0.7456 - mse: 0.7456\n",
      "Epoch 85/100\n",
      "3/3 [==============================] - 0s 2ms/step - loss: 0.6850 - mse: 0.6850\n",
      "Epoch 86/100\n",
      "3/3 [==============================] - 0s 3ms/step - loss: 0.6604 - mse: 0.6604\n",
      "Epoch 87/100\n"
     ]
    },
    {
     "name": "stdout",
     "output_type": "stream",
     "text": [
      "3/3 [==============================] - 0s 3ms/step - loss: 0.6331 - mse: 0.6331\n",
      "Epoch 88/100\n",
      "3/3 [==============================] - 0s 4ms/step - loss: 0.5842 - mse: 0.5842\n",
      "Epoch 89/100\n",
      "3/3 [==============================] - 0s 2ms/step - loss: 0.5779 - mse: 0.5779\n",
      "Epoch 90/100\n",
      "3/3 [==============================] - 0s 3ms/step - loss: 0.5620 - mse: 0.5620\n",
      "Epoch 91/100\n",
      "3/3 [==============================] - 0s 3ms/step - loss: 0.5391 - mse: 0.5391\n",
      "Epoch 92/100\n",
      "3/3 [==============================] - 0s 2ms/step - loss: 0.5241 - mse: 0.5241\n",
      "Epoch 93/100\n",
      "3/3 [==============================] - 0s 2ms/step - loss: 0.5053 - mse: 0.5053\n",
      "Epoch 94/100\n",
      "3/3 [==============================] - 0s 3ms/step - loss: 0.4923 - mse: 0.4923\n",
      "Epoch 95/100\n",
      "3/3 [==============================] - 0s 3ms/step - loss: 0.4856 - mse: 0.4856\n",
      "Epoch 96/100\n",
      "3/3 [==============================] - 0s 3ms/step - loss: 0.4763 - mse: 0.4763\n",
      "Epoch 97/100\n",
      "3/3 [==============================] - 0s 2ms/step - loss: 0.4661 - mse: 0.4661\n",
      "Epoch 98/100\n",
      "3/3 [==============================] - 0s 3ms/step - loss: 0.4623 - mse: 0.4623\n",
      "Epoch 99/100\n",
      "3/3 [==============================] - 0s 6ms/step - loss: 0.4549 - mse: 0.4549\n",
      "Epoch 100/100\n",
      "3/3 [==============================] - 0s 3ms/step - loss: 0.4450 - mse: 0.4450\n"
     ]
    },
    {
     "data": {
      "text/plain": [
       "<tensorflow.python.keras.callbacks.History at 0x250059078c8>"
      ]
     },
     "execution_count": 3,
     "metadata": {},
     "output_type": "execute_result"
    }
   ],
   "source": [
    "model.compile(loss='mse', optimizer='adam', metrics=['mse'])\n",
    "model.fit(x_train, y_train, epochs=100, batch_size=1)"
   ]
  },
  {
   "cell_type": "code",
   "execution_count": 4,
   "metadata": {},
   "outputs": [
    {
     "name": "stdout",
     "output_type": "stream",
     "text": [
      "(1, 5)\n",
      "x_predict.shape :  (1, 5, 1)\n"
     ]
    }
   ],
   "source": [
    "x_predict = np.array([[4,5,6,7,8]])\n",
    "print(x_predict.shape) #(1, 5)\n",
    "x_predict = x_predict.reshape(x_predict.shape[0], x_predict.shape[1], 1)\n",
    "print(\"x_predict.shape : \", x_predict.shape) # (1, 5, 1)"
   ]
  },
  {
   "cell_type": "code",
   "execution_count": 5,
   "metadata": {},
   "outputs": [
    {
     "name": "stdout",
     "output_type": "stream",
     "text": [
      "예측값 :  [[7.0311646]]\n"
     ]
    }
   ],
   "source": [
    "y_predict = model.predict(x_predict)\n",
    "print(\"예측값 : \", y_predict)"
   ]
  },
  {
   "cell_type": "code",
   "execution_count": null,
   "metadata": {},
   "outputs": [],
   "source": []
  },
  {
   "cell_type": "code",
   "execution_count": null,
   "metadata": {},
   "outputs": [],
   "source": []
  }
 ],
 "metadata": {
  "kernelspec": {
   "display_name": "Python 3",
   "language": "python",
   "name": "python3"
  },
  "language_info": {
   "codemirror_mode": {
    "name": "ipython",
    "version": 3
   },
   "file_extension": ".py",
   "mimetype": "text/x-python",
   "name": "python",
   "nbconvert_exporter": "python",
   "pygments_lexer": "ipython3",
   "version": "3.7.6"
  }
 },
 "nbformat": 4,
 "nbformat_minor": 4
}
