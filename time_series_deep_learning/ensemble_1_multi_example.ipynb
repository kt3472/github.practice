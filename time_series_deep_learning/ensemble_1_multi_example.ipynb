{
 "cells": [
  {
   "cell_type": "code",
   "execution_count": 2,
   "metadata": {},
   "outputs": [],
   "source": [
    "import numpy as np\n",
    "x = np.array([range(1, 101), range(101, 201)])\n",
    "y1 = np.array([range(501, 601), range(601, 701)])\n",
    "y2 = np.array([range(1, 101), range(101, 201)])"
   ]
  },
  {
   "cell_type": "code",
   "execution_count": 3,
   "metadata": {},
   "outputs": [
    {
     "name": "stdout",
     "output_type": "stream",
     "text": [
      "(2, 100)\n",
      "(2, 100)\n",
      "(2, 100)\n"
     ]
    }
   ],
   "source": [
    "print(x.shape)\n",
    "print(y1.shape)\n",
    "print(y2.shape)"
   ]
  },
  {
   "cell_type": "code",
   "execution_count": 4,
   "metadata": {},
   "outputs": [],
   "source": [
    "x = np.transpose(x)\n",
    "y1 = np.transpose(y1)\n",
    "y2 = np.transpose(y2)"
   ]
  },
  {
   "cell_type": "code",
   "execution_count": 5,
   "metadata": {},
   "outputs": [
    {
     "name": "stdout",
     "output_type": "stream",
     "text": [
      "[[  1 101]\n",
      " [  2 102]\n",
      " [  3 103]\n",
      " [  4 104]\n",
      " [  5 105]]\n",
      "[[501 601]\n",
      " [502 602]\n",
      " [503 603]\n",
      " [504 604]\n",
      " [505 605]]\n",
      "[[  1 101]\n",
      " [  2 102]\n",
      " [  3 103]\n",
      " [  4 104]\n",
      " [  5 105]]\n"
     ]
    }
   ],
   "source": [
    "print(x[:5])\n",
    "print(y1[:5])\n",
    "print(y2[:5])"
   ]
  },
  {
   "cell_type": "code",
   "execution_count": 6,
   "metadata": {},
   "outputs": [
    {
     "name": "stdout",
     "output_type": "stream",
     "text": [
      "(100, 2)\n",
      "(100, 2)\n",
      "(100, 2)\n"
     ]
    }
   ],
   "source": [
    "print(x.shape)\n",
    "print(y1.shape)\n",
    "print(y2.shape)"
   ]
  },
  {
   "cell_type": "code",
   "execution_count": 7,
   "metadata": {},
   "outputs": [],
   "source": [
    "from sklearn.model_selection import train_test_split"
   ]
  },
  {
   "cell_type": "code",
   "execution_count": 9,
   "metadata": {},
   "outputs": [],
   "source": [
    "x_train, x_test, y1_train, y1_test = train_test_split(x,\n",
    "                                                     y1,\n",
    "                                                     random_state=2020,\n",
    "                                                     test_size = 0.2,\n",
    "                                                     shuffle=False)"
   ]
  },
  {
   "cell_type": "code",
   "execution_count": 11,
   "metadata": {},
   "outputs": [],
   "source": [
    "x_val, x_test, y1_val, y1_test = train_test_split(x_test,\n",
    "                                                  y1_test,\n",
    "                                                  random_state=2020,\n",
    "                                                  test_size = 0.5,\n",
    "                                                  shuffle = False)"
   ]
  },
  {
   "cell_type": "code",
   "execution_count": 13,
   "metadata": {},
   "outputs": [],
   "source": [
    "y2_train, y2_test = train_test_split(y2,\n",
    "                                    random_state=2020,\n",
    "                                    test_size = 0.2,\n",
    "                                    shuffle = False)"
   ]
  },
  {
   "cell_type": "code",
   "execution_count": 14,
   "metadata": {},
   "outputs": [],
   "source": [
    "y2_val, y2_test = train_test_split(y2_test,\n",
    "                                  random_state=2020,\n",
    "                                  test_size = 0.5,\n",
    "                                  shuffle = False)"
   ]
  },
  {
   "cell_type": "code",
   "execution_count": 15,
   "metadata": {},
   "outputs": [
    {
     "name": "stdout",
     "output_type": "stream",
     "text": [
      "y2_train.shape :  (80, 2)\n",
      "y2_val.shape :  (10, 2)\n",
      "y2_test.shape :  (10, 2)\n"
     ]
    }
   ],
   "source": [
    "print('y2_train.shape : ', y2_train.shape)\n",
    "print('y2_val.shape : ', y2_val.shape)\n",
    "print('y2_test.shape : ', y2_test.shape)\n"
   ]
  },
  {
   "cell_type": "code",
   "execution_count": 16,
   "metadata": {},
   "outputs": [
    {
     "name": "stderr",
     "output_type": "stream",
     "text": [
      "Using TensorFlow backend.\n"
     ]
    }
   ],
   "source": [
    "from keras.models import Sequential, Model\n",
    "from keras.layers import Dense, Input"
   ]
  },
  {
   "cell_type": "code",
   "execution_count": 28,
   "metadata": {},
   "outputs": [],
   "source": [
    "del output1, output2, model"
   ]
  },
  {
   "cell_type": "code",
   "execution_count": 29,
   "metadata": {},
   "outputs": [],
   "source": [
    "input1 = Input(shape=(2,))\n",
    "dense1 = Dense(100, activation='relu')(input1)\n",
    "dense1 = Dense(30)(dense1)\n",
    "dense1 = Dense(7)(dense1)"
   ]
  },
  {
   "cell_type": "code",
   "execution_count": 30,
   "metadata": {},
   "outputs": [],
   "source": [
    "output1 = Dense(30)(dense1)\n",
    "output1 = Dense(7)(output1)\n",
    "output1 = Dense(2)(output1)"
   ]
  },
  {
   "cell_type": "code",
   "execution_count": 31,
   "metadata": {},
   "outputs": [],
   "source": [
    "output2 = Dense(30)(dense1)\n",
    "output2 = Dense(7)(output2)\n",
    "output2 = Dense(2)(output2)"
   ]
  },
  {
   "cell_type": "code",
   "execution_count": 32,
   "metadata": {},
   "outputs": [],
   "source": [
    "model = Model(inputs = input1, outputs=[output1, output2])"
   ]
  },
  {
   "cell_type": "code",
   "execution_count": 33,
   "metadata": {},
   "outputs": [
    {
     "name": "stdout",
     "output_type": "stream",
     "text": [
      "Model: \"model_1\"\n",
      "__________________________________________________________________________________________________\n",
      "Layer (type)                    Output Shape         Param #     Connected to                     \n",
      "==================================================================================================\n",
      "input_2 (InputLayer)            [(None, 2)]          0                                            \n",
      "__________________________________________________________________________________________________\n",
      "dense_12 (Dense)                (None, 100)          300         input_2[0][0]                    \n",
      "__________________________________________________________________________________________________\n",
      "dense_13 (Dense)                (None, 30)           3030        dense_12[0][0]                   \n",
      "__________________________________________________________________________________________________\n",
      "dense_14 (Dense)                (None, 7)            217         dense_13[0][0]                   \n",
      "__________________________________________________________________________________________________\n",
      "dense_15 (Dense)                (None, 30)           240         dense_14[0][0]                   \n",
      "__________________________________________________________________________________________________\n",
      "dense_18 (Dense)                (None, 30)           240         dense_14[0][0]                   \n",
      "__________________________________________________________________________________________________\n",
      "dense_16 (Dense)                (None, 7)            217         dense_15[0][0]                   \n",
      "__________________________________________________________________________________________________\n",
      "dense_19 (Dense)                (None, 7)            217         dense_18[0][0]                   \n",
      "__________________________________________________________________________________________________\n",
      "dense_17 (Dense)                (None, 2)            16          dense_16[0][0]                   \n",
      "__________________________________________________________________________________________________\n",
      "dense_20 (Dense)                (None, 2)            16          dense_19[0][0]                   \n",
      "==================================================================================================\n",
      "Total params: 4,493\n",
      "Trainable params: 4,493\n",
      "Non-trainable params: 0\n",
      "__________________________________________________________________________________________________\n"
     ]
    }
   ],
   "source": [
    "model.summary()"
   ]
  },
  {
   "cell_type": "code",
   "execution_count": 37,
   "metadata": {},
   "outputs": [],
   "source": [
    "model.compile(loss='mse', optimizer='adam', metrics=['mse'])"
   ]
  },
  {
   "cell_type": "code",
   "execution_count": 38,
   "metadata": {},
   "outputs": [
    {
     "name": "stdout",
     "output_type": "stream",
     "text": [
      "Epoch 1/50\n",
      "80/80 [==============================] - 0s 3ms/step - loss: 103.0427 - dense_17_loss: 86.0348 - dense_20_loss: 17.0079 - dense_17_mse: 86.0348 - dense_20_mse: 17.0079 - val_loss: 37.0513 - val_dense_17_loss: 35.7854 - val_dense_20_loss: 1.2659 - val_dense_17_mse: 35.7854 - val_dense_20_mse: 1.2659\n",
      "Epoch 2/50\n",
      "80/80 [==============================] - 0s 1ms/step - loss: 0.1168 - dense_17_loss: 0.0675 - dense_20_loss: 0.0493 - dense_17_mse: 0.0675 - dense_20_mse: 0.0493 - val_loss: 52.1681 - val_dense_17_loss: 50.3268 - val_dense_20_loss: 1.8413 - val_dense_17_mse: 50.3268 - val_dense_20_mse: 1.8413\n",
      "Epoch 3/50\n",
      "80/80 [==============================] - 0s 1ms/step - loss: 0.0086 - dense_17_loss: 0.0063 - dense_20_loss: 0.0023 - dense_17_mse: 0.0063 - dense_20_mse: 0.0023 - val_loss: 48.4014 - val_dense_17_loss: 46.6483 - val_dense_20_loss: 1.7531 - val_dense_17_mse: 46.6483 - val_dense_20_mse: 1.7531\n",
      "Epoch 4/50\n",
      "80/80 [==============================] - 0s 1ms/step - loss: 0.0083 - dense_17_loss: 0.0039 - dense_20_loss: 0.0044 - dense_17_mse: 0.0039 - dense_20_mse: 0.0044 - val_loss: 48.4799 - val_dense_17_loss: 46.8135 - val_dense_20_loss: 1.6664 - val_dense_17_mse: 46.8135 - val_dense_20_mse: 1.6664\n",
      "Epoch 5/50\n",
      "80/80 [==============================] - 0s 1ms/step - loss: 0.0136 - dense_17_loss: 0.0082 - dense_20_loss: 0.0053 - dense_17_mse: 0.0082 - dense_20_mse: 0.0053 - val_loss: 46.4621 - val_dense_17_loss: 44.7772 - val_dense_20_loss: 1.6849 - val_dense_17_mse: 44.7772 - val_dense_20_mse: 1.6849\n",
      "Epoch 6/50\n",
      "80/80 [==============================] - 0s 1ms/step - loss: 0.0281 - dense_17_loss: 0.0182 - dense_20_loss: 0.0100 - dense_17_mse: 0.0182 - dense_20_mse: 0.0100 - val_loss: 45.6729 - val_dense_17_loss: 44.0411 - val_dense_20_loss: 1.6318 - val_dense_17_mse: 44.0411 - val_dense_20_mse: 1.6318\n",
      "Epoch 7/50\n",
      "80/80 [==============================] - 0s 1ms/step - loss: 0.0079 - dense_17_loss: 0.0046 - dense_20_loss: 0.0033 - dense_17_mse: 0.0046 - dense_20_mse: 0.0033 - val_loss: 46.9339 - val_dense_17_loss: 45.4230 - val_dense_20_loss: 1.5109 - val_dense_17_mse: 45.4230 - val_dense_20_mse: 1.5109\n",
      "Epoch 8/50\n",
      "80/80 [==============================] - 0s 1ms/step - loss: 0.1890 - dense_17_loss: 0.0673 - dense_20_loss: 0.1217 - dense_17_mse: 0.0673 - dense_20_mse: 0.1217 - val_loss: 39.5272 - val_dense_17_loss: 30.8755 - val_dense_20_loss: 8.6518 - val_dense_17_mse: 30.8755 - val_dense_20_mse: 8.6518\n",
      "Epoch 9/50\n",
      "80/80 [==============================] - 0s 2ms/step - loss: 3.9587 - dense_17_loss: 1.9810 - dense_20_loss: 1.9777 - dense_17_mse: 1.9810 - dense_20_mse: 1.9777 - val_loss: 69.4747 - val_dense_17_loss: 66.6626 - val_dense_20_loss: 2.8121 - val_dense_17_mse: 66.6626 - val_dense_20_mse: 2.8121\n",
      "Epoch 10/50\n",
      "80/80 [==============================] - 0s 2ms/step - loss: 16.2849 - dense_17_loss: 14.4709 - dense_20_loss: 1.8140 - dense_17_mse: 14.4709 - dense_20_mse: 1.8140 - val_loss: 27.0670 - val_dense_17_loss: 22.2057 - val_dense_20_loss: 4.8613 - val_dense_17_mse: 22.2057 - val_dense_20_mse: 4.8613\n",
      "Epoch 11/50\n",
      "80/80 [==============================] - 0s 1ms/step - loss: 62.5037 - dense_17_loss: 59.3738 - dense_20_loss: 3.1299 - dense_17_mse: 59.3738 - dense_20_mse: 3.1299 - val_loss: 428.3568 - val_dense_17_loss: 414.5746 - val_dense_20_loss: 13.7821 - val_dense_17_mse: 414.5746 - val_dense_20_mse: 13.7821\n",
      "Epoch 12/50\n",
      "80/80 [==============================] - 0s 1ms/step - loss: 24.2075 - dense_17_loss: 21.4469 - dense_20_loss: 2.7607 - dense_17_mse: 21.4469 - dense_20_mse: 2.7607 - val_loss: 13.5928 - val_dense_17_loss: 13.2950 - val_dense_20_loss: 0.2977 - val_dense_17_mse: 13.2950 - val_dense_20_mse: 0.2977\n",
      "Epoch 13/50\n",
      "80/80 [==============================] - 0s 1ms/step - loss: 0.1882 - dense_17_loss: 0.0250 - dense_20_loss: 0.1633 - dense_17_mse: 0.0250 - dense_20_mse: 0.1633 - val_loss: 13.7427 - val_dense_17_loss: 13.0300 - val_dense_20_loss: 0.7127 - val_dense_17_mse: 13.0300 - val_dense_20_mse: 0.7127\n",
      "Epoch 14/50\n",
      "80/80 [==============================] - 0s 1ms/step - loss: 0.0138 - dense_17_loss: 0.0100 - dense_20_loss: 0.0038 - dense_17_mse: 0.0100 - dense_20_mse: 0.0038 - val_loss: 13.5108 - val_dense_17_loss: 12.8252 - val_dense_20_loss: 0.6856 - val_dense_17_mse: 12.8252 - val_dense_20_mse: 0.6856\n",
      "Epoch 15/50\n",
      "80/80 [==============================] - 0s 1ms/step - loss: 0.0085 - dense_17_loss: 0.0067 - dense_20_loss: 0.0018 - dense_17_mse: 0.0067 - dense_20_mse: 0.0018 - val_loss: 12.6517 - val_dense_17_loss: 12.0444 - val_dense_20_loss: 0.6073 - val_dense_17_mse: 12.0444 - val_dense_20_mse: 0.6073\n",
      "Epoch 16/50\n",
      "80/80 [==============================] - 0s 1ms/step - loss: 0.0593 - dense_17_loss: 0.0527 - dense_20_loss: 0.0066 - dense_17_mse: 0.0527 - dense_20_mse: 0.0066 - val_loss: 11.8433 - val_dense_17_loss: 11.1718 - val_dense_20_loss: 0.6715 - val_dense_17_mse: 11.1718 - val_dense_20_mse: 0.6715\n",
      "Epoch 17/50\n",
      "80/80 [==============================] - 0s 1ms/step - loss: 0.0777 - dense_17_loss: 0.0697 - dense_20_loss: 0.0079 - dense_17_mse: 0.0697 - dense_20_mse: 0.0079 - val_loss: 15.0351 - val_dense_17_loss: 14.2791 - val_dense_20_loss: 0.7560 - val_dense_17_mse: 14.2791 - val_dense_20_mse: 0.7560\n",
      "Epoch 18/50\n",
      "80/80 [==============================] - 0s 1ms/step - loss: 0.0183 - dense_17_loss: 0.0146 - dense_20_loss: 0.0037 - dense_17_mse: 0.0146 - dense_20_mse: 0.0037 - val_loss: 12.8938 - val_dense_17_loss: 12.2151 - val_dense_20_loss: 0.6786 - val_dense_17_mse: 12.2151 - val_dense_20_mse: 0.6786\n",
      "Epoch 19/50\n",
      "80/80 [==============================] - 0s 1ms/step - loss: 2.3874 - dense_17_loss: 2.1237 - dense_20_loss: 0.2637 - dense_17_mse: 2.1237 - dense_20_mse: 0.2637 - val_loss: 23.7855 - val_dense_17_loss: 22.9195 - val_dense_20_loss: 0.8660 - val_dense_17_mse: 22.9195 - val_dense_20_mse: 0.8660\n",
      "Epoch 20/50\n",
      "80/80 [==============================] - 0s 2ms/step - loss: 71.3798 - dense_17_loss: 66.6945 - dense_20_loss: 4.6853 - dense_17_mse: 66.6945 - dense_20_mse: 4.6853 - val_loss: 2217.5713 - val_dense_17_loss: 2139.3074 - val_dense_20_loss: 78.2639 - val_dense_17_mse: 2139.3074 - val_dense_20_mse: 78.2639\n",
      "Epoch 21/50\n",
      "80/80 [==============================] - 0s 2ms/step - loss: 108.3825 - dense_17_loss: 99.1689 - dense_20_loss: 9.2136 - dense_17_mse: 99.1689 - dense_20_mse: 9.2136 - val_loss: 29.9430 - val_dense_17_loss: 5.5751 - val_dense_20_loss: 24.3679 - val_dense_17_mse: 5.5751 - val_dense_20_mse: 24.3679\n",
      "Epoch 22/50\n",
      "80/80 [==============================] - 0s 2ms/step - loss: 7.3279 - dense_17_loss: 2.8343 - dense_20_loss: 4.4936 - dense_17_mse: 2.8343 - dense_20_mse: 4.4936 - val_loss: 9.3659 - val_dense_17_loss: 7.6915 - val_dense_20_loss: 1.6745 - val_dense_17_mse: 7.6915 - val_dense_20_mse: 1.6745\n",
      "Epoch 23/50\n",
      "80/80 [==============================] - 0s 2ms/step - loss: 0.2816 - dense_17_loss: 0.1614 - dense_20_loss: 0.1202 - dense_17_mse: 0.1614 - dense_20_mse: 0.1202 - val_loss: 11.6518 - val_dense_17_loss: 10.6916 - val_dense_20_loss: 0.9602 - val_dense_17_mse: 10.6916 - val_dense_20_mse: 0.9602\n",
      "Epoch 24/50\n",
      "80/80 [==============================] - 0s 2ms/step - loss: 0.2253 - dense_17_loss: 0.1480 - dense_20_loss: 0.0774 - dense_17_mse: 0.1480 - dense_20_mse: 0.0774 - val_loss: 9.9848 - val_dense_17_loss: 9.2904 - val_dense_20_loss: 0.6944 - val_dense_17_mse: 9.2904 - val_dense_20_mse: 0.6944\n",
      "Epoch 25/50\n",
      "80/80 [==============================] - 0s 2ms/step - loss: 0.0259 - dense_17_loss: 0.0160 - dense_20_loss: 0.0099 - dense_17_mse: 0.0160 - dense_20_mse: 0.0099 - val_loss: 9.4624 - val_dense_17_loss: 8.7613 - val_dense_20_loss: 0.7011 - val_dense_17_mse: 8.7613 - val_dense_20_mse: 0.7011\n",
      "Epoch 26/50\n",
      "80/80 [==============================] - 0s 1ms/step - loss: 0.0234 - dense_17_loss: 0.0163 - dense_20_loss: 0.0071 - dense_17_mse: 0.0163 - dense_20_mse: 0.0071 - val_loss: 11.8057 - val_dense_17_loss: 11.1371 - val_dense_20_loss: 0.6687 - val_dense_17_mse: 11.1371 - val_dense_20_mse: 0.6687\n",
      "Epoch 27/50\n",
      "80/80 [==============================] - 0s 1ms/step - loss: 0.0349 - dense_17_loss: 0.0220 - dense_20_loss: 0.0128 - dense_17_mse: 0.0220 - dense_20_mse: 0.0128 - val_loss: 8.6622 - val_dense_17_loss: 8.1906 - val_dense_20_loss: 0.4716 - val_dense_17_mse: 8.1906 - val_dense_20_mse: 0.4716\n"
     ]
    },
    {
     "name": "stdout",
     "output_type": "stream",
     "text": [
      "Epoch 28/50\n",
      "80/80 [==============================] - 0s 1ms/step - loss: 0.1430 - dense_17_loss: 0.0814 - dense_20_loss: 0.0616 - dense_17_mse: 0.0814 - dense_20_mse: 0.0616 - val_loss: 9.0753 - val_dense_17_loss: 8.2827 - val_dense_20_loss: 0.7926 - val_dense_17_mse: 8.2827 - val_dense_20_mse: 0.7926\n",
      "Epoch 29/50\n",
      "80/80 [==============================] - 0s 1ms/step - loss: 0.0407 - dense_17_loss: 0.0352 - dense_20_loss: 0.0054 - dense_17_mse: 0.0352 - dense_20_mse: 0.0054 - val_loss: 9.1714 - val_dense_17_loss: 8.7120 - val_dense_20_loss: 0.4594 - val_dense_17_mse: 8.7120 - val_dense_20_mse: 0.4594\n",
      "Epoch 30/50\n",
      "80/80 [==============================] - 0s 1ms/step - loss: 0.4709 - dense_17_loss: 0.0530 - dense_20_loss: 0.4179 - dense_17_mse: 0.0530 - dense_20_mse: 0.4179 - val_loss: 9.4896 - val_dense_17_loss: 9.1427 - val_dense_20_loss: 0.3469 - val_dense_17_mse: 9.1427 - val_dense_20_mse: 0.3469\n",
      "Epoch 31/50\n",
      "80/80 [==============================] - 0s 2ms/step - loss: 0.2772 - dense_17_loss: 0.0325 - dense_20_loss: 0.2446 - dense_17_mse: 0.0325 - dense_20_mse: 0.2446 - val_loss: 10.2769 - val_dense_17_loss: 9.5727 - val_dense_20_loss: 0.7042 - val_dense_17_mse: 9.5727 - val_dense_20_mse: 0.7042\n",
      "Epoch 32/50\n",
      "80/80 [==============================] - 0s 2ms/step - loss: 0.0413 - dense_17_loss: 0.0123 - dense_20_loss: 0.0290 - dense_17_mse: 0.0123 - dense_20_mse: 0.0290 - val_loss: 10.9668 - val_dense_17_loss: 9.3599 - val_dense_20_loss: 1.6070 - val_dense_17_mse: 9.3599 - val_dense_20_mse: 1.6070\n",
      "Epoch 33/50\n",
      "80/80 [==============================] - 0s 1ms/step - loss: 2.5437 - dense_17_loss: 0.1523 - dense_20_loss: 2.3914 - dense_17_mse: 0.1523 - dense_20_mse: 2.3914 - val_loss: 10.4279 - val_dense_17_loss: 10.1580 - val_dense_20_loss: 0.2699 - val_dense_17_mse: 10.1580 - val_dense_20_mse: 0.2699\n",
      "Epoch 34/50\n",
      "80/80 [==============================] - 0s 1ms/step - loss: 0.7289 - dense_17_loss: 0.3176 - dense_20_loss: 0.4113 - dense_17_mse: 0.3176 - dense_20_mse: 0.4113 - val_loss: 9.9342 - val_dense_17_loss: 9.5700 - val_dense_20_loss: 0.3642 - val_dense_17_mse: 9.5700 - val_dense_20_mse: 0.3642\n",
      "Epoch 35/50\n",
      "80/80 [==============================] - 0s 2ms/step - loss: 4.2585 - dense_17_loss: 3.6771 - dense_20_loss: 0.5814 - dense_17_mse: 3.6771 - dense_20_mse: 0.5814 - val_loss: 5.5736 - val_dense_17_loss: 5.1185 - val_dense_20_loss: 0.4551 - val_dense_17_mse: 5.1185 - val_dense_20_mse: 0.4551\n",
      "Epoch 36/50\n",
      "80/80 [==============================] - 0s 2ms/step - loss: 17.2930 - dense_17_loss: 11.1778 - dense_20_loss: 6.1152 - dense_17_mse: 11.1778 - dense_20_mse: 6.1152 - val_loss: 67.1493 - val_dense_17_loss: 64.7825 - val_dense_20_loss: 2.3667 - val_dense_17_mse: 64.7825 - val_dense_20_mse: 2.3667\n",
      "Epoch 37/50\n",
      "80/80 [==============================] - 0s 2ms/step - loss: 22.0662 - dense_17_loss: 20.8595 - dense_20_loss: 1.2067 - dense_17_mse: 20.8595 - dense_20_mse: 1.2067 - val_loss: 9.9808 - val_dense_17_loss: 9.5723 - val_dense_20_loss: 0.4085 - val_dense_17_mse: 9.5723 - val_dense_20_mse: 0.4085\n",
      "Epoch 38/50\n",
      "80/80 [==============================] - 0s 1ms/step - loss: 4.3904 - dense_17_loss: 4.2456 - dense_20_loss: 0.1448 - dense_17_mse: 4.2456 - dense_20_mse: 0.1448 - val_loss: 35.4991 - val_dense_17_loss: 34.8735 - val_dense_20_loss: 0.6256 - val_dense_17_mse: 34.8735 - val_dense_20_mse: 0.6256\n",
      "Epoch 39/50\n",
      "80/80 [==============================] - 0s 1ms/step - loss: 0.8640 - dense_17_loss: 0.8348 - dense_20_loss: 0.0293 - dense_17_mse: 0.8348 - dense_20_mse: 0.0293 - val_loss: 9.9390 - val_dense_17_loss: 9.3695 - val_dense_20_loss: 0.5694 - val_dense_17_mse: 9.3695 - val_dense_20_mse: 0.5694\n",
      "Epoch 40/50\n",
      "80/80 [==============================] - 0s 1ms/step - loss: 2.4933 - dense_17_loss: 2.4202 - dense_20_loss: 0.0731 - dense_17_mse: 2.4202 - dense_20_mse: 0.0731 - val_loss: 7.9364 - val_dense_17_loss: 7.2870 - val_dense_20_loss: 0.6494 - val_dense_17_mse: 7.2870 - val_dense_20_mse: 0.6494\n",
      "Epoch 41/50\n",
      "80/80 [==============================] - 0s 1ms/step - loss: 7.2869 - dense_17_loss: 7.0363 - dense_20_loss: 0.2506 - dense_17_mse: 7.0363 - dense_20_mse: 0.2506 - val_loss: 6.2609 - val_dense_17_loss: 5.6312 - val_dense_20_loss: 0.6297 - val_dense_17_mse: 5.6312 - val_dense_20_mse: 0.6297\n",
      "Epoch 42/50\n",
      "80/80 [==============================] - 0s 1ms/step - loss: 0.6070 - dense_17_loss: 0.5790 - dense_20_loss: 0.0280 - dense_17_mse: 0.5790 - dense_20_mse: 0.0280 - val_loss: 14.9202 - val_dense_17_loss: 14.5179 - val_dense_20_loss: 0.4022 - val_dense_17_mse: 14.5179 - val_dense_20_mse: 0.4022\n",
      "Epoch 43/50\n",
      "80/80 [==============================] - 0s 1ms/step - loss: 27.7134 - dense_17_loss: 23.7598 - dense_20_loss: 3.9536 - dense_17_mse: 23.7598 - dense_20_mse: 3.9536 - val_loss: 65.8985 - val_dense_17_loss: 19.3444 - val_dense_20_loss: 46.5540 - val_dense_17_mse: 19.3444 - val_dense_20_mse: 46.5540\n",
      "Epoch 44/50\n",
      "80/80 [==============================] - 0s 1ms/step - loss: 18.8714 - dense_17_loss: 14.1047 - dense_20_loss: 4.7667 - dense_17_mse: 14.1047 - dense_20_mse: 4.7667 - val_loss: 107.6477 - val_dense_17_loss: 104.6697 - val_dense_20_loss: 2.9780 - val_dense_17_mse: 104.6697 - val_dense_20_mse: 2.9780\n",
      "Epoch 45/50\n",
      "80/80 [==============================] - 0s 1ms/step - loss: 18.1144 - dense_17_loss: 17.3598 - dense_20_loss: 0.7546 - dense_17_mse: 17.3598 - dense_20_mse: 0.7546 - val_loss: 13.2860 - val_dense_17_loss: 12.7459 - val_dense_20_loss: 0.5400 - val_dense_17_mse: 12.7459 - val_dense_20_mse: 0.5400\n",
      "Epoch 46/50\n",
      "80/80 [==============================] - 0s 1ms/step - loss: 0.3417 - dense_17_loss: 0.3128 - dense_20_loss: 0.0289 - dense_17_mse: 0.3128 - dense_20_mse: 0.0289 - val_loss: 8.2316 - val_dense_17_loss: 7.7717 - val_dense_20_loss: 0.4598 - val_dense_17_mse: 7.7717 - val_dense_20_mse: 0.4598\n",
      "Epoch 47/50\n",
      "80/80 [==============================] - 0s 1ms/step - loss: 0.0241 - dense_17_loss: 0.0224 - dense_20_loss: 0.0017 - dense_17_mse: 0.0224 - dense_20_mse: 0.0017 - val_loss: 11.8955 - val_dense_17_loss: 11.1409 - val_dense_20_loss: 0.7546 - val_dense_17_mse: 11.1409 - val_dense_20_mse: 0.7546\n",
      "Epoch 48/50\n",
      "80/80 [==============================] - 0s 1ms/step - loss: 0.0266 - dense_17_loss: 0.0225 - dense_20_loss: 0.0041 - dense_17_mse: 0.0225 - dense_20_mse: 0.0041 - val_loss: 9.5629 - val_dense_17_loss: 8.8601 - val_dense_20_loss: 0.7028 - val_dense_17_mse: 8.8601 - val_dense_20_mse: 0.7028\n",
      "Epoch 49/50\n",
      "80/80 [==============================] - 0s 1ms/step - loss: 0.0630 - dense_17_loss: 0.0451 - dense_20_loss: 0.0179 - dense_17_mse: 0.0451 - dense_20_mse: 0.0179 - val_loss: 8.3482 - val_dense_17_loss: 7.7495 - val_dense_20_loss: 0.5987 - val_dense_17_mse: 7.7495 - val_dense_20_mse: 0.5987\n",
      "Epoch 50/50\n",
      "80/80 [==============================] - 0s 1ms/step - loss: 0.1165 - dense_17_loss: 0.0442 - dense_20_loss: 0.0723 - dense_17_mse: 0.0442 - dense_20_mse: 0.0723 - val_loss: 13.5048 - val_dense_17_loss: 11.8240 - val_dense_20_loss: 1.6808 - val_dense_17_mse: 11.8240 - val_dense_20_mse: 1.6808\n"
     ]
    },
    {
     "data": {
      "text/plain": [
       "<tensorflow.python.keras.callbacks.History at 0x290afb045c8>"
      ]
     },
     "execution_count": 38,
     "metadata": {},
     "output_type": "execute_result"
    }
   ],
   "source": [
    "model.fit(x_train, [y1_train, y2_train],\n",
    "          epochs=50, batch_size=1,\n",
    "          validation_data=(x_val, [y1_val, y2_val]))"
   ]
  },
  {
   "cell_type": "code",
   "execution_count": 39,
   "metadata": {},
   "outputs": [
    {
     "name": "stdout",
     "output_type": "stream",
     "text": [
      "10/10 [==============================] - 0s 798us/step - loss: 163.9500 - dense_17_loss: 153.6185 - dense_20_loss: 10.3315 - dense_17_mse: 153.6185 - dense_20_mse: 10.3315\n",
      "mse :  [163.9500274658203, 153.61849975585938, 10.331521987915039, 153.61849975585938, 10.331521987915039]\n",
      "y1 예측값 : \n",
      " [[597.916   699.0591 ]\n",
      " [599.84296 701.1443 ]\n",
      " [601.7699  703.2294 ]\n",
      " [603.697   705.3145 ]\n",
      " [605.6239  707.39966]\n",
      " [607.55096 709.48486]\n",
      " [609.4779  711.5699 ]\n",
      " [611.40497 713.65515]\n",
      " [613.3319  715.74023]\n",
      " [615.2589  717.8255 ]] \n",
      " y2 예측값 : \n",
      " [[ 87.9472   190.24957 ]\n",
      " [ 88.65564  191.20616 ]\n",
      " [ 89.364044 192.16273 ]\n",
      " [ 90.072525 193.11932 ]\n",
      " [ 90.78094  194.07593 ]\n",
      " [ 91.48943  195.03249 ]\n",
      " [ 92.197845 195.9891  ]\n",
      " [ 92.906334 196.94574 ]\n",
      " [ 93.61473  197.9023  ]\n",
      " [ 94.32319  198.85893 ]]\n"
     ]
    }
   ],
   "source": [
    "mse = model.evaluate(x_test, [y1_test, y2_test], batch_size=1)\n",
    "print(\"mse : \", mse)\n",
    "y1_predict, y2_predict = model.predict(x_test)\n",
    "print(\"y1 예측값 : \\n\", y1_predict, \"\\n y2 예측값 : \\n\", y2_predict)"
   ]
  },
  {
   "cell_type": "code",
   "execution_count": null,
   "metadata": {},
   "outputs": [],
   "source": []
  },
  {
   "cell_type": "code",
   "execution_count": null,
   "metadata": {},
   "outputs": [],
   "source": []
  }
 ],
 "metadata": {
  "kernelspec": {
   "display_name": "Python 3",
   "language": "python",
   "name": "python3"
  },
  "language_info": {
   "codemirror_mode": {
    "name": "ipython",
    "version": 3
   },
   "file_extension": ".py",
   "mimetype": "text/x-python",
   "name": "python",
   "nbconvert_exporter": "python",
   "pygments_lexer": "ipython3",
   "version": "3.7.6"
  }
 },
 "nbformat": 4,
 "nbformat_minor": 4
}
