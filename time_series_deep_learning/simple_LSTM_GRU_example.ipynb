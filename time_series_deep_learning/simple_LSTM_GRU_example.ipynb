{
 "cells": [
  {
   "cell_type": "markdown",
   "metadata": {},
   "source": [
    "## Simple LSTM example"
   ]
  },
  {
   "cell_type": "code",
   "execution_count": 1,
   "metadata": {},
   "outputs": [
    {
     "name": "stdout",
     "output_type": "stream",
     "text": [
      "x_train.shape :  (3, 5, 1)\n",
      "y_train.shape :  (3,)\n"
     ]
    }
   ],
   "source": [
    "import numpy as np\n",
    "x_train = np.array([[1,2,3,4,5], [2,3,4,5,6], [3,4,5,6,7]])\n",
    "y_train = np.array([6,7,8])\n",
    "x_train = x_train.reshape(x_train.shape[0], x_train.shape[1], 1)\n",
    "print(\"x_train.shape : \", x_train.shape) #(3, 5, 1)\n",
    "print(\"y_train.shape : \", y_train.shape) #(3, )"
   ]
  },
  {
   "cell_type": "code",
   "execution_count": 2,
   "metadata": {},
   "outputs": [
    {
     "name": "stderr",
     "output_type": "stream",
     "text": [
      "Using TensorFlow backend.\n"
     ]
    },
    {
     "name": "stdout",
     "output_type": "stream",
     "text": [
      "Model: \"sequential\"\n",
      "_________________________________________________________________\n",
      "Layer (type)                 Output Shape              Param #   \n",
      "=================================================================\n",
      "lstm (LSTM)                  (None, 7)                 252       \n",
      "_________________________________________________________________\n",
      "dense (Dense)                (None, 4)                 32        \n",
      "_________________________________________________________________\n",
      "dense_1 (Dense)              (None, 1)                 5         \n",
      "=================================================================\n",
      "Total params: 289\n",
      "Trainable params: 289\n",
      "Non-trainable params: 0\n",
      "_________________________________________________________________\n"
     ]
    }
   ],
   "source": [
    "from keras.models import Sequential\n",
    "from keras.layers import Dense, LSTM\n",
    "model = Sequential()\n",
    "model.add(LSTM(7, input_shape = (5, 1), activation ='relu'))\n",
    "model.add(Dense(4))\n",
    "model.add(Dense(1))\n",
    "model.summary()"
   ]
  },
  {
   "cell_type": "code",
   "execution_count": 3,
   "metadata": {},
   "outputs": [
    {
     "name": "stdout",
     "output_type": "stream",
     "text": [
      "Epoch 1/100\n",
      "3/3 [==============================] - 0s 2ms/step - loss: 48.5766 - mse: 48.5766\n",
      "Epoch 2/100\n",
      "3/3 [==============================] - 0s 2ms/step - loss: 46.4682 - mse: 46.4682\n",
      "Epoch 3/100\n",
      "3/3 [==============================] - 0s 3ms/step - loss: 43.7394 - mse: 43.7394\n",
      "Epoch 4/100\n",
      "3/3 [==============================] - 0s 2ms/step - loss: 40.9028 - mse: 40.9028\n",
      "Epoch 5/100\n",
      "3/3 [==============================] - 0s 3ms/step - loss: 38.3293 - mse: 38.3293\n",
      "Epoch 6/100\n",
      "3/3 [==============================] - 0s 3ms/step - loss: 35.9912 - mse: 35.9912\n",
      "Epoch 7/100\n",
      "3/3 [==============================] - 0s 2ms/step - loss: 33.0874 - mse: 33.0874\n",
      "Epoch 8/100\n",
      "3/3 [==============================] - 0s 2ms/step - loss: 30.0592 - mse: 30.0592\n",
      "Epoch 9/100\n",
      "3/3 [==============================] - 0s 2ms/step - loss: 27.5564 - mse: 27.5564\n",
      "Epoch 10/100\n",
      "3/3 [==============================] - 0s 2ms/step - loss: 24.8065 - mse: 24.8065\n",
      "Epoch 11/100\n",
      "3/3 [==============================] - 0s 2ms/step - loss: 21.9086 - mse: 21.9086\n",
      "Epoch 12/100\n",
      "3/3 [==============================] - 0s 2ms/step - loss: 19.0206 - mse: 19.0206\n",
      "Epoch 13/100\n",
      "3/3 [==============================] - 0s 2ms/step - loss: 15.8166 - mse: 15.8166\n",
      "Epoch 14/100\n",
      "3/3 [==============================] - 0s 3ms/step - loss: 13.1375 - mse: 13.1375\n",
      "Epoch 15/100\n",
      "3/3 [==============================] - 0s 2ms/step - loss: 10.7988 - mse: 10.7988\n",
      "Epoch 16/100\n",
      "3/3 [==============================] - 0s 2ms/step - loss: 8.1847 - mse: 8.1847\n",
      "Epoch 17/100\n",
      "3/3 [==============================] - 0s 2ms/step - loss: 5.8487 - mse: 5.8487\n",
      "Epoch 18/100\n",
      "3/3 [==============================] - 0s 1ms/step - loss: 4.0499 - mse: 4.0499\n",
      "Epoch 19/100\n",
      "3/3 [==============================] - 0s 2ms/step - loss: 2.7378 - mse: 2.7378\n",
      "Epoch 20/100\n",
      "3/3 [==============================] - 0s 3ms/step - loss: 1.8524 - mse: 1.8524\n",
      "Epoch 21/100\n",
      "3/3 [==============================] - 0s 2ms/step - loss: 1.2672 - mse: 1.2672\n",
      "Epoch 22/100\n",
      "3/3 [==============================] - 0s 2ms/step - loss: 1.1796 - mse: 1.1796\n",
      "Epoch 23/100\n",
      "3/3 [==============================] - 0s 2ms/step - loss: 1.3530 - mse: 1.3530\n",
      "Epoch 24/100\n",
      "3/3 [==============================] - 0s 2ms/step - loss: 1.5207 - mse: 1.5207\n",
      "Epoch 25/100\n",
      "3/3 [==============================] - 0s 2ms/step - loss: 1.5560 - mse: 1.5560\n",
      "Epoch 26/100\n",
      "3/3 [==============================] - 0s 2ms/step - loss: 1.4528 - mse: 1.4528\n",
      "Epoch 27/100\n",
      "3/3 [==============================] - 0s 2ms/step - loss: 1.3144 - mse: 1.3144    \n",
      "Epoch 28/100\n",
      "3/3 [==============================] - 0s 1ms/step - loss: 1.2604 - mse: 1.2604\n",
      "Epoch 29/100\n",
      "3/3 [==============================] - 0s 2ms/step - loss: 1.2256 - mse: 1.2256\n",
      "Epoch 30/100\n",
      "3/3 [==============================] - 0s 2ms/step - loss: 1.0606 - mse: 1.0606\n",
      "Epoch 31/100\n",
      "3/3 [==============================] - 0s 2ms/step - loss: 1.0865 - mse: 1.0865\n",
      "Epoch 32/100\n",
      "3/3 [==============================] - 0s 2ms/step - loss: 1.0847 - mse: 1.0847\n",
      "Epoch 33/100\n",
      "3/3 [==============================] - 0s 2ms/step - loss: 1.0813 - mse: 1.0813\n",
      "Epoch 34/100\n",
      "3/3 [==============================] - 0s 1ms/step - loss: 1.0823 - mse: 1.0823\n",
      "Epoch 35/100\n",
      "3/3 [==============================] - 0s 2ms/step - loss: 1.0651 - mse: 1.0651\n",
      "Epoch 36/100\n",
      "3/3 [==============================] - 0s 2ms/step - loss: 1.0523 - mse: 1.0523\n",
      "Epoch 37/100\n",
      "3/3 [==============================] - 0s 2ms/step - loss: 1.0199 - mse: 1.0199\n",
      "Epoch 38/100\n",
      "3/3 [==============================] - 0s 2ms/step - loss: 1.0044 - mse: 1.0044\n",
      "Epoch 39/100\n",
      "3/3 [==============================] - 0s 3ms/step - loss: 0.9897 - mse: 0.9897\n",
      "Epoch 40/100\n",
      "3/3 [==============================] - 0s 1ms/step - loss: 1.0022 - mse: 1.0022\n",
      "Epoch 41/100\n",
      "3/3 [==============================] - 0s 2ms/step - loss: 0.9754 - mse: 0.9754\n",
      "Epoch 42/100\n",
      "3/3 [==============================] - 0s 2ms/step - loss: 0.9759 - mse: 0.9759\n",
      "Epoch 43/100\n",
      "3/3 [==============================] - 0s 2ms/step - loss: 0.9624 - mse: 0.9624\n",
      "Epoch 44/100\n",
      "3/3 [==============================] - 0s 3ms/step - loss: 0.9626 - mse: 0.9626\n",
      "Epoch 45/100\n",
      "3/3 [==============================] - 0s 4ms/step - loss: 0.9393 - mse: 0.9393\n",
      "Epoch 46/100\n",
      "3/3 [==============================] - 0s 4ms/step - loss: 0.9348 - mse: 0.9348\n",
      "Epoch 47/100\n",
      "3/3 [==============================] - 0s 3ms/step - loss: 0.9191 - mse: 0.9191\n",
      "Epoch 48/100\n",
      "3/3 [==============================] - 0s 2ms/step - loss: 0.9029 - mse: 0.9029\n",
      "Epoch 49/100\n",
      "3/3 [==============================] - 0s 1ms/step - loss: 0.8987 - mse: 0.8987\n",
      "Epoch 50/100\n",
      "3/3 [==============================] - 0s 2ms/step - loss: 0.8852 - mse: 0.8852\n",
      "Epoch 51/100\n",
      "3/3 [==============================] - 0s 2ms/step - loss: 0.8728 - mse: 0.8728\n",
      "Epoch 52/100\n",
      "3/3 [==============================] - 0s 2ms/step - loss: 0.8562 - mse: 0.8562\n",
      "Epoch 53/100\n",
      "3/3 [==============================] - 0s 3ms/step - loss: 0.8488 - mse: 0.8488\n",
      "Epoch 54/100\n",
      "3/3 [==============================] - 0s 4ms/step - loss: 0.8382 - mse: 0.8382\n",
      "Epoch 55/100\n",
      "3/3 [==============================] - 0s 2ms/step - loss: 0.8308 - mse: 0.8308\n",
      "Epoch 56/100\n",
      "3/3 [==============================] - 0s 2ms/step - loss: 0.8164 - mse: 0.8164\n",
      "Epoch 57/100\n",
      "3/3 [==============================] - 0s 1ms/step - loss: 0.8161 - mse: 0.8161\n",
      "Epoch 58/100\n",
      "3/3 [==============================] - 0s 2ms/step - loss: 0.7983 - mse: 0.7983\n",
      "Epoch 59/100\n",
      "3/3 [==============================] - 0s 2ms/step - loss: 0.7977 - mse: 0.7977\n",
      "Epoch 60/100\n",
      "3/3 [==============================] - 0s 2ms/step - loss: 0.7830 - mse: 0.7830\n",
      "Epoch 61/100\n",
      "3/3 [==============================] - 0s 2ms/step - loss: 0.7678 - mse: 0.7678\n",
      "Epoch 62/100\n",
      "3/3 [==============================] - 0s 2ms/step - loss: 0.7649 - mse: 0.7649\n",
      "Epoch 63/100\n",
      "3/3 [==============================] - 0s 2ms/step - loss: 0.7590 - mse: 0.7590\n",
      "Epoch 64/100\n",
      "3/3 [==============================] - 0s 3ms/step - loss: 0.7513 - mse: 0.7513\n",
      "Epoch 65/100\n",
      "3/3 [==============================] - 0s 3ms/step - loss: 0.7415 - mse: 0.7415\n",
      "Epoch 66/100\n",
      "3/3 [==============================] - 0s 2ms/step - loss: 0.7362 - mse: 0.7362\n",
      "Epoch 67/100\n",
      "3/3 [==============================] - 0s 2ms/step - loss: 0.7215 - mse: 0.7215\n",
      "Epoch 68/100\n",
      "3/3 [==============================] - 0s 2ms/step - loss: 0.7087 - mse: 0.7087\n",
      "Epoch 69/100\n",
      "3/3 [==============================] - 0s 2ms/step - loss: 0.6978 - mse: 0.6978\n",
      "Epoch 70/100\n",
      "3/3 [==============================] - 0s 3ms/step - loss: 0.6871 - mse: 0.6871\n",
      "Epoch 71/100\n",
      "3/3 [==============================] - 0s 2ms/step - loss: 0.6827 - mse: 0.6827\n",
      "Epoch 72/100\n",
      "3/3 [==============================] - 0s 2ms/step - loss: 0.6671 - mse: 0.6671\n",
      "Epoch 73/100\n",
      "3/3 [==============================] - 0s 2ms/step - loss: 0.6597 - mse: 0.6597\n",
      "Epoch 74/100\n",
      "3/3 [==============================] - 0s 2ms/step - loss: 0.6681 - mse: 0.6681\n",
      "Epoch 75/100\n",
      "3/3 [==============================] - 0s 3ms/step - loss: 0.6567 - mse: 0.6567\n",
      "Epoch 76/100\n",
      "3/3 [==============================] - 0s 2ms/step - loss: 0.6389 - mse: 0.6389\n",
      "Epoch 77/100\n",
      "3/3 [==============================] - 0s 3ms/step - loss: 0.6366 - mse: 0.6366\n",
      "Epoch 78/100\n",
      "3/3 [==============================] - 0s 2ms/step - loss: 0.6255 - mse: 0.6255\n",
      "Epoch 79/100\n",
      "3/3 [==============================] - 0s 2ms/step - loss: 0.6110 - mse: 0.6110\n",
      "Epoch 80/100\n",
      "3/3 [==============================] - 0s 2ms/step - loss: 0.6017 - mse: 0.6017\n",
      "Epoch 81/100\n",
      "3/3 [==============================] - 0s 2ms/step - loss: 0.5930 - mse: 0.5930\n",
      "Epoch 82/100\n",
      "3/3 [==============================] - 0s 1ms/step - loss: 0.5873 - mse: 0.5873\n",
      "Epoch 83/100\n",
      "3/3 [==============================] - 0s 3ms/step - loss: 0.5953 - mse: 0.5953\n",
      "Epoch 84/100\n",
      "3/3 [==============================] - 0s 2ms/step - loss: 0.5842 - mse: 0.5842\n",
      "Epoch 85/100\n",
      "3/3 [==============================] - 0s 2ms/step - loss: 0.5719 - mse: 0.5719\n",
      "Epoch 86/100\n",
      "3/3 [==============================] - 0s 2ms/step - loss: 0.5621 - mse: 0.5621\n",
      "Epoch 87/100\n",
      "3/3 [==============================] - 0s 2ms/step - loss: 0.5684 - mse: 0.5684\n",
      "Epoch 88/100\n"
     ]
    },
    {
     "name": "stdout",
     "output_type": "stream",
     "text": [
      "3/3 [==============================] - 0s 2ms/step - loss: 0.5447 - mse: 0.5447\n",
      "Epoch 89/100\n",
      "3/3 [==============================] - 0s 2ms/step - loss: 0.5356 - mse: 0.5356\n",
      "Epoch 90/100\n",
      "3/3 [==============================] - 0s 2ms/step - loss: 0.5278 - mse: 0.5278\n",
      "Epoch 91/100\n",
      "3/3 [==============================] - 0s 2ms/step - loss: 0.5199 - mse: 0.5199\n",
      "Epoch 92/100\n",
      "3/3 [==============================] - 0s 2ms/step - loss: 0.5124 - mse: 0.5124\n",
      "Epoch 93/100\n",
      "3/3 [==============================] - 0s 3ms/step - loss: 0.5056 - mse: 0.5056\n",
      "Epoch 94/100\n",
      "3/3 [==============================] - 0s 2ms/step - loss: 0.4995 - mse: 0.4995\n",
      "Epoch 95/100\n",
      "3/3 [==============================] - 0s 2ms/step - loss: 0.5035 - mse: 0.5035\n",
      "Epoch 96/100\n",
      "3/3 [==============================] - 0s 2ms/step - loss: 0.4953 - mse: 0.4953\n",
      "Epoch 97/100\n",
      "3/3 [==============================] - 0s 2ms/step - loss: 0.4940 - mse: 0.4940\n",
      "Epoch 98/100\n",
      "3/3 [==============================] - 0s 2ms/step - loss: 0.4804 - mse: 0.4804\n",
      "Epoch 99/100\n",
      "3/3 [==============================] - 0s 4ms/step - loss: 0.4740 - mse: 0.4740\n",
      "Epoch 100/100\n",
      "3/3 [==============================] - 0s 2ms/step - loss: 0.4631 - mse: 0.4631\n"
     ]
    },
    {
     "data": {
      "text/plain": [
       "<tensorflow.python.keras.callbacks.History at 0x16be8c715c8>"
      ]
     },
     "execution_count": 3,
     "metadata": {},
     "output_type": "execute_result"
    }
   ],
   "source": [
    "model.compile(loss='mse', optimizer='adam', metrics=['mse'])\n",
    "model.fit(x_train, y_train, epochs=100, batch_size=1)\n"
   ]
  },
  {
   "cell_type": "code",
   "execution_count": 4,
   "metadata": {},
   "outputs": [
    {
     "name": "stdout",
     "output_type": "stream",
     "text": [
      "(1, 5)\n",
      "x_predict.shape :  (1, 5, 1)\n"
     ]
    }
   ],
   "source": [
    "x_predict = np.array([[4,5,6,7,8]])\n",
    "print(x_predict.shape) #(1, 5)\n",
    "x_predict = x_predict.reshape(x_predict.shape[0], x_predict.shape[1], 1)\n",
    "print(\"x_predict.shape : \", x_predict.shape) # (1, 5, 1)\n"
   ]
  },
  {
   "cell_type": "code",
   "execution_count": 5,
   "metadata": {},
   "outputs": [
    {
     "name": "stdout",
     "output_type": "stream",
     "text": [
      "예측값 :  [[10.431588]]\n"
     ]
    }
   ],
   "source": [
    "y_predict = model.predict(x_predict)\n",
    "print(\"예측값 : \", y_predict)"
   ]
  },
  {
   "cell_type": "markdown",
   "metadata": {},
   "source": [
    "## Simple GRU example"
   ]
  },
  {
   "cell_type": "code",
   "execution_count": 7,
   "metadata": {},
   "outputs": [],
   "source": [
    "del model"
   ]
  },
  {
   "cell_type": "code",
   "execution_count": 8,
   "metadata": {},
   "outputs": [
    {
     "name": "stdout",
     "output_type": "stream",
     "text": [
      "x_train.shape :  (3, 5, 1)\n",
      "y_train.shape :  (3,)\n"
     ]
    }
   ],
   "source": [
    "x_train = np.array([[1,2,3,4,5], [2,3,4,5,6], [3,4,5,6,7]])\n",
    "y_train = np.array([6,7,8])\n",
    "x_train = x_train.reshape(x_train.shape[0], x_train.shape[1], 1)\n",
    "print(\"x_train.shape : \", x_train.shape) #(3, 5, 1)\n",
    "print(\"y_train.shape : \", y_train.shape) #(3, )"
   ]
  },
  {
   "cell_type": "code",
   "execution_count": 9,
   "metadata": {},
   "outputs": [
    {
     "name": "stdout",
     "output_type": "stream",
     "text": [
      "Model: \"sequential_1\"\n",
      "_________________________________________________________________\n",
      "Layer (type)                 Output Shape              Param #   \n",
      "=================================================================\n",
      "gru (GRU)                    (None, 7)                 210       \n",
      "_________________________________________________________________\n",
      "dense_2 (Dense)              (None, 4)                 32        \n",
      "_________________________________________________________________\n",
      "dense_3 (Dense)              (None, 1)                 5         \n",
      "=================================================================\n",
      "Total params: 247\n",
      "Trainable params: 247\n",
      "Non-trainable params: 0\n",
      "_________________________________________________________________\n"
     ]
    }
   ],
   "source": [
    "from keras.models import Sequential\n",
    "from keras.layers import Dense, GRU\n",
    "model = Sequential()\n",
    "model.add(GRU(7, input_shape = (5, 1), activation ='relu'))\n",
    "model.add(Dense(4))\n",
    "model.add(Dense(1))\n",
    "model.summary()"
   ]
  },
  {
   "cell_type": "code",
   "execution_count": 10,
   "metadata": {},
   "outputs": [
    {
     "name": "stdout",
     "output_type": "stream",
     "text": [
      "Epoch 1/100\n",
      "3/3 [==============================] - 0s 2ms/step - loss: 29.0256 - mse: 29.0256\n",
      "Epoch 2/100\n",
      "3/3 [==============================] - 0s 2ms/step - loss: 27.3276 - mse: 27.3276\n",
      "Epoch 3/100\n",
      "3/3 [==============================] - 0s 3ms/step - loss: 25.4603 - mse: 25.4603\n",
      "Epoch 4/100\n",
      "3/3 [==============================] - 0s 3ms/step - loss: 23.6835 - mse: 23.6835\n",
      "Epoch 5/100\n",
      "3/3 [==============================] - 0s 2ms/step - loss: 22.0231 - mse: 22.0231\n",
      "Epoch 6/100\n",
      "3/3 [==============================] - 0s 1ms/step - loss: 20.3374 - mse: 20.3374\n",
      "Epoch 7/100\n",
      "3/3 [==============================] - 0s 2ms/step - loss: 18.7721 - mse: 18.7721\n",
      "Epoch 8/100\n",
      "3/3 [==============================] - 0s 1ms/step - loss: 17.1826 - mse: 17.1826\n",
      "Epoch 9/100\n",
      "3/3 [==============================] - 0s 2ms/step - loss: 15.4682 - mse: 15.4682\n",
      "Epoch 10/100\n",
      "3/3 [==============================] - 0s 1ms/step - loss: 14.0219 - mse: 14.0219\n",
      "Epoch 11/100\n",
      "3/3 [==============================] - 0s 2ms/step - loss: 12.5344 - mse: 12.5344\n",
      "Epoch 12/100\n",
      "3/3 [==============================] - 0s 3ms/step - loss: 11.1060 - mse: 11.1060\n",
      "Epoch 13/100\n",
      "3/3 [==============================] - 0s 1ms/step - loss: 9.7416 - mse: 9.7416\n",
      "Epoch 14/100\n",
      "3/3 [==============================] - 0s 2ms/step - loss: 8.4465 - mse: 8.4465\n",
      "Epoch 15/100\n",
      "3/3 [==============================] - 0s 2ms/step - loss: 7.1581 - mse: 7.1581\n",
      "Epoch 16/100\n",
      "3/3 [==============================] - 0s 3ms/step - loss: 6.0482 - mse: 6.0482\n",
      "Epoch 17/100\n",
      "3/3 [==============================] - 0s 997us/step - loss: 5.0759 - mse: 5.0759\n",
      "Epoch 18/100\n",
      "3/3 [==============================] - 0s 2ms/step - loss: 4.1226 - mse: 4.1226\n",
      "Epoch 19/100\n",
      "3/3 [==============================] - 0s 1ms/step - loss: 3.2437 - mse: 3.2437\n",
      "Epoch 20/100\n",
      "3/3 [==============================] - 0s 2ms/step - loss: 2.5203 - mse: 2.5203\n",
      "Epoch 21/100\n",
      "3/3 [==============================] - 0s 2ms/step - loss: 1.9078 - mse: 1.9078\n",
      "Epoch 22/100\n",
      "3/3 [==============================] - 0s 1ms/step - loss: 1.3901 - mse: 1.3901\n",
      "Epoch 23/100\n",
      "3/3 [==============================] - 0s 2ms/step - loss: 0.9716 - mse: 0.9716\n",
      "Epoch 24/100\n",
      "3/3 [==============================] - 0s 1ms/step - loss: 0.6708 - mse: 0.6708\n",
      "Epoch 25/100\n",
      "3/3 [==============================] - 0s 3ms/step - loss: 0.4330 - mse: 0.4330\n",
      "Epoch 26/100\n",
      "3/3 [==============================] - 0s 2ms/step - loss: 0.2806 - mse: 0.2806\n",
      "Epoch 27/100\n",
      "3/3 [==============================] - 0s 2ms/step - loss: 0.2069 - mse: 0.2069\n",
      "Epoch 28/100\n",
      "3/3 [==============================] - 0s 2ms/step - loss: 0.1696 - mse: 0.1696\n",
      "Epoch 29/100\n",
      "3/3 [==============================] - 0s 2ms/step - loss: 0.1550 - mse: 0.1550\n",
      "Epoch 30/100\n",
      "3/3 [==============================] - 0s 2ms/step - loss: 0.1711 - mse: 0.1711    \n",
      "Epoch 31/100\n",
      "3/3 [==============================] - 0s 4ms/step - loss: 0.1790 - mse: 0.1790\n",
      "Epoch 32/100\n",
      "3/3 [==============================] - 0s 2ms/step - loss: 0.1870 - mse: 0.1870\n",
      "Epoch 33/100\n",
      "3/3 [==============================] - 0s 2ms/step - loss: 0.1899 - mse: 0.1899\n",
      "Epoch 34/100\n",
      "3/3 [==============================] - 0s 2ms/step - loss: 0.1875 - mse: 0.1875\n",
      "Epoch 35/100\n",
      "3/3 [==============================] - 0s 2ms/step - loss: 0.1773 - mse: 0.1773\n",
      "Epoch 36/100\n",
      "3/3 [==============================] - 0s 2ms/step - loss: 0.1723 - mse: 0.1723\n",
      "Epoch 37/100\n",
      "3/3 [==============================] - 0s 2ms/step - loss: 0.1689 - mse: 0.1689\n",
      "Epoch 38/100\n",
      "3/3 [==============================] - 0s 2ms/step - loss: 0.1607 - mse: 0.1607\n",
      "Epoch 39/100\n",
      "3/3 [==============================] - 0s 2ms/step - loss: 0.1525 - mse: 0.1525    \n",
      "Epoch 40/100\n",
      "3/3 [==============================] - 0s 2ms/step - loss: 0.1460 - mse: 0.1460\n",
      "Epoch 41/100\n",
      "3/3 [==============================] - 0s 2ms/step - loss: 0.1428 - mse: 0.1428\n",
      "Epoch 42/100\n",
      "3/3 [==============================] - 0s 1ms/step - loss: 0.1393 - mse: 0.1393\n",
      "Epoch 43/100\n",
      "3/3 [==============================] - 0s 2ms/step - loss: 0.1374 - mse: 0.1374\n",
      "Epoch 44/100\n",
      "3/3 [==============================] - 0s 2ms/step - loss: 0.1353 - mse: 0.1353\n",
      "Epoch 45/100\n",
      "3/3 [==============================] - 0s 2ms/step - loss: 0.1323 - mse: 0.1323\n",
      "Epoch 46/100\n",
      "3/3 [==============================] - 0s 3ms/step - loss: 0.1300 - mse: 0.1300\n",
      "Epoch 47/100\n",
      "3/3 [==============================] - 0s 2ms/step - loss: 0.1284 - mse: 0.1284\n",
      "Epoch 48/100\n",
      "3/3 [==============================] - 0s 1ms/step - loss: 0.1254 - mse: 0.1254\n",
      "Epoch 49/100\n",
      "3/3 [==============================] - 0s 2ms/step - loss: 0.1221 - mse: 0.1221\n",
      "Epoch 50/100\n",
      "3/3 [==============================] - 0s 2ms/step - loss: 0.1204 - mse: 0.1204\n",
      "Epoch 51/100\n",
      "3/3 [==============================] - 0s 997us/step - loss: 0.1170 - mse: 0.1170\n",
      "Epoch 52/100\n",
      "3/3 [==============================] - 0s 2ms/step - loss: 0.1155 - mse: 0.1155\n",
      "Epoch 53/100\n",
      "3/3 [==============================] - 0s 1ms/step - loss: 0.1132 - mse: 0.1132\n",
      "Epoch 54/100\n",
      "3/3 [==============================] - 0s 2ms/step - loss: 0.1121 - mse: 0.1121\n",
      "Epoch 55/100\n",
      "3/3 [==============================] - 0s 2ms/step - loss: 0.1101 - mse: 0.1101\n",
      "Epoch 56/100\n",
      "3/3 [==============================] - 0s 1ms/step - loss: 0.1083 - mse: 0.1083\n",
      "Epoch 57/100\n",
      "3/3 [==============================] - 0s 2ms/step - loss: 0.1059 - mse: 0.1059\n",
      "Epoch 58/100\n",
      "3/3 [==============================] - 0s 1ms/step - loss: 0.1042 - mse: 0.1042\n",
      "Epoch 59/100\n",
      "3/3 [==============================] - 0s 2ms/step - loss: 0.1025 - mse: 0.1025\n",
      "Epoch 60/100\n",
      "3/3 [==============================] - 0s 2ms/step - loss: 0.1013 - mse: 0.1013\n",
      "Epoch 61/100\n",
      "3/3 [==============================] - 0s 2ms/step - loss: 0.1002 - mse: 0.1002    \n",
      "Epoch 62/100\n",
      "3/3 [==============================] - 0s 2ms/step - loss: 0.0984 - mse: 0.0984    \n",
      "Epoch 63/100\n",
      "3/3 [==============================] - 0s 1ms/step - loss: 0.0970 - mse: 0.0970\n",
      "Epoch 64/100\n",
      "3/3 [==============================] - 0s 2ms/step - loss: 0.0951 - mse: 0.0951\n",
      "Epoch 65/100\n",
      "3/3 [==============================] - 0s 997us/step - loss: 0.0945 - mse: 0.0945\n",
      "Epoch 66/100\n",
      "3/3 [==============================] - 0s 2ms/step - loss: 0.0922 - mse: 0.0922\n",
      "Epoch 67/100\n",
      "3/3 [==============================] - 0s 997us/step - loss: 0.0899 - mse: 0.0899\n",
      "Epoch 68/100\n",
      "3/3 [==============================] - 0s 2ms/step - loss: 0.0895 - mse: 0.0895\n",
      "Epoch 69/100\n",
      "3/3 [==============================] - 0s 1ms/step - loss: 0.0868 - mse: 0.0868\n",
      "Epoch 70/100\n",
      "3/3 [==============================] - 0s 2ms/step - loss: 0.0856 - mse: 0.0856\n",
      "Epoch 71/100\n",
      "3/3 [==============================] - 0s 997us/step - loss: 0.0833 - mse: 0.0833  \n",
      "Epoch 72/100\n",
      "3/3 [==============================] - 0s 2ms/step - loss: 0.0823 - mse: 0.0823\n",
      "Epoch 73/100\n",
      "3/3 [==============================] - 0s 997us/step - loss: 0.0805 - mse: 0.0805\n",
      "Epoch 74/100\n",
      "3/3 [==============================] - 0s 2ms/step - loss: 0.0783 - mse: 0.0783\n",
      "Epoch 75/100\n",
      "3/3 [==============================] - 0s 1ms/step - loss: 0.0786 - mse: 0.0786\n",
      "Epoch 76/100\n",
      "3/3 [==============================] - 0s 2ms/step - loss: 0.0756 - mse: 0.0756    \n",
      "Epoch 77/100\n",
      "3/3 [==============================] - 0s 997us/step - loss: 0.0743 - mse: 0.0743\n",
      "Epoch 78/100\n",
      "3/3 [==============================] - 0s 2ms/step - loss: 0.0732 - mse: 0.0732\n",
      "Epoch 79/100\n",
      "3/3 [==============================] - 0s 1ms/step - loss: 0.0709 - mse: 0.0709    \n",
      "Epoch 80/100\n",
      "3/3 [==============================] - 0s 1ms/step - loss: 0.0701 - mse: 0.0701\n",
      "Epoch 81/100\n",
      "3/3 [==============================] - 0s 997us/step - loss: 0.0682 - mse: 0.0682\n",
      "Epoch 82/100\n",
      "3/3 [==============================] - 0s 1ms/step - loss: 0.0669 - mse: 0.0669\n",
      "Epoch 83/100\n",
      "3/3 [==============================] - 0s 2ms/step - loss: 0.0651 - mse: 0.0651\n",
      "Epoch 84/100\n",
      "3/3 [==============================] - 0s 2ms/step - loss: 0.0631 - mse: 0.0631    \n",
      "Epoch 85/100\n",
      "3/3 [==============================] - 0s 2ms/step - loss: 0.0619 - mse: 0.0619\n",
      "Epoch 86/100\n",
      "3/3 [==============================] - 0s 1ms/step - loss: 0.0602 - mse: 0.0602    \n",
      "Epoch 87/100\n",
      "3/3 [==============================] - 0s 2ms/step - loss: 0.0586 - mse: 0.0586    \n",
      "Epoch 88/100\n"
     ]
    },
    {
     "name": "stdout",
     "output_type": "stream",
     "text": [
      "3/3 [==============================] - 0s 1ms/step - loss: 0.0575 - mse: 0.0575\n",
      "Epoch 89/100\n",
      "3/3 [==============================] - 0s 1ms/step - loss: 0.0556 - mse: 0.0556    \n",
      "Epoch 90/100\n",
      "3/3 [==============================] - 0s 2ms/step - loss: 0.0549 - mse: 0.0549\n",
      "Epoch 91/100\n",
      "3/3 [==============================] - 0s 1ms/step - loss: 0.0534 - mse: 0.0534\n",
      "Epoch 92/100\n",
      "3/3 [==============================] - 0s 2ms/step - loss: 0.0518 - mse: 0.0518\n",
      "Epoch 93/100\n",
      "3/3 [==============================] - 0s 997us/step - loss: 0.0512 - mse: 0.0512\n",
      "Epoch 94/100\n",
      "3/3 [==============================] - 0s 2ms/step - loss: 0.0488 - mse: 0.0488\n",
      "Epoch 95/100\n",
      "3/3 [==============================] - 0s 998us/step - loss: 0.0474 - mse: 0.0474\n",
      "Epoch 96/100\n",
      "3/3 [==============================] - 0s 997us/step - loss: 0.0462 - mse: 0.0462\n",
      "Epoch 97/100\n",
      "3/3 [==============================] - 0s 997us/step - loss: 0.0443 - mse: 0.0443\n",
      "Epoch 98/100\n",
      "3/3 [==============================] - 0s 997us/step - loss: 0.0428 - mse: 0.0428\n",
      "Epoch 99/100\n",
      "3/3 [==============================] - 0s 997us/step - loss: 0.0405 - mse: 0.0405  \n",
      "Epoch 100/100\n",
      "3/3 [==============================] - 0s 997us/step - loss: 0.0391 - mse: 0.0391  \n"
     ]
    },
    {
     "data": {
      "text/plain": [
       "<tensorflow.python.keras.callbacks.History at 0x16beb23c608>"
      ]
     },
     "execution_count": 10,
     "metadata": {},
     "output_type": "execute_result"
    }
   ],
   "source": [
    "#3. 훈련\n",
    "model.compile(loss='mse', optimizer='adam', metrics=['mse'])\n",
    "model.fit(x_train, y_train, epochs=100, batch_size=1)"
   ]
  },
  {
   "cell_type": "code",
   "execution_count": 11,
   "metadata": {
    "scrolled": true
   },
   "outputs": [
    {
     "name": "stdout",
     "output_type": "stream",
     "text": [
      "(1, 5)\n",
      "x_predict.shape :  (1, 5, 1)\n"
     ]
    }
   ],
   "source": [
    "x_predict = np.array([[4,5,6,7,8]])\n",
    "print(x_predict.shape) #(1, 5)\n",
    "x_predict = x_predict.reshape(x_predict.shape[0], x_predict.shape[1], 1)\n",
    "print(\"x_predict.shape : \", x_predict.shape) # (1, 5, 1)"
   ]
  },
  {
   "cell_type": "code",
   "execution_count": 12,
   "metadata": {},
   "outputs": [
    {
     "name": "stdout",
     "output_type": "stream",
     "text": [
      "예측값 :  [[9.216426]]\n"
     ]
    }
   ],
   "source": [
    "y_predict = model.predict(x_predict)\n",
    "print(\"예측값 : \", y_predict)\n"
   ]
  },
  {
   "cell_type": "code",
   "execution_count": null,
   "metadata": {},
   "outputs": [],
   "source": []
  },
  {
   "cell_type": "code",
   "execution_count": null,
   "metadata": {},
   "outputs": [],
   "source": []
  }
 ],
 "metadata": {
  "kernelspec": {
   "display_name": "Python 3",
   "language": "python",
   "name": "python3"
  },
  "language_info": {
   "codemirror_mode": {
    "name": "ipython",
    "version": 3
   },
   "file_extension": ".py",
   "mimetype": "text/x-python",
   "name": "python",
   "nbconvert_exporter": "python",
   "pygments_lexer": "ipython3",
   "version": "3.7.6"
  }
 },
 "nbformat": 4,
 "nbformat_minor": 4
}
