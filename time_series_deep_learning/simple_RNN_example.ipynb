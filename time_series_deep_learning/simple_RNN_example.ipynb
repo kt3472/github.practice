{
 "cells": [
  {
   "cell_type": "code",
   "execution_count": 1,
   "metadata": {},
   "outputs": [],
   "source": [
    "import numpy as np"
   ]
  },
  {
   "cell_type": "code",
   "execution_count": 2,
   "metadata": {},
   "outputs": [],
   "source": [
    "x_train = np.array([[1,2,3,4,5], [2,3,4,5,6], [3,4,5,6,7]])\n",
    "y_train = np.array([6,7,8])"
   ]
  },
  {
   "cell_type": "code",
   "execution_count": 3,
   "metadata": {},
   "outputs": [
    {
     "name": "stdout",
     "output_type": "stream",
     "text": [
      "x_train.shape :  (3, 5, 1)\n",
      "y_train.shape :  (3,)\n"
     ]
    }
   ],
   "source": [
    "x_train = x_train.reshape(x_train.shape[0], x_train.shape[1], 1)\n",
    "print(\"x_train.shape : \", x_train.shape) #(3, 5, 1)\n",
    "print(\"y_train.shape : \", y_train.shape) #(3, )"
   ]
  },
  {
   "cell_type": "code",
   "execution_count": 4,
   "metadata": {},
   "outputs": [
    {
     "data": {
      "text/plain": [
       "array([[[1],\n",
       "        [2],\n",
       "        [3],\n",
       "        [4],\n",
       "        [5]],\n",
       "\n",
       "       [[2],\n",
       "        [3],\n",
       "        [4],\n",
       "        [5],\n",
       "        [6]],\n",
       "\n",
       "       [[3],\n",
       "        [4],\n",
       "        [5],\n",
       "        [6],\n",
       "        [7]]])"
      ]
     },
     "execution_count": 4,
     "metadata": {},
     "output_type": "execute_result"
    }
   ],
   "source": [
    "x_train"
   ]
  },
  {
   "cell_type": "code",
   "execution_count": 5,
   "metadata": {},
   "outputs": [],
   "source": [
    "from keras.models import Sequential\n",
    "from keras.layers import Dense, SimpleRNN"
   ]
  },
  {
   "cell_type": "code",
   "execution_count": 20,
   "metadata": {},
   "outputs": [],
   "source": [
    "model = Sequential()"
   ]
  },
  {
   "cell_type": "code",
   "execution_count": 21,
   "metadata": {},
   "outputs": [],
   "source": [
    "model.add(SimpleRNN(7, input_shape=(5,1), activation = 'relu'))\n",
    "model.add(Dense(10))\n",
    "model.add(Dense(1))"
   ]
  },
  {
   "cell_type": "code",
   "execution_count": 22,
   "metadata": {},
   "outputs": [
    {
     "name": "stdout",
     "output_type": "stream",
     "text": [
      "Model: \"sequential_1\"\n",
      "_________________________________________________________________\n",
      "Layer (type)                 Output Shape              Param #   \n",
      "=================================================================\n",
      "simple_rnn_2 (SimpleRNN)     (None, 7)                 63        \n",
      "_________________________________________________________________\n",
      "dense_2 (Dense)              (None, 10)                80        \n",
      "_________________________________________________________________\n",
      "dense_3 (Dense)              (None, 1)                 11        \n",
      "=================================================================\n",
      "Total params: 154\n",
      "Trainable params: 154\n",
      "Non-trainable params: 0\n",
      "_________________________________________________________________\n"
     ]
    }
   ],
   "source": [
    "model.summary()"
   ]
  },
  {
   "cell_type": "code",
   "execution_count": 23,
   "metadata": {},
   "outputs": [
    {
     "name": "stdout",
     "output_type": "stream",
     "text": [
      "Epoch 1/100\n",
      "3/3 [==============================] - 0s 998us/step - loss: 53.3874 - mse: 53.3874\n",
      "Epoch 2/100\n",
      "3/3 [==============================] - 0s 2ms/step - loss: 47.8209 - mse: 47.8209\n",
      "Epoch 3/100\n",
      "3/3 [==============================] - 0s 2ms/step - loss: 42.7757 - mse: 42.7757\n",
      "Epoch 4/100\n",
      "3/3 [==============================] - 0s 2ms/step - loss: 38.6403 - mse: 38.6403\n",
      "Epoch 5/100\n",
      "3/3 [==============================] - 0s 1ms/step - loss: 33.7123 - mse: 33.7123\n",
      "Epoch 6/100\n",
      "3/3 [==============================] - 0s 1ms/step - loss: 29.7882 - mse: 29.7882\n",
      "Epoch 7/100\n",
      "3/3 [==============================] - 0s 998us/step - loss: 26.1891 - mse: 26.1891\n",
      "Epoch 8/100\n",
      "3/3 [==============================] - 0s 1ms/step - loss: 22.4487 - mse: 22.4487\n",
      "Epoch 9/100\n",
      "3/3 [==============================] - 0s 1ms/step - loss: 19.3490 - mse: 19.3490\n",
      "Epoch 10/100\n",
      "3/3 [==============================] - 0s 1ms/step - loss: 16.7183 - mse: 16.7183\n",
      "Epoch 11/100\n",
      "3/3 [==============================] - 0s 997us/step - loss: 14.1537 - mse: 14.1537\n",
      "Epoch 12/100\n",
      "3/3 [==============================] - 0s 2ms/step - loss: 12.0228 - mse: 12.0228\n",
      "Epoch 13/100\n",
      "3/3 [==============================] - 0s 997us/step - loss: 10.1316 - mse: 10.1316\n",
      "Epoch 14/100\n",
      "3/3 [==============================] - 0s 1ms/step - loss: 8.5301 - mse: 8.5301\n",
      "Epoch 15/100\n",
      "3/3 [==============================] - 0s 1ms/step - loss: 7.0842 - mse: 7.0842\n",
      "Epoch 16/100\n",
      "3/3 [==============================] - 0s 1ms/step - loss: 5.8551 - mse: 5.8551\n",
      "Epoch 17/100\n",
      "3/3 [==============================] - 0s 997us/step - loss: 4.6997 - mse: 4.6997\n",
      "Epoch 18/100\n",
      "3/3 [==============================] - 0s 2ms/step - loss: 3.7976 - mse: 3.7976\n",
      "Epoch 19/100\n",
      "3/3 [==============================] - 0s 1ms/step - loss: 2.9739 - mse: 2.9739\n",
      "Epoch 20/100\n",
      "3/3 [==============================] - 0s 2ms/step - loss: 2.2945 - mse: 2.2945\n",
      "Epoch 21/100\n",
      "3/3 [==============================] - 0s 1ms/step - loss: 1.7174 - mse: 1.7174\n",
      "Epoch 22/100\n",
      "3/3 [==============================] - 0s 1ms/step - loss: 1.2668 - mse: 1.2668\n",
      "Epoch 23/100\n",
      "3/3 [==============================] - 0s 1ms/step - loss: 0.9135 - mse: 0.9135\n",
      "Epoch 24/100\n",
      "3/3 [==============================] - 0s 2ms/step - loss: 0.6322 - mse: 0.6322\n",
      "Epoch 25/100\n",
      "3/3 [==============================] - 0s 2ms/step - loss: 0.4239 - mse: 0.4239\n",
      "Epoch 26/100\n",
      "3/3 [==============================] - 0s 2ms/step - loss: 0.2699 - mse: 0.2699\n",
      "Epoch 27/100\n",
      "3/3 [==============================] - 0s 1ms/step - loss: 0.1739 - mse: 0.1739\n",
      "Epoch 28/100\n",
      "3/3 [==============================] - 0s 1ms/step - loss: 0.1005 - mse: 0.1005\n",
      "Epoch 29/100\n",
      "3/3 [==============================] - 0s 997us/step - loss: 0.0681 - mse: 0.0681\n",
      "Epoch 30/100\n",
      "3/3 [==============================] - 0s 997us/step - loss: 0.0437 - mse: 0.0437\n",
      "Epoch 31/100\n",
      "3/3 [==============================] - 0s 2ms/step - loss: 0.0366 - mse: 0.0366\n",
      "Epoch 32/100\n",
      "3/3 [==============================] - 0s 2ms/step - loss: 0.0282 - mse: 0.0282\n",
      "Epoch 33/100\n",
      "3/3 [==============================] - 0s 2ms/step - loss: 0.0338 - mse: 0.0338\n",
      "Epoch 34/100\n",
      "3/3 [==============================] - 0s 2ms/step - loss: 0.0321 - mse: 0.0321\n",
      "Epoch 35/100\n",
      "3/3 [==============================] - 0s 2ms/step - loss: 0.0351 - mse: 0.0351\n",
      "Epoch 36/100\n",
      "3/3 [==============================] - 0s 1ms/step - loss: 0.0355 - mse: 0.0355\n",
      "Epoch 37/100\n",
      "3/3 [==============================] - 0s 2ms/step - loss: 0.0356 - mse: 0.0356\n",
      "Epoch 38/100\n",
      "3/3 [==============================] - 0s 997us/step - loss: 0.0347 - mse: 0.0347\n",
      "Epoch 39/100\n",
      "3/3 [==============================] - 0s 2ms/step - loss: 0.0338 - mse: 0.0338\n",
      "Epoch 40/100\n",
      "3/3 [==============================] - 0s 1ms/step - loss: 0.0334 - mse: 0.0334\n",
      "Epoch 41/100\n",
      "3/3 [==============================] - 0s 2ms/step - loss: 0.0312 - mse: 0.0312\n",
      "Epoch 42/100\n",
      "3/3 [==============================] - 0s 997us/step - loss: 0.0299 - mse: 0.0299\n",
      "Epoch 43/100\n",
      "3/3 [==============================] - 0s 2ms/step - loss: 0.0294 - mse: 0.0294\n",
      "Epoch 44/100\n",
      "3/3 [==============================] - 0s 2ms/step - loss: 0.0294 - mse: 0.0294\n",
      "Epoch 45/100\n",
      "3/3 [==============================] - 0s 1ms/step - loss: 0.0280 - mse: 0.0280    \n",
      "Epoch 46/100\n",
      "3/3 [==============================] - 0s 2ms/step - loss: 0.0288 - mse: 0.0288\n",
      "Epoch 47/100\n",
      "3/3 [==============================] - 0s 1ms/step - loss: 0.0283 - mse: 0.0283\n",
      "Epoch 48/100\n",
      "3/3 [==============================] - 0s 2ms/step - loss: 0.0275 - mse: 0.0275\n",
      "Epoch 49/100\n",
      "3/3 [==============================] - 0s 1ms/step - loss: 0.0273 - mse: 0.0273\n",
      "Epoch 50/100\n",
      "3/3 [==============================] - 0s 1ms/step - loss: 0.0276 - mse: 0.0276\n",
      "Epoch 51/100\n",
      "3/3 [==============================] - 0s 1ms/step - loss: 0.0272 - mse: 0.0272\n",
      "Epoch 52/100\n",
      "3/3 [==============================] - 0s 997us/step - loss: 0.0272 - mse: 0.0272\n",
      "Epoch 53/100\n",
      "3/3 [==============================] - 0s 2ms/step - loss: 0.0268 - mse: 0.0268    \n",
      "Epoch 54/100\n",
      "3/3 [==============================] - 0s 997us/step - loss: 0.0271 - mse: 0.0271\n",
      "Epoch 55/100\n",
      "3/3 [==============================] - 0s 2ms/step - loss: 0.0266 - mse: 0.0266\n",
      "Epoch 56/100\n",
      "3/3 [==============================] - 0s 2ms/step - loss: 0.0263 - mse: 0.0263    \n",
      "Epoch 57/100\n",
      "3/3 [==============================] - 0s 1ms/step - loss: 0.0262 - mse: 0.0262\n",
      "Epoch 58/100\n",
      "3/3 [==============================] - 0s 2ms/step - loss: 0.0262 - mse: 0.0262    \n",
      "Epoch 59/100\n",
      "3/3 [==============================] - 0s 997us/step - loss: 0.0260 - mse: 0.0260\n",
      "Epoch 60/100\n",
      "3/3 [==============================] - 0s 2ms/step - loss: 0.0261 - mse: 0.0261\n",
      "Epoch 61/100\n",
      "3/3 [==============================] - 0s 2ms/step - loss: 0.0257 - mse: 0.0257\n",
      "Epoch 62/100\n",
      "3/3 [==============================] - 0s 1ms/step - loss: 0.0256 - mse: 0.0256\n",
      "Epoch 63/100\n",
      "3/3 [==============================] - 0s 3ms/step - loss: 0.0255 - mse: 0.0255\n",
      "Epoch 64/100\n",
      "3/3 [==============================] - 0s 2ms/step - loss: 0.0254 - mse: 0.0254\n",
      "Epoch 65/100\n",
      "3/3 [==============================] - 0s 2ms/step - loss: 0.0251 - mse: 0.0251\n",
      "Epoch 66/100\n",
      "3/3 [==============================] - 0s 2ms/step - loss: 0.0249 - mse: 0.0249\n",
      "Epoch 67/100\n",
      "3/3 [==============================] - 0s 3ms/step - loss: 0.0248 - mse: 0.0248\n",
      "Epoch 68/100\n",
      "3/3 [==============================] - 0s 2ms/step - loss: 0.0248 - mse: 0.0248\n",
      "Epoch 69/100\n",
      "3/3 [==============================] - 0s 2ms/step - loss: 0.0244 - mse: 0.0244\n",
      "Epoch 70/100\n",
      "3/3 [==============================] - 0s 2ms/step - loss: 0.0242 - mse: 0.0242    \n",
      "Epoch 71/100\n",
      "3/3 [==============================] - 0s 1ms/step - loss: 0.0241 - mse: 0.0241    \n",
      "Epoch 72/100\n",
      "3/3 [==============================] - 0s 3ms/step - loss: 0.0239 - mse: 0.0239    \n",
      "Epoch 73/100\n",
      "3/3 [==============================] - 0s 2ms/step - loss: 0.0238 - mse: 0.0238    \n",
      "Epoch 74/100\n",
      "3/3 [==============================] - 0s 1ms/step - loss: 0.0236 - mse: 0.0236\n",
      "Epoch 75/100\n",
      "3/3 [==============================] - 0s 2ms/step - loss: 0.0235 - mse: 0.0235    \n",
      "Epoch 76/100\n",
      "3/3 [==============================] - 0s 2ms/step - loss: 0.0233 - mse: 0.0233    \n",
      "Epoch 77/100\n",
      "3/3 [==============================] - 0s 2ms/step - loss: 0.0232 - mse: 0.0232    \n",
      "Epoch 78/100\n",
      "3/3 [==============================] - 0s 2ms/step - loss: 0.0232 - mse: 0.0232\n",
      "Epoch 79/100\n",
      "3/3 [==============================] - 0s 1ms/step - loss: 0.0229 - mse: 0.0229\n",
      "Epoch 80/100\n",
      "3/3 [==============================] - 0s 2ms/step - loss: 0.0228 - mse: 0.0228\n",
      "Epoch 81/100\n",
      "3/3 [==============================] - 0s 1ms/step - loss: 0.0227 - mse: 0.0227\n",
      "Epoch 82/100\n",
      "3/3 [==============================] - 0s 2ms/step - loss: 0.0224 - mse: 0.0224    \n",
      "Epoch 83/100\n",
      "3/3 [==============================] - 0s 2ms/step - loss: 0.0223 - mse: 0.0223\n",
      "Epoch 84/100\n",
      "3/3 [==============================] - 0s 2ms/step - loss: 0.0221 - mse: 0.0221\n",
      "Epoch 85/100\n",
      "3/3 [==============================] - 0s 1ms/step - loss: 0.0219 - mse: 0.0219\n",
      "Epoch 86/100\n",
      "3/3 [==============================] - 0s 2ms/step - loss: 0.0218 - mse: 0.0218\n",
      "Epoch 87/100\n",
      "3/3 [==============================] - 0s 1ms/step - loss: 0.0220 - mse: 0.0220\n",
      "Epoch 88/100\n"
     ]
    },
    {
     "name": "stdout",
     "output_type": "stream",
     "text": [
      "3/3 [==============================] - 0s 1ms/step - loss: 0.0215 - mse: 0.0215\n",
      "Epoch 89/100\n",
      "3/3 [==============================] - 0s 1ms/step - loss: 0.0213 - mse: 0.0213    \n",
      "Epoch 90/100\n",
      "3/3 [==============================] - ETA: 0s - loss: 0.0411 - mse: 0.041 - 0s 1ms/step - loss: 0.0214 - mse: 0.0214\n",
      "Epoch 91/100\n",
      "3/3 [==============================] - 0s 997us/step - loss: 0.0210 - mse: 0.0210\n",
      "Epoch 92/100\n",
      "3/3 [==============================] - 0s 1ms/step - loss: 0.0211 - mse: 0.0211\n",
      "Epoch 93/100\n",
      "3/3 [==============================] - 0s 997us/step - loss: 0.0207 - mse: 0.0207  \n",
      "Epoch 94/100\n",
      "3/3 [==============================] - 0s 2ms/step - loss: 0.0205 - mse: 0.0205    \n",
      "Epoch 95/100\n",
      "3/3 [==============================] - 0s 1ms/step - loss: 0.0206 - mse: 0.0206\n",
      "Epoch 96/100\n",
      "3/3 [==============================] - 0s 1ms/step - loss: 0.0202 - mse: 0.0202    \n",
      "Epoch 97/100\n",
      "3/3 [==============================] - 0s 1ms/step - loss: 0.0204 - mse: 0.0204\n",
      "Epoch 98/100\n",
      "3/3 [==============================] - 0s 997us/step - loss: 0.0199 - mse: 0.0199  \n",
      "Epoch 99/100\n",
      "3/3 [==============================] - 0s 997us/step - loss: 0.0200 - mse: 0.0200\n",
      "Epoch 100/100\n",
      "3/3 [==============================] - 0s 1ms/step - loss: 0.0198 - mse: 0.0198\n"
     ]
    },
    {
     "data": {
      "text/plain": [
       "<tensorflow.python.keras.callbacks.History at 0x1373a4693c8>"
      ]
     },
     "execution_count": 23,
     "metadata": {},
     "output_type": "execute_result"
    }
   ],
   "source": [
    "model.compile(loss='mse', optimizer='adam', metrics=['mse'])\n",
    "model.fit(x_train, y_train, epochs=100, batch_size=1)"
   ]
  },
  {
   "cell_type": "code",
   "execution_count": 24,
   "metadata": {},
   "outputs": [
    {
     "name": "stdout",
     "output_type": "stream",
     "text": [
      "(1, 5)\n"
     ]
    }
   ],
   "source": [
    "x_predict = np.array([[4,5,6,7,8]])\n",
    "print(x_predict.shape) #(1, 5)"
   ]
  },
  {
   "cell_type": "code",
   "execution_count": 25,
   "metadata": {},
   "outputs": [],
   "source": [
    "x_predict = x_predict.reshape(x_predict.shape[0], x_predict.shape[1], 1)"
   ]
  },
  {
   "cell_type": "code",
   "execution_count": 26,
   "metadata": {},
   "outputs": [
    {
     "data": {
      "text/plain": [
       "(1, 5, 1)"
      ]
     },
     "execution_count": 26,
     "metadata": {},
     "output_type": "execute_result"
    }
   ],
   "source": [
    "x_predict.shape"
   ]
  },
  {
   "cell_type": "code",
   "execution_count": 27,
   "metadata": {},
   "outputs": [
    {
     "name": "stdout",
     "output_type": "stream",
     "text": [
      "예측값 :  [[9.284147]]\n"
     ]
    }
   ],
   "source": [
    "y_predict = model.predict(x_predict)\n",
    "print(\"예측값 : \", y_predict)"
   ]
  },
  {
   "cell_type": "code",
   "execution_count": null,
   "metadata": {},
   "outputs": [],
   "source": []
  }
 ],
 "metadata": {
  "kernelspec": {
   "display_name": "Python 3",
   "language": "python",
   "name": "python3"
  },
  "language_info": {
   "codemirror_mode": {
    "name": "ipython",
    "version": 3
   },
   "file_extension": ".py",
   "mimetype": "text/x-python",
   "name": "python",
   "nbconvert_exporter": "python",
   "pygments_lexer": "ipython3",
   "version": "3.7.6"
  }
 },
 "nbformat": 4,
 "nbformat_minor": 4
}
