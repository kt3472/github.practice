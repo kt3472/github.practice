{
 "cells": [
  {
   "cell_type": "code",
   "execution_count": 2,
   "metadata": {},
   "outputs": [],
   "source": [
    "import tweepy\n",
    "import os        \n",
    "import sys\n",
    "\n",
    "import pandas as pd\n",
    "import numpy as np"
   ]
  },
  {
   "cell_type": "code",
   "execution_count": 3,
   "metadata": {},
   "outputs": [],
   "source": [
    "df_temp = pd.DataFrame(columns=['username','date_t','text_t','favorites','hashtags','retweets','replies','author_id','p_link'])"
   ]
  },
  {
   "cell_type": "code",
   "execution_count": 4,
   "metadata": {},
   "outputs": [],
   "source": [
    "consumer_key = 'your cusumer key'\n",
    "consumer_secret ='your consumer secret'\n",
    "access_token ='your access token'\n",
    "access_secret = 'your access secret'"
   ]
  },
  {
   "cell_type": "code",
   "execution_count": null,
   "metadata": {},
   "outputs": [],
   "source": [
    "auth = tweepy.OAuthHandler(consumer_key, consumer_secret)\n",
    "\n",
    "auth.set_access_token(access_token, access_secret)\n",
    "\n",
    "api = tweepy.API(auth)  \n",
    "\n",
    "\n",
    "\n",
    "#location = \"%s,%s,%s\" % (\"35.95\", \"128.25\", \"1000km\")  # 검색기준(대한민국 중심) 좌표, 반지름  \n",
    "\n",
    "keyword =\"covid AND china since:2020-12-03 until:2020-12-04\" # OR은 반드시 대문자\n",
    "\n",
    "# twitter 검색 cursor 선언\n",
    "\n",
    "cursor = tweepy.Cursor(api.search, q=keyword,\n",
    "\n",
    "                       count=100,  # 페이지당 반환할 트위터 수 최대 100\n",
    "\n",
    "                       #geocode=location,\n",
    "\n",
    "                       include_entities=True)\n",
    "\n",
    "k= 0 #15000건 트윗요청 후 15분간   \n",
    "\n",
    "for i, tweet in enumerate(cursor.items()):    \n",
    "        \n",
    "        tweet_details = {}\n",
    "        tweet_details['username'] = tweet.user.screen_name\n",
    "        tweet_details['date_t'] = tweet.created_at.strftime(\"%Y-%m-%d %X\")\n",
    "        tweet_details['text_t'] = tweet.text\n",
    "        tweet_details['favorites'] = tweet.favorite_count\n",
    "        tweet_details['hashtags'] = \"\"        \n",
    "        tweet_details['retweets'] = tweet.retweet_count\n",
    "        tweet_details['replies'] = \"\"\n",
    "        tweet_details['author_id'] = tweet.author.id_str\n",
    "        tweet_details['p_link'] = \"\"\n",
    "        \n",
    "                print(tweet_details)\n",
    "        \n",
    "        df_temp = df_temp.append(tweet_details, ignore_index=True)\n",
    "        \n",
    "        k = k + 1\n",
    "        \n",
    "        if k > 15000 :\n",
    "            \n",
    "            k = 0\n",
    "                        \n",
    "            print('set....')\n",
    "            \n",
    "            time.sleep(910)\n",
    "            \n",
    "        else:\n",
    "            \n",
    "            pass\n",
    "    "
   ]
  },
  {
   "cell_type": "code",
   "execution_count": null,
   "metadata": {},
   "outputs": [],
   "source": [
    "df_temp.to_csv(\"df_tweet.csv\")"
   ]
  },
  {
   "cell_type": "code",
   "execution_count": null,
   "metadata": {},
   "outputs": [],
   "source": []
  }
 ],
 "metadata": {
  "kernelspec": {
   "display_name": "Python 3",
   "language": "python",
   "name": "python3"
  },
  "language_info": {
   "codemirror_mode": {
    "name": "ipython",
    "version": 3
   },
   "file_extension": ".py",
   "mimetype": "text/x-python",
   "name": "python",
   "nbconvert_exporter": "python",
   "pygments_lexer": "ipython3",
   "version": "3.7.6"
  }
 },
 "nbformat": 4,
 "nbformat_minor": 4
}
