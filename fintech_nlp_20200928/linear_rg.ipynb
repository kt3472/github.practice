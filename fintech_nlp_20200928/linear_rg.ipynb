{
  "nbformat": 4,
  "nbformat_minor": 0,
  "metadata": {
    "colab": {
      "name": "Untitled3.ipynb",
      "provenance": [],
      "collapsed_sections": []
    },
    "kernelspec": {
      "name": "python3",
      "display_name": "Python 3"
    }
  },
  "cells": [
    {
      "cell_type": "code",
      "metadata": {
        "id": "bTkNU35LGGXB"
      },
      "source": [
        "from tensorflow.keras.models import Sequential\n",
        "from tensorflow.keras.layers import Dense\n",
        "from tensorflow.keras import optimizers\n",
        "import numpy as np"
      ],
      "execution_count": null,
      "outputs": []
    },
    {
      "cell_type": "code",
      "metadata": {
        "id": "1rSK8SEZHFOg"
      },
      "source": [
        "learning_rate = 0.01\n",
        "epochs = 50"
      ],
      "execution_count": null,
      "outputs": []
    },
    {
      "cell_type": "code",
      "metadata": {
        "id": "orAODmepGMvE",
        "outputId": "2045def3-cfc1-4eb1-fc76-47ad7a8ccd03",
        "colab": {
          "base_uri": "https://localhost:8080/",
          "height": 1000
        }
      },
      "source": [
        "X=np.array([1,2,3,4,5,6,7,8,9,10])\n",
        "y=np.array([15,25,35,45,55,67,78,89,92,95])\n",
        "\n",
        "model=Sequential()\n",
        "model.add(Dense(1, input_dim=1, activation='linear'))\n",
        "sgd=optimizers.SGD(lr=learning_rate)\n",
        "model.compile(optimizer=sgd ,loss='mse',metrics=['mse'])\n",
        "model.fit(X,y, batch_size=1, epochs=epochs, shuffle=False)\n"
      ],
      "execution_count": null,
      "outputs": [
        {
          "output_type": "stream",
          "text": [
            "Epoch 1/50\n",
            "10/10 [==============================] - 0s 1ms/step - loss: 422.0056 - mse: 422.0056\n",
            "Epoch 2/50\n",
            "10/10 [==============================] - 0s 846us/step - loss: 13.4928 - mse: 13.4928\n",
            "Epoch 3/50\n",
            "10/10 [==============================] - 0s 863us/step - loss: 13.0814 - mse: 13.0814\n",
            "Epoch 4/50\n",
            "10/10 [==============================] - 0s 1ms/step - loss: 12.7079 - mse: 12.7079\n",
            "Epoch 5/50\n",
            "10/10 [==============================] - 0s 1ms/step - loss: 12.3693 - mse: 12.3693\n",
            "Epoch 6/50\n",
            "10/10 [==============================] - 0s 1ms/step - loss: 12.0630 - mse: 12.0630\n",
            "Epoch 7/50\n",
            "10/10 [==============================] - 0s 931us/step - loss: 11.7864 - mse: 11.7864\n",
            "Epoch 8/50\n",
            "10/10 [==============================] - 0s 838us/step - loss: 11.5372 - mse: 11.5372\n",
            "Epoch 9/50\n",
            "10/10 [==============================] - 0s 782us/step - loss: 11.3132 - mse: 11.3132\n",
            "Epoch 10/50\n",
            "10/10 [==============================] - 0s 860us/step - loss: 11.1124 - mse: 11.1124\n",
            "Epoch 11/50\n",
            "10/10 [==============================] - 0s 840us/step - loss: 10.9329 - mse: 10.9329\n",
            "Epoch 12/50\n",
            "10/10 [==============================] - 0s 861us/step - loss: 10.7731 - mse: 10.7731\n",
            "Epoch 13/50\n",
            "10/10 [==============================] - 0s 1ms/step - loss: 10.6313 - mse: 10.6313\n",
            "Epoch 14/50\n",
            "10/10 [==============================] - 0s 939us/step - loss: 10.5060 - mse: 10.5060\n",
            "Epoch 15/50\n",
            "10/10 [==============================] - 0s 1ms/step - loss: 10.3959 - mse: 10.3959\n",
            "Epoch 16/50\n",
            "10/10 [==============================] - 0s 931us/step - loss: 10.2998 - mse: 10.2998\n",
            "Epoch 17/50\n",
            "10/10 [==============================] - 0s 1ms/step - loss: 10.2163 - mse: 10.2163\n",
            "Epoch 18/50\n",
            "10/10 [==============================] - 0s 1ms/step - loss: 10.1446 - mse: 10.1446\n",
            "Epoch 19/50\n",
            "10/10 [==============================] - 0s 910us/step - loss: 10.0834 - mse: 10.0834\n",
            "Epoch 20/50\n",
            "10/10 [==============================] - 0s 856us/step - loss: 10.0320 - mse: 10.0320\n",
            "Epoch 21/50\n",
            "10/10 [==============================] - 0s 1ms/step - loss: 9.9895 - mse: 9.9895\n",
            "Epoch 22/50\n",
            "10/10 [==============================] - 0s 1ms/step - loss: 9.9550 - mse: 9.9550\n",
            "Epoch 23/50\n",
            "10/10 [==============================] - 0s 887us/step - loss: 9.9279 - mse: 9.9279\n",
            "Epoch 24/50\n",
            "10/10 [==============================] - 0s 875us/step - loss: 9.9075 - mse: 9.9075\n",
            "Epoch 25/50\n",
            "10/10 [==============================] - 0s 883us/step - loss: 9.8930 - mse: 9.8930\n",
            "Epoch 26/50\n",
            "10/10 [==============================] - 0s 1ms/step - loss: 9.8841 - mse: 9.8841\n",
            "Epoch 27/50\n",
            "10/10 [==============================] - 0s 2ms/step - loss: 9.8801 - mse: 9.8801\n",
            "Epoch 28/50\n",
            "10/10 [==============================] - 0s 884us/step - loss: 9.8806 - mse: 9.8806\n",
            "Epoch 29/50\n",
            "10/10 [==============================] - 0s 934us/step - loss: 9.8850 - mse: 9.8850\n",
            "Epoch 30/50\n",
            "10/10 [==============================] - 0s 2ms/step - loss: 9.8930 - mse: 9.8930\n",
            "Epoch 31/50\n",
            "10/10 [==============================] - 0s 998us/step - loss: 9.9043 - mse: 9.9043\n",
            "Epoch 32/50\n",
            "10/10 [==============================] - 0s 1ms/step - loss: 9.9184 - mse: 9.9184\n",
            "Epoch 33/50\n",
            "10/10 [==============================] - 0s 987us/step - loss: 9.9350 - mse: 9.9350\n",
            "Epoch 34/50\n",
            "10/10 [==============================] - 0s 1ms/step - loss: 9.9539 - mse: 9.9539\n",
            "Epoch 35/50\n",
            "10/10 [==============================] - 0s 1ms/step - loss: 9.9748 - mse: 9.9748\n",
            "Epoch 36/50\n",
            "10/10 [==============================] - 0s 985us/step - loss: 9.9973 - mse: 9.9973\n",
            "Epoch 37/50\n",
            "10/10 [==============================] - 0s 1ms/step - loss: 10.0214 - mse: 10.0214\n",
            "Epoch 38/50\n",
            "10/10 [==============================] - 0s 1ms/step - loss: 10.0468 - mse: 10.0468\n",
            "Epoch 39/50\n",
            "10/10 [==============================] - 0s 1ms/step - loss: 10.0732 - mse: 10.0732\n",
            "Epoch 40/50\n",
            "10/10 [==============================] - 0s 1ms/step - loss: 10.1006 - mse: 10.1006\n",
            "Epoch 41/50\n",
            "10/10 [==============================] - 0s 1ms/step - loss: 10.1288 - mse: 10.1288\n",
            "Epoch 42/50\n",
            "10/10 [==============================] - 0s 1ms/step - loss: 10.1575 - mse: 10.1575\n",
            "Epoch 43/50\n",
            "10/10 [==============================] - 0s 1ms/step - loss: 10.1868 - mse: 10.1868\n",
            "Epoch 44/50\n",
            "10/10 [==============================] - 0s 1ms/step - loss: 10.2164 - mse: 10.2164\n",
            "Epoch 45/50\n",
            "10/10 [==============================] - 0s 1ms/step - loss: 10.2463 - mse: 10.2463\n",
            "Epoch 46/50\n",
            "10/10 [==============================] - 0s 1ms/step - loss: 10.2764 - mse: 10.2764\n",
            "Epoch 47/50\n",
            "10/10 [==============================] - 0s 1ms/step - loss: 10.3065 - mse: 10.3065\n",
            "Epoch 48/50\n",
            "10/10 [==============================] - 0s 1ms/step - loss: 10.3367 - mse: 10.3367\n",
            "Epoch 49/50\n",
            "10/10 [==============================] - 0s 1ms/step - loss: 10.3667 - mse: 10.3667\n",
            "Epoch 50/50\n",
            "10/10 [==============================] - 0s 1ms/step - loss: 10.3967 - mse: 10.3967\n"
          ],
          "name": "stdout"
        },
        {
          "output_type": "execute_result",
          "data": {
            "text/plain": [
              "<tensorflow.python.keras.callbacks.History at 0x7fe402716588>"
            ]
          },
          "metadata": {
            "tags": []
          },
          "execution_count": 6
        }
      ]
    },
    {
      "cell_type": "code",
      "metadata": {
        "id": "xVradoADGUcW",
        "outputId": "d36edacd-3ed4-4f70-c4eb-951c8beeec3f",
        "colab": {
          "base_uri": "https://localhost:8080/",
          "height": 279
        }
      },
      "source": [
        "%matplotlib inline\n",
        "import matplotlib.pyplot as plt\n",
        "\n",
        "plt.plot(X, model.predict(X), 'b', X,y, 'k.')\n",
        "plt.xlabel('hour')\n",
        "plt.ylabel('score')\n",
        "plt.grid()"
      ],
      "execution_count": null,
      "outputs": [
        {
          "output_type": "display_data",
          "data": {
            "image/png": "[encoded data removed]",
            "text/plain": [
              "<Figure size 432x288 with 1 Axes>"
            ]
          },
          "metadata": {
            "tags": [],
            "needs_background": "light"
          }
        }
      ]
    },
    {
      "cell_type": "code",
      "metadata": {
        "id": "ANRAIYz1fRV8"
      },
      "source": [
        ""
      ],
      "execution_count": null,
      "outputs": []
    }
  ]
}