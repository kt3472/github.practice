{
 "cells": [
  {
   "cell_type": "code",
   "execution_count": 1,
   "metadata": {},
   "outputs": [],
   "source": [
    "import numpy as np\n",
    "x_train = np.array([[1,2,3,4,5], [2,3,4,5,6], [3,4,5,6,7]])\n",
    "y_train = np.array([6,7,8])"
   ]
  },
  {
   "cell_type": "code",
   "execution_count": 2,
   "metadata": {},
   "outputs": [
    {
     "name": "stdout",
     "output_type": "stream",
     "text": [
      "x_train.shape :  (3, 5, 1)\n",
      "y_train.shape :  (3,)\n"
     ]
    }
   ],
   "source": [
    "x_train = x_train.reshape(x_train.shape[0], x_train.shape[1], 1)\n",
    "print(\"x_train.shape : \", x_train.shape) #(3, 5, 1)\n",
    "print(\"y_train.shape : \", y_train.shape) #(3, )\n"
   ]
  },
  {
   "cell_type": "code",
   "execution_count": 3,
   "metadata": {},
   "outputs": [
    {
     "name": "stderr",
     "output_type": "stream",
     "text": [
      "Using TensorFlow backend.\n"
     ]
    }
   ],
   "source": [
    "from keras.models import Sequential\n",
    "from keras.layers import Dense, LSTM, Bidirectional\n",
    "model = Sequential()\n",
    "model.add(Bidirectional(LSTM(7, activation ='relu'), input_shape=(5, 1)))\n",
    "model.add(Dense(4))\n",
    "model.add(Dense(1))"
   ]
  },
  {
   "cell_type": "code",
   "execution_count": 4,
   "metadata": {},
   "outputs": [
    {
     "name": "stdout",
     "output_type": "stream",
     "text": [
      "Model: \"sequential\"\n",
      "_________________________________________________________________\n",
      "Layer (type)                 Output Shape              Param #   \n",
      "=================================================================\n",
      "bidirectional (Bidirectional (None, 14)                504       \n",
      "_________________________________________________________________\n",
      "dense (Dense)                (None, 4)                 60        \n",
      "_________________________________________________________________\n",
      "dense_1 (Dense)              (None, 1)                 5         \n",
      "=================================================================\n",
      "Total params: 569\n",
      "Trainable params: 569\n",
      "Non-trainable params: 0\n",
      "_________________________________________________________________\n"
     ]
    }
   ],
   "source": [
    "model.summary()"
   ]
  },
  {
   "cell_type": "code",
   "execution_count": 5,
   "metadata": {},
   "outputs": [
    {
     "name": "stdout",
     "output_type": "stream",
     "text": [
      "Epoch 1/100\n",
      "3/3 [==============================] - 0s 2ms/step - loss: 38.5227 - mse: 38.5227\n",
      "Epoch 2/100\n",
      "3/3 [==============================] - 0s 3ms/step - loss: 37.0123 - mse: 37.0123\n",
      "Epoch 3/100\n",
      "3/3 [==============================] - 0s 3ms/step - loss: 35.8226 - mse: 35.8226\n",
      "Epoch 4/100\n",
      "3/3 [==============================] - 0s 1ms/step - loss: 34.4703 - mse: 34.4703\n",
      "Epoch 5/100\n",
      "3/3 [==============================] - 0s 2ms/step - loss: 32.9916 - mse: 32.9916\n",
      "Epoch 6/100\n",
      "3/3 [==============================] - 0s 3ms/step - loss: 31.6623 - mse: 31.6623\n",
      "Epoch 7/100\n",
      "3/3 [==============================] - 0s 1ms/step - loss: 30.2914 - mse: 30.2914\n",
      "Epoch 8/100\n",
      "3/3 [==============================] - 0s 2ms/step - loss: 29.0962 - mse: 29.0962\n",
      "Epoch 9/100\n",
      "3/3 [==============================] - 0s 3ms/step - loss: 27.6233 - mse: 27.6233\n",
      "Epoch 10/100\n",
      "3/3 [==============================] - 0s 3ms/step - loss: 26.4083 - mse: 26.4083\n",
      "Epoch 11/100\n",
      "3/3 [==============================] - 0s 2ms/step - loss: 24.8587 - mse: 24.8587\n",
      "Epoch 12/100\n",
      "3/3 [==============================] - 0s 2ms/step - loss: 23.4609 - mse: 23.4609\n",
      "Epoch 13/100\n",
      "3/3 [==============================] - 0s 4ms/step - loss: 22.1313 - mse: 22.1313\n",
      "Epoch 14/100\n",
      "3/3 [==============================] - 0s 3ms/step - loss: 20.6667 - mse: 20.6667\n",
      "Epoch 15/100\n",
      "3/3 [==============================] - 0s 2ms/step - loss: 19.0866 - mse: 19.0866\n",
      "Epoch 16/100\n",
      "3/3 [==============================] - 0s 2ms/step - loss: 17.5929 - mse: 17.5929\n",
      "Epoch 17/100\n",
      "3/3 [==============================] - 0s 4ms/step - loss: 16.1645 - mse: 16.1645\n",
      "Epoch 18/100\n",
      "3/3 [==============================] - 0s 4ms/step - loss: 14.4598 - mse: 14.4598\n",
      "Epoch 19/100\n",
      "3/3 [==============================] - 0s 4ms/step - loss: 12.9156 - mse: 12.9156\n",
      "Epoch 20/100\n",
      "3/3 [==============================] - 0s 3ms/step - loss: 11.4049 - mse: 11.4049\n",
      "Epoch 21/100\n",
      "3/3 [==============================] - ETA: 0s - loss: 9.7115 - mse: 9.711 - 0s 2ms/step - loss: 9.9262 - mse: 9.9262\n",
      "Epoch 22/100\n",
      "3/3 [==============================] - 0s 1ms/step - loss: 8.4139 - mse: 8.4139\n",
      "Epoch 23/100\n",
      "3/3 [==============================] - 0s 2ms/step - loss: 6.9320 - mse: 6.9320\n",
      "Epoch 24/100\n",
      "3/3 [==============================] - 0s 3ms/step - loss: 5.6574 - mse: 5.6574\n",
      "Epoch 25/100\n",
      "3/3 [==============================] - 0s 3ms/step - loss: 4.3831 - mse: 4.3831\n",
      "Epoch 26/100\n",
      "3/3 [==============================] - 0s 2ms/step - loss: 3.2505 - mse: 3.2505\n",
      "Epoch 27/100\n",
      "3/3 [==============================] - 0s 2ms/step - loss: 2.3275 - mse: 2.3275\n",
      "Epoch 28/100\n",
      "3/3 [==============================] - 0s 2ms/step - loss: 1.6360 - mse: 1.6360\n",
      "Epoch 29/100\n",
      "3/3 [==============================] - 0s 3ms/step - loss: 1.1024 - mse: 1.1024    \n",
      "Epoch 30/100\n",
      "3/3 [==============================] - 0s 2ms/step - loss: 0.9423 - mse: 0.9423\n",
      "Epoch 31/100\n",
      "3/3 [==============================] - 0s 2ms/step - loss: 0.7489 - mse: 0.7489\n",
      "Epoch 32/100\n",
      "3/3 [==============================] - 0s 4ms/step - loss: 0.8946 - mse: 0.8946\n",
      "Epoch 33/100\n",
      "3/3 [==============================] - 0s 3ms/step - loss: 0.9035 - mse: 0.9035    \n",
      "Epoch 34/100\n",
      "3/3 [==============================] - 0s 3ms/step - loss: 0.9844 - mse: 0.9844\n",
      "Epoch 35/100\n",
      "3/3 [==============================] - 0s 2ms/step - loss: 0.9614 - mse: 0.9614\n",
      "Epoch 36/100\n",
      "3/3 [==============================] - 0s 2ms/step - loss: 0.9316 - mse: 0.9316\n",
      "Epoch 37/100\n",
      "3/3 [==============================] - 0s 4ms/step - loss: 0.8286 - mse: 0.8286\n",
      "Epoch 38/100\n",
      "3/3 [==============================] - 0s 3ms/step - loss: 0.7947 - mse: 0.7947\n",
      "Epoch 39/100\n",
      "3/3 [==============================] - 0s 3ms/step - loss: 0.7764 - mse: 0.7764\n",
      "Epoch 40/100\n",
      "3/3 [==============================] - 0s 3ms/step - loss: 0.7658 - mse: 0.7658\n",
      "Epoch 41/100\n",
      "3/3 [==============================] - 0s 4ms/step - loss: 0.7489 - mse: 0.7489\n",
      "Epoch 42/100\n",
      "3/3 [==============================] - 0s 4ms/step - loss: 0.7237 - mse: 0.7237\n",
      "Epoch 43/100\n",
      "3/3 [==============================] - 0s 3ms/step - loss: 0.7179 - mse: 0.7179\n",
      "Epoch 44/100\n",
      "3/3 [==============================] - 0s 5ms/step - loss: 0.7182 - mse: 0.7182\n",
      "Epoch 45/100\n",
      "3/3 [==============================] - 0s 4ms/step - loss: 0.7056 - mse: 0.7056\n",
      "Epoch 46/100\n",
      "3/3 [==============================] - 0s 4ms/step - loss: 0.6900 - mse: 0.6900\n",
      "Epoch 47/100\n",
      "3/3 [==============================] - 0s 3ms/step - loss: 0.6897 - mse: 0.6897\n",
      "Epoch 48/100\n",
      "3/3 [==============================] - 0s 4ms/step - loss: 0.6737 - mse: 0.6737\n",
      "Epoch 49/100\n",
      "3/3 [==============================] - 0s 2ms/step - loss: 0.6583 - mse: 0.6583\n",
      "Epoch 50/100\n",
      "3/3 [==============================] - 0s 3ms/step - loss: 0.6491 - mse: 0.6491\n",
      "Epoch 51/100\n",
      "3/3 [==============================] - 0s 2ms/step - loss: 0.6479 - mse: 0.6479\n",
      "Epoch 52/100\n",
      "3/3 [==============================] - 0s 3ms/step - loss: 0.6332 - mse: 0.6332\n",
      "Epoch 53/100\n",
      "3/3 [==============================] - 0s 2ms/step - loss: 0.6276 - mse: 0.6276\n",
      "Epoch 54/100\n",
      "3/3 [==============================] - 0s 2ms/step - loss: 0.6183 - mse: 0.6183\n",
      "Epoch 55/100\n",
      "3/3 [==============================] - 0s 2ms/step - loss: 0.6131 - mse: 0.6131\n",
      "Epoch 56/100\n",
      "3/3 [==============================] - 0s 2ms/step - loss: 0.6027 - mse: 0.6027\n",
      "Epoch 57/100\n",
      "3/3 [==============================] - 0s 2ms/step - loss: 0.5928 - mse: 0.5928\n",
      "Epoch 58/100\n",
      "3/3 [==============================] - 0s 2ms/step - loss: 0.5933 - mse: 0.5933\n",
      "Epoch 59/100\n",
      "3/3 [==============================] - 0s 3ms/step - loss: 0.5779 - mse: 0.5779\n",
      "Epoch 60/100\n",
      "3/3 [==============================] - 0s 3ms/step - loss: 0.5638 - mse: 0.5638\n",
      "Epoch 61/100\n",
      "3/3 [==============================] - 0s 1ms/step - loss: 0.5604 - mse: 0.5604\n",
      "Epoch 62/100\n",
      "3/3 [==============================] - 0s 2ms/step - loss: 0.5511 - mse: 0.5511\n",
      "Epoch 63/100\n",
      "3/3 [==============================] - 0s 3ms/step - loss: 0.5421 - mse: 0.5421\n",
      "Epoch 64/100\n",
      "3/3 [==============================] - 0s 2ms/step - loss: 0.5333 - mse: 0.5333\n",
      "Epoch 65/100\n",
      "3/3 [==============================] - 0s 2ms/step - loss: 0.5252 - mse: 0.5252\n",
      "Epoch 66/100\n",
      "3/3 [==============================] - 0s 3ms/step - loss: 0.5325 - mse: 0.5325\n",
      "Epoch 67/100\n",
      "3/3 [==============================] - 0s 1ms/step - loss: 0.5218 - mse: 0.5218\n",
      "Epoch 68/100\n",
      "3/3 [==============================] - 0s 2ms/step - loss: 0.5056 - mse: 0.5056\n",
      "Epoch 69/100\n",
      "3/3 [==============================] - 0s 3ms/step - loss: 0.4974 - mse: 0.4974\n",
      "Epoch 70/100\n",
      "3/3 [==============================] - 0s 2ms/step - loss: 0.4931 - mse: 0.4931\n",
      "Epoch 71/100\n",
      "3/3 [==============================] - 0s 2ms/step - loss: 0.4845 - mse: 0.4845\n",
      "Epoch 72/100\n",
      "3/3 [==============================] - 0s 2ms/step - loss: 0.4733 - mse: 0.4733\n",
      "Epoch 73/100\n",
      "3/3 [==============================] - 0s 2ms/step - loss: 0.4699 - mse: 0.4699\n",
      "Epoch 74/100\n",
      "3/3 [==============================] - 0s 2ms/step - loss: 0.4621 - mse: 0.4621\n",
      "Epoch 75/100\n",
      "3/3 [==============================] - 0s 2ms/step - loss: 0.4555 - mse: 0.4555\n",
      "Epoch 76/100\n",
      "3/3 [==============================] - 0s 3ms/step - loss: 0.4479 - mse: 0.4479\n",
      "Epoch 77/100\n",
      "3/3 [==============================] - 0s 2ms/step - loss: 0.4430 - mse: 0.4430\n",
      "Epoch 78/100\n",
      "3/3 [==============================] - 0s 2ms/step - loss: 0.4340 - mse: 0.4340\n",
      "Epoch 79/100\n",
      "3/3 [==============================] - 0s 3ms/step - loss: 0.4272 - mse: 0.4272\n",
      "Epoch 80/100\n",
      "3/3 [==============================] - 0s 2ms/step - loss: 0.4200 - mse: 0.4200\n",
      "Epoch 81/100\n",
      "3/3 [==============================] - 0s 2ms/step - loss: 0.4167 - mse: 0.4167\n",
      "Epoch 82/100\n",
      "3/3 [==============================] - 0s 2ms/step - loss: 0.4110 - mse: 0.4110\n",
      "Epoch 83/100\n",
      "3/3 [==============================] - 0s 3ms/step - loss: 0.4026 - mse: 0.4026\n",
      "Epoch 84/100\n",
      "3/3 [==============================] - 0s 2ms/step - loss: 0.3989 - mse: 0.3989\n",
      "Epoch 85/100\n",
      "3/3 [==============================] - 0s 2ms/step - loss: 0.3915 - mse: 0.3915\n",
      "Epoch 86/100\n",
      "3/3 [==============================] - 0s 3ms/step - loss: 0.3828 - mse: 0.3828\n",
      "Epoch 87/100\n",
      "3/3 [==============================] - 0s 2ms/step - loss: 0.3747 - mse: 0.3747\n",
      "Epoch 88/100\n"
     ]
    },
    {
     "name": "stdout",
     "output_type": "stream",
     "text": [
      "3/3 [==============================] - 0s 2ms/step - loss: 0.3729 - mse: 0.3729\n",
      "Epoch 89/100\n",
      "3/3 [==============================] - 0s 3ms/step - loss: 0.3712 - mse: 0.3712\n",
      "Epoch 90/100\n",
      "3/3 [==============================] - 0s 3ms/step - loss: 0.3656 - mse: 0.3656\n",
      "Epoch 91/100\n",
      "3/3 [==============================] - 0s 2ms/step - loss: 0.3551 - mse: 0.3551\n",
      "Epoch 92/100\n",
      "3/3 [==============================] - 0s 3ms/step - loss: 0.3527 - mse: 0.3527\n",
      "Epoch 93/100\n",
      "3/3 [==============================] - 0s 3ms/step - loss: 0.3434 - mse: 0.3434\n",
      "Epoch 94/100\n",
      "3/3 [==============================] - 0s 1ms/step - loss: 0.3375 - mse: 0.3375\n",
      "Epoch 95/100\n",
      "3/3 [==============================] - 0s 2ms/step - loss: 0.3340 - mse: 0.3340\n",
      "Epoch 96/100\n",
      "3/3 [==============================] - 0s 2ms/step - loss: 0.3306 - mse: 0.3306\n",
      "Epoch 97/100\n",
      "3/3 [==============================] - 0s 2ms/step - loss: 0.3239 - mse: 0.3239\n",
      "Epoch 98/100\n",
      "3/3 [==============================] - 0s 3ms/step - loss: 0.3165 - mse: 0.3165\n",
      "Epoch 99/100\n",
      "3/3 [==============================] - 0s 3ms/step - loss: 0.3132 - mse: 0.3132\n",
      "Epoch 100/100\n",
      "3/3 [==============================] - 0s 2ms/step - loss: 0.3094 - mse: 0.3094\n"
     ]
    },
    {
     "data": {
      "text/plain": [
       "<tensorflow.python.keras.callbacks.History at 0x18d057964c8>"
      ]
     },
     "execution_count": 5,
     "metadata": {},
     "output_type": "execute_result"
    }
   ],
   "source": [
    "model.compile(loss='mse', optimizer='adam', metrics=['mse'])\n",
    "model.fit(x_train, y_train, epochs=100, batch_size=1)\n"
   ]
  },
  {
   "cell_type": "code",
   "execution_count": 6,
   "metadata": {},
   "outputs": [
    {
     "name": "stdout",
     "output_type": "stream",
     "text": [
      "(1, 5)\n",
      "x_predict.shape :  (1, 5, 1)\n"
     ]
    }
   ],
   "source": [
    "x_predict = np.array([[4,5,6,7,8]])\n",
    "print(x_predict.shape) #(1, 5)\n",
    "x_predict = x_predict.reshape(x_predict.shape[0], x_predict.shape[1], 1)\n",
    "print(\"x_predict.shape : \", x_predict.shape) # (1, 5, 1)"
   ]
  },
  {
   "cell_type": "code",
   "execution_count": 7,
   "metadata": {},
   "outputs": [
    {
     "name": "stdout",
     "output_type": "stream",
     "text": [
      "예측값 :  [[9.832753]]\n"
     ]
    }
   ],
   "source": [
    "y_predict = model.predict(x_predict)\n",
    "print(\"예측값 : \", y_predict)\n"
   ]
  },
  {
   "cell_type": "code",
   "execution_count": null,
   "metadata": {},
   "outputs": [],
   "source": []
  }
 ],
 "metadata": {
  "kernelspec": {
   "display_name": "Python 3",
   "language": "python",
   "name": "python3"
  },
  "language_info": {
   "codemirror_mode": {
    "name": "ipython",
    "version": 3
   },
   "file_extension": ".py",
   "mimetype": "text/x-python",
   "name": "python",
   "nbconvert_exporter": "python",
   "pygments_lexer": "ipython3",
   "version": "3.7.6"
  }
 },
 "nbformat": 4,
 "nbformat_minor": 4
}
