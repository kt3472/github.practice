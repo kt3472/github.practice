{
 "cells": [
  {
   "cell_type": "code",
   "execution_count": 2,
   "metadata": {},
   "outputs": [],
   "source": [
    "import GetOldTweets3 as got\n",
    "from bs4 import BeautifulSoup\n",
    "import requests\n",
    "import pandas as pd\n",
    "import numpy as np\n",
    "import time\n",
    "import datetime"
   ]
  },
  {
   "cell_type": "code",
   "execution_count": 5,
   "metadata": {},
   "outputs": [
    {
     "name": "stdout",
     "output_type": "stream",
     "text": [
      "=== 설정된 트윗 수집 기간은 2020-01-02 에서 2020-01-04 까지 입니다 ===\n",
      "=== 총 3일 간의 데이터 수집 ===\n"
     ]
    }
   ],
   "source": [
    "days_range = []\n",
    "\n",
    "start = datetime.datetime.strptime(\"2020-01-02\", \"%Y-%m-%d\")\n",
    "end = datetime.datetime.strptime(\"2020-01-05\", \"%Y-%m-%d\")\n",
    "date_generated = [start + datetime.timedelta(days=x) for x in range(0, (end-start).days)]\n",
    "\n",
    "for date in date_generated:\n",
    "    days_range.append(date.strftime(\"%Y-%m-%d\"))\n",
    "\n",
    "print(\"=== 설정된 트윗 수집 기간은 {} 에서 {} 까지 입니다 ===\".format(days_range[0], days_range[-1]))\n",
    "print(\"=== 총 {}일 간의 데이터 수집 ===\".format(len(days_range)))"
   ]
  },
  {
   "cell_type": "code",
   "execution_count": 6,
   "metadata": {},
   "outputs": [
    {
     "data": {
      "text/plain": [
       "['2020-01-02', '2020-01-03', '2020-01-04']"
      ]
     },
     "execution_count": 6,
     "metadata": {},
     "output_type": "execute_result"
    }
   ],
   "source": [
    "days_range"
   ]
  },
  {
   "cell_type": "code",
   "execution_count": null,
   "metadata": {},
   "outputs": [
    {
     "name": "stdout",
     "output_type": "stream",
     "text": [
      "Collecting data start.. from 2020-01-02 to 2020-01-03\n",
      "Collecting data end.. 21.14 Minutes\n",
      "=== Total num of tweets is 6717 ===\n",
      "Collecting data start.. from 2020-01-03 to 2020-01-04\n",
      "Collecting data end.. 32.68 Minutes\n",
      "=== Total num of tweets is 9805 ===\n",
      "Collecting data start.. from 2020-01-04 to 2020-01-05\n",
      "Collecting data end.. 18.27 Minutes\n",
      "=== Total num of tweets is 8582 ===\n",
      "Collecting data start.. from 2020-01-05 to 2020-01-06\n"
     ]
    }
   ],
   "source": [
    "for i in range(len(days_range)-1):\n",
    "    \n",
    "    start_date = days_range[i]\n",
    "    end_date = days_range[i+1]\n",
    "    \n",
    "    tweetCriteria = got.manager.TweetCriteria().setQuerySearch('방탄소년 OR 방탄소년단')\\\n",
    "                                               .setSince(start_date)\\\n",
    "                                               .setUntil(end_date)\\\n",
    "                                               .setMaxTweets(-1)\n",
    "    \n",
    "    \n",
    "    print(\"Collecting data start.. from {} to {}\".format(start_date, end_date))\n",
    "    start_time = time.time()\n",
    "\n",
    "    tweet = got.manager.TweetManager.getTweets(tweetCriteria)\n",
    "\n",
    "    print(\"Collecting data end.. {0:0.2f} Minutes\".format((time.time() - start_time)/60))\n",
    "    print(\"=== Total num of tweets is {} ===\".format(len(tweet)))\n",
    "    \n",
    "    \n",
    "    tweet_data = pd.DataFrame({\"username\":[],\"date_t\":[],\"text_t\":[], \"favorites\":[], \"hashtags\":[],\"retweets\":[],\n",
    "                               \"replies\":[], \"author_id\":[],\"p_link\":[]},\n",
    "                          columns = [\"username\",\"date_t\",\"text_t\",\"favorites\",\"hashtags\",\"retweets\",\"replies\", \"author_id\",\"p_link\"])\n",
    "    \n",
    "    \n",
    "    for i in range(len(tweet)):\n",
    "    \n",
    "        username = str(tweet[i].username)\n",
    "        date_t = str(tweet[i].date)\n",
    "        text_t = str(tweet[i].text)\n",
    "        favorites = str(tweet[i].favorites)\n",
    "        hashtags = str(tweet[i].hashtags)\n",
    "        retweets = str(tweet[i].retweets)\n",
    "        replies = str(tweet[i].replies)\n",
    "        author_id = str(tweet[i].author_id)\n",
    "        p_link = str(tweet[i].permalink)\n",
    "\n",
    "        tweet_data.loc[i] = [username, date_t, text_t, favorites, hashtags, retweets, replies, author_id, p_link]\n",
    "        \n",
    "    tweet_data.to_excel(\"./c_data/tweet_cr_example_\"+ start_date +\".xlsx\", encoding=\"UTF-8\")\n",
    "    \n",
    "    \n",
    "    time.sleep(3)"
   ]
  },
  {
   "cell_type": "code",
   "execution_count": 14,
   "metadata": {},
   "outputs": [],
   "source": [
    "tweet_data.to_excel(\"./c_data/tweet_cr_example_\"+ start_date +\".xlsx\", encoding=\"UTF-8\")\n",
    "#tweet_data.to_csv(\"tweet_cr_example.csv\", encoding=\"UTF-8\")"
   ]
  },
  {
   "cell_type": "code",
   "execution_count": 1,
   "metadata": {},
   "outputs": [],
   "source": [
    "# 1일 기준 6000건의 트윗을 크롤링 할 경우 약 20분 소요"
   ]
  }
 ],
 "metadata": {
  "kernelspec": {
   "display_name": "Python 3",
   "language": "python",
   "name": "python3"
  },
  "language_info": {
   "codemirror_mode": {
    "name": "ipython",
    "version": 3
   },
   "file_extension": ".py",
   "mimetype": "text/x-python",
   "name": "python",
   "nbconvert_exporter": "python",
   "pygments_lexer": "ipython3",
   "version": "3.7.6"
  }
 },
 "nbformat": 4,
 "nbformat_minor": 4
}
