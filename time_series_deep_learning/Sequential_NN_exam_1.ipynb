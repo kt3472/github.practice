{
 "cells": [
  {
   "cell_type": "code",
   "execution_count": 1,
   "metadata": {},
   "outputs": [
    {
     "name": "stdout",
     "output_type": "stream",
     "text": [
      "(2, 100)\n",
      "(2, 100)\n",
      "(2, 100)\n",
      "(2, 100)\n"
     ]
    }
   ],
   "source": [
    "import numpy as np\n",
    "x1 = np.array([range(1, 101), range(101, 201)])\n",
    "y1 = np.array([range(1, 101), range(101, 201)])\n",
    "x2 = np.array([range(501, 601), range(601, 701)])\n",
    "y2 = np.array([range(501, 601), range(601, 701)])\n",
    "print(x1.shape)\n",
    "print(x2.shape)\n",
    "print(y1.shape)\n",
    "print(y2.shape)\n"
   ]
  },
  {
   "cell_type": "code",
   "execution_count": 2,
   "metadata": {},
   "outputs": [
    {
     "data": {
      "text/plain": [
       "array([[  1,   2,   3,   4,   5,   6,   7,   8,   9,  10,  11,  12,  13,\n",
       "         14,  15,  16,  17,  18,  19,  20,  21,  22,  23,  24,  25,  26,\n",
       "         27,  28,  29,  30,  31,  32,  33,  34,  35,  36,  37,  38,  39,\n",
       "         40,  41,  42,  43,  44,  45,  46,  47,  48,  49,  50,  51,  52,\n",
       "         53,  54,  55,  56,  57,  58,  59,  60,  61,  62,  63,  64,  65,\n",
       "         66,  67,  68,  69,  70,  71,  72,  73,  74,  75,  76,  77,  78,\n",
       "         79,  80,  81,  82,  83,  84,  85,  86,  87,  88,  89,  90,  91,\n",
       "         92,  93,  94,  95,  96,  97,  98,  99, 100],\n",
       "       [101, 102, 103, 104, 105, 106, 107, 108, 109, 110, 111, 112, 113,\n",
       "        114, 115, 116, 117, 118, 119, 120, 121, 122, 123, 124, 125, 126,\n",
       "        127, 128, 129, 130, 131, 132, 133, 134, 135, 136, 137, 138, 139,\n",
       "        140, 141, 142, 143, 144, 145, 146, 147, 148, 149, 150, 151, 152,\n",
       "        153, 154, 155, 156, 157, 158, 159, 160, 161, 162, 163, 164, 165,\n",
       "        166, 167, 168, 169, 170, 171, 172, 173, 174, 175, 176, 177, 178,\n",
       "        179, 180, 181, 182, 183, 184, 185, 186, 187, 188, 189, 190, 191,\n",
       "        192, 193, 194, 195, 196, 197, 198, 199, 200]])"
      ]
     },
     "execution_count": 2,
     "metadata": {},
     "output_type": "execute_result"
    }
   ],
   "source": [
    "x1"
   ]
  },
  {
   "cell_type": "code",
   "execution_count": 3,
   "metadata": {},
   "outputs": [
    {
     "data": {
      "text/plain": [
       "array([[  1,   2,   3,   4,   5,   6,   7,   8,   9,  10,  11,  12,  13,\n",
       "         14,  15,  16,  17,  18,  19,  20,  21,  22,  23,  24,  25,  26,\n",
       "         27,  28,  29,  30,  31,  32,  33,  34,  35,  36,  37,  38,  39,\n",
       "         40,  41,  42,  43,  44,  45,  46,  47,  48,  49,  50,  51,  52,\n",
       "         53,  54,  55,  56,  57,  58,  59,  60,  61,  62,  63,  64,  65,\n",
       "         66,  67,  68,  69,  70,  71,  72,  73,  74,  75,  76,  77,  78,\n",
       "         79,  80,  81,  82,  83,  84,  85,  86,  87,  88,  89,  90,  91,\n",
       "         92,  93,  94,  95,  96,  97,  98,  99, 100],\n",
       "       [101, 102, 103, 104, 105, 106, 107, 108, 109, 110, 111, 112, 113,\n",
       "        114, 115, 116, 117, 118, 119, 120, 121, 122, 123, 124, 125, 126,\n",
       "        127, 128, 129, 130, 131, 132, 133, 134, 135, 136, 137, 138, 139,\n",
       "        140, 141, 142, 143, 144, 145, 146, 147, 148, 149, 150, 151, 152,\n",
       "        153, 154, 155, 156, 157, 158, 159, 160, 161, 162, 163, 164, 165,\n",
       "        166, 167, 168, 169, 170, 171, 172, 173, 174, 175, 176, 177, 178,\n",
       "        179, 180, 181, 182, 183, 184, 185, 186, 187, 188, 189, 190, 191,\n",
       "        192, 193, 194, 195, 196, 197, 198, 199, 200]])"
      ]
     },
     "execution_count": 3,
     "metadata": {},
     "output_type": "execute_result"
    }
   ],
   "source": [
    "y1"
   ]
  },
  {
   "cell_type": "code",
   "execution_count": 4,
   "metadata": {},
   "outputs": [],
   "source": [
    "x1 = np.transpose(x1)\n",
    "y1 = np.transpose(y1)\n",
    "x2 = np.transpose(x2)\n",
    "y2 = np.transpose(y2)"
   ]
  },
  {
   "cell_type": "code",
   "execution_count": 7,
   "metadata": {},
   "outputs": [
    {
     "name": "stdout",
     "output_type": "stream",
     "text": [
      "(100, 2)\n",
      "(100, 2)\n",
      "(100, 2)\n",
      "(100, 2)\n"
     ]
    }
   ],
   "source": [
    "print(x1.shape)\n",
    "print(x2.shape)\n",
    "print(y1.shape)\n",
    "print(y2.shape)"
   ]
  },
  {
   "cell_type": "code",
   "execution_count": 8,
   "metadata": {},
   "outputs": [],
   "source": [
    "from sklearn.model_selection import train_test_split\n",
    "\n",
    "x1_train, x1_test, y1_train, y1_test = train_test_split(\n",
    "x1, y1, random_state=66, test_size=0.2, shuffle = False\n",
    ")\n",
    "x1_val, x1_test, y1_val, y1_test = train_test_split(\n",
    "x1_test, y1_test, random_state=66, test_size=0.5, shuffle = False\n",
    ")\n",
    "x2_train, x2_test, y2_train, y2_test = train_test_split(\n",
    "x2, y2, random_state=66, test_size=0.2, shuffle = False\n",
    ")\n",
    "x2_val, x2_test, y2_val, y2_test = train_test_split(\n",
    "x2_test, y2_test, random_state=66, test_size=0.5, shuffle = False\n",
    ")"
   ]
  },
  {
   "cell_type": "code",
   "execution_count": 9,
   "metadata": {},
   "outputs": [
    {
     "name": "stdout",
     "output_type": "stream",
     "text": [
      "x2_train.shape :  (80, 2)\n",
      "x2_val.shape :  (10, 2)\n",
      "x2_test.shape :  (10, 2)\n"
     ]
    }
   ],
   "source": [
    "print('x2_train.shape : ', x2_train.shape)\n",
    "print('x2_val.shape : ', x2_val.shape)\n",
    "print('x2_test.shape : ', x2_test.shape)"
   ]
  },
  {
   "cell_type": "code",
   "execution_count": 10,
   "metadata": {},
   "outputs": [
    {
     "name": "stderr",
     "output_type": "stream",
     "text": [
      "Using TensorFlow backend.\n"
     ]
    }
   ],
   "source": [
    "from keras.models import Sequential, Model\n",
    "from keras.layers import Dense, Input"
   ]
  },
  {
   "cell_type": "code",
   "execution_count": 20,
   "metadata": {},
   "outputs": [],
   "source": [
    "# model = Sequential()\n",
    "input1 = Input(shape=(2,))\n",
    "dense1 = Dense(100, activation='relu')(input1)\n",
    "dense1 = Dense(50)(dense1)\n",
    "dense1 = Dense(7)(dense1)\n",
    "\n",
    "input2 = Input(shape=(2,))\n",
    "dense2 = Dense(100, activation='relu')(input2)\n",
    "dense2 = Dense(50)(dense2)\n",
    "dense2 = Dense(7)(dense2)"
   ]
  },
  {
   "cell_type": "code",
   "execution_count": 21,
   "metadata": {},
   "outputs": [],
   "source": [
    "from keras.layers.merge import concatenate\n",
    "merge1 = concatenate([dense1, dense2])\n",
    "middle1 = Dense(50)(merge1)\n",
    "middle2 = Dense(5)(middle1)\n",
    "middle3 = Dense(30)(middle2)\n",
    "\n",
    "output1 = Dense(50)(middle3)\n",
    "output1 = Dense(7)(output1)\n",
    "output1 = Dense(2)(output1)\n",
    "\n",
    "output2 = Dense(100)(middle3)\n",
    "output2 = Dense(70)(output2)\n",
    "output2 = Dense(2)(output2)\n",
    "\n",
    "model = Model(inputs = [input1, input2],\n",
    "outputs = [output1, output2]\n",
    ")"
   ]
  },
  {
   "cell_type": "code",
   "execution_count": 22,
   "metadata": {},
   "outputs": [
    {
     "name": "stdout",
     "output_type": "stream",
     "text": [
      "Model: \"model_1\"\n",
      "__________________________________________________________________________________________________\n",
      "Layer (type)                    Output Shape         Param #     Connected to                     \n",
      "==================================================================================================\n",
      "input_3 (InputLayer)            [(None, 2)]          0                                            \n",
      "__________________________________________________________________________________________________\n",
      "input_4 (InputLayer)            [(None, 2)]          0                                            \n",
      "__________________________________________________________________________________________________\n",
      "dense_15 (Dense)                (None, 100)          300         input_3[0][0]                    \n",
      "__________________________________________________________________________________________________\n",
      "dense_18 (Dense)                (None, 100)          300         input_4[0][0]                    \n",
      "__________________________________________________________________________________________________\n",
      "dense_16 (Dense)                (None, 50)           5050        dense_15[0][0]                   \n",
      "__________________________________________________________________________________________________\n",
      "dense_19 (Dense)                (None, 50)           5050        dense_18[0][0]                   \n",
      "__________________________________________________________________________________________________\n",
      "dense_17 (Dense)                (None, 7)            357         dense_16[0][0]                   \n",
      "__________________________________________________________________________________________________\n",
      "dense_20 (Dense)                (None, 7)            357         dense_19[0][0]                   \n",
      "__________________________________________________________________________________________________\n",
      "concatenate_1 (Concatenate)     (None, 14)           0           dense_17[0][0]                   \n",
      "                                                                 dense_20[0][0]                   \n",
      "__________________________________________________________________________________________________\n",
      "dense_21 (Dense)                (None, 50)           750         concatenate_1[0][0]              \n",
      "__________________________________________________________________________________________________\n",
      "dense_22 (Dense)                (None, 5)            255         dense_21[0][0]                   \n",
      "__________________________________________________________________________________________________\n",
      "dense_23 (Dense)                (None, 30)           180         dense_22[0][0]                   \n",
      "__________________________________________________________________________________________________\n",
      "dense_24 (Dense)                (None, 50)           1550        dense_23[0][0]                   \n",
      "__________________________________________________________________________________________________\n",
      "dense_27 (Dense)                (None, 100)          3100        dense_23[0][0]                   \n",
      "__________________________________________________________________________________________________\n",
      "dense_25 (Dense)                (None, 7)            357         dense_24[0][0]                   \n",
      "__________________________________________________________________________________________________\n",
      "dense_28 (Dense)                (None, 70)           7070        dense_27[0][0]                   \n",
      "__________________________________________________________________________________________________\n",
      "dense_26 (Dense)                (None, 2)            16          dense_25[0][0]                   \n",
      "__________________________________________________________________________________________________\n",
      "dense_29 (Dense)                (None, 2)            142         dense_28[0][0]                   \n",
      "==================================================================================================\n",
      "Total params: 24,834\n",
      "Trainable params: 24,834\n",
      "Non-trainable params: 0\n",
      "__________________________________________________________________________________________________\n"
     ]
    }
   ],
   "source": [
    "model.summary()"
   ]
  },
  {
   "cell_type": "code",
   "execution_count": 23,
   "metadata": {},
   "outputs": [
    {
     "name": "stdout",
     "output_type": "stream",
     "text": [
      "Epoch 1/50\n",
      "80/80 [==============================] - 0s 4ms/step - loss: 28178.6445 - dense_26_loss: 1817.6400 - dense_29_loss: 26361.0000 - dense_26_mse: 1817.6400 - dense_29_mse: 26361.0000 - val_loss: 1926.2692 - val_dense_26_loss: 1450.2247 - val_dense_29_loss: 476.0443 - val_dense_26_mse: 1450.2247 - val_dense_29_mse: 476.0443\n",
      "Epoch 2/50\n",
      "80/80 [==============================] - 0s 2ms/step - loss: 457.8135 - dense_26_loss: 399.4855 - dense_29_loss: 58.3281 - dense_26_mse: 399.4855 - dense_29_mse: 58.3281 - val_loss: 1385.6598 - val_dense_26_loss: 1249.3362 - val_dense_29_loss: 136.3236 - val_dense_26_mse: 1249.3362 - val_dense_29_mse: 136.3236\n",
      "Epoch 3/50\n",
      "80/80 [==============================] - 0s 1ms/step - loss: 566.7811 - dense_26_loss: 529.5433 - dense_29_loss: 37.2378 - dense_26_mse: 529.5433 - dense_29_mse: 37.2378 - val_loss: 2392.7620 - val_dense_26_loss: 2218.4932 - val_dense_29_loss: 174.2687 - val_dense_26_mse: 2218.4932 - val_dense_29_mse: 174.2687\n",
      "Epoch 4/50\n",
      "80/80 [==============================] - 0s 2ms/step - loss: 401.9963 - dense_26_loss: 378.7111 - dense_29_loss: 23.2852 - dense_26_mse: 378.7111 - dense_29_mse: 23.2852 - val_loss: 817.7637 - val_dense_26_loss: 760.0207 - val_dense_29_loss: 57.7429 - val_dense_26_mse: 760.0207 - val_dense_29_mse: 57.7429\n",
      "Epoch 5/50\n",
      "80/80 [==============================] - 0s 2ms/step - loss: 251.5509 - dense_26_loss: 240.9371 - dense_29_loss: 10.6138 - dense_26_mse: 240.9371 - dense_29_mse: 10.6138 - val_loss: 13.5001 - val_dense_26_loss: 12.1196 - val_dense_29_loss: 1.3805 - val_dense_26_mse: 12.1196 - val_dense_29_mse: 1.3805\n",
      "Epoch 6/50\n",
      "80/80 [==============================] - 0s 1ms/step - loss: 80.6272 - dense_26_loss: 78.8246 - dense_29_loss: 1.8026 - dense_26_mse: 78.8246 - dense_29_mse: 1.8026 - val_loss: 2.2614 - val_dense_26_loss: 1.4492 - val_dense_29_loss: 0.8122 - val_dense_26_mse: 1.4492 - val_dense_29_mse: 0.8122\n",
      "Epoch 7/50\n",
      "80/80 [==============================] - 0s 2ms/step - loss: 2.6900 - dense_26_loss: 2.1976 - dense_29_loss: 0.4924 - dense_26_mse: 2.1976 - dense_29_mse: 0.4924 - val_loss: 3.0035 - val_dense_26_loss: 2.8938 - val_dense_29_loss: 0.1097 - val_dense_26_mse: 2.8938 - val_dense_29_mse: 0.1097\n",
      "Epoch 8/50\n",
      "80/80 [==============================] - 0s 1ms/step - loss: 0.4310 - dense_26_loss: 0.0564 - dense_29_loss: 0.3746 - dense_26_mse: 0.0564 - dense_29_mse: 0.3746 - val_loss: 1.8450 - val_dense_26_loss: 1.6566 - val_dense_29_loss: 0.1884 - val_dense_26_mse: 1.6566 - val_dense_29_mse: 0.1884\n",
      "Epoch 9/50\n",
      "80/80 [==============================] - 0s 1ms/step - loss: 0.3708 - dense_26_loss: 0.0471 - dense_29_loss: 0.3237 - dense_26_mse: 0.0471 - dense_29_mse: 0.3237 - val_loss: 4.1913 - val_dense_26_loss: 2.6304 - val_dense_29_loss: 1.5610 - val_dense_26_mse: 2.6304 - val_dense_29_mse: 1.5610\n",
      "Epoch 10/50\n",
      "80/80 [==============================] - 0s 2ms/step - loss: 0.2146 - dense_26_loss: 0.0386 - dense_29_loss: 0.1760 - dense_26_mse: 0.0386 - dense_29_mse: 0.1760 - val_loss: 2.1060 - val_dense_26_loss: 2.0633 - val_dense_29_loss: 0.0427 - val_dense_26_mse: 2.0633 - val_dense_29_mse: 0.0427\n",
      "Epoch 11/50\n",
      "80/80 [==============================] - 0s 1ms/step - loss: 0.5672 - dense_26_loss: 0.0321 - dense_29_loss: 0.5351 - dense_26_mse: 0.0321 - dense_29_mse: 0.5351 - val_loss: 2.4227 - val_dense_26_loss: 2.3337 - val_dense_29_loss: 0.0890 - val_dense_26_mse: 2.3337 - val_dense_29_mse: 0.0890\n",
      "Epoch 12/50\n",
      "80/80 [==============================] - 0s 2ms/step - loss: 0.2300 - dense_26_loss: 0.0224 - dense_29_loss: 0.2075 - dense_26_mse: 0.0224 - dense_29_mse: 0.2075 - val_loss: 2.0032 - val_dense_26_loss: 1.5721 - val_dense_29_loss: 0.4310 - val_dense_26_mse: 1.5721 - val_dense_29_mse: 0.4310\n",
      "Epoch 13/50\n",
      "80/80 [==============================] - 0s 2ms/step - loss: 0.2775 - dense_26_loss: 0.0281 - dense_29_loss: 0.2494 - dense_26_mse: 0.0281 - dense_29_mse: 0.2494 - val_loss: 2.2824 - val_dense_26_loss: 2.0536 - val_dense_29_loss: 0.2288 - val_dense_26_mse: 2.0536 - val_dense_29_mse: 0.2288\n",
      "Epoch 14/50\n",
      "80/80 [==============================] - 0s 2ms/step - loss: 0.4604 - dense_26_loss: 0.0230 - dense_29_loss: 0.4373 - dense_26_mse: 0.0230 - dense_29_mse: 0.4373 - val_loss: 1.7942 - val_dense_26_loss: 1.0274 - val_dense_29_loss: 0.7668 - val_dense_26_mse: 1.0274 - val_dense_29_mse: 0.7668\n",
      "Epoch 15/50\n",
      "80/80 [==============================] - 0s 2ms/step - loss: 0.3052 - dense_26_loss: 0.0297 - dense_29_loss: 0.2756 - dense_26_mse: 0.0297 - dense_29_mse: 0.2756 - val_loss: 1.4356 - val_dense_26_loss: 1.2312 - val_dense_29_loss: 0.2044 - val_dense_26_mse: 1.2312 - val_dense_29_mse: 0.2044\n",
      "Epoch 16/50\n",
      "80/80 [==============================] - 0s 2ms/step - loss: 0.1276 - dense_26_loss: 0.0167 - dense_29_loss: 0.1110 - dense_26_mse: 0.0167 - dense_29_mse: 0.1110 - val_loss: 1.4657 - val_dense_26_loss: 1.2757 - val_dense_29_loss: 0.1900 - val_dense_26_mse: 1.2757 - val_dense_29_mse: 0.1900\n",
      "Epoch 17/50\n",
      "80/80 [==============================] - 0s 2ms/step - loss: 0.1099 - dense_26_loss: 0.0135 - dense_29_loss: 0.0964 - dense_26_mse: 0.0135 - dense_29_mse: 0.0964 - val_loss: 2.2706 - val_dense_26_loss: 2.0128 - val_dense_29_loss: 0.2578 - val_dense_26_mse: 2.0128 - val_dense_29_mse: 0.2578\n",
      "Epoch 18/50\n",
      "80/80 [==============================] - 0s 1ms/step - loss: 0.3270 - dense_26_loss: 0.0141 - dense_29_loss: 0.3129 - dense_26_mse: 0.0141 - dense_29_mse: 0.3129 - val_loss: 1.6272 - val_dense_26_loss: 1.2367 - val_dense_29_loss: 0.3904 - val_dense_26_mse: 1.2367 - val_dense_29_mse: 0.3904\n",
      "Epoch 19/50\n",
      "80/80 [==============================] - 0s 2ms/step - loss: 0.1371 - dense_26_loss: 0.0170 - dense_29_loss: 0.1201 - dense_26_mse: 0.0170 - dense_29_mse: 0.1201 - val_loss: 2.5714 - val_dense_26_loss: 1.6940 - val_dense_29_loss: 0.8774 - val_dense_26_mse: 1.6940 - val_dense_29_mse: 0.8774\n",
      "Epoch 20/50\n",
      "80/80 [==============================] - 0s 1ms/step - loss: 0.3938 - dense_26_loss: 0.0244 - dense_29_loss: 0.3694 - dense_26_mse: 0.0244 - dense_29_mse: 0.3694 - val_loss: 1.5383 - val_dense_26_loss: 1.5087 - val_dense_29_loss: 0.0296 - val_dense_26_mse: 1.5087 - val_dense_29_mse: 0.0296\n",
      "Epoch 21/50\n",
      "80/80 [==============================] - 0s 2ms/step - loss: 12.8981 - dense_26_loss: 0.1282 - dense_29_loss: 12.7699 - dense_26_mse: 0.1282 - dense_29_mse: 12.7699 - val_loss: 3.0263 - val_dense_26_loss: 2.2024 - val_dense_29_loss: 0.8239 - val_dense_26_mse: 2.2024 - val_dense_29_mse: 0.8239\n",
      "Epoch 22/50\n",
      "80/80 [==============================] - 0s 2ms/step - loss: 4.3179 - dense_26_loss: 0.0562 - dense_29_loss: 4.2617 - dense_26_mse: 0.0562 - dense_29_mse: 4.2617 - val_loss: 1.9071 - val_dense_26_loss: 1.0589 - val_dense_29_loss: 0.8481 - val_dense_26_mse: 1.0589 - val_dense_29_mse: 0.8481\n",
      "Epoch 23/50\n",
      "80/80 [==============================] - 0s 2ms/step - loss: 14.5120 - dense_26_loss: 0.2050 - dense_29_loss: 14.3069 - dense_26_mse: 0.2050 - dense_29_mse: 14.3069 - val_loss: 14.2032 - val_dense_26_loss: 0.9019 - val_dense_29_loss: 13.3013 - val_dense_26_mse: 0.9019 - val_dense_29_mse: 13.3013\n",
      "Epoch 24/50\n",
      "80/80 [==============================] - 0s 2ms/step - loss: 21.7451 - dense_26_loss: 0.1991 - dense_29_loss: 21.5460 - dense_26_mse: 0.1991 - dense_29_mse: 21.5460 - val_loss: 17.5195 - val_dense_26_loss: 1.2454 - val_dense_29_loss: 16.2741 - val_dense_26_mse: 1.2454 - val_dense_29_mse: 16.2741\n",
      "Epoch 25/50\n",
      "80/80 [==============================] - 0s 2ms/step - loss: 94.4311 - dense_26_loss: 1.0863 - dense_29_loss: 93.3448 - dense_26_mse: 1.0863 - dense_29_mse: 93.3448 - val_loss: 122.5892 - val_dense_26_loss: 12.6231 - val_dense_29_loss: 109.9660 - val_dense_26_mse: 12.6231 - val_dense_29_mse: 109.9660\n",
      "Epoch 26/50\n",
      "80/80 [==============================] - 0s 2ms/step - loss: 635.3444 - dense_26_loss: 19.2804 - dense_29_loss: 616.0639 - dense_26_mse: 19.2804 - dense_29_mse: 616.0639 - val_loss: 359.2679 - val_dense_26_loss: 20.0377 - val_dense_29_loss: 339.2302 - val_dense_26_mse: 20.0377 - val_dense_29_mse: 339.2302\n",
      "Epoch 27/50\n",
      "80/80 [==============================] - 0s 2ms/step - loss: 55.2037 - dense_26_loss: 2.5933 - dense_29_loss: 52.6104 - dense_26_mse: 2.5933 - dense_29_mse: 52.6104 - val_loss: 7.2085 - val_dense_26_loss: 5.5122 - val_dense_29_loss: 1.6963 - val_dense_26_mse: 5.5122 - val_dense_29_mse: 1.6963\n"
     ]
    },
    {
     "name": "stdout",
     "output_type": "stream",
     "text": [
      "Epoch 28/50\n",
      "80/80 [==============================] - 0s 1ms/step - loss: 2.7668 - dense_26_loss: 1.3410 - dense_29_loss: 1.4258 - dense_26_mse: 1.3410 - dense_29_mse: 1.4258 - val_loss: 0.2843 - val_dense_26_loss: 0.0843 - val_dense_29_loss: 0.2000 - val_dense_26_mse: 0.0843 - val_dense_29_mse: 0.2000\n",
      "Epoch 29/50\n",
      "80/80 [==============================] - 0s 2ms/step - loss: 1.3222 - dense_26_loss: 0.9884 - dense_29_loss: 0.3338 - dense_26_mse: 0.9884 - dense_29_mse: 0.3338 - val_loss: 0.3261 - val_dense_26_loss: 0.3013 - val_dense_29_loss: 0.0248 - val_dense_26_mse: 0.3013 - val_dense_29_mse: 0.0248\n",
      "Epoch 30/50\n",
      "80/80 [==============================] - 0s 1ms/step - loss: 0.6666 - dense_26_loss: 0.5358 - dense_29_loss: 0.1307 - dense_26_mse: 0.5358 - dense_29_mse: 0.1307 - val_loss: 0.2213 - val_dense_26_loss: 0.0987 - val_dense_29_loss: 0.1226 - val_dense_26_mse: 0.0987 - val_dense_29_mse: 0.1226\n",
      "Epoch 31/50\n",
      "80/80 [==============================] - 0s 1ms/step - loss: 0.3525 - dense_26_loss: 0.2825 - dense_29_loss: 0.0700 - dense_26_mse: 0.2825 - dense_29_mse: 0.0700 - val_loss: 0.3811 - val_dense_26_loss: 0.3093 - val_dense_29_loss: 0.0718 - val_dense_26_mse: 0.3093 - val_dense_29_mse: 0.0718\n",
      "Epoch 32/50\n",
      "80/80 [==============================] - 0s 2ms/step - loss: 0.5650 - dense_26_loss: 0.5174 - dense_29_loss: 0.0476 - dense_26_mse: 0.5174 - dense_29_mse: 0.0476 - val_loss: 0.1129 - val_dense_26_loss: 0.0360 - val_dense_29_loss: 0.0770 - val_dense_26_mse: 0.0360 - val_dense_29_mse: 0.0770\n",
      "Epoch 33/50\n",
      "80/80 [==============================] - 0s 1ms/step - loss: 0.2550 - dense_26_loss: 0.2067 - dense_29_loss: 0.0484 - dense_26_mse: 0.2067 - dense_29_mse: 0.0484 - val_loss: 0.2141 - val_dense_26_loss: 0.0392 - val_dense_29_loss: 0.1750 - val_dense_26_mse: 0.0392 - val_dense_29_mse: 0.1750\n",
      "Epoch 34/50\n",
      "80/80 [==============================] - 0s 1ms/step - loss: 0.1512 - dense_26_loss: 0.0879 - dense_29_loss: 0.0633 - dense_26_mse: 0.0879 - dense_29_mse: 0.0633 - val_loss: 0.2512 - val_dense_26_loss: 0.2330 - val_dense_29_loss: 0.0182 - val_dense_26_mse: 0.2330 - val_dense_29_mse: 0.0182\n",
      "Epoch 35/50\n",
      "80/80 [==============================] - 0s 1ms/step - loss: 0.1566 - dense_26_loss: 0.0722 - dense_29_loss: 0.0845 - dense_26_mse: 0.0722 - dense_29_mse: 0.0845 - val_loss: 1.9922 - val_dense_26_loss: 0.4854 - val_dense_29_loss: 1.5068 - val_dense_26_mse: 0.4854 - val_dense_29_mse: 1.5068\n",
      "Epoch 36/50\n",
      "80/80 [==============================] - 0s 2ms/step - loss: 0.4398 - dense_26_loss: 0.3293 - dense_29_loss: 0.1104 - dense_26_mse: 0.3293 - dense_29_mse: 0.1104 - val_loss: 1.0709 - val_dense_26_loss: 1.0016 - val_dense_29_loss: 0.0692 - val_dense_26_mse: 1.0016 - val_dense_29_mse: 0.0692\n",
      "Epoch 37/50\n",
      "80/80 [==============================] - 0s 1ms/step - loss: 0.4721 - dense_26_loss: 0.3325 - dense_29_loss: 0.1396 - dense_26_mse: 0.3325 - dense_29_mse: 0.1396 - val_loss: 0.8557 - val_dense_26_loss: 0.3677 - val_dense_29_loss: 0.4879 - val_dense_26_mse: 0.3677 - val_dense_29_mse: 0.4879\n",
      "Epoch 38/50\n",
      "80/80 [==============================] - 0s 1ms/step - loss: 0.2223 - dense_26_loss: 0.1501 - dense_29_loss: 0.0723 - dense_26_mse: 0.1501 - dense_29_mse: 0.0723 - val_loss: 0.2640 - val_dense_26_loss: 0.2511 - val_dense_29_loss: 0.0129 - val_dense_26_mse: 0.2511 - val_dense_29_mse: 0.0129\n",
      "Epoch 39/50\n",
      "80/80 [==============================] - 0s 1ms/step - loss: 0.1295 - dense_26_loss: 0.1017 - dense_29_loss: 0.0278 - dense_26_mse: 0.1017 - dense_29_mse: 0.0278 - val_loss: 0.1338 - val_dense_26_loss: 0.0325 - val_dense_29_loss: 0.1013 - val_dense_26_mse: 0.0325 - val_dense_29_mse: 0.1013\n",
      "Epoch 40/50\n",
      "80/80 [==============================] - 0s 1ms/step - loss: 1.7554 - dense_26_loss: 0.1196 - dense_29_loss: 1.6358 - dense_26_mse: 0.1196 - dense_29_mse: 1.6358 - val_loss: 0.4225 - val_dense_26_loss: 0.0323 - val_dense_29_loss: 0.3902 - val_dense_26_mse: 0.0323 - val_dense_29_mse: 0.3902\n",
      "Epoch 41/50\n",
      "80/80 [==============================] - 0s 1ms/step - loss: 947.8739 - dense_26_loss: 36.1751 - dense_29_loss: 911.6986 - dense_26_mse: 36.1751 - dense_29_mse: 911.6986 - val_loss: 3601.0254 - val_dense_26_loss: 1435.8451 - val_dense_29_loss: 2165.1802 - val_dense_26_mse: 1435.8451 - val_dense_29_mse: 2165.1802\n",
      "Epoch 42/50\n",
      "80/80 [==============================] - 0s 2ms/step - loss: 613.0291 - dense_26_loss: 304.8467 - dense_29_loss: 308.1824 - dense_26_mse: 304.8467 - dense_29_mse: 308.1824 - val_loss: 163.3850 - val_dense_26_loss: 16.5594 - val_dense_29_loss: 146.8256 - val_dense_26_mse: 16.5594 - val_dense_29_mse: 146.8256\n",
      "Epoch 43/50\n",
      "80/80 [==============================] - 0s 2ms/step - loss: 32.8359 - dense_26_loss: 1.1130 - dense_29_loss: 31.7229 - dense_26_mse: 1.1130 - dense_29_mse: 31.7229 - val_loss: 8.2175 - val_dense_26_loss: 0.4961 - val_dense_29_loss: 7.7215 - val_dense_26_mse: 0.4961 - val_dense_29_mse: 7.7215\n",
      "Epoch 44/50\n",
      "80/80 [==============================] - 0s 2ms/step - loss: 1.1941 - dense_26_loss: 0.1718 - dense_29_loss: 1.0223 - dense_26_mse: 0.1718 - dense_29_mse: 1.0223 - val_loss: 1.3842 - val_dense_26_loss: 0.1560 - val_dense_29_loss: 1.2282 - val_dense_26_mse: 0.1560 - val_dense_29_mse: 1.2282\n",
      "Epoch 45/50\n",
      "80/80 [==============================] - 0s 2ms/step - loss: 0.5574 - dense_26_loss: 0.4334 - dense_29_loss: 0.1241 - dense_26_mse: 0.4334 - dense_29_mse: 0.1241 - val_loss: 0.2699 - val_dense_26_loss: 0.2274 - val_dense_29_loss: 0.0425 - val_dense_26_mse: 0.2274 - val_dense_29_mse: 0.0425\n",
      "Epoch 46/50\n",
      "80/80 [==============================] - 0s 1ms/step - loss: 0.5085 - dense_26_loss: 0.3358 - dense_29_loss: 0.1726 - dense_26_mse: 0.3358 - dense_29_mse: 0.1726 - val_loss: 0.6624 - val_dense_26_loss: 0.3265 - val_dense_29_loss: 0.3359 - val_dense_26_mse: 0.3265 - val_dense_29_mse: 0.3359\n",
      "Epoch 47/50\n",
      "80/80 [==============================] - 0s 2ms/step - loss: 0.3000 - dense_26_loss: 0.2205 - dense_29_loss: 0.0795 - dense_26_mse: 0.2205 - dense_29_mse: 0.0795 - val_loss: 0.4426 - val_dense_26_loss: 0.3664 - val_dense_29_loss: 0.0762 - val_dense_26_mse: 0.3664 - val_dense_29_mse: 0.0762\n",
      "Epoch 48/50\n",
      "80/80 [==============================] - 0s 2ms/step - loss: 0.3163 - dense_26_loss: 0.2445 - dense_29_loss: 0.0718 - dense_26_mse: 0.2445 - dense_29_mse: 0.0718 - val_loss: 0.4559 - val_dense_26_loss: 0.3267 - val_dense_29_loss: 0.1292 - val_dense_26_mse: 0.3267 - val_dense_29_mse: 0.1292\n",
      "Epoch 49/50\n",
      "80/80 [==============================] - 0s 2ms/step - loss: 0.2987 - dense_26_loss: 0.2685 - dense_29_loss: 0.0302 - dense_26_mse: 0.2685 - dense_29_mse: 0.0302 - val_loss: 0.2755 - val_dense_26_loss: 0.1520 - val_dense_29_loss: 0.1235 - val_dense_26_mse: 0.1520 - val_dense_29_mse: 0.1235\n",
      "Epoch 50/50\n",
      "80/80 [==============================] - 0s 1ms/step - loss: 0.3972 - dense_26_loss: 0.3193 - dense_29_loss: 0.0779 - dense_26_mse: 0.3193 - dense_29_mse: 0.0779 - val_loss: 4.7727 - val_dense_26_loss: 4.6545 - val_dense_29_loss: 0.1182 - val_dense_26_mse: 4.6545 - val_dense_29_mse: 0.1182\n"
     ]
    },
    {
     "data": {
      "text/plain": [
       "<tensorflow.python.keras.callbacks.History at 0x191bdf76648>"
      ]
     },
     "execution_count": 23,
     "metadata": {},
     "output_type": "execute_result"
    }
   ],
   "source": [
    "model.compile(loss='mse', optimizer='adam', metrics=['mse'])\n",
    "model.fit([x1_train, x2_train], [y1_train, y2_train],\n",
    "epochs=50, batch_size=1,\n",
    "validation_data=([x1_val, x2_val] , [y1_val, y2_val]))"
   ]
  },
  {
   "cell_type": "code",
   "execution_count": 24,
   "metadata": {},
   "outputs": [
    {
     "name": "stdout",
     "output_type": "stream",
     "text": [
      "10/10 [==============================] - 0s 997us/step - loss: 10.4369 - dense_26_loss: 10.2433 - dense_29_loss: 0.1935 - dense_26_mse: 10.2433 - dense_29_mse: 0.1935\n"
     ]
    }
   ],
   "source": [
    "mse = model.evaluate([x1_test, x2_test],\n",
    "                     [y1_test, y2_test], batch_size=1)"
   ]
  },
  {
   "cell_type": "code",
   "execution_count": 25,
   "metadata": {},
   "outputs": [
    {
     "name": "stdout",
     "output_type": "stream",
     "text": [
      "mse :  [10.436877250671387, 10.243337631225586, 0.19354113936424255, 10.243337631225586, 0.19354113936424255]\n",
      "y1 예측값 : \n",
      " [[ 88.04202  188.58203 ]\n",
      " [ 88.92961  189.49062 ]\n",
      " [ 89.81724  190.39925 ]\n",
      " [ 90.70483  191.30782 ]\n",
      " [ 91.59242  192.21643 ]\n",
      " [ 92.47309  193.1197  ]\n",
      " [ 93.339485 194.01198 ]\n",
      " [ 94.205894 194.90427 ]\n",
      " [ 95.07227  195.79655 ]\n",
      " [ 95.93869  196.68883 ]] \n",
      " y2 예측값 : \n",
      " [[591.5147  691.05524]\n",
      " [592.5254  692.08905]\n",
      " [593.5362  693.1232 ]\n",
      " [594.54694 694.15704]\n",
      " [595.5578  695.1912 ]\n",
      " [596.571   696.2277 ]\n",
      " [597.58905 697.2689 ]\n",
      " [598.6071  698.31036]\n",
      " [599.6252  699.35175]\n",
      " [600.6433  700.393  ]]\n"
     ]
    }
   ],
   "source": [
    "print(\"mse : \", mse)\n",
    "y1_predict, y2_predict = model.predict([x1_test, x2_test])\n",
    "print(\"y1 예측값 : \\n\", y1_predict, \"\\n y2 예측값 : \\n\", y2_predict)"
   ]
  },
  {
   "cell_type": "code",
   "execution_count": 26,
   "metadata": {},
   "outputs": [
    {
     "data": {
      "text/plain": [
       "array([[ 91, 191],\n",
       "       [ 92, 192],\n",
       "       [ 93, 193],\n",
       "       [ 94, 194],\n",
       "       [ 95, 195],\n",
       "       [ 96, 196],\n",
       "       [ 97, 197],\n",
       "       [ 98, 198],\n",
       "       [ 99, 199],\n",
       "       [100, 200]])"
      ]
     },
     "execution_count": 26,
     "metadata": {},
     "output_type": "execute_result"
    }
   ],
   "source": [
    "x1_test"
   ]
  },
  {
   "cell_type": "code",
   "execution_count": 27,
   "metadata": {},
   "outputs": [
    {
     "data": {
      "text/plain": [
       "array([[591, 691],\n",
       "       [592, 692],\n",
       "       [593, 693],\n",
       "       [594, 694],\n",
       "       [595, 695],\n",
       "       [596, 696],\n",
       "       [597, 697],\n",
       "       [598, 698],\n",
       "       [599, 699],\n",
       "       [600, 700]])"
      ]
     },
     "execution_count": 27,
     "metadata": {},
     "output_type": "execute_result"
    }
   ],
   "source": [
    "x2_test"
   ]
  },
  {
   "cell_type": "code",
   "execution_count": null,
   "metadata": {},
   "outputs": [],
   "source": []
  }
 ],
 "metadata": {
  "kernelspec": {
   "display_name": "Python 3",
   "language": "python",
   "name": "python3"
  },
  "language_info": {
   "codemirror_mode": {
    "name": "ipython",
    "version": 3
   },
   "file_extension": ".py",
   "mimetype": "text/x-python",
   "name": "python",
   "nbconvert_exporter": "python",
   "pygments_lexer": "ipython3",
   "version": "3.7.6"
  }
 },
 "nbformat": 4,
 "nbformat_minor": 4
}
