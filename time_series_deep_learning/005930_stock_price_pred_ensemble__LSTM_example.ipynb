{
 "cells": [
  {
   "cell_type": "code",
   "execution_count": 1,
   "metadata": {},
   "outputs": [],
   "source": [
    "import numpy as np\n",
    "import pandas as pd"
   ]
  },
  {
   "cell_type": "code",
   "execution_count": 2,
   "metadata": {},
   "outputs": [],
   "source": [
    "df1 = pd.read_csv(\"D:/ml/deepwalk-master/kospi200/data/kospi200.csv\",\n",
    "                 index_col = 0,\n",
    "                 header=0,\n",
    "                 encoding='cp949', sep=',')"
   ]
  },
  {
   "cell_type": "code",
   "execution_count": 3,
   "metadata": {},
   "outputs": [],
   "source": [
    "df2 = pd.read_csv(\"D:/ml/deepwalk-master/kospi200/data/samsung.csv\",\n",
    "                 index_col = 0,\n",
    "                 header=0,\n",
    "                 encoding='cp949', sep=',')"
   ]
  },
  {
   "cell_type": "code",
   "execution_count": 4,
   "metadata": {},
   "outputs": [],
   "source": [
    "for i in range(len(df1.index)):\n",
    "    \n",
    "    df1.iloc[i,4] = int(df1.iloc[i,4].replace(',',''))"
   ]
  },
  {
   "cell_type": "code",
   "execution_count": 5,
   "metadata": {},
   "outputs": [],
   "source": [
    "for i in range(len(df2.index)):\n",
    "    \n",
    "    for j in range(len(df2.iloc[i])):\n",
    "        \n",
    "        df2.iloc[i,j] = int(df2.iloc[i,j].replace(',',''))"
   ]
  },
  {
   "cell_type": "code",
   "execution_count": 6,
   "metadata": {},
   "outputs": [],
   "source": [
    "df1 = df1.sort_values(['일자'], ascending=True)\n",
    "df2 = df2.sort_values(['일자'], ascending=True)"
   ]
  },
  {
   "cell_type": "code",
   "execution_count": 7,
   "metadata": {},
   "outputs": [],
   "source": [
    "df1['거래량'] = df1['거래량'].astype('float64')"
   ]
  },
  {
   "cell_type": "code",
   "execution_count": 8,
   "metadata": {},
   "outputs": [],
   "source": [
    "df2['시가'] = df2['시가'].astype('float64')\n",
    "df2['고가'] = df2['고가'].astype('float64')\n",
    "df2['저가'] = df2['저가'].astype('float64')\n",
    "df2['종가'] = df2['종가'].astype('float64')\n",
    "df2['거래량'] = df2['거래량'].astype('float64')"
   ]
  },
  {
   "cell_type": "code",
   "execution_count": 9,
   "metadata": {},
   "outputs": [],
   "source": [
    "df1 = df1.values\n",
    "df2 = df2.values"
   ]
  },
  {
   "cell_type": "code",
   "execution_count": 10,
   "metadata": {},
   "outputs": [
    {
     "data": {
      "text/plain": [
       "numpy.ndarray"
      ]
     },
     "execution_count": 10,
     "metadata": {},
     "output_type": "execute_result"
    }
   ],
   "source": [
    "type(df1)"
   ]
  },
  {
   "cell_type": "code",
   "execution_count": 11,
   "metadata": {},
   "outputs": [
    {
     "data": {
      "text/plain": [
       "numpy.ndarray"
      ]
     },
     "execution_count": 11,
     "metadata": {},
     "output_type": "execute_result"
    }
   ],
   "source": [
    "type(df2)"
   ]
  },
  {
   "cell_type": "code",
   "execution_count": 12,
   "metadata": {},
   "outputs": [],
   "source": [
    "kospi200 = df1.copy()\n",
    "samsung = df2.copy()"
   ]
  },
  {
   "cell_type": "code",
   "execution_count": 13,
   "metadata": {},
   "outputs": [],
   "source": [
    "def split_xy5(dataset, time_steps, y_column):\n",
    "    x, y = list(), list()\n",
    "    for i in range(len(dataset)):\n",
    "        x_end_number = i + time_steps\n",
    "        y_end_number = x_end_number + y_column # 수정\n",
    "\n",
    "        if y_end_number > len(dataset):  # 수정\n",
    "            break\n",
    "        tmp_x = dataset[i:x_end_number, :]  # 수정\n",
    "        tmp_y = dataset[x_end_number:y_end_number, 3]    # 수정\n",
    "        x.append(tmp_x)\n",
    "        y.append(tmp_y)\n",
    "    return np.array(x), np.array(y)"
   ]
  },
  {
   "cell_type": "code",
   "execution_count": 14,
   "metadata": {},
   "outputs": [],
   "source": [
    "x1, y1= split_xy5(samsung, 5,1)\n",
    "x2, y2 = split_xy5(kospi200, 5,1)"
   ]
  },
  {
   "cell_type": "code",
   "execution_count": 15,
   "metadata": {},
   "outputs": [
    {
     "name": "stdout",
     "output_type": "stream",
     "text": [
      "[[   320.56    321.      316.75    316.75 173911.  ]\n",
      " [   317.79    319.53    314.95    315.87 141252.  ]\n",
      " [   315.93    316.08    312.6     314.42 123610.  ]\n",
      " [   316.51    317.34    315.11    317.31 120900.  ]\n",
      " [   318.03    319.7     317.86    318.51 112400.  ]] \n",
      " [317.72]\n",
      "(421, 5, 5)\n",
      "(421, 1)\n"
     ]
    }
   ],
   "source": [
    "print(x2[0,:], \"\\n\", y2[0])\n",
    "print(x2.shape)\n",
    "print(y2.shape)"
   ]
  },
  {
   "cell_type": "code",
   "execution_count": 26,
   "metadata": {},
   "outputs": [],
   "source": [
    "from sklearn.model_selection import train_test_split\n",
    "# from sklearn.model_selection import cross_val_score\n",
    "x1_train, x1_test, y1_train, y1_test = train_test_split(\n",
    "    x1, y1, random_state=1, test_size = 0.3)\n",
    "x2_train, x2_test, y2_train, y2_test = train_test_split(\n",
    "    x2, y2, random_state=2, test_size = 0.3)"
   ]
  },
  {
   "cell_type": "code",
   "execution_count": 27,
   "metadata": {},
   "outputs": [
    {
     "name": "stdout",
     "output_type": "stream",
     "text": [
      "(294, 5, 5)\n",
      "(127, 5, 5)\n",
      "(294, 1)\n",
      "(127, 1)\n"
     ]
    }
   ],
   "source": [
    "print(x2_train.shape)\n",
    "print(x2_test.shape)\n",
    "print(y2_train.shape)\n",
    "print(y2_test.shape)\n"
   ]
  },
  {
   "cell_type": "code",
   "execution_count": 28,
   "metadata": {},
   "outputs": [],
   "source": [
    "x1_train = np.reshape(x1_train,\n",
    "                      (x1_train.shape[0],\n",
    "                       x1_train.shape[1] * x1_train.shape[2]))\n",
    "x1_test = np.reshape(x1_test,\n",
    "                     (x1_test.shape[0],\n",
    "                      x1_test.shape[1] * x1_test.shape[2]))\n",
    "x2_train = np.reshape(x2_train,\n",
    "                      (x2_train.shape[0],\n",
    "                       x2_train.shape[1] * x2_train.shape[2]))\n",
    "x2_test = np.reshape(x2_test,\n",
    "                     (x2_test.shape[0], \n",
    "                      x2_test.shape[1] * x2_test.shape[2]))"
   ]
  },
  {
   "cell_type": "code",
   "execution_count": 29,
   "metadata": {},
   "outputs": [
    {
     "name": "stdout",
     "output_type": "stream",
     "text": [
      "[ 1.13392563  1.07633086  1.02393741  0.93187013 -0.028819    1.05994459\n",
      "  1.04756614  1.06686328  0.94933344  1.53138774  0.79093879  0.80213886\n",
      "  0.84540479  0.81507608  0.10811605  0.73712199  0.68893234  0.71073997\n",
      "  0.69657856  0.37360361  0.85647275  0.80021877  0.80910994  0.69442952\n",
      " -0.16973555]\n",
      "[ 0.58843327  0.533494    0.64328272  0.57661608 -0.49913908  0.60996636\n",
      "  0.54270686  0.36243605  0.29103458  0.25643568  0.37564145  0.30537859\n",
      "  0.39643403  0.3025121  -0.92269429  0.30427131  0.31328749  0.31314525\n",
      "  0.30057603 -1.24269186  0.29584292  0.2699222   0.37789775  0.34761784\n",
      " -0.73601691]\n"
     ]
    }
   ],
   "source": [
    "from sklearn.preprocessing import StandardScaler\n",
    "\n",
    "scaler1 = StandardScaler()\n",
    "scaler1.fit(x1_train)\n",
    "x1_train_scaled = scaler1.transform(x1_train)\n",
    "x1_test_scaled = scaler1.transform(x1_test)\n",
    "print(x1_train_scaled[0, :])\n",
    "\n",
    "scaler2 = StandardScaler()\n",
    "scaler2.fit(x2_train)\n",
    "x2_train_scaled = scaler2.transform(x2_train)\n",
    "x2_test_scaled = scaler2.transform(x2_test)\n",
    "print(x2_train_scaled[0, :])"
   ]
  },
  {
   "cell_type": "code",
   "execution_count": 30,
   "metadata": {},
   "outputs": [],
   "source": [
    "x1_train_scaled = np.reshape(x1_train_scaled,\n",
    "                             (x1_train_scaled.shape[0], 5, 5))\n",
    "x1_test_scaled = np.reshape(x1_test_scaled,\n",
    "                            (x1_test_scaled.shape[0], 5, 5))\n",
    "x2_train_scaled = np.reshape(x2_train_scaled,\n",
    "                             (x2_train_scaled.shape[0], 5, 5))\n",
    "x2_test_scaled = np.reshape(x2_test_scaled,\n",
    "                            (x2_test_scaled.shape[0], 5, 5))"
   ]
  },
  {
   "cell_type": "code",
   "execution_count": 31,
   "metadata": {},
   "outputs": [
    {
     "name": "stdout",
     "output_type": "stream",
     "text": [
      "(294, 5, 5)\n",
      "(127, 5, 5)\n"
     ]
    }
   ],
   "source": [
    "print(x2_train_scaled.shape)\n",
    "print(x2_test_scaled.shape)"
   ]
  },
  {
   "cell_type": "code",
   "execution_count": 32,
   "metadata": {},
   "outputs": [
    {
     "name": "stderr",
     "output_type": "stream",
     "text": [
      "Using TensorFlow backend.\n"
     ]
    }
   ],
   "source": [
    "from keras.models import Model\n",
    "from keras.layers import Dense, Input, LSTM"
   ]
  },
  {
   "cell_type": "code",
   "execution_count": 33,
   "metadata": {},
   "outputs": [],
   "source": [
    "input1 = Input(shape=(5, 5))\n",
    "dense1 = LSTM(64)(input1)\n",
    "dense1 = Dense(32)(dense1)\n",
    "dense1 = Dense(32)(dense1)\n",
    "output1 = Dense(32)(dense1)"
   ]
  },
  {
   "cell_type": "code",
   "execution_count": 34,
   "metadata": {},
   "outputs": [],
   "source": [
    "input2 = Input(shape=(5, 5))\n",
    "dense2 = LSTM(64)(input2)\n",
    "dense2 = Dense(64)(dense2)\n",
    "dense2 = Dense(64)(dense2)\n",
    "dense2 = Dense(64)(dense2)\n",
    "output2 = Dense(32)(dense2)"
   ]
  },
  {
   "cell_type": "code",
   "execution_count": 35,
   "metadata": {},
   "outputs": [],
   "source": [
    "from keras.layers.merge import concatenate\n",
    "merge = concatenate([output1, output2])\n",
    "output3 = Dense(1)(merge)"
   ]
  },
  {
   "cell_type": "code",
   "execution_count": 36,
   "metadata": {},
   "outputs": [],
   "source": [
    "model = Model(inputs=[input1, input2],\n",
    "              outputs = output3 )"
   ]
  },
  {
   "cell_type": "code",
   "execution_count": 37,
   "metadata": {},
   "outputs": [],
   "source": [
    "model.compile(loss='mse', optimizer='adam', metrics=['mse'])"
   ]
  },
  {
   "cell_type": "code",
   "execution_count": 38,
   "metadata": {},
   "outputs": [],
   "source": [
    "#from keras.callbacks import EarlyStopping\n",
    "from tensorflow.keras.callbacks import EarlyStopping"
   ]
  },
  {
   "cell_type": "code",
   "execution_count": 39,
   "metadata": {},
   "outputs": [],
   "source": [
    "early_stopping = EarlyStopping(patience=20)"
   ]
  },
  {
   "cell_type": "code",
   "execution_count": 40,
   "metadata": {},
   "outputs": [
    {
     "name": "stdout",
     "output_type": "stream",
     "text": [
      "Epoch 1/100\n",
      "235/235 [==============================] - 1s 5ms/step - loss: 820773824.0000 - mse: 820773824.0000 - val_loss: 17339086.0000 - val_mse: 17339086.0000\n",
      "Epoch 2/100\n",
      "235/235 [==============================] - 1s 2ms/step - loss: 14568732.0000 - mse: 14568732.0000 - val_loss: 6843275.5000 - val_mse: 6843275.5000\n",
      "Epoch 3/100\n",
      "235/235 [==============================] - 0s 2ms/step - loss: 4842849.5000 - mse: 4842849.5000 - val_loss: 2882576.7500 - val_mse: 2882576.7500\n",
      "Epoch 4/100\n",
      "235/235 [==============================] - 0s 2ms/step - loss: 2000555.6250 - mse: 2000555.6250 - val_loss: 1624862.5000 - val_mse: 1624862.5000\n",
      "Epoch 5/100\n",
      "235/235 [==============================] - 0s 2ms/step - loss: 1443870.1250 - mse: 1443870.1250 - val_loss: 1046656.1250 - val_mse: 1046656.1250\n",
      "Epoch 6/100\n",
      "235/235 [==============================] - 0s 2ms/step - loss: 1128950.0000 - mse: 1128950.0000 - val_loss: 3233824.5000 - val_mse: 3233824.5000\n",
      "Epoch 7/100\n",
      "235/235 [==============================] - 1s 2ms/step - loss: 1326473.3750 - mse: 1326473.3750 - val_loss: 830115.3750 - val_mse: 830115.3750\n",
      "Epoch 8/100\n",
      "235/235 [==============================] - 1s 3ms/step - loss: 1228069.6250 - mse: 1228069.6250 - val_loss: 740750.6875 - val_mse: 740750.6875\n",
      "Epoch 9/100\n",
      "235/235 [==============================] - 1s 2ms/step - loss: 1261543.0000 - mse: 1261543.0000 - val_loss: 822557.6250 - val_mse: 822557.6250\n",
      "Epoch 10/100\n",
      "235/235 [==============================] - 1s 3ms/step - loss: 969530.9375 - mse: 969530.9375 - val_loss: 3063267.5000 - val_mse: 3063267.5000\n",
      "Epoch 11/100\n",
      "235/235 [==============================] - 1s 2ms/step - loss: 988153.8125 - mse: 988153.8125 - val_loss: 900334.9375 - val_mse: 900334.9375\n",
      "Epoch 12/100\n",
      "235/235 [==============================] - 1s 3ms/step - loss: 937198.5000 - mse: 937198.5000 - val_loss: 1010886.7500 - val_mse: 1010886.7500\n",
      "Epoch 13/100\n",
      "235/235 [==============================] - 0s 2ms/step - loss: 1039399.5000 - mse: 1039399.5000 - val_loss: 1293802.2500 - val_mse: 1293802.2500\n",
      "Epoch 14/100\n",
      "235/235 [==============================] - 0s 2ms/step - loss: 994709.3125 - mse: 994709.3125 - val_loss: 726163.3125 - val_mse: 726163.3125\n",
      "Epoch 15/100\n",
      "235/235 [==============================] - 0s 2ms/step - loss: 836731.0000 - mse: 836731.0000 - val_loss: 726606.6250 - val_mse: 726606.6250\n",
      "Epoch 16/100\n",
      "235/235 [==============================] - 1s 2ms/step - loss: 810409.8125 - mse: 810409.8125 - val_loss: 667916.8750 - val_mse: 667916.8750\n",
      "Epoch 17/100\n",
      "235/235 [==============================] - 0s 2ms/step - loss: 931812.2500 - mse: 931812.2500 - val_loss: 582981.2500 - val_mse: 582981.2500\n",
      "Epoch 18/100\n",
      "235/235 [==============================] - 1s 3ms/step - loss: 850678.6250 - mse: 850678.6250 - val_loss: 694111.2500 - val_mse: 694111.2500\n",
      "Epoch 19/100\n",
      "235/235 [==============================] - 1s 2ms/step - loss: 988886.2500 - mse: 988886.2500 - val_loss: 1113787.6250 - val_mse: 1113787.6250\n",
      "Epoch 20/100\n",
      "235/235 [==============================] - 0s 2ms/step - loss: 1065057.0000 - mse: 1065057.0000 - val_loss: 1760350.2500 - val_mse: 1760350.2500\n",
      "Epoch 21/100\n",
      "235/235 [==============================] - 1s 2ms/step - loss: 848184.5625 - mse: 848184.5625 - val_loss: 1608492.5000 - val_mse: 1608492.5000\n",
      "Epoch 22/100\n",
      "235/235 [==============================] - 1s 2ms/step - loss: 981713.5625 - mse: 981713.5625 - val_loss: 1021160.0000 - val_mse: 1021160.0000\n",
      "Epoch 23/100\n",
      "235/235 [==============================] - 1s 3ms/step - loss: 1154235.7500 - mse: 1154235.7500 - val_loss: 2598047.2500 - val_mse: 2598047.2500\n",
      "Epoch 24/100\n",
      "235/235 [==============================] - 1s 2ms/step - loss: 944597.9375 - mse: 944597.9375 - val_loss: 898957.2500 - val_mse: 898957.2500\n",
      "Epoch 25/100\n",
      "235/235 [==============================] - 1s 2ms/step - loss: 946548.6250 - mse: 946548.6250 - val_loss: 853814.9375 - val_mse: 853814.9375\n",
      "Epoch 26/100\n",
      "235/235 [==============================] - 1s 2ms/step - loss: 1180209.8750 - mse: 1180209.8750 - val_loss: 3818471.0000 - val_mse: 3818471.0000\n",
      "Epoch 27/100\n",
      "235/235 [==============================] - 0s 2ms/step - loss: 872030.8125 - mse: 872030.8125 - val_loss: 2659589.7500 - val_mse: 2659589.7500\n",
      "Epoch 28/100\n",
      "235/235 [==============================] - 1s 2ms/step - loss: 1317422.3750 - mse: 1317422.3750 - val_loss: 659417.4375 - val_mse: 659417.4375\n",
      "Epoch 29/100\n",
      "235/235 [==============================] - 1s 3ms/step - loss: 872329.6875 - mse: 872329.6875 - val_loss: 1107475.1250 - val_mse: 1107475.1250\n",
      "Epoch 30/100\n",
      "235/235 [==============================] - 1s 2ms/step - loss: 805897.0625 - mse: 805897.0625 - val_loss: 1060080.3750 - val_mse: 1060080.3750\n",
      "Epoch 31/100\n",
      "235/235 [==============================] - 0s 2ms/step - loss: 1345412.5000 - mse: 1345412.5000 - val_loss: 1203593.1250 - val_mse: 1203593.1250\n",
      "Epoch 32/100\n",
      "235/235 [==============================] - 0s 2ms/step - loss: 1004018.5000 - mse: 1004018.5000 - val_loss: 767038.3750 - val_mse: 767038.3750\n",
      "Epoch 33/100\n",
      "235/235 [==============================] - 1s 3ms/step - loss: 941656.3750 - mse: 941656.3750 - val_loss: 1731509.8750 - val_mse: 1731509.8750\n",
      "Epoch 34/100\n",
      "235/235 [==============================] - 1s 3ms/step - loss: 1255756.3750 - mse: 1255756.3750 - val_loss: 2556131.5000 - val_mse: 2556131.5000\n",
      "Epoch 35/100\n",
      "235/235 [==============================] - 1s 2ms/step - loss: 876081.5000 - mse: 876081.5000 - val_loss: 781153.5625 - val_mse: 781153.5625\n",
      "Epoch 36/100\n",
      "235/235 [==============================] - 1s 2ms/step - loss: 865456.5625 - mse: 865456.5625 - val_loss: 613325.2500 - val_mse: 613325.2500\n",
      "Epoch 37/100\n",
      "235/235 [==============================] - 0s 2ms/step - loss: 893136.8750 - mse: 893136.8750 - val_loss: 835501.1250 - val_mse: 835501.1250\n"
     ]
    },
    {
     "data": {
      "text/plain": [
       "<tensorflow.python.keras.callbacks.History at 0x21bd567f208>"
      ]
     },
     "execution_count": 40,
     "metadata": {},
     "output_type": "execute_result"
    }
   ],
   "source": [
    "model.fit([x1_train_scaled, x2_train_scaled], y1_train, validation_split=0.2, \n",
    "          verbose=1, batch_size=1, epochs=100, \n",
    "          callbacks=[early_stopping])"
   ]
  },
  {
   "cell_type": "code",
   "execution_count": 41,
   "metadata": {},
   "outputs": [
    {
     "name": "stdout",
     "output_type": "stream",
     "text": [
      "127/127 [==============================] - 0s 1ms/step - loss: 1095661.5000 - mse: 1095661.5000\n",
      "loss :  1095661.5\n",
      "mse :  1095661.5\n"
     ]
    }
   ],
   "source": [
    "loss, mse = model.evaluate([x1_test_scaled, x2_test_scaled], y1_test, batch_size=1)\n",
    "print('loss : ', loss)\n",
    "print('mse : ', mse)\n"
   ]
  },
  {
   "cell_type": "code",
   "execution_count": 42,
   "metadata": {},
   "outputs": [],
   "source": [
    "y1_pred = model.predict([x1_test_scaled, x2_test_scaled])\n"
   ]
  },
  {
   "cell_type": "code",
   "execution_count": 43,
   "metadata": {},
   "outputs": [
    {
     "name": "stdout",
     "output_type": "stream",
     "text": [
      "종가 :  [52200.] / 예측가 :  [52633.91]\n",
      "종가 :  [41450.] / 예측가 :  [39830.188]\n",
      "종가 :  [49650.] / 예측가 :  [50361.89]\n",
      "종가 :  [44800.] / 예측가 :  [46520.36]\n",
      "종가 :  [49500.] / 예측가 :  [49619.957]\n"
     ]
    }
   ],
   "source": [
    "for i in range(5):\n",
    "    print('종가 : ', y1_test[i], '/ 예측가 : ', y1_pred[i])"
   ]
  },
  {
   "cell_type": "code",
   "execution_count": null,
   "metadata": {},
   "outputs": [],
   "source": []
  }
 ],
 "metadata": {
  "kernelspec": {
   "display_name": "Python 3",
   "language": "python",
   "name": "python3"
  },
  "language_info": {
   "codemirror_mode": {
    "name": "ipython",
    "version": 3
   },
   "file_extension": ".py",
   "mimetype": "text/x-python",
   "name": "python",
   "nbconvert_exporter": "python",
   "pygments_lexer": "ipython3",
   "version": "3.7.6"
  }
 },
 "nbformat": 4,
 "nbformat_minor": 4
}
