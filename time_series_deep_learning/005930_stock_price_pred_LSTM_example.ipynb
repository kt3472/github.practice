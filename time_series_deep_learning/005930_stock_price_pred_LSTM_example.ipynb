{
 "cells": [
  {
   "cell_type": "code",
   "execution_count": 1,
   "metadata": {},
   "outputs": [],
   "source": [
    "import numpy as np\n",
    "import pandas as pd"
   ]
  },
  {
   "cell_type": "code",
   "execution_count": 2,
   "metadata": {},
   "outputs": [],
   "source": [
    "df1 = pd.read_csv(\"D:/ml/deepwalk-master/kospi200/data/kospi200.csv\",\n",
    "                 index_col = 0,\n",
    "                 header=0,\n",
    "                 encoding='cp949', sep=',')"
   ]
  },
  {
   "cell_type": "code",
   "execution_count": 3,
   "metadata": {},
   "outputs": [
    {
     "data": {
      "text/html": [
       "<div>\n",
       "<style scoped>\n",
       "    .dataframe tbody tr th:only-of-type {\n",
       "        vertical-align: middle;\n",
       "    }\n",
       "\n",
       "    .dataframe tbody tr th {\n",
       "        vertical-align: top;\n",
       "    }\n",
       "\n",
       "    .dataframe thead th {\n",
       "        text-align: right;\n",
       "    }\n",
       "</style>\n",
       "<table border=\"1\" class=\"dataframe\">\n",
       "  <thead>\n",
       "    <tr style=\"text-align: right;\">\n",
       "      <th></th>\n",
       "      <th>시가</th>\n",
       "      <th>고가</th>\n",
       "      <th>저가</th>\n",
       "      <th>현재가</th>\n",
       "      <th>거래량</th>\n",
       "    </tr>\n",
       "    <tr>\n",
       "      <th>일자</th>\n",
       "      <th></th>\n",
       "      <th></th>\n",
       "      <th></th>\n",
       "      <th></th>\n",
       "      <th></th>\n",
       "    </tr>\n",
       "  </thead>\n",
       "  <tbody>\n",
       "    <tr>\n",
       "      <th>2020-01-31</th>\n",
       "      <td>290.24</td>\n",
       "      <td>291.47</td>\n",
       "      <td>284.53</td>\n",
       "      <td>284.53</td>\n",
       "      <td>101,455</td>\n",
       "    </tr>\n",
       "    <tr>\n",
       "      <th>2020-01-30</th>\n",
       "      <td>293.27</td>\n",
       "      <td>294.11</td>\n",
       "      <td>287.09</td>\n",
       "      <td>288.37</td>\n",
       "      <td>101,535</td>\n",
       "    </tr>\n",
       "    <tr>\n",
       "      <th>2020-01-29</th>\n",
       "      <td>294.38</td>\n",
       "      <td>295.67</td>\n",
       "      <td>292.45</td>\n",
       "      <td>293.98</td>\n",
       "      <td>85,731</td>\n",
       "    </tr>\n",
       "    <tr>\n",
       "      <th>2020-01-28</th>\n",
       "      <td>294.98</td>\n",
       "      <td>296.30</td>\n",
       "      <td>291.30</td>\n",
       "      <td>292.77</td>\n",
       "      <td>130,172</td>\n",
       "    </tr>\n",
       "    <tr>\n",
       "      <th>2020-01-23</th>\n",
       "      <td>303.77</td>\n",
       "      <td>304.72</td>\n",
       "      <td>301.71</td>\n",
       "      <td>302.33</td>\n",
       "      <td>86,908</td>\n",
       "    </tr>\n",
       "  </tbody>\n",
       "</table>\n",
       "</div>"
      ],
      "text/plain": [
       "                시가      고가      저가     현재가      거래량\n",
       "일자                                                 \n",
       "2020-01-31  290.24  291.47  284.53  284.53  101,455\n",
       "2020-01-30  293.27  294.11  287.09  288.37  101,535\n",
       "2020-01-29  294.38  295.67  292.45  293.98   85,731\n",
       "2020-01-28  294.98  296.30  291.30  292.77  130,172\n",
       "2020-01-23  303.77  304.72  301.71  302.33   86,908"
      ]
     },
     "execution_count": 3,
     "metadata": {},
     "output_type": "execute_result"
    }
   ],
   "source": [
    "df1.head()"
   ]
  },
  {
   "cell_type": "code",
   "execution_count": 4,
   "metadata": {},
   "outputs": [
    {
     "name": "stdout",
     "output_type": "stream",
     "text": [
      "(426, 5)\n"
     ]
    }
   ],
   "source": [
    "print(df1.shape)"
   ]
  },
  {
   "cell_type": "code",
   "execution_count": 5,
   "metadata": {},
   "outputs": [],
   "source": [
    "df2 = pd.read_csv(\"D:/ml/deepwalk-master/kospi200/data/samsung.csv\",\n",
    "                 index_col = 0,\n",
    "                 header=0,\n",
    "                 encoding='cp949', sep=',')"
   ]
  },
  {
   "cell_type": "code",
   "execution_count": 6,
   "metadata": {},
   "outputs": [
    {
     "data": {
      "text/html": [
       "<div>\n",
       "<style scoped>\n",
       "    .dataframe tbody tr th:only-of-type {\n",
       "        vertical-align: middle;\n",
       "    }\n",
       "\n",
       "    .dataframe tbody tr th {\n",
       "        vertical-align: top;\n",
       "    }\n",
       "\n",
       "    .dataframe thead th {\n",
       "        text-align: right;\n",
       "    }\n",
       "</style>\n",
       "<table border=\"1\" class=\"dataframe\">\n",
       "  <thead>\n",
       "    <tr style=\"text-align: right;\">\n",
       "      <th></th>\n",
       "      <th>시가</th>\n",
       "      <th>고가</th>\n",
       "      <th>저가</th>\n",
       "      <th>종가</th>\n",
       "      <th>거래량</th>\n",
       "    </tr>\n",
       "    <tr>\n",
       "      <th>일자</th>\n",
       "      <th></th>\n",
       "      <th></th>\n",
       "      <th></th>\n",
       "      <th></th>\n",
       "      <th></th>\n",
       "    </tr>\n",
       "  </thead>\n",
       "  <tbody>\n",
       "    <tr>\n",
       "      <th>2020-01-31</th>\n",
       "      <td>57,800</td>\n",
       "      <td>58,400</td>\n",
       "      <td>56,400</td>\n",
       "      <td>56,400</td>\n",
       "      <td>19,749,457</td>\n",
       "    </tr>\n",
       "    <tr>\n",
       "      <th>2020-01-30</th>\n",
       "      <td>58,800</td>\n",
       "      <td>58,800</td>\n",
       "      <td>56,800</td>\n",
       "      <td>57,200</td>\n",
       "      <td>20,821,939</td>\n",
       "    </tr>\n",
       "    <tr>\n",
       "      <th>2020-01-29</th>\n",
       "      <td>59,100</td>\n",
       "      <td>59,700</td>\n",
       "      <td>58,800</td>\n",
       "      <td>59,100</td>\n",
       "      <td>16,446,102</td>\n",
       "    </tr>\n",
       "    <tr>\n",
       "      <th>2020-01-28</th>\n",
       "      <td>59,400</td>\n",
       "      <td>59,400</td>\n",
       "      <td>58,300</td>\n",
       "      <td>58,800</td>\n",
       "      <td>23,664,541</td>\n",
       "    </tr>\n",
       "    <tr>\n",
       "      <th>2020-01-23</th>\n",
       "      <td>61,800</td>\n",
       "      <td>61,800</td>\n",
       "      <td>60,700</td>\n",
       "      <td>60,800</td>\n",
       "      <td>14,916,555</td>\n",
       "    </tr>\n",
       "  </tbody>\n",
       "</table>\n",
       "</div>"
      ],
      "text/plain": [
       "                시가      고가      저가      종가         거래량\n",
       "일자                                                    \n",
       "2020-01-31  57,800  58,400  56,400  56,400  19,749,457\n",
       "2020-01-30  58,800  58,800  56,800  57,200  20,821,939\n",
       "2020-01-29  59,100  59,700  58,800  59,100  16,446,102\n",
       "2020-01-28  59,400  59,400  58,300  58,800  23,664,541\n",
       "2020-01-23  61,800  61,800  60,700  60,800  14,916,555"
      ]
     },
     "execution_count": 6,
     "metadata": {},
     "output_type": "execute_result"
    }
   ],
   "source": [
    "df2.head()"
   ]
  },
  {
   "cell_type": "code",
   "execution_count": 7,
   "metadata": {},
   "outputs": [
    {
     "name": "stdout",
     "output_type": "stream",
     "text": [
      "(426, 5)\n"
     ]
    }
   ],
   "source": [
    "print(df2.shape)"
   ]
  },
  {
   "cell_type": "code",
   "execution_count": 8,
   "metadata": {},
   "outputs": [
    {
     "data": {
      "text/plain": [
       "시가     float64\n",
       "고가     float64\n",
       "저가     float64\n",
       "현재가    float64\n",
       "거래량     object\n",
       "dtype: object"
      ]
     },
     "execution_count": 8,
     "metadata": {},
     "output_type": "execute_result"
    }
   ],
   "source": [
    "df1.dtypes"
   ]
  },
  {
   "cell_type": "code",
   "execution_count": 9,
   "metadata": {},
   "outputs": [
    {
     "data": {
      "text/plain": [
       "시가     object\n",
       "고가     object\n",
       "저가     object\n",
       "종가     object\n",
       "거래량    object\n",
       "dtype: object"
      ]
     },
     "execution_count": 9,
     "metadata": {},
     "output_type": "execute_result"
    }
   ],
   "source": [
    "df2.dtypes"
   ]
  },
  {
   "cell_type": "code",
   "execution_count": 10,
   "metadata": {},
   "outputs": [],
   "source": [
    "for i in range(len(df1.index)):\n",
    "    \n",
    "    df1.iloc[i,4] = int(df1.iloc[i,4].replace(',',''))"
   ]
  },
  {
   "cell_type": "code",
   "execution_count": 11,
   "metadata": {},
   "outputs": [],
   "source": [
    "for i in range(len(df2.index)):\n",
    "    \n",
    "    for j in range(len(df2.iloc[i])):\n",
    "        \n",
    "        df2.iloc[i,j] = int(df2.iloc[i,j].replace(',',''))"
   ]
  },
  {
   "cell_type": "code",
   "execution_count": 12,
   "metadata": {},
   "outputs": [],
   "source": [
    "df1 = df1.sort_values(['일자'], ascending=True)\n",
    "df2 = df2.sort_values(['일자'], ascending=True)"
   ]
  },
  {
   "cell_type": "code",
   "execution_count": 13,
   "metadata": {},
   "outputs": [],
   "source": [
    "df1['거래량'] = df1['거래량'].astype('float64')"
   ]
  },
  {
   "cell_type": "code",
   "execution_count": 14,
   "metadata": {},
   "outputs": [],
   "source": [
    "df2['시가'] = df2['시가'].astype('float64')\n",
    "df2['고가'] = df2['고가'].astype('float64')\n",
    "df2['저가'] = df2['저가'].astype('float64')\n",
    "df2['종가'] = df2['종가'].astype('float64')\n",
    "df2['거래량'] = df2['거래량'].astype('float64')"
   ]
  },
  {
   "cell_type": "code",
   "execution_count": 15,
   "metadata": {},
   "outputs": [],
   "source": [
    "df1 = df1.values\n",
    "df2 = df2.values"
   ]
  },
  {
   "cell_type": "code",
   "execution_count": 16,
   "metadata": {},
   "outputs": [
    {
     "data": {
      "text/plain": [
       "numpy.ndarray"
      ]
     },
     "execution_count": 16,
     "metadata": {},
     "output_type": "execute_result"
    }
   ],
   "source": [
    "type(df1)"
   ]
  },
  {
   "cell_type": "code",
   "execution_count": 17,
   "metadata": {},
   "outputs": [
    {
     "data": {
      "text/plain": [
       "numpy.ndarray"
      ]
     },
     "execution_count": 17,
     "metadata": {},
     "output_type": "execute_result"
    }
   ],
   "source": [
    "type(df2)"
   ]
  },
  {
   "cell_type": "code",
   "execution_count": 18,
   "metadata": {},
   "outputs": [],
   "source": [
    "kospi200 = df1.copy()\n",
    "samsung = df2.copy()"
   ]
  },
  {
   "cell_type": "code",
   "execution_count": 20,
   "metadata": {},
   "outputs": [],
   "source": [
    "def split_xy5(dataset, time_steps, y_column):\n",
    "    x, y = list(), list()\n",
    "    for i in range(len(dataset)):\n",
    "        x_end_number = i + time_steps\n",
    "        y_end_number = x_end_number + y_column # 수정\n",
    "\n",
    "        if y_end_number > len(dataset):  # 수정\n",
    "            break\n",
    "        tmp_x = dataset[i:x_end_number, :]  # 수정\n",
    "        tmp_y = dataset[x_end_number:y_end_number, 3]    # 수정\n",
    "        x.append(tmp_x)\n",
    "        y.append(tmp_y)\n",
    "    return np.array(x), np.array(y)\n"
   ]
  },
  {
   "cell_type": "code",
   "execution_count": 21,
   "metadata": {},
   "outputs": [],
   "source": [
    "x, y = split_xy5(samsung, 5, 1) "
   ]
  },
  {
   "cell_type": "code",
   "execution_count": 22,
   "metadata": {},
   "outputs": [
    {
     "name": "stdout",
     "output_type": "stream",
     "text": [
      "[[   53000.    53900.    51800.    51900. 39565391.]\n",
      " [   52600.    53200.    51900.    52600. 23104720.]\n",
      " [   52600.    52800.    50900.    50900. 16128305.]\n",
      " [   51700.    51700.    50600.    51600. 13905263.]\n",
      " [   52000.    52200.    51200.    51300. 10314997.]] \n",
      " [50100.]\n",
      "(421, 5, 5)\n",
      "(421, 1)\n"
     ]
    }
   ],
   "source": [
    "print(x[0,:], \"\\n\", y[0])\n",
    "print(x.shape)\n",
    "print(y.shape)"
   ]
  },
  {
   "cell_type": "code",
   "execution_count": 23,
   "metadata": {},
   "outputs": [],
   "source": [
    "from sklearn.model_selection import train_test_split\n",
    "# from sklearn.model_selection import cross_val_score\n",
    "x_train, x_test, y_train, y_test = train_test_split(\n",
    "    x, y, random_state=1, test_size = 0.3)"
   ]
  },
  {
   "cell_type": "code",
   "execution_count": 24,
   "metadata": {},
   "outputs": [
    {
     "name": "stdout",
     "output_type": "stream",
     "text": [
      "(294, 5, 5)\n",
      "(127, 5, 5)\n",
      "(294, 1)\n",
      "(127, 1)\n"
     ]
    }
   ],
   "source": [
    "print(x_train.shape)\n",
    "print(x_test.shape)\n",
    "print(y_train.shape)\n",
    "print(y_test.shape)"
   ]
  },
  {
   "cell_type": "code",
   "execution_count": 25,
   "metadata": {},
   "outputs": [],
   "source": [
    "x_train = np.reshape(x_train,\n",
    "                     (x_train.shape[0], x_train.shape[1] * x_train.shape[2]))\n",
    "x_test = np.reshape(x_test,\n",
    "                    (x_test.shape[0], x_test.shape[1] * x_test.shape[2]))"
   ]
  },
  {
   "cell_type": "code",
   "execution_count": 26,
   "metadata": {},
   "outputs": [
    {
     "name": "stdout",
     "output_type": "stream",
     "text": [
      "(294, 25)\n",
      "(127, 25)\n"
     ]
    }
   ],
   "source": [
    "print(x_train.shape)\n",
    "print(x_test.shape)"
   ]
  },
  {
   "cell_type": "code",
   "execution_count": 27,
   "metadata": {},
   "outputs": [],
   "source": [
    "from sklearn.preprocessing import StandardScaler"
   ]
  },
  {
   "cell_type": "code",
   "execution_count": 28,
   "metadata": {},
   "outputs": [],
   "source": [
    "scaler = StandardScaler()\n",
    "scaler.fit(x_train)\n",
    "x_train_scaled = scaler.transform(x_train)\n",
    "x_test_scaled = scaler.transform(x_test)"
   ]
  },
  {
   "cell_type": "code",
   "execution_count": 29,
   "metadata": {},
   "outputs": [
    {
     "name": "stdout",
     "output_type": "stream",
     "text": [
      "[ 1.13392563  1.07633086  1.02393741  0.93187013 -0.028819    1.05994459\n",
      "  1.04756614  1.06686328  0.94933344  1.53138774  0.79093879  0.80213886\n",
      "  0.84540479  0.81507608  0.10811605  0.73712199  0.68893234  0.71073997\n",
      "  0.69657856  0.37360361  0.85647275  0.80021877  0.80910994  0.69442952\n",
      " -0.16973555]\n"
     ]
    }
   ],
   "source": [
    "print(x_train_scaled[0, :])"
   ]
  },
  {
   "cell_type": "code",
   "execution_count": 31,
   "metadata": {},
   "outputs": [],
   "source": [
    "x_train_scaled = np.reshape(x_train_scaled,\n",
    "                            (x_train_scaled.shape[0], 5, 5))\n",
    "x_test_scaled = np.reshape(x_test_scaled,\n",
    "                           (x_test_scaled.shape[0], 5, 5))"
   ]
  },
  {
   "cell_type": "code",
   "execution_count": 32,
   "metadata": {},
   "outputs": [
    {
     "name": "stdout",
     "output_type": "stream",
     "text": [
      "(294, 5, 5)\n",
      "(127, 5, 5)\n"
     ]
    }
   ],
   "source": [
    "print(x_train_scaled.shape)\n",
    "print(x_test_scaled.shape)"
   ]
  },
  {
   "cell_type": "code",
   "execution_count": 33,
   "metadata": {},
   "outputs": [
    {
     "name": "stderr",
     "output_type": "stream",
     "text": [
      "Using TensorFlow backend.\n"
     ]
    }
   ],
   "source": [
    "from keras.models import Sequential\n",
    "from keras.layers import Dense, LSTM\n"
   ]
  },
  {
   "cell_type": "code",
   "execution_count": 34,
   "metadata": {},
   "outputs": [],
   "source": [
    "model = Sequential()"
   ]
  },
  {
   "cell_type": "code",
   "execution_count": 35,
   "metadata": {},
   "outputs": [],
   "source": [
    "model.add(LSTM(64, input_shape=(5,5)))"
   ]
  },
  {
   "cell_type": "code",
   "execution_count": 36,
   "metadata": {},
   "outputs": [],
   "source": [
    "model.add(Dense(32, activation='relu'))\n",
    "model.add(Dense(32, activation='relu'))\n",
    "model.add(Dense(32, activation='relu'))\n",
    "model.add(Dense(32, activation='relu'))\n",
    "model.add(Dense(1))"
   ]
  },
  {
   "cell_type": "code",
   "execution_count": 37,
   "metadata": {},
   "outputs": [],
   "source": [
    "model.compile(loss='mse', optimizer='adam', metrics=['mse'])"
   ]
  },
  {
   "cell_type": "code",
   "execution_count": 38,
   "metadata": {},
   "outputs": [],
   "source": [
    "from tensorflow.keras.callbacks import EarlyStopping"
   ]
  },
  {
   "cell_type": "code",
   "execution_count": 39,
   "metadata": {},
   "outputs": [],
   "source": [
    "early_stopping = EarlyStopping(patience =20)"
   ]
  },
  {
   "cell_type": "code",
   "execution_count": 40,
   "metadata": {},
   "outputs": [
    {
     "name": "stdout",
     "output_type": "stream",
     "text": [
      "Epoch 1/100\n",
      "235/235 [==============================] - 1s 3ms/step - loss: 1624556032.0000 - mse: 1624556032.0000 - val_loss: 35238156.0000 - val_mse: 35238156.0000\n",
      "Epoch 2/100\n",
      "235/235 [==============================] - 0s 2ms/step - loss: 17221282.0000 - mse: 17221282.0000 - val_loss: 4831198.0000 - val_mse: 4831198.0000\n",
      "Epoch 3/100\n",
      "235/235 [==============================] - 0s 2ms/step - loss: 4219512.5000 - mse: 4219512.5000 - val_loss: 2938135.5000 - val_mse: 2938135.5000\n",
      "Epoch 4/100\n",
      "235/235 [==============================] - 0s 2ms/step - loss: 3020389.5000 - mse: 3020389.5000 - val_loss: 2533525.7500 - val_mse: 2533525.7500\n",
      "Epoch 5/100\n",
      "235/235 [==============================] - 0s 2ms/step - loss: 2690835.2500 - mse: 2690835.2500 - val_loss: 2178080.2500 - val_mse: 2178080.2500\n",
      "Epoch 6/100\n",
      "235/235 [==============================] - 0s 2ms/step - loss: 2417516.7500 - mse: 2417516.7500 - val_loss: 2002138.1250 - val_mse: 2002138.1250\n",
      "Epoch 7/100\n",
      "235/235 [==============================] - 0s 2ms/step - loss: 2323491.5000 - mse: 2323491.5000 - val_loss: 3173332.0000 - val_mse: 3173332.0000\n",
      "Epoch 8/100\n",
      "235/235 [==============================] - 1s 2ms/step - loss: 2077123.2500 - mse: 2077123.2500 - val_loss: 1850154.1250 - val_mse: 1850154.1250\n",
      "Epoch 9/100\n",
      "235/235 [==============================] - 1s 2ms/step - loss: 2015704.8750 - mse: 2015704.8750 - val_loss: 1866099.7500 - val_mse: 1866099.7500\n",
      "Epoch 10/100\n",
      "235/235 [==============================] - 0s 2ms/step - loss: 1929904.1250 - mse: 1929904.1250 - val_loss: 1788317.5000 - val_mse: 1788317.5000\n",
      "Epoch 11/100\n",
      "235/235 [==============================] - 0s 2ms/step - loss: 1687939.5000 - mse: 1687939.5000 - val_loss: 1654139.1250 - val_mse: 1654139.1250\n",
      "Epoch 12/100\n",
      "235/235 [==============================] - 0s 2ms/step - loss: 1730344.0000 - mse: 1730344.0000 - val_loss: 2289920.7500 - val_mse: 2289920.7500\n",
      "Epoch 13/100\n",
      "235/235 [==============================] - 0s 2ms/step - loss: 1516767.1250 - mse: 1516767.1250 - val_loss: 2051169.0000 - val_mse: 2051169.0000\n",
      "Epoch 14/100\n",
      "235/235 [==============================] - 0s 2ms/step - loss: 1592391.3750 - mse: 1592391.3750 - val_loss: 2075608.2500 - val_mse: 2075608.2500\n",
      "Epoch 15/100\n",
      "235/235 [==============================] - 0s 2ms/step - loss: 1503231.8750 - mse: 1503231.8750 - val_loss: 1613301.8750 - val_mse: 1613301.8750\n",
      "Epoch 16/100\n",
      "235/235 [==============================] - 0s 2ms/step - loss: 1471784.8750 - mse: 1471784.8750 - val_loss: 1383843.5000 - val_mse: 1383843.5000\n",
      "Epoch 17/100\n",
      "235/235 [==============================] - 0s 2ms/step - loss: 1323863.1250 - mse: 1323863.1250 - val_loss: 3349592.7500 - val_mse: 3349592.7500\n",
      "Epoch 18/100\n",
      "235/235 [==============================] - 0s 2ms/step - loss: 1264837.7500 - mse: 1264837.7500 - val_loss: 1108849.0000 - val_mse: 1108849.0000\n",
      "Epoch 19/100\n",
      "235/235 [==============================] - 0s 2ms/step - loss: 1403659.1250 - mse: 1403659.1250 - val_loss: 2039467.6250 - val_mse: 2039467.6250\n",
      "Epoch 20/100\n",
      "235/235 [==============================] - 0s 2ms/step - loss: 1493941.8750 - mse: 1493941.8750 - val_loss: 1218302.3750 - val_mse: 1218302.3750\n",
      "Epoch 21/100\n",
      "235/235 [==============================] - 1s 2ms/step - loss: 1260257.6250 - mse: 1260257.6250 - val_loss: 1497651.2500 - val_mse: 1497651.2500\n",
      "Epoch 22/100\n",
      "235/235 [==============================] - 1s 2ms/step - loss: 1119262.7500 - mse: 1119262.7500 - val_loss: 1674094.7500 - val_mse: 1674094.7500\n",
      "Epoch 23/100\n",
      "235/235 [==============================] - 0s 2ms/step - loss: 1204944.7500 - mse: 1204944.7500 - val_loss: 1359402.2500 - val_mse: 1359402.2500\n",
      "Epoch 24/100\n",
      "235/235 [==============================] - 0s 2ms/step - loss: 1100044.1250 - mse: 1100044.1250 - val_loss: 1257107.0000 - val_mse: 1257107.0000\n",
      "Epoch 25/100\n",
      "235/235 [==============================] - 0s 2ms/step - loss: 974983.4375 - mse: 974983.4375 - val_loss: 876112.2500 - val_mse: 876112.2500\n",
      "Epoch 26/100\n",
      "235/235 [==============================] - 0s 2ms/step - loss: 1150280.0000 - mse: 1150280.0000 - val_loss: 841741.9375 - val_mse: 841741.9375\n",
      "Epoch 27/100\n",
      "235/235 [==============================] - 0s 2ms/step - loss: 1090273.1250 - mse: 1090273.1250 - val_loss: 2332202.7500 - val_mse: 2332202.7500\n",
      "Epoch 28/100\n",
      "235/235 [==============================] - 0s 2ms/step - loss: 1092038.2500 - mse: 1092038.2500 - val_loss: 992044.8125 - val_mse: 992044.8125\n",
      "Epoch 29/100\n",
      "235/235 [==============================] - 0s 2ms/step - loss: 960125.1875 - mse: 960125.1875 - val_loss: 1479376.5000 - val_mse: 1479376.5000\n",
      "Epoch 30/100\n",
      "235/235 [==============================] - 0s 2ms/step - loss: 984515.3750 - mse: 984515.3750 - val_loss: 1709919.5000 - val_mse: 1709919.5000\n",
      "Epoch 31/100\n",
      "235/235 [==============================] - 0s 2ms/step - loss: 964723.7500 - mse: 964723.7500 - val_loss: 870415.3125 - val_mse: 870415.3125\n",
      "Epoch 32/100\n",
      "235/235 [==============================] - 0s 2ms/step - loss: 1174999.0000 - mse: 1174999.0000 - val_loss: 1002849.2500 - val_mse: 1002849.2500\n",
      "Epoch 33/100\n",
      "235/235 [==============================] - 1s 2ms/step - loss: 988284.1250 - mse: 988284.1250 - val_loss: 743960.1250 - val_mse: 743960.1250\n",
      "Epoch 34/100\n",
      "235/235 [==============================] - 1s 2ms/step - loss: 863477.4375 - mse: 863477.4375 - val_loss: 890196.8125 - val_mse: 890196.8125\n",
      "Epoch 35/100\n",
      "235/235 [==============================] - 0s 2ms/step - loss: 1013355.1250 - mse: 1013355.1250 - val_loss: 1133643.8750 - val_mse: 1133643.8750\n",
      "Epoch 36/100\n",
      "235/235 [==============================] - 0s 2ms/step - loss: 957797.1875 - mse: 957797.1875 - val_loss: 1727809.8750 - val_mse: 1727809.8750\n",
      "Epoch 37/100\n",
      "235/235 [==============================] - 0s 2ms/step - loss: 808517.5000 - mse: 808517.5000 - val_loss: 868545.3125 - val_mse: 868545.3125\n",
      "Epoch 38/100\n",
      "235/235 [==============================] - 0s 2ms/step - loss: 1125725.1250 - mse: 1125725.1250 - val_loss: 1758284.3750 - val_mse: 1758284.3750\n",
      "Epoch 39/100\n",
      "235/235 [==============================] - 0s 2ms/step - loss: 896353.6875 - mse: 896353.6875 - val_loss: 1291039.3750 - val_mse: 1291039.3750\n",
      "Epoch 40/100\n",
      "235/235 [==============================] - 0s 2ms/step - loss: 802568.2500 - mse: 802568.2500 - val_loss: 643629.6875 - val_mse: 643629.6875\n",
      "Epoch 41/100\n",
      "235/235 [==============================] - 0s 2ms/step - loss: 779857.0000 - mse: 779857.0000 - val_loss: 985537.8750 - val_mse: 985537.8750\n",
      "Epoch 42/100\n",
      "235/235 [==============================] - 0s 2ms/step - loss: 867887.3750 - mse: 867887.3750 - val_loss: 677570.6875 - val_mse: 677570.6875\n",
      "Epoch 43/100\n",
      "235/235 [==============================] - 0s 2ms/step - loss: 924274.4375 - mse: 924274.4375 - val_loss: 1420847.0000 - val_mse: 1420847.0000\n",
      "Epoch 44/100\n",
      "235/235 [==============================] - 0s 2ms/step - loss: 940131.1875 - mse: 940131.1875 - val_loss: 756421.9375 - val_mse: 756421.9375\n",
      "Epoch 45/100\n",
      "235/235 [==============================] - 1s 2ms/step - loss: 802890.9375 - mse: 802890.9375 - val_loss: 778600.3125 - val_mse: 778600.3125\n",
      "Epoch 46/100\n",
      "235/235 [==============================] - 0s 2ms/step - loss: 733021.9375 - mse: 733021.9375 - val_loss: 1563447.8750 - val_mse: 1563447.8750\n",
      "Epoch 47/100\n",
      "235/235 [==============================] - 1s 3ms/step - loss: 1124353.2500 - mse: 1124353.2500 - val_loss: 618131.0000 - val_mse: 618131.0000\n",
      "Epoch 48/100\n",
      "235/235 [==============================] - 0s 2ms/step - loss: 742941.8125 - mse: 742941.8125 - val_loss: 1057342.1250 - val_mse: 1057342.1250\n",
      "Epoch 49/100\n",
      "235/235 [==============================] - 0s 2ms/step - loss: 845647.9375 - mse: 845647.9375 - val_loss: 897205.1250 - val_mse: 897205.1250\n",
      "Epoch 50/100\n",
      "235/235 [==============================] - 0s 2ms/step - loss: 779634.0625 - mse: 779634.0625 - val_loss: 832938.2500 - val_mse: 832938.2500\n",
      "Epoch 51/100\n",
      "235/235 [==============================] - 0s 2ms/step - loss: 644016.4375 - mse: 644016.4375 - val_loss: 926955.5625 - val_mse: 926955.5625\n",
      "Epoch 52/100\n",
      "235/235 [==============================] - 0s 2ms/step - loss: 910057.8750 - mse: 910057.8750 - val_loss: 1568805.5000 - val_mse: 1568805.5000\n",
      "Epoch 53/100\n"
     ]
    },
    {
     "name": "stdout",
     "output_type": "stream",
     "text": [
      "235/235 [==============================] - 0s 2ms/step - loss: 803791.8750 - mse: 803791.8750 - val_loss: 652193.3750 - val_mse: 652193.3750\n",
      "Epoch 54/100\n",
      "235/235 [==============================] - 0s 2ms/step - loss: 673878.9375 - mse: 673878.9375 - val_loss: 818071.0000 - val_mse: 818071.0000\n",
      "Epoch 55/100\n",
      "235/235 [==============================] - 0s 2ms/step - loss: 712443.6875 - mse: 712443.6875 - val_loss: 699486.9375 - val_mse: 699486.9375\n",
      "Epoch 56/100\n",
      "235/235 [==============================] - 0s 2ms/step - loss: 686081.1875 - mse: 686081.1875 - val_loss: 720592.8750 - val_mse: 720592.8750\n",
      "Epoch 57/100\n",
      "235/235 [==============================] - 0s 2ms/step - loss: 799082.3750 - mse: 799082.3750 - val_loss: 849058.0625 - val_mse: 849058.0625\n",
      "Epoch 58/100\n",
      "235/235 [==============================] - 0s 2ms/step - loss: 785391.0625 - mse: 785391.0625 - val_loss: 1233627.1250 - val_mse: 1233627.1250\n",
      "Epoch 59/100\n",
      "235/235 [==============================] - 0s 2ms/step - loss: 699573.5000 - mse: 699573.5000 - val_loss: 665343.1250 - val_mse: 665343.1250\n",
      "Epoch 60/100\n",
      "235/235 [==============================] - 0s 2ms/step - loss: 614384.5625 - mse: 614384.5625 - val_loss: 738215.8125 - val_mse: 738215.8125\n",
      "Epoch 61/100\n",
      "235/235 [==============================] - 1s 2ms/step - loss: 709852.8750 - mse: 709852.8750 - val_loss: 756228.9375 - val_mse: 756228.9375\n",
      "Epoch 62/100\n",
      "235/235 [==============================] - 0s 2ms/step - loss: 620964.1250 - mse: 620964.1250 - val_loss: 839470.6250 - val_mse: 839470.6250\n",
      "Epoch 63/100\n",
      "235/235 [==============================] - 0s 2ms/step - loss: 669599.2500 - mse: 669599.2500 - val_loss: 620565.7500 - val_mse: 620565.7500\n",
      "Epoch 64/100\n",
      "235/235 [==============================] - 0s 2ms/step - loss: 838357.3750 - mse: 838357.3750 - val_loss: 1767544.1250 - val_mse: 1767544.1250\n",
      "Epoch 65/100\n",
      "235/235 [==============================] - 0s 2ms/step - loss: 726671.9375 - mse: 726671.9375 - val_loss: 854741.7500 - val_mse: 854741.7500\n",
      "Epoch 66/100\n",
      "235/235 [==============================] - 0s 2ms/step - loss: 730076.5000 - mse: 730076.5000 - val_loss: 935590.5625 - val_mse: 935590.5625\n",
      "Epoch 67/100\n",
      "235/235 [==============================] - 0s 2ms/step - loss: 600491.4375 - mse: 600491.4375 - val_loss: 1178731.2500 - val_mse: 1178731.2500\n"
     ]
    },
    {
     "data": {
      "text/plain": [
       "<tensorflow.python.keras.callbacks.History at 0x2839e619c48>"
      ]
     },
     "execution_count": 40,
     "metadata": {},
     "output_type": "execute_result"
    }
   ],
   "source": [
    "model.fit(x_train_scaled, y_train, validation_split=0.2, verbose=1,\n",
    "         batch_size = 1, epochs = 100, callbacks=[early_stopping])"
   ]
  },
  {
   "cell_type": "code",
   "execution_count": 41,
   "metadata": {},
   "outputs": [
    {
     "name": "stdout",
     "output_type": "stream",
     "text": [
      "127/127 [==============================] - 0s 915us/step - loss: 1472975.3750 - mse: 1472975.3750\n",
      "loss :  1472975.375\n",
      "mse :  1472975.375\n"
     ]
    }
   ],
   "source": [
    "loss, mse = model.evaluate(x_test_scaled, y_test, batch_size=1)\n",
    "print('loss : ', loss)\n",
    "print('mse : ', mse)"
   ]
  },
  {
   "cell_type": "code",
   "execution_count": 43,
   "metadata": {},
   "outputs": [],
   "source": [
    "y_pred = model.predict(x_test_scaled)"
   ]
  },
  {
   "cell_type": "code",
   "execution_count": 44,
   "metadata": {},
   "outputs": [
    {
     "name": "stdout",
     "output_type": "stream",
     "text": [
      "종가 :  [52200.] / 예측가 :  [52228.31]\n",
      "종가 :  [41450.] / 예측가 :  [39756.027]\n",
      "종가 :  [49650.] / 예측가 :  [49988.043]\n",
      "종가 :  [44800.] / 예측가 :  [45449.777]\n",
      "종가 :  [49500.] / 예측가 :  [48378.645]\n"
     ]
    }
   ],
   "source": [
    "for i in range(5):\n",
    "    print('종가 : ', y_test[i], '/ 예측가 : ', y_pred[i])"
   ]
  },
  {
   "cell_type": "code",
   "execution_count": null,
   "metadata": {},
   "outputs": [],
   "source": []
  }
 ],
 "metadata": {
  "kernelspec": {
   "display_name": "Python 3",
   "language": "python",
   "name": "python3"
  },
  "language_info": {
   "codemirror_mode": {
    "name": "ipython",
    "version": 3
   },
   "file_extension": ".py",
   "mimetype": "text/x-python",
   "name": "python",
   "nbconvert_exporter": "python",
   "pygments_lexer": "ipython3",
   "version": "3.7.6"
  }
 },
 "nbformat": 4,
 "nbformat_minor": 4
}
