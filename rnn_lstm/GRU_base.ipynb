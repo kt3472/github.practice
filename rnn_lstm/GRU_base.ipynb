{
 "cells": [
  {
   "cell_type": "markdown",
   "metadata": {},
   "source": [
    "## GRU"
   ]
  },
  {
   "cell_type": "code",
   "execution_count": 1,
   "metadata": {},
   "outputs": [
    {
     "name": "stdout",
     "output_type": "stream",
     "text": [
      "x_train.shape :  (3, 5, 1)\n",
      "y_train.shape :  (3,)\n"
     ]
    }
   ],
   "source": [
    "import numpy as np\n",
    "x_train = np.array([[1,2,3,4,5], [2,3,4,5,6], [3,4,5,6,7]])\n",
    "y_train = np.array([6,7,8])\n",
    "x_train = x_train.reshape(x_train.shape[0], x_train.shape[1], 1)\n",
    "print(\"x_train.shape : \", x_train.shape) #(3, 5, 1)\n",
    "print(\"y_train.shape : \", y_train.shape) #(3, )"
   ]
  },
  {
   "cell_type": "code",
   "execution_count": 2,
   "metadata": {},
   "outputs": [
    {
     "name": "stderr",
     "output_type": "stream",
     "text": [
      "Using TensorFlow backend.\n"
     ]
    },
    {
     "name": "stdout",
     "output_type": "stream",
     "text": [
      "WARNING:tensorflow:From C:\\Users\\kt347\\AppData\\Local\\Continuum\\anaconda3\\lib\\site-packages\\tensorflow\\python\\ops\\resource_variable_ops.py:435: colocate_with (from tensorflow.python.framework.ops) is deprecated and will be removed in a future version.\n",
      "Instructions for updating:\n",
      "Colocations handled automatically by placer.\n",
      "Model: \"sequential_1\"\n",
      "_________________________________________________________________\n",
      "Layer (type)                 Output Shape              Param #   \n",
      "=================================================================\n",
      "gru_1 (GRU)                  (None, 7)                 189       \n",
      "_________________________________________________________________\n",
      "dense_1 (Dense)              (None, 4)                 32        \n",
      "_________________________________________________________________\n",
      "dense_2 (Dense)              (None, 1)                 5         \n",
      "=================================================================\n",
      "Total params: 226\n",
      "Trainable params: 226\n",
      "Non-trainable params: 0\n",
      "_________________________________________________________________\n"
     ]
    }
   ],
   "source": [
    "from keras.models import Sequential\n",
    "from keras.layers import Dense, GRU\n",
    "model = Sequential()\n",
    "model.add(GRU(7, input_shape = (5, 1), activation ='relu'))\n",
    "model.add(Dense(4))\n",
    "model.add(Dense(1))\n",
    "model.summary()"
   ]
  },
  {
   "cell_type": "code",
   "execution_count": 3,
   "metadata": {
    "scrolled": false
   },
   "outputs": [
    {
     "name": "stdout",
     "output_type": "stream",
     "text": [
      "WARNING:tensorflow:From C:\\Users\\kt347\\AppData\\Local\\Continuum\\anaconda3\\lib\\site-packages\\tensorflow\\python\\ops\\math_ops.py:3066: to_int32 (from tensorflow.python.ops.math_ops) is deprecated and will be removed in a future version.\n",
      "Instructions for updating:\n",
      "Use tf.cast instead.\n",
      "Epoch 1/100\n",
      "3/3 [==============================] - 1s 256ms/step - loss: 31.0615 - mse: 31.0615\n",
      "Epoch 2/100\n",
      "3/3 [==============================] - 0s 3ms/step - loss: 30.5136 - mse: 30.5136\n",
      "Epoch 3/100\n",
      "3/3 [==============================] - 0s 3ms/step - loss: 29.8337 - mse: 29.8337\n",
      "Epoch 4/100\n",
      "3/3 [==============================] - 0s 5ms/step - loss: 29.1598 - mse: 29.1598\n",
      "Epoch 5/100\n",
      "3/3 [==============================] - 0s 4ms/step - loss: 28.4314 - mse: 28.4314\n",
      "Epoch 6/100\n",
      "3/3 [==============================] - 0s 4ms/step - loss: 27.7248 - mse: 27.7248\n",
      "Epoch 7/100\n",
      "3/3 [==============================] - 0s 3ms/step - loss: 27.0284 - mse: 27.0284\n",
      "Epoch 8/100\n",
      "3/3 [==============================] - 0s 3ms/step - loss: 26.3227 - mse: 26.3227\n",
      "Epoch 9/100\n",
      "3/3 [==============================] - 0s 3ms/step - loss: 25.6772 - mse: 25.6772\n",
      "Epoch 10/100\n",
      "3/3 [==============================] - 0s 4ms/step - loss: 24.9484 - mse: 24.9484\n",
      "Epoch 11/100\n",
      "3/3 [==============================] - 0s 3ms/step - loss: 24.1696 - mse: 24.1696\n",
      "Epoch 12/100\n",
      "3/3 [==============================] - 0s 3ms/step - loss: 23.4914 - mse: 23.4914\n",
      "Epoch 13/100\n",
      "3/3 [==============================] - 0s 4ms/step - loss: 22.7150 - mse: 22.7150\n",
      "Epoch 14/100\n",
      "3/3 [==============================] - 0s 5ms/step - loss: 22.0495 - mse: 22.0495\n",
      "Epoch 15/100\n",
      "3/3 [==============================] - 0s 4ms/step - loss: 21.2418 - mse: 21.2418\n",
      "Epoch 16/100\n",
      "3/3 [==============================] - 0s 3ms/step - loss: 20.5759 - mse: 20.5759\n",
      "Epoch 17/100\n",
      "3/3 [==============================] - 0s 3ms/step - loss: 19.7629 - mse: 19.7629\n",
      "Epoch 18/100\n",
      "3/3 [==============================] - 0s 4ms/step - loss: 19.0820 - mse: 19.0820\n",
      "Epoch 19/100\n",
      "3/3 [==============================] - 0s 4ms/step - loss: 18.3456 - mse: 18.3456\n",
      "Epoch 20/100\n",
      "3/3 [==============================] - 0s 4ms/step - loss: 17.6367 - mse: 17.6367\n",
      "Epoch 21/100\n",
      "3/3 [==============================] - 0s 4ms/step - loss: 16.8381 - mse: 16.8381\n",
      "Epoch 22/100\n",
      "3/3 [==============================] - 0s 3ms/step - loss: 16.1738 - mse: 16.1738\n",
      "Epoch 23/100\n",
      "3/3 [==============================] - 0s 3ms/step - loss: 15.4173 - mse: 15.4173\n",
      "Epoch 24/100\n",
      "3/3 [==============================] - 0s 4ms/step - loss: 14.7116 - mse: 14.7116\n",
      "Epoch 25/100\n",
      "3/3 [==============================] - 0s 4ms/step - loss: 14.0191 - mse: 14.0191\n",
      "Epoch 26/100\n",
      "3/3 [==============================] - 0s 3ms/step - loss: 13.3177 - mse: 13.3177\n",
      "Epoch 27/100\n",
      "3/3 [==============================] - 0s 4ms/step - loss: 12.6623 - mse: 12.6623\n",
      "Epoch 28/100\n",
      "3/3 [==============================] - 0s 4ms/step - loss: 12.0373 - mse: 12.0373\n",
      "Epoch 29/100\n",
      "3/3 [==============================] - 0s 3ms/step - loss: 11.3738 - mse: 11.3738\n",
      "Epoch 30/100\n",
      "3/3 [==============================] - 0s 3ms/step - loss: 10.6742 - mse: 10.6742\n",
      "Epoch 31/100\n",
      "3/3 [==============================] - 0s 3ms/step - loss: 10.1089 - mse: 10.1089\n",
      "Epoch 32/100\n",
      "3/3 [==============================] - 0s 4ms/step - loss: 9.4575 - mse: 9.4575\n",
      "Epoch 33/100\n",
      "3/3 [==============================] - 0s 5ms/step - loss: 8.8561 - mse: 8.8561\n",
      "Epoch 34/100\n",
      "3/3 [==============================] - 0s 4ms/step - loss: 8.3336 - mse: 8.3336\n",
      "Epoch 35/100\n",
      "3/3 [==============================] - 0s 5ms/step - loss: 7.7427 - mse: 7.7427\n",
      "Epoch 36/100\n",
      "3/3 [==============================] - 0s 4ms/step - loss: 7.2335 - mse: 7.2335\n",
      "Epoch 37/100\n",
      "3/3 [==============================] - 0s 3ms/step - loss: 6.6883 - mse: 6.6883\n",
      "Epoch 38/100\n",
      "3/3 [==============================] - 0s 2ms/step - loss: 6.2181 - mse: 6.2181\n",
      "Epoch 39/100\n",
      "3/3 [==============================] - 0s 4ms/step - loss: 5.7155 - mse: 5.7155\n",
      "Epoch 40/100\n",
      "3/3 [==============================] - 0s 3ms/step - loss: 5.2888 - mse: 5.2888\n",
      "Epoch 41/100\n",
      "3/3 [==============================] - 0s 3ms/step - loss: 4.8326 - mse: 4.8326\n",
      "Epoch 42/100\n",
      "3/3 [==============================] - 0s 4ms/step - loss: 4.4467 - mse: 4.4467\n",
      "Epoch 43/100\n",
      "3/3 [==============================] - 0s 3ms/step - loss: 4.0557 - mse: 4.0557\n",
      "Epoch 44/100\n",
      "3/3 [==============================] - 0s 3ms/step - loss: 3.6733 - mse: 3.6733\n",
      "Epoch 45/100\n",
      "3/3 [==============================] - 0s 4ms/step - loss: 3.3473 - mse: 3.3473\n",
      "Epoch 46/100\n",
      "3/3 [==============================] - 0s 4ms/step - loss: 3.0239 - mse: 3.0239\n",
      "Epoch 47/100\n",
      "3/3 [==============================] - 0s 3ms/step - loss: 2.7226 - mse: 2.7226\n",
      "Epoch 48/100\n",
      "3/3 [==============================] - 0s 3ms/step - loss: 2.4429 - mse: 2.4429\n",
      "Epoch 49/100\n",
      "3/3 [==============================] - 0s 4ms/step - loss: 2.1749 - mse: 2.1749\n",
      "Epoch 50/100\n",
      "3/3 [==============================] - 0s 4ms/step - loss: 1.9478 - mse: 1.9478\n",
      "Epoch 51/100\n",
      "3/3 [==============================] - 0s 3ms/step - loss: 1.7322 - mse: 1.7322\n",
      "Epoch 52/100\n",
      "3/3 [==============================] - 0s 3ms/step - loss: 1.5205 - mse: 1.5205\n",
      "Epoch 53/100\n",
      "3/3 [==============================] - 0s 3ms/step - loss: 1.3407 - mse: 1.3407\n",
      "Epoch 54/100\n",
      "3/3 [==============================] - 0s 4ms/step - loss: 1.1819 - mse: 1.1819\n",
      "Epoch 55/100\n",
      "3/3 [==============================] - 0s 4ms/step - loss: 1.0323 - mse: 1.0323\n",
      "Epoch 56/100\n",
      "3/3 [==============================] - 0s 3ms/step - loss: 0.8933 - mse: 0.8933\n",
      "Epoch 57/100\n",
      "3/3 [==============================] - 0s 3ms/step - loss: 0.7805 - mse: 0.7805\n",
      "Epoch 58/100\n",
      "3/3 [==============================] - 0s 4ms/step - loss: 0.6719 - mse: 0.6719\n",
      "Epoch 59/100\n",
      "3/3 [==============================] - 0s 4ms/step - loss: 0.5760 - mse: 0.5760\n",
      "Epoch 60/100\n",
      "3/3 [==============================] - 0s 5ms/step - loss: 0.4937 - mse: 0.4937\n",
      "Epoch 61/100\n",
      "3/3 [==============================] - 0s 3ms/step - loss: 0.4222 - mse: 0.4222\n",
      "Epoch 62/100\n",
      "3/3 [==============================] - 0s 3ms/step - loss: 0.3585 - mse: 0.3585\n",
      "Epoch 63/100\n",
      "3/3 [==============================] - 0s 3ms/step - loss: 0.3037 - mse: 0.3037\n",
      "Epoch 64/100\n",
      "3/3 [==============================] - 0s 4ms/step - loss: 0.2563 - mse: 0.2563\n",
      "Epoch 65/100\n",
      "3/3 [==============================] - 0s 4ms/step - loss: 0.2162 - mse: 0.2162\n",
      "Epoch 66/100\n",
      "3/3 [==============================] - 0s 3ms/step - loss: 0.1813 - mse: 0.1813\n",
      "Epoch 67/100\n",
      "3/3 [==============================] - 0s 3ms/step - loss: 0.1519 - mse: 0.1519\n",
      "Epoch 68/100\n",
      "3/3 [==============================] - 0s 4ms/step - loss: 0.1284 - mse: 0.1284\n",
      "Epoch 69/100\n",
      "3/3 [==============================] - 0s 4ms/step - loss: 0.1077 - mse: 0.1077\n",
      "Epoch 70/100\n",
      "3/3 [==============================] - 0s 4ms/step - loss: 0.0908 - mse: 0.0908\n",
      "Epoch 71/100\n",
      "3/3 [==============================] - 0s 3ms/step - loss: 0.0762 - mse: 0.0762\n",
      "Epoch 72/100\n",
      "3/3 [==============================] - 0s 3ms/step - loss: 0.0631 - mse: 0.0631\n",
      "Epoch 73/100\n",
      "3/3 [==============================] - 0s 4ms/step - loss: 0.0553 - mse: 0.0553\n",
      "Epoch 74/100\n",
      "3/3 [==============================] - 0s 3ms/step - loss: 0.0473 - mse: 0.0473\n",
      "Epoch 75/100\n",
      "3/3 [==============================] - 0s 4ms/step - loss: 0.0403 - mse: 0.0403\n",
      "Epoch 76/100\n",
      "3/3 [==============================] - 0s 3ms/step - loss: 0.0363 - mse: 0.0363\n",
      "Epoch 77/100\n",
      "3/3 [==============================] - 0s 3ms/step - loss: 0.0326 - mse: 0.0326\n",
      "Epoch 78/100\n",
      "3/3 [==============================] - 0s 4ms/step - loss: 0.0279 - mse: 0.0279    \n",
      "Epoch 79/100\n",
      "3/3 [==============================] - 0s 3ms/step - loss: 0.0259 - mse: 0.0259\n",
      "Epoch 80/100\n",
      "3/3 [==============================] - 0s 4ms/step - loss: 0.0237 - mse: 0.0237\n",
      "Epoch 81/100\n",
      "3/3 [==============================] - 0s 3ms/step - loss: 0.0232 - mse: 0.0232\n",
      "Epoch 82/100\n",
      "3/3 [==============================] - 0s 3ms/step - loss: 0.0218 - mse: 0.0218\n",
      "Epoch 83/100\n",
      "3/3 [==============================] - 0s 4ms/step - loss: 0.0209 - mse: 0.0209\n",
      "Epoch 84/100\n",
      "3/3 [==============================] - 0s 3ms/step - loss: 0.0202 - mse: 0.0202\n",
      "Epoch 85/100\n"
     ]
    },
    {
     "name": "stdout",
     "output_type": "stream",
     "text": [
      "3/3 [==============================] - 0s 3ms/step - loss: 0.0196 - mse: 0.0196\n",
      "Epoch 86/100\n",
      "3/3 [==============================] - 0s 4ms/step - loss: 0.0192 - mse: 0.0192\n",
      "Epoch 87/100\n",
      "3/3 [==============================] - 0s 4ms/step - loss: 0.0190 - mse: 0.0190\n",
      "Epoch 88/100\n",
      "3/3 [==============================] - 0s 3ms/step - loss: 0.0189 - mse: 0.0189\n",
      "Epoch 89/100\n",
      "3/3 [==============================] - 0s 3ms/step - loss: 0.0185 - mse: 0.0185    \n",
      "Epoch 90/100\n",
      "3/3 [==============================] - 0s 4ms/step - loss: 0.0182 - mse: 0.0182\n",
      "Epoch 91/100\n",
      "3/3 [==============================] - 0s 5ms/step - loss: 0.0183 - mse: 0.0183\n",
      "Epoch 92/100\n",
      "3/3 [==============================] - 0s 3ms/step - loss: 0.0182 - mse: 0.0182\n",
      "Epoch 93/100\n",
      "3/3 [==============================] - 0s 3ms/step - loss: 0.0181 - mse: 0.0181\n",
      "Epoch 94/100\n",
      "3/3 [==============================] - 0s 4ms/step - loss: 0.0182 - mse: 0.0182\n",
      "Epoch 95/100\n",
      "3/3 [==============================] - 0s 3ms/step - loss: 0.0181 - mse: 0.0181\n",
      "Epoch 96/100\n",
      "3/3 [==============================] - 0s 2ms/step - loss: 0.0181 - mse: 0.0181    \n",
      "Epoch 97/100\n",
      "3/3 [==============================] - 0s 4ms/step - loss: 0.0180 - mse: 0.0180\n",
      "Epoch 98/100\n",
      "3/3 [==============================] - 0s 4ms/step - loss: 0.0181 - mse: 0.0181    \n",
      "Epoch 99/100\n",
      "3/3 [==============================] - 0s 2ms/step - loss: 0.0180 - mse: 0.0180    \n",
      "Epoch 100/100\n",
      "3/3 [==============================] - 0s 3ms/step - loss: 0.0180 - mse: 0.0180\n"
     ]
    },
    {
     "data": {
      "text/plain": [
       "<keras.callbacks.callbacks.History at 0x1de6a1c8988>"
      ]
     },
     "execution_count": 3,
     "metadata": {},
     "output_type": "execute_result"
    }
   ],
   "source": [
    "model.compile(loss='mse', optimizer='adam', metrics=['mse'])\n",
    "model.fit(x_train, y_train, epochs=100, batch_size=1)"
   ]
  },
  {
   "cell_type": "code",
   "execution_count": 4,
   "metadata": {},
   "outputs": [
    {
     "name": "stdout",
     "output_type": "stream",
     "text": [
      "(1, 5)\n",
      "x_predict.shape :  (1, 5, 1)\n",
      "예측값 :  [[9.294606]]\n"
     ]
    }
   ],
   "source": [
    "x_predict = np.array([[4,5,6,7,8]])\n",
    "print(x_predict.shape) #(1, 5)\n",
    "x_predict = x_predict.reshape(x_predict.shape[0], x_predict.shape[1], 1)\n",
    "print(\"x_predict.shape : \", x_predict.shape) # (1, 5, 1)\n",
    "\n",
    "y_predict = model.predict(x_predict)\n",
    "print(\"예측값 : \", y_predict)\n"
   ]
  },
  {
   "cell_type": "code",
   "execution_count": null,
   "metadata": {},
   "outputs": [],
   "source": []
  }
 ],
 "metadata": {
  "kernelspec": {
   "display_name": "Python 3",
   "language": "python",
   "name": "python3"
  },
  "language_info": {
   "codemirror_mode": {
    "name": "ipython",
    "version": 3
   },
   "file_extension": ".py",
   "mimetype": "text/x-python",
   "name": "python",
   "nbconvert_exporter": "python",
   "pygments_lexer": "ipython3",
   "version": "3.7.4"
  }
 },
 "nbformat": 4,
 "nbformat_minor": 2
}
