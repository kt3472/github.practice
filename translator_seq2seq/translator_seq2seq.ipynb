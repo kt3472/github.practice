{
 "cells": [
  {
   "cell_type": "code",
   "execution_count": 1,
   "metadata": {},
   "outputs": [],
   "source": [
    "import numpy as np\n",
    "import re\n",
    "import shutil\n",
    "import tensorflow as tf\n",
    "from tensorflow.keras.preprocessing.text import Tokenizer\n",
    "from tensorflow.keras.preprocessing.sequence import pad_sequences\n",
    "import pandas as pd\n",
    "import os\n",
    "import unicodedata\n",
    "import urllib3\n",
    "import zipfile"
   ]
  },
  {
   "cell_type": "code",
   "execution_count": 11,
   "metadata": {},
   "outputs": [],
   "source": [
    "http = urllib3.PoolManager()\n",
    "url ='http://www.manythings.org/anki/fra-eng.zip'\n",
    "filename = 'fra-eng.zip'\n",
    "path = os.getcwd()\n",
    "zipfilename = os.path.join(path, filename)\n",
    "with http.request('GET', url, preload_content=False) as r, open(zipfilename, 'wb') as out_file:       \n",
    "    shutil.copyfileobj(r, out_file)\n",
    "\n",
    "with zipfile.ZipFile(zipfilename, 'r') as zip_ref:\n",
    "    zip_ref.extractall(path)"
   ]
  },
  {
   "cell_type": "code",
   "execution_count": 12,
   "metadata": {},
   "outputs": [],
   "source": [
    "num_samples = 33000"
   ]
  },
  {
   "cell_type": "code",
   "execution_count": 13,
   "metadata": {},
   "outputs": [],
   "source": [
    "def unicode_to_ascii(s):\n",
    "    return ''.join(c for c in unicodedata.normalize('NFD', s)\n",
    "        if unicodedata.category(c) != 'Mn')"
   ]
  },
  {
   "cell_type": "code",
   "execution_count": 14,
   "metadata": {},
   "outputs": [],
   "source": [
    "def preprocess_sentence(sent):\n",
    "    # 위에서 구현한 함수를 내부적으로 호출\n",
    "    sent = unicode_to_ascii(sent.lower())\n",
    "\n",
    "    # 단어와 구두점 사이에 공백을 만듭니다.\n",
    "    # Ex) \"he is a boy.\" => \"he is a boy .\"\n",
    "    sent = re.sub(r\"([?.!,¿])\", r\" \\1\", sent)\n",
    "\n",
    "    # (a-z, A-Z, \".\", \"?\", \"!\", \",\") 이들을 제외하고는 전부 공백으로 변환합니다.\n",
    "    sent = re.sub(r\"[^a-zA-Z!.?]+\", r\" \", sent)\n",
    "\n",
    "    sent = re.sub(r\"\\s+\", \" \", sent)\n",
    "    return sent"
   ]
  },
  {
   "cell_type": "code",
   "execution_count": 15,
   "metadata": {},
   "outputs": [
    {
     "name": "stdout",
     "output_type": "stream",
     "text": [
      "have you had dinner ?\n",
      "b'avez vous deja dine ?'\n"
     ]
    }
   ],
   "source": [
    "# 전처리 테스트\n",
    "en_sent = u\"Have you had dinner?\"\n",
    "fr_sent = u\"Avez-vous déjà diné?\"\n",
    "print(preprocess_sentence(en_sent))\n",
    "print(preprocess_sentence(fr_sent).encode('utf-8'))"
   ]
  },
  {
   "cell_type": "code",
   "execution_count": 19,
   "metadata": {},
   "outputs": [],
   "source": [
    "def load_preprocessed_data():\n",
    "    encoder_input, decoder_input, decoder_target = [], [], []\n",
    "\n",
    "    with open(\"fra.txt\", \"r\", encoding=\"UTF-8\") as lines:\n",
    "        for i, line in enumerate(lines):\n",
    "\n",
    "            # source 데이터와 target 데이터 분리\n",
    "            src_line, tar_line, _ = line.strip().split('\\t')\n",
    "\n",
    "            # source 데이터 전처리\n",
    "            src_line_input = [w for w in preprocess_sentence(src_line).split()]\n",
    "\n",
    "            # target 데이터 전처리\n",
    "            tar_line = preprocess_sentence(tar_line)\n",
    "            tar_line_input = [w for w in (\"<sos> \" + tar_line).split()]\n",
    "            tar_line_target = [w for w in (tar_line + \" <eos>\").split()]\n",
    "\n",
    "            encoder_input.append(src_line_input)\n",
    "            decoder_input.append(tar_line_input)\n",
    "            decoder_target.append(tar_line_target)\n",
    "\n",
    "            if i == num_samples - 1:\n",
    "                break\n",
    "\n",
    "    return encoder_input, decoder_input, decoder_target"
   ]
  },
  {
   "cell_type": "code",
   "execution_count": 20,
   "metadata": {},
   "outputs": [
    {
     "name": "stdout",
     "output_type": "stream",
     "text": [
      "[['go', '.'], ['hi', '.'], ['hi', '.'], ['run', '!'], ['run', '!']]\n",
      "[['<sos>', 'va', '!'], ['<sos>', 'salut', '!'], ['<sos>', 'salut', '.'], ['<sos>', 'cours', '!'], ['<sos>', 'courez', '!']]\n",
      "[['va', '!', '<eos>'], ['salut', '!', '<eos>'], ['salut', '.', '<eos>'], ['cours', '!', '<eos>'], ['courez', '!', '<eos>']]\n"
     ]
    }
   ],
   "source": [
    "sents_en_in, sents_fra_in, sents_fra_out = load_preprocessed_data()\n",
    "print(sents_en_in[:5])\n",
    "print(sents_fra_in[:5])\n",
    "print(sents_fra_out[:5])"
   ]
  },
  {
   "cell_type": "code",
   "execution_count": 21,
   "metadata": {},
   "outputs": [],
   "source": [
    "tokenizer_en = Tokenizer(filters=\"\", lower=False)\n",
    "tokenizer_en.fit_on_texts(sents_en_in)\n",
    "encoder_input = tokenizer_en.texts_to_sequences(sents_en_in)\n",
    "\n",
    "tokenizer_fra = Tokenizer(filters=\"\", lower=False)\n",
    "tokenizer_fra.fit_on_texts(sents_fra_in)\n",
    "tokenizer_fra.fit_on_texts(sents_fra_out)\n",
    "decoder_input = tokenizer_fra.texts_to_sequences(sents_fra_in)\n",
    "decoder_target = tokenizer_fra.texts_to_sequences(sents_fra_out)"
   ]
  },
  {
   "cell_type": "code",
   "execution_count": 22,
   "metadata": {},
   "outputs": [],
   "source": [
    "encoder_input = pad_sequences(encoder_input, padding=\"post\")\n",
    "decoder_input = pad_sequences(decoder_input, padding=\"post\")\n",
    "decoder_target = pad_sequences(decoder_target, padding=\"post\")"
   ]
  },
  {
   "cell_type": "code",
   "execution_count": 23,
   "metadata": {},
   "outputs": [
    {
     "name": "stdout",
     "output_type": "stream",
     "text": [
      "(33000, 8)\n",
      "(33000, 16)\n",
      "(33000, 16)\n"
     ]
    }
   ],
   "source": [
    "print(encoder_input.shape)\n",
    "print(decoder_input.shape)\n",
    "print(decoder_target.shape)"
   ]
  },
  {
   "cell_type": "code",
   "execution_count": 24,
   "metadata": {},
   "outputs": [
    {
     "name": "stdout",
     "output_type": "stream",
     "text": [
      "영어 단어 집합의 크기 : 4647, 프랑스어 단어 집합의 크기 : 8022\n"
     ]
    }
   ],
   "source": [
    "src_vocab_size = len(tokenizer_en.word_index) + 1\n",
    "tar_vocab_size = len(tokenizer_fra.word_index) + 1\n",
    "print(\"영어 단어 집합의 크기 : {:d}, 프랑스어 단어 집합의 크기 : {:d}\".format(src_vocab_size, tar_vocab_size))"
   ]
  },
  {
   "cell_type": "code",
   "execution_count": 25,
   "metadata": {},
   "outputs": [],
   "source": [
    "src_to_index = tokenizer_en.word_index\n",
    "index_to_src = tokenizer_en.index_word # 훈련 후 결과 비교할 때 사용\n",
    "\n",
    "tar_to_index = tokenizer_fra.word_index # 훈련 후 예측 과정에서 사용\n",
    "index_to_tar = tokenizer_fra.index_word # 훈련 후 결과 비교할 때 사용"
   ]
  },
  {
   "cell_type": "code",
   "execution_count": 26,
   "metadata": {},
   "outputs": [
    {
     "name": "stdout",
     "output_type": "stream",
     "text": [
      "[29222  9437 20773 ... 29626 10389 23720]\n"
     ]
    }
   ],
   "source": [
    "indices = np.arange(encoder_input.shape[0])\n",
    "np.random.shuffle(indices)\n",
    "print(indices)"
   ]
  },
  {
   "cell_type": "code",
   "execution_count": 27,
   "metadata": {},
   "outputs": [],
   "source": [
    "encoder_input = encoder_input[indices]\n",
    "decoder_input = decoder_input[indices]\n",
    "decoder_target = decoder_target[indices]"
   ]
  },
  {
   "cell_type": "code",
   "execution_count": 28,
   "metadata": {},
   "outputs": [
    {
     "data": {
      "text/plain": [
       "array([  5,   7, 135, 116,   1,   0,   0,   0])"
      ]
     },
     "execution_count": 28,
     "metadata": {},
     "output_type": "execute_result"
    }
   ],
   "source": [
    "encoder_input[30997]"
   ]
  },
  {
   "cell_type": "code",
   "execution_count": 29,
   "metadata": {},
   "outputs": [
    {
     "data": {
      "text/plain": [
       "array([  2,  10,   5,  65, 136,  12,   0,   0,   0,   0,   0,   0,   0,\n",
       "         0,   0,   0])"
      ]
     },
     "execution_count": 29,
     "metadata": {},
     "output_type": "execute_result"
    }
   ],
   "source": [
    "decoder_input[30997]"
   ]
  },
  {
   "cell_type": "code",
   "execution_count": 30,
   "metadata": {},
   "outputs": [
    {
     "data": {
      "text/plain": [
       "array([ 10,   5,  65, 136,  12,   3,   0,   0,   0,   0,   0,   0,   0,\n",
       "         0,   0,   0])"
      ]
     },
     "execution_count": 30,
     "metadata": {},
     "output_type": "execute_result"
    }
   ],
   "source": [
    "decoder_target[30997]"
   ]
  },
  {
   "cell_type": "code",
   "execution_count": 31,
   "metadata": {},
   "outputs": [
    {
     "name": "stdout",
     "output_type": "stream",
     "text": [
      "3300\n"
     ]
    }
   ],
   "source": [
    "n_of_val = int(33000*0.1)\n",
    "print(n_of_val)"
   ]
  },
  {
   "cell_type": "code",
   "execution_count": 32,
   "metadata": {},
   "outputs": [],
   "source": [
    "encoder_input_train = encoder_input[:-n_of_val]\n",
    "decoder_input_train = decoder_input[:-n_of_val]\n",
    "decoder_target_train = decoder_target[:-n_of_val]\n",
    "\n",
    "encoder_input_test = encoder_input[-n_of_val:]\n",
    "decoder_input_test = decoder_input[-n_of_val:]\n",
    "decoder_target_test = decoder_target[-n_of_val:]"
   ]
  },
  {
   "cell_type": "code",
   "execution_count": 33,
   "metadata": {},
   "outputs": [
    {
     "name": "stdout",
     "output_type": "stream",
     "text": [
      "(29700, 8)\n",
      "(29700, 16)\n",
      "(29700, 16)\n",
      "(3300, 8)\n",
      "(3300, 16)\n",
      "(3300, 16)\n"
     ]
    }
   ],
   "source": [
    "print(encoder_input_train.shape)\n",
    "print(decoder_input_train.shape)\n",
    "print(decoder_target_train.shape)\n",
    "print(encoder_input_test.shape)\n",
    "print(decoder_input_test.shape)\n",
    "print(decoder_target_test.shape)"
   ]
  },
  {
   "cell_type": "code",
   "execution_count": 34,
   "metadata": {},
   "outputs": [],
   "source": [
    "from tensorflow.keras.layers import Input, LSTM, Embedding, Dense, Masking\n",
    "from tensorflow.keras.models import Model"
   ]
  },
  {
   "cell_type": "code",
   "execution_count": 35,
   "metadata": {},
   "outputs": [],
   "source": [
    "latent_dim = 50"
   ]
  },
  {
   "cell_type": "code",
   "execution_count": 36,
   "metadata": {},
   "outputs": [],
   "source": [
    "encoder_inputs = Input(shape=(None,))\n",
    "enc_emb =  Embedding(src_vocab_size, latent_dim)(encoder_inputs) # 임베딩 층\n",
    "enc_masking = Masking(mask_value=0.0)(enc_emb) # 패딩 0은 연산에서 제외\n",
    "encoder_lstm = LSTM(latent_dim, return_state=True) # 상태값 리턴을 위해 return_state는 True\n",
    "encoder_outputs, state_h, state_c = encoder_lstm(enc_masking) # 은닉 상태와 셀 상태를 리턴\n",
    "encoder_states = [state_h, state_c] # 인코더의 은닉 상태와 셀 상태를 저장"
   ]
  },
  {
   "cell_type": "code",
   "execution_count": 37,
   "metadata": {},
   "outputs": [],
   "source": [
    "# 디코더\n",
    "decoder_inputs = Input(shape=(None,))\n",
    "dec_emb_layer = Embedding(tar_vocab_size, latent_dim) # 임베딩 층\n",
    "dec_emb = dec_emb_layer(decoder_inputs) # 패딩 0은 연산에서 제외\n",
    "dec_masking = Masking(mask_value=0.0)(dec_emb)\n",
    "\n",
    "# 상태값 리턴을 위해 return_state는 True, 모든 시점에 대해서 단어를 예측하기 위해 return_sequences는 True\n",
    "decoder_lstm = LSTM(latent_dim, return_sequences=True, return_state=True) \n",
    "\n",
    "# 인코더의 은닉 상태를 초기 은닉 상태(initial_state)로 사용\n",
    "decoder_outputs, _, _ = decoder_lstm(dec_masking,\n",
    "                                     initial_state=encoder_states)\n",
    "\n",
    "# 모든 시점의 결과에 대해서 소프트맥스 함수를 사용한 출력층을 통해 단어 예측\n",
    "decoder_dense = Dense(tar_vocab_size, activation='softmax')\n",
    "decoder_outputs = decoder_dense(decoder_outputs)"
   ]
  },
  {
   "cell_type": "code",
   "execution_count": 38,
   "metadata": {},
   "outputs": [],
   "source": [
    "model = Model([encoder_inputs, decoder_inputs], decoder_outputs)"
   ]
  },
  {
   "cell_type": "code",
   "execution_count": 39,
   "metadata": {},
   "outputs": [],
   "source": [
    "model.compile(optimizer='rmsprop', loss='sparse_categorical_crossentropy', metrics=['acc'])"
   ]
  },
  {
   "cell_type": "code",
   "execution_count": 40,
   "metadata": {},
   "outputs": [
    {
     "name": "stdout",
     "output_type": "stream",
     "text": [
      "Model: \"model\"\n",
      "__________________________________________________________________________________________________\n",
      "Layer (type)                    Output Shape         Param #     Connected to                     \n",
      "==================================================================================================\n",
      "input_1 (InputLayer)            [(None, None)]       0                                            \n",
      "__________________________________________________________________________________________________\n",
      "input_2 (InputLayer)            [(None, None)]       0                                            \n",
      "__________________________________________________________________________________________________\n",
      "embedding (Embedding)           (None, None, 50)     232350      input_1[0][0]                    \n",
      "__________________________________________________________________________________________________\n",
      "embedding_1 (Embedding)         (None, None, 50)     401100      input_2[0][0]                    \n",
      "__________________________________________________________________________________________________\n",
      "masking (Masking)               (None, None, 50)     0           embedding[0][0]                  \n",
      "__________________________________________________________________________________________________\n",
      "masking_1 (Masking)             (None, None, 50)     0           embedding_1[0][0]                \n",
      "__________________________________________________________________________________________________\n",
      "lstm (LSTM)                     [(None, 50), (None,  20200       masking[0][0]                    \n",
      "__________________________________________________________________________________________________\n",
      "lstm_1 (LSTM)                   [(None, None, 50), ( 20200       masking_1[0][0]                  \n",
      "                                                                 lstm[0][1]                       \n",
      "                                                                 lstm[0][2]                       \n",
      "__________________________________________________________________________________________________\n",
      "dense (Dense)                   (None, None, 8022)   409122      lstm_1[0][0]                     \n",
      "==================================================================================================\n",
      "Total params: 1,082,972\n",
      "Trainable params: 1,082,972\n",
      "Non-trainable params: 0\n",
      "__________________________________________________________________________________________________\n"
     ]
    }
   ],
   "source": [
    "model.summary()"
   ]
  },
  {
   "cell_type": "code",
   "execution_count": 41,
   "metadata": {},
   "outputs": [
    {
     "name": "stdout",
     "output_type": "stream",
     "text": [
      "Epoch 1/50\n",
      "233/233 [==============================] - 171s 735ms/step - loss: 3.1550 - acc: 0.6059 - val_loss: 1.9416 - val_acc: 0.6583\n",
      "Epoch 2/50\n",
      "233/233 [==============================] - 192s 825ms/step - loss: 1.7391 - acc: 0.7261 - val_loss: 1.6282 - val_acc: 0.7408\n",
      "Epoch 3/50\n",
      "233/233 [==============================] - 175s 752ms/step - loss: 1.5546 - acc: 0.7446 - val_loss: 1.5161 - val_acc: 0.7542\n",
      "Epoch 4/50\n",
      "233/233 [==============================] - 164s 705ms/step - loss: 1.4491 - acc: 0.7611 - val_loss: 1.4252 - val_acc: 0.7695\n",
      "Epoch 5/50\n",
      "233/233 [==============================] - 164s 704ms/step - loss: 1.3690 - acc: 0.7757 - val_loss: 1.3637 - val_acc: 0.7846\n",
      "Epoch 6/50\n",
      "233/233 [==============================] - 167s 717ms/step - loss: 1.3021 - acc: 0.7876 - val_loss: 1.3030 - val_acc: 0.7920\n",
      "Epoch 7/50\n",
      "233/233 [==============================] - 173s 743ms/step - loss: 1.2452 - acc: 0.7955 - val_loss: 1.2572 - val_acc: 0.7990\n",
      "Epoch 8/50\n",
      "233/233 [==============================] - 174s 745ms/step - loss: 1.1982 - acc: 0.8027 - val_loss: 1.2205 - val_acc: 0.8054\n",
      "Epoch 9/50\n",
      "233/233 [==============================] - 164s 704ms/step - loss: 1.1588 - acc: 0.8089 - val_loss: 1.1810 - val_acc: 0.8122\n",
      "Epoch 10/50\n",
      "233/233 [==============================] - 171s 736ms/step - loss: 1.1245 - acc: 0.8135 - val_loss: 1.1656 - val_acc: 0.8146\n",
      "Epoch 11/50\n",
      "233/233 [==============================] - 183s 786ms/step - loss: 1.0939 - acc: 0.8179 - val_loss: 1.1511 - val_acc: 0.8161\n",
      "Epoch 12/50\n",
      "233/233 [==============================] - 187s 804ms/step - loss: 1.0651 - acc: 0.8218 - val_loss: 1.1163 - val_acc: 0.8213\n",
      "Epoch 13/50\n",
      "233/233 [==============================] - 178s 764ms/step - loss: 1.0377 - acc: 0.8255 - val_loss: 1.1016 - val_acc: 0.8225\n",
      "Epoch 14/50\n",
      "233/233 [==============================] - 162s 697ms/step - loss: 1.0128 - acc: 0.8287 - val_loss: 1.0725 - val_acc: 0.8270\n",
      "Epoch 15/50\n",
      "233/233 [==============================] - 148s 637ms/step - loss: 0.9907 - acc: 0.8315 - val_loss: 1.0596 - val_acc: 0.8285\n",
      "Epoch 16/50\n",
      "233/233 [==============================] - 148s 637ms/step - loss: 0.9713 - acc: 0.8341 - val_loss: 1.0522 - val_acc: 0.8317\n",
      "Epoch 17/50\n",
      "233/233 [==============================] - 148s 637ms/step - loss: 0.9526 - acc: 0.8368 - val_loss: 1.0350 - val_acc: 0.8319\n",
      "Epoch 18/50\n",
      "233/233 [==============================] - 149s 638ms/step - loss: 0.9353 - acc: 0.8391 - val_loss: 1.0166 - val_acc: 0.8343\n",
      "Epoch 19/50\n",
      "233/233 [==============================] - 148s 635ms/step - loss: 0.9188 - acc: 0.8416 - val_loss: 1.0169 - val_acc: 0.8340\n",
      "Epoch 20/50\n",
      "233/233 [==============================] - 151s 648ms/step - loss: 0.9031 - acc: 0.8436 - val_loss: 1.0052 - val_acc: 0.8360\n",
      "Epoch 21/50\n",
      "233/233 [==============================] - 165s 707ms/step - loss: 0.8885 - acc: 0.8459 - val_loss: 1.0103 - val_acc: 0.8338\n",
      "Epoch 22/50\n",
      "233/233 [==============================] - 168s 720ms/step - loss: 0.8746 - acc: 0.8477 - val_loss: 0.9944 - val_acc: 0.8377\n",
      "Epoch 23/50\n",
      "233/233 [==============================] - 176s 755ms/step - loss: 0.8611 - acc: 0.8498 - val_loss: 0.9793 - val_acc: 0.8399\n",
      "Epoch 24/50\n",
      "233/233 [==============================] - 159s 683ms/step - loss: 0.8483 - acc: 0.8520 - val_loss: 0.9625 - val_acc: 0.8418\n",
      "Epoch 25/50\n",
      "233/233 [==============================] - 159s 684ms/step - loss: 0.8357 - acc: 0.8538 - val_loss: 0.9550 - val_acc: 0.8423\n",
      "Epoch 26/50\n",
      "233/233 [==============================] - 167s 716ms/step - loss: 0.8237 - acc: 0.8553 - val_loss: 0.9450 - val_acc: 0.8449\n",
      "Epoch 27/50\n",
      "233/233 [==============================] - 164s 704ms/step - loss: 0.8126 - acc: 0.8572 - val_loss: 0.9516 - val_acc: 0.8431\n",
      "Epoch 28/50\n",
      "233/233 [==============================] - 166s 714ms/step - loss: 0.8022 - acc: 0.8586 - val_loss: 0.9421 - val_acc: 0.8459\n",
      "Epoch 29/50\n",
      "233/233 [==============================] - 166s 712ms/step - loss: 0.7920 - acc: 0.8607 - val_loss: 0.9259 - val_acc: 0.8479\n",
      "Epoch 30/50\n",
      "233/233 [==============================] - 160s 686ms/step - loss: 0.7824 - acc: 0.8618 - val_loss: 0.9436 - val_acc: 0.8434\n",
      "Epoch 31/50\n",
      "233/233 [==============================] - 160s 685ms/step - loss: 0.7740 - acc: 0.8636 - val_loss: 0.9242 - val_acc: 0.8480\n",
      "Epoch 32/50\n",
      "233/233 [==============================] - 165s 709ms/step - loss: 0.7660 - acc: 0.8653 - val_loss: 0.9290 - val_acc: 0.8463\n",
      "Epoch 33/50\n",
      "233/233 [==============================] - 157s 675ms/step - loss: 0.7586 - acc: 0.8665 - val_loss: 0.9199 - val_acc: 0.8496\n",
      "Epoch 34/50\n",
      "233/233 [==============================] - 158s 679ms/step - loss: 0.7508 - acc: 0.8680 - val_loss: 0.9216 - val_acc: 0.8492\n",
      "Epoch 35/50\n",
      "233/233 [==============================] - 164s 703ms/step - loss: 0.7435 - acc: 0.8695 - val_loss: 0.9096 - val_acc: 0.8507\n",
      "Epoch 36/50\n",
      "233/233 [==============================] - 159s 682ms/step - loss: 0.7361 - acc: 0.8706 - val_loss: 0.9030 - val_acc: 0.8519\n",
      "Epoch 37/50\n",
      "233/233 [==============================] - 159s 682ms/step - loss: 0.7289 - acc: 0.8719 - val_loss: 0.9092 - val_acc: 0.8515\n",
      "Epoch 38/50\n",
      "233/233 [==============================] - 162s 696ms/step - loss: 0.7215 - acc: 0.8733 - val_loss: 0.9015 - val_acc: 0.8523\n",
      "Epoch 39/50\n",
      "233/233 [==============================] - 158s 676ms/step - loss: 0.7144 - acc: 0.8746 - val_loss: 0.9046 - val_acc: 0.8521\n",
      "Epoch 40/50\n",
      "233/233 [==============================] - 166s 713ms/step - loss: 0.7073 - acc: 0.8760 - val_loss: 0.8933 - val_acc: 0.8544\n",
      "Epoch 41/50\n",
      "233/233 [==============================] - 165s 706ms/step - loss: 0.7010 - acc: 0.8770 - val_loss: 0.8880 - val_acc: 0.8549\n",
      "Epoch 42/50\n",
      "233/233 [==============================] - 170s 730ms/step - loss: 0.6949 - acc: 0.8783 - val_loss: 0.8920 - val_acc: 0.8544\n",
      "Epoch 43/50\n",
      "233/233 [==============================] - 164s 703ms/step - loss: 0.6897 - acc: 0.8794 - val_loss: 0.8835 - val_acc: 0.8562\n",
      "Epoch 44/50\n",
      "233/233 [==============================] - 163s 701ms/step - loss: 0.6847 - acc: 0.8805 - val_loss: 0.8842 - val_acc: 0.8561\n",
      "Epoch 45/50\n",
      "233/233 [==============================] - 168s 722ms/step - loss: 0.6796 - acc: 0.8815 - val_loss: 0.9052 - val_acc: 0.8526\n",
      "Epoch 46/50\n",
      "233/233 [==============================] - 155s 665ms/step - loss: 0.6750 - acc: 0.8824 - val_loss: 0.8789 - val_acc: 0.8578\n",
      "Epoch 47/50\n",
      "233/233 [==============================] - 158s 677ms/step - loss: 0.6704 - acc: 0.8834 - val_loss: 0.8791 - val_acc: 0.8580\n",
      "Epoch 48/50\n",
      "233/233 [==============================] - 158s 679ms/step - loss: 0.6655 - acc: 0.8846 - val_loss: 0.8770 - val_acc: 0.8574\n",
      "Epoch 49/50\n",
      "233/233 [==============================] - 175s 751ms/step - loss: 0.6610 - acc: 0.8857 - val_loss: 0.8758 - val_acc: 0.8578\n",
      "Epoch 50/50\n",
      "233/233 [==============================] - 164s 704ms/step - loss: 0.6569 - acc: 0.8864 - val_loss: 0.8747 - val_acc: 0.8580\n"
     ]
    },
    {
     "data": {
      "text/plain": [
       "<tensorflow.python.keras.callbacks.History at 0x1d4f30e02c8>"
      ]
     },
     "execution_count": 41,
     "metadata": {},
     "output_type": "execute_result"
    }
   ],
   "source": [
    "model.fit(x = [encoder_input_train, decoder_input_train], y = decoder_target_train, \\\n",
    "          validation_data = ([encoder_input_test, decoder_input_test], decoder_target_test),\n",
    "          batch_size = 128, epochs = 50)"
   ]
  },
  {
   "cell_type": "code",
   "execution_count": 48,
   "metadata": {},
   "outputs": [],
   "source": [
    "# 인코더\n",
    "encoder_model = Model(encoder_inputs, encoder_states)"
   ]
  },
  {
   "cell_type": "code",
   "execution_count": 49,
   "metadata": {},
   "outputs": [],
   "source": [
    "# 디코더\n",
    "# 이전 시점의 상태를 보관할 텐서\n",
    "decoder_state_input_h = Input(shape=(latent_dim,))\n",
    "decoder_state_input_c = Input(shape=(latent_dim,))\n",
    "decoder_states_inputs = [decoder_state_input_h, decoder_state_input_c]\n",
    "\n",
    "# 훈련 때 사용했던 임베딩 층을 재사용\n",
    "dec_emb2= dec_emb_layer(decoder_inputs)\n",
    "\n",
    "# 다음 단어 예측을 위해 이전 시점의 상태를 현 시점의 초기 상태로 사용\n",
    "decoder_outputs2, state_h2, state_c2 = decoder_lstm(dec_emb2, initial_state=decoder_states_inputs)\n",
    "decoder_states2 = [state_h2, state_c2]\n",
    "\n",
    "# 모든 시점에 대해서 단어 예측\n",
    "decoder_outputs2 = decoder_dense(decoder_outputs2)"
   ]
  },
  {
   "cell_type": "code",
   "execution_count": 50,
   "metadata": {},
   "outputs": [],
   "source": [
    "decoder_model = Model(\n",
    "    [decoder_inputs] + decoder_states_inputs,\n",
    "    [decoder_outputs2] + decoder_states2)"
   ]
  },
  {
   "cell_type": "code",
   "execution_count": 51,
   "metadata": {},
   "outputs": [],
   "source": [
    "def decode_sequence(input_seq):\n",
    "    # 입력으로부터 인코더의 상태를 얻음\n",
    "    states_value = encoder_model.predict(input_seq)\n",
    "\n",
    "    # <SOS>에 해당하는 정수 생성\n",
    "    target_seq = np.zeros((1,1))\n",
    "    target_seq[0, 0] = tar_to_index['<sos>']\n",
    "\n",
    "    stop_condition = False\n",
    "    decoded_sentence = ''\n",
    "\n",
    "    # stop_condition이 True가 될 때까지 루프 반복\n",
    "    # 구현의 간소화를 위해서 이 함수는 배치 크기를 1로 가정합니다.\n",
    "    while not stop_condition:\n",
    "        # 이점 시점의 상태 states_value를 현 시점의 초기 상태로 사용\n",
    "        output_tokens, h, c = decoder_model.predict([target_seq] + states_value)\n",
    "\n",
    "        # 예측 결과를 단어로 변환\n",
    "        sampled_token_index = np.argmax(output_tokens[0, -1, :])\n",
    "        sampled_char = index_to_tar[sampled_token_index]\n",
    "\n",
    "         # 현재 시점의 예측 단어를 예측 문장에 추가\n",
    "        decoded_sentence += ' '+sampled_char\n",
    "\n",
    "        # <eos>에 도달하거나 정해진 길이를 넘으면 중단.\n",
    "        if (sampled_char == '<eos>' or\n",
    "           len(decoded_sentence) > 50):\n",
    "            stop_condition = True\n",
    "\n",
    "        # 현재 시점의 예측 결과를 다음 시점의 입력으로 사용하기 위해 저장\n",
    "        target_seq = np.zeros((1,1))\n",
    "        target_seq[0, 0] = sampled_token_index\n",
    "\n",
    "        # 현재 시점의 상태를 다음 시점의 상태로 사용하기 위해 저장\n",
    "        states_value = [h, c]\n",
    "\n",
    "    return decoded_sentence"
   ]
  },
  {
   "cell_type": "code",
   "execution_count": 52,
   "metadata": {},
   "outputs": [],
   "source": [
    "# 원문의 정수 시퀀스를 텍스트 시퀀스로 변환\n",
    "def seq2src(input_seq):\n",
    "    temp=''\n",
    "    for i in input_seq:\n",
    "        if(i!=0):\n",
    "            temp = temp + index_to_src[i]+' '\n",
    "    return temp\n",
    "\n",
    "# 번역문의 정수 시퀀스를 텍스트 시퀀스로 변환\n",
    "def seq2tar(input_seq):\n",
    "    temp=''\n",
    "    for i in input_seq:\n",
    "        if((i!=0 and i!=tar_to_index['<sos>']) and i!=tar_to_index['<eos>']):\n",
    "            temp = temp + index_to_tar[i] + ' '\n",
    "    return temp"
   ]
  },
  {
   "cell_type": "code",
   "execution_count": 53,
   "metadata": {},
   "outputs": [
    {
     "name": "stdout",
     "output_type": "stream",
     "text": [
      "원문 :  he cheated on me . \n",
      "번역문 : il me trompa . \n",
      "예측문 :  il me a fait . \n",
      "\n",
      "\n",
      "원문 :  you re clever . \n",
      "번역문 : vous etes malins . \n",
      "예측문 :  vous etes fort . \n",
      "\n",
      "\n",
      "원문 :  how did i get here ? \n",
      "번역문 : comment suis je parvenu ici ? \n",
      "예측문 :  comment je suis de ma biere ? \n",
      "\n",
      "\n",
      "원문 :  we need somebody . \n",
      "번역문 : nous avons besoin de quelqu un . \n",
      "예측문 :  il nous faut du avons . \n",
      "\n",
      "\n",
      "원문 :  you re very brave . \n",
      "번역문 : tu es tres brave . \n",
      "예측문 :  vous etes tres s colere . \n",
      "\n",
      "\n"
     ]
    }
   ],
   "source": [
    "for seq_index in [3,50,100,300,1001]:\n",
    "    input_seq = encoder_input_train[seq_index: seq_index + 1]\n",
    "    decoded_sentence = decode_sequence(input_seq)\n",
    "    print(\"원문 : \",seq2src(encoder_input_train[seq_index]))\n",
    "    print(\"번역문 :\",seq2tar(decoder_input_train[seq_index]))\n",
    "    print(\"예측문 :\",decoded_sentence[:-5])\n",
    "    print(\"\\n\")"
   ]
  },
  {
   "cell_type": "code",
   "execution_count": 54,
   "metadata": {},
   "outputs": [
    {
     "name": "stdout",
     "output_type": "stream",
     "text": [
      "원문 :  i ll be at tom s . \n",
      "번역문 : je serai chez tom . \n",
      "예측문 :  je suis votre chambre . \n",
      "\n",
      "\n",
      "원문 :  i was intrigued . \n",
      "번역문 : j etais intriguee . \n",
      "예측문 :  j etais en train de dormir . \n",
      "\n",
      "\n",
      "원문 :  that isn t enough . \n",
      "번역문 : ce n est pas assez . \n",
      "예측문 :  ce n est pas assez . \n",
      "\n",
      "\n",
      "원문 :  tom is in position . \n",
      "번역문 : tom est en position . \n",
      "예측문 :  tom est en train de travailler . \n",
      "\n",
      "\n",
      "원문 :  you had better go . \n",
      "번역문 : tu ferais mieux de partir . \n",
      "예측문 :  vous pouvez mieux . \n",
      "\n",
      "\n"
     ]
    }
   ],
   "source": [
    "for seq_index in [3,50,100,300,1001]:\n",
    "    input_seq = encoder_input_test[seq_index: seq_index + 1]\n",
    "    decoded_sentence = decode_sequence(input_seq)\n",
    "    print(\"원문 : \",seq2src(encoder_input_test[seq_index]))\n",
    "    print(\"번역문 :\",seq2tar(decoder_input_test[seq_index]))\n",
    "    print(\"예측문 :\",decoded_sentence[:-5])\n",
    "    print(\"\\n\")"
   ]
  },
  {
   "cell_type": "code",
   "execution_count": null,
   "metadata": {},
   "outputs": [],
   "source": []
  },
  {
   "cell_type": "code",
   "execution_count": null,
   "metadata": {},
   "outputs": [],
   "source": []
  }
 ],
 "metadata": {
  "kernelspec": {
   "display_name": "Python 3",
   "language": "python",
   "name": "python3"
  },
  "language_info": {
   "codemirror_mode": {
    "name": "ipython",
    "version": 3
   },
   "file_extension": ".py",
   "mimetype": "text/x-python",
   "name": "python",
   "nbconvert_exporter": "python",
   "pygments_lexer": "ipython3",
   "version": "3.7.6"
  }
 },
 "nbformat": 4,
 "nbformat_minor": 4
}
