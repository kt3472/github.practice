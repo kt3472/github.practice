{
 "cells": [
  {
   "cell_type": "code",
   "execution_count": 1,
   "metadata": {},
   "outputs": [
    {
     "name": "stderr",
     "output_type": "stream",
     "text": [
      "\n",
      "Bad key \"text.kerning_factor\" on line 4 in\n",
      "C:\\anaconda3\\lib\\site-packages\\matplotlib\\mpl-data\\stylelib\\_classic_test_patch.mplstyle.\n",
      "You probably need to get an updated matplotlibrc file from\n",
      "https://github.com/matplotlib/matplotlib/blob/v3.1.3/matplotlibrc.template\n",
      "or from the matplotlib source distribution\n",
      "Using TensorFlow backend.\n"
     ]
    }
   ],
   "source": [
    "import pickle\n",
    "import numpy as np\n",
    "import matplotlib.pyplot as plt\n",
    "from keras.models import Model\n",
    "from keras.layers import Input, Dense"
   ]
  },
  {
   "cell_type": "code",
   "execution_count": 20,
   "metadata": {},
   "outputs": [],
   "source": [
    "with open('data_batch_1', 'rb') as f:\n",
    "    dat = pickle.load(f, encoding='bytes')"
   ]
  },
  {
   "cell_type": "code",
   "execution_count": 21,
   "metadata": {},
   "outputs": [],
   "source": [
    "images = np.zeros((10000, 32, 32, 3), dtype='uint8')\n",
    "\n",
    "for idx, img in enumerate(dat[b'data']):\n",
    "    images[idx, :, :, 0] = img[:1024].reshape((32, 32)) # Red\n",
    "    images[idx, :, :, 1] = img[1024:2048].reshape((32, 32)) # Green\n",
    "    images[idx, :, :, 2] = img[2048:].reshape((32, 32)) # Blue"
   ]
  },
  {
   "cell_type": "code",
   "execution_count": 22,
   "metadata": {},
   "outputs": [
    {
     "data": {
      "text/plain": [
       "array([[0.24052288, 0.1751634 , 0.18431373, ..., 0.70588235, 0.46143791,\n",
       "        0.3751634 ],\n",
       "       [0.67712418, 0.52156863, 0.39738562, ..., 0.54248366, 0.54771242,\n",
       "        0.54901961],\n",
       "       [1.        , 0.99215686, 0.99215686, ..., 0.32156863, 0.32287582,\n",
       "        0.32679739],\n",
       "       ...,\n",
       "       [0.25098039, 0.21437908, 0.27843137, ..., 0.28888889, 0.29673203,\n",
       "        0.29934641],\n",
       "       [0.99346405, 0.99477124, 0.85620915, ..., 0.8379085 , 1.        ,\n",
       "        0.99738562],\n",
       "       [0.1620915 , 0.16078431, 0.15816993, ..., 0.64705882, 0.64705882,\n",
       "        0.64836601]])"
      ]
     },
     "execution_count": 22,
     "metadata": {},
     "output_type": "execute_result"
    }
   ],
   "source": [
    "images = images.mean(axis=-1)\n",
    "images = images / 255.0\n",
    "images = images.reshape((-1, 32 ** 2))\n",
    "images"
   ]
  },
  {
   "cell_type": "code",
   "execution_count": 23,
   "metadata": {},
   "outputs": [],
   "source": [
    "input_layer = Input(shape=(1024,))"
   ]
  },
  {
   "cell_type": "code",
   "execution_count": 24,
   "metadata": {},
   "outputs": [],
   "source": [
    "hidden_encoding = Dense(512, activation='relu')(input_layer)"
   ]
  },
  {
   "cell_type": "code",
   "execution_count": 25,
   "metadata": {},
   "outputs": [],
   "source": [
    "encoding_stage = Dense(256, activation='relu')(hidden_encoding)"
   ]
  },
  {
   "cell_type": "code",
   "execution_count": 26,
   "metadata": {},
   "outputs": [],
   "source": [
    "hidden_decoding = Dense(512, activation='relu')(encoding_stage)"
   ]
  },
  {
   "cell_type": "code",
   "execution_count": 27,
   "metadata": {},
   "outputs": [],
   "source": [
    "decoding_stage = Dense(1024, activation='sigmoid')(hidden_decoding)"
   ]
  },
  {
   "cell_type": "code",
   "execution_count": 28,
   "metadata": {},
   "outputs": [],
   "source": [
    "autoencoder = Model(input_layer, decoding_stage)"
   ]
  },
  {
   "cell_type": "code",
   "execution_count": 29,
   "metadata": {},
   "outputs": [],
   "source": [
    "autoencoder.compile(loss='binary_crossentropy',\n",
    "              optimizer='adadelta')"
   ]
  },
  {
   "cell_type": "code",
   "execution_count": 31,
   "metadata": {
    "scrolled": true
   },
   "outputs": [
    {
     "name": "stdout",
     "output_type": "stream",
     "text": [
      "Epoch 1/50\n",
      "313/313 [==============================] - 5s 16ms/step - loss: 0.6927\n",
      "Epoch 2/50\n",
      "313/313 [==============================] - 5s 17ms/step - loss: 0.6927\n",
      "Epoch 3/50\n",
      "313/313 [==============================] - 5s 17ms/step - loss: 0.6926\n",
      "Epoch 4/50\n",
      "313/313 [==============================] - 5s 17ms/step - loss: 0.6926\n",
      "Epoch 5/50\n",
      "313/313 [==============================] - 5s 17ms/step - loss: 0.6926\n",
      "Epoch 6/50\n",
      "313/313 [==============================] - 5s 15ms/step - loss: 0.6926\n",
      "Epoch 7/50\n",
      "313/313 [==============================] - 5s 17ms/step - loss: 0.6926\n",
      "Epoch 8/50\n",
      "313/313 [==============================] - 6s 19ms/step - loss: 0.6926\n",
      "Epoch 9/50\n",
      "313/313 [==============================] - 5s 16ms/step - loss: 0.6926\n",
      "Epoch 10/50\n",
      "313/313 [==============================] - 5s 16ms/step - loss: 0.6926\n",
      "Epoch 11/50\n",
      "313/313 [==============================] - 5s 15ms/step - loss: 0.6926\n",
      "Epoch 12/50\n",
      "313/313 [==============================] - 5s 15ms/step - loss: 0.6926\n",
      "Epoch 13/50\n",
      "313/313 [==============================] - 5s 15ms/step - loss: 0.6926\n",
      "Epoch 14/50\n",
      "313/313 [==============================] - 6s 20ms/step - loss: 0.6925\n",
      "Epoch 15/50\n",
      "313/313 [==============================] - 6s 19ms/step - loss: 0.6925\n",
      "Epoch 16/50\n",
      "313/313 [==============================] - 5s 15ms/step - loss: 0.6925\n",
      "Epoch 17/50\n",
      "313/313 [==============================] - 5s 17ms/step - loss: 0.6925\n",
      "Epoch 18/50\n",
      "313/313 [==============================] - 6s 18ms/step - loss: 0.6925\n",
      "Epoch 19/50\n",
      "313/313 [==============================] - 5s 16ms/step - loss: 0.6925\n",
      "Epoch 20/50\n",
      "313/313 [==============================] - 5s 16ms/step - loss: 0.6925\n",
      "Epoch 21/50\n",
      "313/313 [==============================] - 4s 14ms/step - loss: 0.6925\n",
      "Epoch 22/50\n",
      "313/313 [==============================] - 5s 15ms/step - loss: 0.6925\n",
      "Epoch 23/50\n",
      "313/313 [==============================] - 5s 15ms/step - loss: 0.6925: 2s - lo - ETA: 2\n",
      "Epoch 24/50\n",
      "313/313 [==============================] - 5s 15ms/step - loss: 0.6925\n",
      "Epoch 25/50\n",
      "313/313 [==============================] - 5s 16ms/step - loss: 0.6924\n",
      "Epoch 26/50\n",
      "313/313 [==============================] - 5s 16ms/step - loss: 0.6924\n",
      "Epoch 27/50\n",
      "313/313 [==============================] - 6s 19ms/step - loss: 0.6924\n",
      "Epoch 28/50\n",
      "313/313 [==============================] - 5s 14ms/step - loss: 0.6924\n",
      "Epoch 29/50\n",
      "313/313 [==============================] - 5s 15ms/step - loss: 0.6924\n",
      "Epoch 30/50\n",
      "313/313 [==============================] - 7s 22ms/step - loss: 0.6924\n",
      "Epoch 31/50\n",
      "313/313 [==============================] - 6s 19ms/step - loss: 0.6924\n",
      "Epoch 32/50\n",
      "313/313 [==============================] - 6s 20ms/step - loss: 0.6924\n",
      "Epoch 33/50\n",
      "313/313 [==============================] - 7s 23ms/step - loss: 0.6924\n",
      "Epoch 34/50\n",
      "313/313 [==============================] - 5s 16ms/step - loss: 0.6924\n",
      "Epoch 35/50\n",
      "313/313 [==============================] - 5s 15ms/step - loss: 0.6924\n",
      "Epoch 36/50\n",
      "313/313 [==============================] - 6s 20ms/step - loss: 0.6923\n",
      "Epoch 37/50\n",
      "313/313 [==============================] - 7s 21ms/step - loss: 0.6923\n",
      "Epoch 38/50\n",
      "313/313 [==============================] - 6s 18ms/step - loss: 0.6923: 0s - loss: \n",
      "Epoch 39/50\n",
      "313/313 [==============================] - 7s 21ms/step - loss: 0.6923\n",
      "Epoch 40/50\n",
      "313/313 [==============================] - 6s 19ms/step - loss: 0.6923\n",
      "Epoch 41/50\n",
      "313/313 [==============================] - 5s 15ms/step - loss: 0.6923\n",
      "Epoch 42/50\n",
      "313/313 [==============================] - 5s 15ms/step - loss: 0.6923\n",
      "Epoch 43/50\n",
      "313/313 [==============================] - 4s 14ms/step - loss: 0.6923\n",
      "Epoch 44/50\n",
      "313/313 [==============================] - 4s 14ms/step - loss: 0.6923\n",
      "Epoch 45/50\n",
      "313/313 [==============================] - 5s 15ms/step - loss: 0.6923\n",
      "Epoch 46/50\n",
      "313/313 [==============================] - 5s 15ms/step - loss: 0.6923\n",
      "Epoch 47/50\n",
      "313/313 [==============================] - 4s 14ms/step - loss: 0.6922\n",
      "Epoch 48/50\n",
      "313/313 [==============================] - 5s 16ms/step - loss: 0.6922\n",
      "Epoch 49/50\n",
      "313/313 [==============================] - 5s 16ms/step - loss: 0.6922: 0s - loss\n",
      "Epoch 50/50\n",
      "313/313 [==============================] - 5s 16ms/step - loss: 0.6922\n"
     ]
    },
    {
     "data": {
      "text/plain": [
       "<tensorflow.python.keras.callbacks.History at 0x2194d131ec8>"
      ]
     },
     "execution_count": 31,
     "metadata": {},
     "output_type": "execute_result"
    }
   ],
   "source": [
    "autoencoder.fit(images, images, epochs=50)"
   ]
  },
  {
   "cell_type": "code",
   "execution_count": 32,
   "metadata": {},
   "outputs": [],
   "source": [
    "encoder_output = Model(input_layer, encoding_stage).predict(images[:5])"
   ]
  },
  {
   "cell_type": "code",
   "execution_count": 33,
   "metadata": {},
   "outputs": [],
   "source": [
    "encoder_output = encoder_output.reshape((-1, 16, 16)) * 255"
   ]
  },
  {
   "cell_type": "code",
   "execution_count": 34,
   "metadata": {},
   "outputs": [],
   "source": [
    "decoder_output = autoencoder.predict(images[:5])"
   ]
  },
  {
   "cell_type": "code",
   "execution_count": 35,
   "metadata": {},
   "outputs": [],
   "source": [
    "decoder_output = decoder_output.reshape((-1, 32,32)) * 255"
   ]
  },
  {
   "cell_type": "code",
   "execution_count": 36,
   "metadata": {},
   "outputs": [],
   "source": [
    "images = images.reshape((-1, 32, 32))"
   ]
  },
  {
   "cell_type": "code",
   "execution_count": 41,
   "metadata": {},
   "outputs": [
    {
     "data": {
      "image/png": "[encoded data removed]",
      "text/plain": [
       "<Figure size 720x504 with 15 Axes>"
      ]
     },
     "metadata": {
      "needs_background": "light"
     },
     "output_type": "display_data"
    }
   ],
   "source": [
    "plt.figure(figsize=(10, 7))\n",
    "for i in range(5):\n",
    "    plt.subplot(3, 5, i + 1)\n",
    "    plt.imshow(images[i], cmap='gray')\n",
    "    plt.axis('off')\n",
    "\n",
    "    plt.subplot(3, 5, i + 6)\n",
    "    plt.imshow(encoder_output[i], cmap='gray')\n",
    "    plt.axis('off')   \n",
    "    \n",
    "    plt.subplot(3, 5, i + 11)\n",
    "    plt.imshow(decoder_output[i], cmap='gray')\n",
    "    plt.axis('off')        \n",
    "        \n",
    "      "
   ]
  },
  {
   "cell_type": "code",
   "execution_count": null,
   "metadata": {},
   "outputs": [],
   "source": []
  },
  {
   "cell_type": "code",
   "execution_count": null,
   "metadata": {},
   "outputs": [],
   "source": []
  }
 ],
 "metadata": {
  "kernelspec": {
   "display_name": "Python 3",
   "language": "python",
   "name": "python3"
  },
  "language_info": {
   "codemirror_mode": {
    "name": "ipython",
    "version": 3
   },
   "file_extension": ".py",
   "mimetype": "text/x-python",
   "name": "python",
   "nbconvert_exporter": "python",
   "pygments_lexer": "ipython3",
   "version": "3.7.6"
  }
 },
 "nbformat": 4,
 "nbformat_minor": 4
}
