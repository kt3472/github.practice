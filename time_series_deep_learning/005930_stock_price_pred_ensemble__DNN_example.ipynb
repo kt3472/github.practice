{
 "cells": [
  {
   "cell_type": "code",
   "execution_count": 1,
   "metadata": {},
   "outputs": [],
   "source": [
    "import numpy as np\n",
    "import pandas as pd"
   ]
  },
  {
   "cell_type": "code",
   "execution_count": 2,
   "metadata": {},
   "outputs": [],
   "source": [
    "df1 = pd.read_csv(\"D:/ml/deepwalk-master/kospi200/data/kospi200.csv\",\n",
    "                 index_col = 0,\n",
    "                 header=0,\n",
    "                 encoding='cp949', sep=',')"
   ]
  },
  {
   "cell_type": "code",
   "execution_count": 3,
   "metadata": {},
   "outputs": [],
   "source": [
    "df2 = pd.read_csv(\"D:/ml/deepwalk-master/kospi200/data/samsung.csv\",\n",
    "                 index_col = 0,\n",
    "                 header=0,\n",
    "                 encoding='cp949', sep=',')"
   ]
  },
  {
   "cell_type": "code",
   "execution_count": 4,
   "metadata": {},
   "outputs": [],
   "source": [
    "for i in range(len(df1.index)):\n",
    "    \n",
    "    df1.iloc[i,4] = int(df1.iloc[i,4].replace(',',''))"
   ]
  },
  {
   "cell_type": "code",
   "execution_count": 5,
   "metadata": {},
   "outputs": [],
   "source": [
    "for i in range(len(df2.index)):\n",
    "    \n",
    "    for j in range(len(df2.iloc[i])):\n",
    "        \n",
    "        df2.iloc[i,j] = int(df2.iloc[i,j].replace(',',''))"
   ]
  },
  {
   "cell_type": "code",
   "execution_count": 6,
   "metadata": {},
   "outputs": [],
   "source": [
    "df1 = df1.sort_values(['일자'], ascending=True)\n",
    "df2 = df2.sort_values(['일자'], ascending=True)"
   ]
  },
  {
   "cell_type": "code",
   "execution_count": 7,
   "metadata": {},
   "outputs": [],
   "source": [
    "df1['거래량'] = df1['거래량'].astype('float64')"
   ]
  },
  {
   "cell_type": "code",
   "execution_count": 8,
   "metadata": {},
   "outputs": [],
   "source": [
    "df2['시가'] = df2['시가'].astype('float64')\n",
    "df2['고가'] = df2['고가'].astype('float64')\n",
    "df2['저가'] = df2['저가'].astype('float64')\n",
    "df2['종가'] = df2['종가'].astype('float64')\n",
    "df2['거래량'] = df2['거래량'].astype('float64')"
   ]
  },
  {
   "cell_type": "code",
   "execution_count": 9,
   "metadata": {},
   "outputs": [],
   "source": [
    "df1 = df1.values\n",
    "df2 = df2.values"
   ]
  },
  {
   "cell_type": "code",
   "execution_count": 10,
   "metadata": {},
   "outputs": [
    {
     "data": {
      "text/plain": [
       "numpy.ndarray"
      ]
     },
     "execution_count": 10,
     "metadata": {},
     "output_type": "execute_result"
    }
   ],
   "source": [
    "type(df1)"
   ]
  },
  {
   "cell_type": "code",
   "execution_count": 11,
   "metadata": {},
   "outputs": [
    {
     "data": {
      "text/plain": [
       "numpy.ndarray"
      ]
     },
     "execution_count": 11,
     "metadata": {},
     "output_type": "execute_result"
    }
   ],
   "source": [
    "type(df2)"
   ]
  },
  {
   "cell_type": "code",
   "execution_count": 12,
   "metadata": {},
   "outputs": [],
   "source": [
    "kospi200 = df1.copy()\n",
    "samsung = df2.copy()"
   ]
  },
  {
   "cell_type": "code",
   "execution_count": 13,
   "metadata": {},
   "outputs": [],
   "source": [
    "def split_xy5(dataset, time_steps, y_column):\n",
    "    x, y = list(), list()\n",
    "    for i in range(len(dataset)):\n",
    "        x_end_number = i + time_steps\n",
    "        y_end_number = x_end_number + y_column # 수정\n",
    "\n",
    "        if y_end_number > len(dataset):  # 수정\n",
    "            break\n",
    "        tmp_x = dataset[i:x_end_number, :]  # 수정\n",
    "        tmp_y = dataset[x_end_number:y_end_number, 3]    # 수정\n",
    "        x.append(tmp_x)\n",
    "        y.append(tmp_y)\n",
    "    return np.array(x), np.array(y)"
   ]
  },
  {
   "cell_type": "code",
   "execution_count": 20,
   "metadata": {},
   "outputs": [],
   "source": [
    "x1, y1= split_xy5(samsung, 5,1)\n",
    "x2, y2 = split_xy5(kospi200, 5,1)"
   ]
  },
  {
   "cell_type": "code",
   "execution_count": 21,
   "metadata": {},
   "outputs": [
    {
     "name": "stdout",
     "output_type": "stream",
     "text": [
      "[[   320.56    321.      316.75    316.75 173911.  ]\n",
      " [   317.79    319.53    314.95    315.87 141252.  ]\n",
      " [   315.93    316.08    312.6     314.42 123610.  ]\n",
      " [   316.51    317.34    315.11    317.31 120900.  ]\n",
      " [   318.03    319.7     317.86    318.51 112400.  ]] \n",
      " [317.72]\n"
     ]
    }
   ],
   "source": [
    "print(x2[0,:], \"\\n\", y2[0])"
   ]
  },
  {
   "cell_type": "code",
   "execution_count": 22,
   "metadata": {},
   "outputs": [
    {
     "name": "stdout",
     "output_type": "stream",
     "text": [
      "(421, 5, 5)\n",
      "(421, 1)\n"
     ]
    }
   ],
   "source": [
    "print(x2.shape)\n",
    "print(y2.shape)"
   ]
  },
  {
   "cell_type": "code",
   "execution_count": 23,
   "metadata": {},
   "outputs": [],
   "source": [
    "from sklearn.model_selection import train_test_split"
   ]
  },
  {
   "cell_type": "code",
   "execution_count": 24,
   "metadata": {},
   "outputs": [],
   "source": [
    "x1_train, x1_test, y1_train, y1_test = train_test_split(x1,\n",
    "                                                        y1,\n",
    "                                                        random_state=2020,\n",
    "                                                        test_size = 0.3)\n",
    "x2_train, x2_test, y2_train, y2_test = train_test_split(x2,\n",
    "                                                        y2,\n",
    "                                                        random_state=2020,\n",
    "                                                        test_size = 0.3)"
   ]
  },
  {
   "cell_type": "code",
   "execution_count": 25,
   "metadata": {},
   "outputs": [
    {
     "name": "stdout",
     "output_type": "stream",
     "text": [
      "(294, 5, 5)\n",
      "(127, 5, 5)\n",
      "(294, 1)\n",
      "(127, 1)\n"
     ]
    }
   ],
   "source": [
    "print(x2_train.shape)\n",
    "print(x2_test.shape)\n",
    "print(y2_train.shape)\n",
    "print(y2_test.shape)"
   ]
  },
  {
   "cell_type": "code",
   "execution_count": 26,
   "metadata": {},
   "outputs": [],
   "source": [
    "x1_train = np.reshape(x1_train,\n",
    "                      (x1_train.shape[0], x1_train.shape[1] * x1_train.shape[2]))\n",
    "x1_test = np.reshape(x1_test,\n",
    "                     (x1_test.shape[0], x1_test.shape[1] * x1_test.shape[2]))\n",
    "x2_train = np.reshape(x2_train,\n",
    "                      (x2_train.shape[0], x2_train.shape[1] * x2_train.shape[2]))\n",
    "x2_test = np.reshape(x2_test,\n",
    "                     (x2_test.shape[0], x2_test.shape[1] * x2_test.shape[2]))"
   ]
  },
  {
   "cell_type": "code",
   "execution_count": 27,
   "metadata": {},
   "outputs": [
    {
     "name": "stdout",
     "output_type": "stream",
     "text": [
      "(294, 25)\n",
      "(127, 25)\n"
     ]
    }
   ],
   "source": [
    "print(x2_train.shape)\n",
    "print(x2_test.shape)"
   ]
  },
  {
   "cell_type": "code",
   "execution_count": 28,
   "metadata": {},
   "outputs": [],
   "source": [
    "from sklearn.preprocessing import StandardScaler\n",
    "\n",
    "scaler1 = StandardScaler()\n",
    "scaler1.fit(x1_train)\n",
    "x1_train_scaled = scaler1.transform(x1_train)\n",
    "x1_test_scaled = scaler1.transform(x1_test)\n",
    "\n",
    "scaler2 = StandardScaler()\n",
    "scaler2.fit(x2_train)\n",
    "x2_train_scaled = scaler2.transform(x2_train)\n",
    "x2_test_scaled = scaler2.transform(x2_test)"
   ]
  },
  {
   "cell_type": "code",
   "execution_count": 29,
   "metadata": {},
   "outputs": [
    {
     "name": "stdout",
     "output_type": "stream",
     "text": [
      "[ 0.04562609  0.05104716  0.09054592  0.0020591  -0.08867535  0.10079632\n",
      "  0.03721625  0.10892135  0.07459096 -0.34172486  0.10092696  0.13519501\n",
      "  0.13600635  0.19633445 -0.19625155  0.11080014  0.03585534  0.00366393\n",
      " -0.02218311 -0.12886738 -0.06295995 -0.10554794 -0.04822327 -0.10779072\n",
      " -0.63323557]\n",
      "[ 1.20004525  1.17942984  1.10373998  1.02696889 -0.2621014   1.09348341\n",
      "  1.0228551   1.06387508  0.99297912  0.05514018  0.98583206  1.01754208\n",
      "  0.98689321  1.0774234  -0.36544753  1.06090613  0.97680926  0.9800884\n",
      "  0.92828959  0.16269962  0.94648243  0.92755017  0.94839905  0.99207253\n",
      "  0.68705535]\n"
     ]
    }
   ],
   "source": [
    "print(x1_train_scaled[0, :])\n",
    "print(x2_train_scaled[0, :])"
   ]
  },
  {
   "cell_type": "code",
   "execution_count": 30,
   "metadata": {},
   "outputs": [
    {
     "name": "stderr",
     "output_type": "stream",
     "text": [
      "Using TensorFlow backend.\n"
     ]
    }
   ],
   "source": [
    "from keras.models import Model\n",
    "from keras.layers import Dense, Input"
   ]
  },
  {
   "cell_type": "code",
   "execution_count": 31,
   "metadata": {},
   "outputs": [],
   "source": [
    "# 모델구성\n",
    "input1 = Input(shape=(25, ))\n",
    "dense1 = Dense(64)(input1)\n",
    "dense1 = Dense(32)(dense1)\n",
    "dense1 = Dense(32)(dense1)\n",
    "output1 = Dense(32)(dense1)"
   ]
  },
  {
   "cell_type": "code",
   "execution_count": 32,
   "metadata": {},
   "outputs": [],
   "source": [
    "input2 = Input(shape=(25, ))\n",
    "dense2 = Dense(64)(input2)\n",
    "dense2 = Dense(64)(dense2)\n",
    "dense2 = Dense(64)(dense2)\n",
    "dense2 = Dense(64)(dense2)\n",
    "output2 = Dense(32)(dense2)"
   ]
  },
  {
   "cell_type": "code",
   "execution_count": 33,
   "metadata": {},
   "outputs": [],
   "source": [
    "from keras.layers.merge import concatenate"
   ]
  },
  {
   "cell_type": "code",
   "execution_count": 34,
   "metadata": {},
   "outputs": [],
   "source": [
    "merge = concatenate([output1, output2])"
   ]
  },
  {
   "cell_type": "code",
   "execution_count": 35,
   "metadata": {},
   "outputs": [],
   "source": [
    "output3 = Dense(1)(merge)"
   ]
  },
  {
   "cell_type": "code",
   "execution_count": 37,
   "metadata": {},
   "outputs": [],
   "source": [
    "model = Model(inputs= [input1, input2],\n",
    "             outputs = output3)"
   ]
  },
  {
   "cell_type": "code",
   "execution_count": 39,
   "metadata": {},
   "outputs": [],
   "source": [
    "model.compile(loss='mse', optimizer='adam', metrics=['mse'])"
   ]
  },
  {
   "cell_type": "code",
   "execution_count": 40,
   "metadata": {},
   "outputs": [
    {
     "name": "stdout",
     "output_type": "stream",
     "text": [
      "Model: \"model\"\n",
      "__________________________________________________________________________________________________\n",
      "Layer (type)                    Output Shape         Param #     Connected to                     \n",
      "==================================================================================================\n",
      "input_2 (InputLayer)            [(None, 25)]         0                                            \n",
      "__________________________________________________________________________________________________\n",
      "input_1 (InputLayer)            [(None, 25)]         0                                            \n",
      "__________________________________________________________________________________________________\n",
      "dense_4 (Dense)                 (None, 64)           1664        input_2[0][0]                    \n",
      "__________________________________________________________________________________________________\n",
      "dense (Dense)                   (None, 64)           1664        input_1[0][0]                    \n",
      "__________________________________________________________________________________________________\n",
      "dense_5 (Dense)                 (None, 64)           4160        dense_4[0][0]                    \n",
      "__________________________________________________________________________________________________\n",
      "dense_1 (Dense)                 (None, 32)           2080        dense[0][0]                      \n",
      "__________________________________________________________________________________________________\n",
      "dense_6 (Dense)                 (None, 64)           4160        dense_5[0][0]                    \n",
      "__________________________________________________________________________________________________\n",
      "dense_2 (Dense)                 (None, 32)           1056        dense_1[0][0]                    \n",
      "__________________________________________________________________________________________________\n",
      "dense_7 (Dense)                 (None, 64)           4160        dense_6[0][0]                    \n",
      "__________________________________________________________________________________________________\n",
      "dense_3 (Dense)                 (None, 32)           1056        dense_2[0][0]                    \n",
      "__________________________________________________________________________________________________\n",
      "dense_8 (Dense)                 (None, 32)           2080        dense_7[0][0]                    \n",
      "__________________________________________________________________________________________________\n",
      "concatenate (Concatenate)       (None, 64)           0           dense_3[0][0]                    \n",
      "                                                                 dense_8[0][0]                    \n",
      "__________________________________________________________________________________________________\n",
      "dense_9 (Dense)                 (None, 1)            65          concatenate[0][0]                \n",
      "==================================================================================================\n",
      "Total params: 22,145\n",
      "Trainable params: 22,145\n",
      "Non-trainable params: 0\n",
      "__________________________________________________________________________________________________\n"
     ]
    }
   ],
   "source": [
    "model.summary()"
   ]
  },
  {
   "cell_type": "code",
   "execution_count": 41,
   "metadata": {},
   "outputs": [],
   "source": [
    "#from keras.callbacks import EarlyStopping\n",
    "from tensorflow.keras.callbacks import EarlyStopping\n",
    "early_stopping = EarlyStopping(patience=20)"
   ]
  },
  {
   "cell_type": "code",
   "execution_count": 42,
   "metadata": {},
   "outputs": [
    {
     "name": "stdout",
     "output_type": "stream",
     "text": [
      "Epoch 1/100\n",
      "235/235 [==============================] - 0s 2ms/step - loss: 1477729664.0000 - mse: 1477729664.0000 - val_loss: 25302302.0000 - val_mse: 25302302.0000\n",
      "Epoch 2/100\n",
      "235/235 [==============================] - 0s 1ms/step - loss: 10311252.0000 - mse: 10311252.0000 - val_loss: 4212523.0000 - val_mse: 4212523.0000\n",
      "Epoch 3/100\n",
      "235/235 [==============================] - 0s 1ms/step - loss: 6327531.5000 - mse: 6327531.5000 - val_loss: 7013787.5000 - val_mse: 7013787.5000\n",
      "Epoch 4/100\n",
      "235/235 [==============================] - 0s 1ms/step - loss: 3547941.0000 - mse: 3547941.0000 - val_loss: 3052956.2500 - val_mse: 3052956.2500\n",
      "Epoch 5/100\n",
      "235/235 [==============================] - 0s 1ms/step - loss: 1906962.5000 - mse: 1906962.5000 - val_loss: 1784797.7500 - val_mse: 1784797.7500\n",
      "Epoch 6/100\n",
      "235/235 [==============================] - 0s 1ms/step - loss: 2227589.5000 - mse: 2227589.5000 - val_loss: 1778598.0000 - val_mse: 1778598.0000\n",
      "Epoch 7/100\n",
      "235/235 [==============================] - 0s 1ms/step - loss: 5506815.5000 - mse: 5506815.5000 - val_loss: 2001969.6250 - val_mse: 2001969.6250\n",
      "Epoch 8/100\n",
      "235/235 [==============================] - 0s 1ms/step - loss: 3329877.5000 - mse: 3329877.5000 - val_loss: 1718525.1250 - val_mse: 1718525.1250\n",
      "Epoch 9/100\n",
      "235/235 [==============================] - 0s 1ms/step - loss: 3606559.2500 - mse: 3606559.2500 - val_loss: 3835858.7500 - val_mse: 3835858.7500\n",
      "Epoch 10/100\n",
      "235/235 [==============================] - 0s 1ms/step - loss: 3672049.2500 - mse: 3672049.2500 - val_loss: 62055628.0000 - val_mse: 62055628.0000\n",
      "Epoch 11/100\n",
      "235/235 [==============================] - 0s 1ms/step - loss: 32788148.0000 - mse: 32788148.0000 - val_loss: 2860907.0000 - val_mse: 2860907.0000\n",
      "Epoch 12/100\n",
      "235/235 [==============================] - 0s 2ms/step - loss: 1846509.6250 - mse: 1846509.6250 - val_loss: 1736818.6250 - val_mse: 1736818.6250\n",
      "Epoch 13/100\n",
      "235/235 [==============================] - 0s 1ms/step - loss: 1494506.3750 - mse: 1494506.3750 - val_loss: 1738026.1250 - val_mse: 1738026.1250\n",
      "Epoch 14/100\n",
      "235/235 [==============================] - 0s 1ms/step - loss: 3515520.5000 - mse: 3515520.5000 - val_loss: 1385626.2500 - val_mse: 1385626.2500\n",
      "Epoch 15/100\n",
      "235/235 [==============================] - 0s 1ms/step - loss: 2287660.5000 - mse: 2287660.5000 - val_loss: 1279154.6250 - val_mse: 1279154.6250\n",
      "Epoch 16/100\n",
      "235/235 [==============================] - 0s 1ms/step - loss: 2713365.7500 - mse: 2713365.7500 - val_loss: 5745234.5000 - val_mse: 5745234.5000\n",
      "Epoch 17/100\n",
      "235/235 [==============================] - 0s 1ms/step - loss: 2157820.2500 - mse: 2157820.2500 - val_loss: 880800.5625 - val_mse: 880800.5625\n",
      "Epoch 18/100\n",
      "235/235 [==============================] - 0s 1ms/step - loss: 1659151.8750 - mse: 1659151.8750 - val_loss: 1251589.8750 - val_mse: 1251589.8750\n",
      "Epoch 19/100\n",
      "235/235 [==============================] - 0s 1ms/step - loss: 5452176.0000 - mse: 5452176.0000 - val_loss: 40625352.0000 - val_mse: 40625352.0000\n",
      "Epoch 20/100\n",
      "235/235 [==============================] - 0s 1ms/step - loss: 9018727.0000 - mse: 9018727.0000 - val_loss: 1314963.3750 - val_mse: 1314963.3750\n",
      "Epoch 21/100\n",
      "235/235 [==============================] - 0s 1ms/step - loss: 1557875.7500 - mse: 1557875.7500 - val_loss: 1184101.3750 - val_mse: 1184101.3750\n",
      "Epoch 22/100\n",
      "235/235 [==============================] - 0s 1ms/step - loss: 2159722.2500 - mse: 2159722.2500 - val_loss: 7566497.5000 - val_mse: 7566497.5000\n",
      "Epoch 23/100\n",
      "235/235 [==============================] - 0s 1ms/step - loss: 4416453.5000 - mse: 4416453.5000 - val_loss: 1940892.7500 - val_mse: 1940892.7500\n",
      "Epoch 24/100\n",
      "235/235 [==============================] - 0s 1ms/step - loss: 2406085.0000 - mse: 2406085.0000 - val_loss: 5452290.0000 - val_mse: 5452290.0000\n",
      "Epoch 25/100\n",
      "235/235 [==============================] - 0s 1ms/step - loss: 5687777.5000 - mse: 5687777.5000 - val_loss: 2097958.2500 - val_mse: 2097958.2500\n",
      "Epoch 26/100\n",
      "235/235 [==============================] - 0s 1ms/step - loss: 4379313.5000 - mse: 4379313.5000 - val_loss: 2072105.3750 - val_mse: 2072105.3750\n",
      "Epoch 27/100\n",
      "235/235 [==============================] - 0s 1ms/step - loss: 3223940.7500 - mse: 3223940.7500 - val_loss: 5306352.5000 - val_mse: 5306352.5000\n",
      "Epoch 28/100\n",
      "235/235 [==============================] - 0s 1ms/step - loss: 9924333.0000 - mse: 9924333.0000 - val_loss: 5164566.0000 - val_mse: 5164566.0000\n",
      "Epoch 29/100\n",
      "235/235 [==============================] - 0s 1ms/step - loss: 2747413.0000 - mse: 2747413.0000 - val_loss: 1166449.2500 - val_mse: 1166449.2500\n",
      "Epoch 30/100\n",
      "235/235 [==============================] - 0s 1ms/step - loss: 1106174.1250 - mse: 1106174.1250 - val_loss: 1034770.8750 - val_mse: 1034770.8750\n",
      "Epoch 31/100\n",
      "235/235 [==============================] - 0s 1ms/step - loss: 1969806.7500 - mse: 1969806.7500 - val_loss: 1535942.3750 - val_mse: 1535942.3750\n",
      "Epoch 32/100\n",
      "235/235 [==============================] - 0s 1ms/step - loss: 8744535.0000 - mse: 8744535.0000 - val_loss: 3412403.2500 - val_mse: 3412403.2500\n",
      "Epoch 33/100\n",
      "235/235 [==============================] - 0s 1ms/step - loss: 1723437.1250 - mse: 1723437.1250 - val_loss: 2209335.0000 - val_mse: 2209335.0000\n",
      "Epoch 34/100\n",
      "235/235 [==============================] - 0s 1ms/step - loss: 1758668.0000 - mse: 1758668.0000 - val_loss: 5907362.5000 - val_mse: 5907362.5000\n",
      "Epoch 35/100\n",
      "235/235 [==============================] - 0s 1ms/step - loss: 2834051.7500 - mse: 2834051.7500 - val_loss: 2206245.5000 - val_mse: 2206245.5000\n",
      "Epoch 36/100\n",
      "235/235 [==============================] - 0s 1ms/step - loss: 1882070.8750 - mse: 1882070.8750 - val_loss: 2223893.7500 - val_mse: 2223893.7500\n",
      "Epoch 37/100\n",
      "235/235 [==============================] - 0s 1ms/step - loss: 3022759.5000 - mse: 3022759.5000 - val_loss: 1262130.0000 - val_mse: 1262130.0000\n"
     ]
    },
    {
     "data": {
      "text/plain": [
       "<tensorflow.python.keras.callbacks.History at 0x25f857ca348>"
      ]
     },
     "execution_count": 42,
     "metadata": {},
     "output_type": "execute_result"
    }
   ],
   "source": [
    "model.fit([x1_train_scaled, x2_train_scaled], y1_train, \n",
    "          validation_split=0.2,\n",
    "         verbose=1, batch_size = 1, epochs=100,\n",
    "         callbacks = [early_stopping])"
   ]
  },
  {
   "cell_type": "code",
   "execution_count": 43,
   "metadata": {},
   "outputs": [
    {
     "name": "stdout",
     "output_type": "stream",
     "text": [
      "127/127 [==============================] - 0s 735us/step - loss: 1337776.6250 - mse: 1337776.6250\n"
     ]
    }
   ],
   "source": [
    "loss, mse = model.evaluate([x1_test_scaled, x2_test_scaled], \n",
    "                           y1_test, batch_size=1)"
   ]
  },
  {
   "cell_type": "code",
   "execution_count": 44,
   "metadata": {},
   "outputs": [
    {
     "name": "stdout",
     "output_type": "stream",
     "text": [
      "loss :  1337776.625\n",
      "mse :  1337776.625\n"
     ]
    }
   ],
   "source": [
    "print('loss : ', loss)\n",
    "print('mse : ', mse)"
   ]
  },
  {
   "cell_type": "code",
   "execution_count": 45,
   "metadata": {},
   "outputs": [
    {
     "name": "stdout",
     "output_type": "stream",
     "text": [
      "종가 :  [45200.] / 예측가 :  [46151.85]\n",
      "종가 :  [48400.] / 예측가 :  [49456.414]\n",
      "종가 :  [46950.] / 예측가 :  [47192.316]\n",
      "종가 :  [47500.] / 예측가 :  [46596.04]\n",
      "종가 :  [51100.] / 예측가 :  [51811.395]\n"
     ]
    }
   ],
   "source": [
    "y1_pred = model.predict([x1_test_scaled, x2_test_scaled])\n",
    "\n",
    "for i in range(5):\n",
    "    print('종가 : ', y1_test[i], '/ 예측가 : ', y1_pred[i])"
   ]
  },
  {
   "cell_type": "code",
   "execution_count": null,
   "metadata": {},
   "outputs": [],
   "source": []
  },
  {
   "cell_type": "code",
   "execution_count": null,
   "metadata": {},
   "outputs": [],
   "source": []
  },
  {
   "cell_type": "code",
   "execution_count": null,
   "metadata": {},
   "outputs": [],
   "source": []
  },
  {
   "cell_type": "code",
   "execution_count": null,
   "metadata": {},
   "outputs": [],
   "source": []
  }
 ],
 "metadata": {
  "kernelspec": {
   "display_name": "Python 3",
   "language": "python",
   "name": "python3"
  },
  "language_info": {
   "codemirror_mode": {
    "name": "ipython",
    "version": 3
   },
   "file_extension": ".py",
   "mimetype": "text/x-python",
   "name": "python",
   "nbconvert_exporter": "python",
   "pygments_lexer": "ipython3",
   "version": "3.7.6"
  }
 },
 "nbformat": 4,
 "nbformat_minor": 4
}
