{
 "cells": [
  {
   "cell_type": "code",
   "execution_count": 10,
   "metadata": {},
   "outputs": [],
   "source": [
    "import numpy as np\n",
    "x1 = np.array([range(1, 101), range(101, 201)])\n",
    "y1 = np.array([range(1, 101), range(101, 201)])\n",
    "x2 = np.array([range(501, 601), range(601, 701)])\n",
    "y2 = np.array([range(501, 601), range(601, 701)])\n",
    "y3 = np.array([range(701, 801), range(801, 901)])"
   ]
  },
  {
   "cell_type": "code",
   "execution_count": 11,
   "metadata": {},
   "outputs": [
    {
     "data": {
      "text/plain": [
       "array([[  1,   2,   3,   4,   5,   6,   7,   8,   9,  10,  11,  12,  13,\n",
       "         14,  15,  16,  17,  18,  19,  20,  21,  22,  23,  24,  25,  26,\n",
       "         27,  28,  29,  30,  31,  32,  33,  34,  35,  36,  37,  38,  39,\n",
       "         40,  41,  42,  43,  44,  45,  46,  47,  48,  49,  50,  51,  52,\n",
       "         53,  54,  55,  56,  57,  58,  59,  60,  61,  62,  63,  64,  65,\n",
       "         66,  67,  68,  69,  70,  71,  72,  73,  74,  75,  76,  77,  78,\n",
       "         79,  80,  81,  82,  83,  84,  85,  86,  87,  88,  89,  90,  91,\n",
       "         92,  93,  94,  95,  96,  97,  98,  99, 100],\n",
       "       [101, 102, 103, 104, 105, 106, 107, 108, 109, 110, 111, 112, 113,\n",
       "        114, 115, 116, 117, 118, 119, 120, 121, 122, 123, 124, 125, 126,\n",
       "        127, 128, 129, 130, 131, 132, 133, 134, 135, 136, 137, 138, 139,\n",
       "        140, 141, 142, 143, 144, 145, 146, 147, 148, 149, 150, 151, 152,\n",
       "        153, 154, 155, 156, 157, 158, 159, 160, 161, 162, 163, 164, 165,\n",
       "        166, 167, 168, 169, 170, 171, 172, 173, 174, 175, 176, 177, 178,\n",
       "        179, 180, 181, 182, 183, 184, 185, 186, 187, 188, 189, 190, 191,\n",
       "        192, 193, 194, 195, 196, 197, 198, 199, 200]])"
      ]
     },
     "execution_count": 11,
     "metadata": {},
     "output_type": "execute_result"
    }
   ],
   "source": [
    "x1"
   ]
  },
  {
   "cell_type": "code",
   "execution_count": 12,
   "metadata": {},
   "outputs": [
    {
     "name": "stdout",
     "output_type": "stream",
     "text": [
      "(2, 100)\n",
      "(2, 100)\n",
      "(2, 100)\n",
      "(2, 100)\n",
      "(2, 100)\n"
     ]
    }
   ],
   "source": [
    "print(x1.shape)\n",
    "print(x2.shape)\n",
    "print(y1.shape)\n",
    "print(y2.shape)\n",
    "print(y3.shape)"
   ]
  },
  {
   "cell_type": "code",
   "execution_count": 13,
   "metadata": {},
   "outputs": [
    {
     "name": "stdout",
     "output_type": "stream",
     "text": [
      "(100, 2)\n",
      "(100, 2)\n",
      "(100, 2)\n",
      "(100, 2)\n",
      "(100, 2)\n"
     ]
    }
   ],
   "source": [
    "x1 = np.transpose(x1)\n",
    "y1 = np.transpose(y1)\n",
    "x2 = np.transpose(x2)\n",
    "y2 = np.transpose(y2)\n",
    "y3 = np.transpose(y3)\n",
    "print(x1.shape)\n",
    "print(x2.shape)\n",
    "print(y1.shape)\n",
    "print(y2.shape)\n",
    "print(y3.shape)"
   ]
  },
  {
   "cell_type": "code",
   "execution_count": 14,
   "metadata": {},
   "outputs": [],
   "source": [
    "from sklearn.model_selection import train_test_split"
   ]
  },
  {
   "cell_type": "code",
   "execution_count": 15,
   "metadata": {},
   "outputs": [],
   "source": [
    "\n",
    "x1_train, x1_test, y1_train, y1_test = train_test_split(\n",
    "x1, y1, random_state=2020, test_size=0.2, shuffle = False\n",
    ")\n",
    "x1_val, x1_test, y1_val, y1_test = train_test_split(\n",
    "x1_test, y1_test, random_state=2020, test_size=0.5, shuffle = False\n",
    ")\n",
    "x2_train, x2_test, y2_train, y2_test = train_test_split(\n",
    "x2, y2, random_state=2020, test_size=0.2, shuffle = False\n",
    ")\n",
    "x2_val, x2_test, y2_val, y2_test = train_test_split(\n",
    "x2_test, y2_test, random_state=2020, test_size=0.5, shuffle = False\n",
    ")\n"
   ]
  },
  {
   "cell_type": "code",
   "execution_count": 16,
   "metadata": {},
   "outputs": [],
   "source": [
    "# y3 데이터의 분리\n",
    "y3_train, y3_test = train_test_split(\n",
    "y3 , random_state=2020, test_size=0.2, shuffle=False\n",
    ")\n",
    "y3_val, y3_test = train_test_split(\n",
    "y3_test , random_state=2020, test_size=0.5, shuffle=False)"
   ]
  },
  {
   "cell_type": "code",
   "execution_count": 17,
   "metadata": {},
   "outputs": [
    {
     "name": "stderr",
     "output_type": "stream",
     "text": [
      "Using TensorFlow backend.\n"
     ]
    }
   ],
   "source": [
    "from keras.models import Sequential, Model\n",
    "from keras.layers import Dense, Input"
   ]
  },
  {
   "cell_type": "code",
   "execution_count": 18,
   "metadata": {},
   "outputs": [],
   "source": [
    "input1 = Input(shape=(2,))\n",
    "dense1 = Dense(100, activation='relu')(input1)\n",
    "dense1 = Dense(30)(dense1)\n",
    "dense1 = Dense(7)(dense1)\n",
    "\n",
    "input2 = Input(shape=(2,))\n",
    "dense2 = Dense(50, activation='relu')(input2)\n",
    "dense2 = Dense(30)(dense2)\n",
    "dense2 = Dense(7)(dense2)"
   ]
  },
  {
   "cell_type": "code",
   "execution_count": 19,
   "metadata": {},
   "outputs": [],
   "source": [
    "from keras.layers.merge import concatenate"
   ]
  },
  {
   "cell_type": "code",
   "execution_count": 20,
   "metadata": {},
   "outputs": [],
   "source": [
    "merge1 = concatenate([dense1, dense2])\n",
    "middle1 = Dense(10)(merge1)\n",
    "middle2 = Dense(5)(middle1)\n",
    "middle3 = Dense(30)(middle2)\n",
    "\n",
    "output1 = Dense(30)(middle3)\n",
    "output1 = Dense(7)(output1)\n",
    "output1 = Dense(2)(output1)\n",
    "\n",
    "output2 = Dense(20)(middle3)\n",
    "output2 = Dense(70)(output2)\n",
    "output2 = Dense(2)(output2)\n",
    "\n",
    "output3 = Dense(25)(middle3)\n",
    "output3 = Dense(5)(output3)\n",
    "output3 = Dense(2)(output3)"
   ]
  },
  {
   "cell_type": "code",
   "execution_count": 21,
   "metadata": {},
   "outputs": [],
   "source": [
    "model = Model(inputs = [input1, input2],outputs = [output1, output2, output3])"
   ]
  },
  {
   "cell_type": "code",
   "execution_count": 22,
   "metadata": {},
   "outputs": [
    {
     "name": "stdout",
     "output_type": "stream",
     "text": [
      "Epoch 1/50\n",
      "80/80 [==============================] - 0s 5ms/step - loss: 171182.3281 - dense_11_loss: 2603.6755 - dense_14_loss: 55979.8867 - dense_17_loss: 112598.7734 - dense_11_mse: 2603.6755 - dense_14_mse: 55979.8867 - dense_17_mse: 112598.7734 - val_loss: 2305.8284 - val_dense_11_loss: 618.9448 - val_dense_14_loss: 122.2047 - val_dense_17_loss: 1564.6788 - val_dense_11_mse: 618.9448 - val_dense_14_mse: 122.2047 - val_dense_17_mse: 1564.6788\n",
      "Epoch 2/50\n",
      "80/80 [==============================] - 0s 2ms/step - loss: 612.6964 - dense_11_loss: 212.8631 - dense_14_loss: 91.3340 - dense_17_loss: 308.4993 - dense_11_mse: 212.8631 - dense_14_mse: 91.3340 - dense_17_mse: 308.4993 - val_loss: 570.7881 - val_dense_11_loss: 389.0432 - val_dense_14_loss: 17.4343 - val_dense_17_loss: 164.3107 - val_dense_11_mse: 389.0432 - val_dense_14_mse: 17.4343 - val_dense_17_mse: 164.3107\n",
      "Epoch 3/50\n",
      "80/80 [==============================] - 0s 2ms/step - loss: 265.5972 - dense_11_loss: 122.8081 - dense_14_loss: 29.9955 - dense_17_loss: 112.7937 - dense_11_mse: 122.8081 - dense_14_mse: 29.9955 - dense_17_mse: 112.7937 - val_loss: 227.0765 - val_dense_11_loss: 159.5258 - val_dense_14_loss: 9.1887 - val_dense_17_loss: 58.3620 - val_dense_11_mse: 159.5258 - val_dense_14_mse: 9.1887 - val_dense_17_mse: 58.3620\n",
      "Epoch 4/50\n",
      "80/80 [==============================] - 0s 2ms/step - loss: 63.7479 - dense_11_loss: 32.7590 - dense_14_loss: 4.6690 - dense_17_loss: 26.3199 - dense_11_mse: 32.7590 - dense_14_mse: 4.6690 - dense_17_mse: 26.3199 - val_loss: 66.7991 - val_dense_11_loss: 10.5330 - val_dense_14_loss: 43.3356 - val_dense_17_loss: 12.9306 - val_dense_11_mse: 10.5330 - val_dense_14_mse: 43.3356 - val_dense_17_mse: 12.9306\n",
      "Epoch 5/50\n",
      "80/80 [==============================] - 0s 2ms/step - loss: 26.7366 - dense_11_loss: 11.6228 - dense_14_loss: 6.6036 - dense_17_loss: 8.5103 - dense_11_mse: 11.6228 - dense_14_mse: 6.6036 - dense_17_mse: 8.5103 - val_loss: 66.3059 - val_dense_11_loss: 11.1854 - val_dense_14_loss: 29.8579 - val_dense_17_loss: 25.2627 - val_dense_11_mse: 11.1854 - val_dense_14_mse: 29.8579 - val_dense_17_mse: 25.2627\n",
      "Epoch 6/50\n",
      "80/80 [==============================] - 0s 2ms/step - loss: 11.1488 - dense_11_loss: 1.8617 - dense_14_loss: 4.8740 - dense_17_loss: 4.4130 - dense_11_mse: 1.8617 - dense_14_mse: 4.8740 - dense_17_mse: 4.4130 - val_loss: 10.7709 - val_dense_11_loss: 0.9073 - val_dense_14_loss: 2.6594 - val_dense_17_loss: 7.2041 - val_dense_11_mse: 0.9073 - val_dense_14_mse: 2.6594 - val_dense_17_mse: 7.2041\n",
      "Epoch 7/50\n",
      "80/80 [==============================] - 0s 2ms/step - loss: 7.2043 - dense_11_loss: 0.6274 - dense_14_loss: 3.5501 - dense_17_loss: 3.0268 - dense_11_mse: 0.6274 - dense_14_mse: 3.5501 - dense_17_mse: 3.0268 - val_loss: 7.9415 - val_dense_11_loss: 0.4410 - val_dense_14_loss: 2.9193 - val_dense_17_loss: 4.5812 - val_dense_11_mse: 0.4410 - val_dense_14_mse: 2.9193 - val_dense_17_mse: 4.5812\n",
      "Epoch 8/50\n",
      "80/80 [==============================] - 0s 2ms/step - loss: 4.8201 - dense_11_loss: 0.2558 - dense_14_loss: 2.3512 - dense_17_loss: 2.2130 - dense_11_mse: 0.2558 - dense_14_mse: 2.3512 - dense_17_mse: 2.2130 - val_loss: 6.0124 - val_dense_11_loss: 0.9728 - val_dense_14_loss: 1.5966 - val_dense_17_loss: 3.4430 - val_dense_11_mse: 0.9728 - val_dense_14_mse: 1.5966 - val_dense_17_mse: 3.4430\n",
      "Epoch 9/50\n",
      "80/80 [==============================] - 0s 2ms/step - loss: 2.2121 - dense_11_loss: 0.1583 - dense_14_loss: 0.9958 - dense_17_loss: 1.0579 - dense_11_mse: 0.1583 - dense_14_mse: 0.9958 - dense_17_mse: 1.0579 - val_loss: 2.3793 - val_dense_11_loss: 0.8688 - val_dense_14_loss: 0.4882 - val_dense_17_loss: 1.0223 - val_dense_11_mse: 0.8688 - val_dense_14_mse: 0.4882 - val_dense_17_mse: 1.0223\n",
      "Epoch 10/50\n",
      "80/80 [==============================] - 0s 2ms/step - loss: 1.2282 - dense_11_loss: 0.0765 - dense_14_loss: 0.4968 - dense_17_loss: 0.6549 - dense_11_mse: 0.0765 - dense_14_mse: 0.4968 - dense_17_mse: 0.6549 - val_loss: 1.0384 - val_dense_11_loss: 0.0306 - val_dense_14_loss: 0.5500 - val_dense_17_loss: 0.4577 - val_dense_11_mse: 0.0306 - val_dense_14_mse: 0.5500 - val_dense_17_mse: 0.4577\n",
      "Epoch 11/50\n",
      "80/80 [==============================] - 0s 2ms/step - loss: 1.3340 - dense_11_loss: 0.1783 - dense_14_loss: 0.4965 - dense_17_loss: 0.6592 - dense_11_mse: 0.1783 - dense_14_mse: 0.4965 - dense_17_mse: 0.6592 - val_loss: 3.8426 - val_dense_11_loss: 1.1037 - val_dense_14_loss: 0.1522 - val_dense_17_loss: 2.5867 - val_dense_11_mse: 1.1037 - val_dense_14_mse: 0.1522 - val_dense_17_mse: 2.5867\n",
      "Epoch 12/50\n",
      "80/80 [==============================] - 0s 2ms/step - loss: 0.9624 - dense_11_loss: 0.1404 - dense_14_loss: 0.2910 - dense_17_loss: 0.5310 - dense_11_mse: 0.1404 - dense_14_mse: 0.2910 - dense_17_mse: 0.5310 - val_loss: 1.1275 - val_dense_11_loss: 0.0723 - val_dense_14_loss: 0.5971 - val_dense_17_loss: 0.4580 - val_dense_11_mse: 0.0723 - val_dense_14_mse: 0.5971 - val_dense_17_mse: 0.4580\n",
      "Epoch 13/50\n",
      "80/80 [==============================] - 0s 2ms/step - loss: 0.7913 - dense_11_loss: 0.1816 - dense_14_loss: 0.2307 - dense_17_loss: 0.3790 - dense_11_mse: 0.1816 - dense_14_mse: 0.2307 - dense_17_mse: 0.3790 - val_loss: 0.3513 - val_dense_11_loss: 0.0246 - val_dense_14_loss: 0.1014 - val_dense_17_loss: 0.2253 - val_dense_11_mse: 0.0246 - val_dense_14_mse: 0.1014 - val_dense_17_mse: 0.2253\n",
      "Epoch 14/50\n",
      "80/80 [==============================] - 0s 2ms/step - loss: 0.5210 - dense_11_loss: 0.0923 - dense_14_loss: 0.1748 - dense_17_loss: 0.2539 - dense_11_mse: 0.0923 - dense_14_mse: 0.1748 - dense_17_mse: 0.2539 - val_loss: 0.7252 - val_dense_11_loss: 0.1390 - val_dense_14_loss: 0.2075 - val_dense_17_loss: 0.3787 - val_dense_11_mse: 0.1390 - val_dense_14_mse: 0.2075 - val_dense_17_mse: 0.3787\n",
      "Epoch 15/50\n",
      "80/80 [==============================] - 0s 2ms/step - loss: 0.4387 - dense_11_loss: 0.0776 - dense_14_loss: 0.1475 - dense_17_loss: 0.2136 - dense_11_mse: 0.0776 - dense_14_mse: 0.1475 - dense_17_mse: 0.2136 - val_loss: 1.1026 - val_dense_11_loss: 0.2511 - val_dense_14_loss: 0.3552 - val_dense_17_loss: 0.4963 - val_dense_11_mse: 0.2511 - val_dense_14_mse: 0.3552 - val_dense_17_mse: 0.4963\n",
      "Epoch 16/50\n",
      "80/80 [==============================] - 0s 2ms/step - loss: 0.4754 - dense_11_loss: 0.0751 - dense_14_loss: 0.1489 - dense_17_loss: 0.2514 - dense_11_mse: 0.0751 - dense_14_mse: 0.1489 - dense_17_mse: 0.2514 - val_loss: 0.2001 - val_dense_11_loss: 0.0334 - val_dense_14_loss: 0.0735 - val_dense_17_loss: 0.0932 - val_dense_11_mse: 0.0334 - val_dense_14_mse: 0.0735 - val_dense_17_mse: 0.0932\n",
      "Epoch 17/50\n",
      "80/80 [==============================] - 0s 2ms/step - loss: 0.5080 - dense_11_loss: 0.0631 - dense_14_loss: 0.1868 - dense_17_loss: 0.2582 - dense_11_mse: 0.0631 - dense_14_mse: 0.1868 - dense_17_mse: 0.2582 - val_loss: 1.6603 - val_dense_11_loss: 0.0804 - val_dense_14_loss: 0.7275 - val_dense_17_loss: 0.8524 - val_dense_11_mse: 0.0804 - val_dense_14_mse: 0.7275 - val_dense_17_mse: 0.8524\n",
      "Epoch 18/50\n",
      "80/80 [==============================] - 0s 2ms/step - loss: 0.5511 - dense_11_loss: 0.2180 - dense_14_loss: 0.1408 - dense_17_loss: 0.1923 - dense_11_mse: 0.2180 - dense_14_mse: 0.1408 - dense_17_mse: 0.1923 - val_loss: 0.7926 - val_dense_11_loss: 0.4274 - val_dense_14_loss: 0.1634 - val_dense_17_loss: 0.2018 - val_dense_11_mse: 0.4274 - val_dense_14_mse: 0.1634 - val_dense_17_mse: 0.2018\n",
      "Epoch 19/50\n",
      "80/80 [==============================] - 0s 2ms/step - loss: 0.4530 - dense_11_loss: 0.0906 - dense_14_loss: 0.1436 - dense_17_loss: 0.2188 - dense_11_mse: 0.0906 - dense_14_mse: 0.1436 - dense_17_mse: 0.2188 - val_loss: 0.5398 - val_dense_11_loss: 0.4679 - val_dense_14_loss: 0.0507 - val_dense_17_loss: 0.0212 - val_dense_11_mse: 0.4679 - val_dense_14_mse: 0.0507 - val_dense_17_mse: 0.0212\n",
      "Epoch 20/50\n",
      "80/80 [==============================] - 0s 2ms/step - loss: 0.3762 - dense_11_loss: 0.1001 - dense_14_loss: 0.1123 - dense_17_loss: 0.1638 - dense_11_mse: 0.1001 - dense_14_mse: 0.1123 - dense_17_mse: 0.1638 - val_loss: 0.8214 - val_dense_11_loss: 0.0643 - val_dense_14_loss: 0.5222 - val_dense_17_loss: 0.2349 - val_dense_11_mse: 0.0643 - val_dense_14_mse: 0.5222 - val_dense_17_mse: 0.2349\n"
     ]
    },
    {
     "name": "stdout",
     "output_type": "stream",
     "text": [
      "Epoch 21/50\n",
      "80/80 [==============================] - 0s 2ms/step - loss: 0.3702 - dense_11_loss: 0.0807 - dense_14_loss: 0.1435 - dense_17_loss: 0.1460 - dense_11_mse: 0.0807 - dense_14_mse: 0.1435 - dense_17_mse: 0.1460 - val_loss: 0.7765 - val_dense_11_loss: 0.5543 - val_dense_14_loss: 0.1635 - val_dense_17_loss: 0.0588 - val_dense_11_mse: 0.5543 - val_dense_14_mse: 0.1635 - val_dense_17_mse: 0.0588\n",
      "Epoch 22/50\n",
      "80/80 [==============================] - 0s 2ms/step - loss: 0.5610 - dense_11_loss: 0.1734 - dense_14_loss: 0.1474 - dense_17_loss: 0.2402 - dense_11_mse: 0.1734 - dense_14_mse: 0.1474 - dense_17_mse: 0.2402 - val_loss: 0.2694 - val_dense_11_loss: 0.2173 - val_dense_14_loss: 0.0202 - val_dense_17_loss: 0.0318 - val_dense_11_mse: 0.2173 - val_dense_14_mse: 0.0202 - val_dense_17_mse: 0.0318\n",
      "Epoch 23/50\n",
      "80/80 [==============================] - 0s 2ms/step - loss: 0.3324 - dense_11_loss: 0.0750 - dense_14_loss: 0.1241 - dense_17_loss: 0.1334 - dense_11_mse: 0.0750 - dense_14_mse: 0.1241 - dense_17_mse: 0.1334 - val_loss: 0.2875 - val_dense_11_loss: 0.1210 - val_dense_14_loss: 0.0995 - val_dense_17_loss: 0.0669 - val_dense_11_mse: 0.1210 - val_dense_14_mse: 0.0995 - val_dense_17_mse: 0.0669\n",
      "Epoch 24/50\n",
      "80/80 [==============================] - 0s 2ms/step - loss: 0.4445 - dense_11_loss: 0.0742 - dense_14_loss: 0.1515 - dense_17_loss: 0.2189 - dense_11_mse: 0.0742 - dense_14_mse: 0.1515 - dense_17_mse: 0.2189 - val_loss: 0.9680 - val_dense_11_loss: 0.0905 - val_dense_14_loss: 0.3575 - val_dense_17_loss: 0.5200 - val_dense_11_mse: 0.0905 - val_dense_14_mse: 0.3575 - val_dense_17_mse: 0.5200\n",
      "Epoch 25/50\n",
      "80/80 [==============================] - 0s 2ms/step - loss: 0.3847 - dense_11_loss: 0.0771 - dense_14_loss: 0.1248 - dense_17_loss: 0.1828 - dense_11_mse: 0.0771 - dense_14_mse: 0.1248 - dense_17_mse: 0.1828 - val_loss: 3.2706 - val_dense_11_loss: 0.9204 - val_dense_14_loss: 1.1297 - val_dense_17_loss: 1.2204 - val_dense_11_mse: 0.9204 - val_dense_14_mse: 1.1297 - val_dense_17_mse: 1.2204\n",
      "Epoch 26/50\n",
      "80/80 [==============================] - 0s 2ms/step - loss: 0.6029 - dense_11_loss: 0.2068 - dense_14_loss: 0.1594 - dense_17_loss: 0.2367 - dense_11_mse: 0.2068 - dense_14_mse: 0.1594 - dense_17_mse: 0.2367 - val_loss: 0.1266 - val_dense_11_loss: 0.0426 - val_dense_14_loss: 0.0497 - val_dense_17_loss: 0.0343 - val_dense_11_mse: 0.0426 - val_dense_14_mse: 0.0497 - val_dense_17_mse: 0.0343\n",
      "Epoch 27/50\n",
      "80/80 [==============================] - 0s 2ms/step - loss: 0.5981 - dense_11_loss: 0.1688 - dense_14_loss: 0.1763 - dense_17_loss: 0.2531 - dense_11_mse: 0.1688 - dense_14_mse: 0.1763 - dense_17_mse: 0.2531 - val_loss: 0.1840 - val_dense_11_loss: 0.1064 - val_dense_14_loss: 0.0543 - val_dense_17_loss: 0.0233 - val_dense_11_mse: 0.1064 - val_dense_14_mse: 0.0543 - val_dense_17_mse: 0.0233\n",
      "Epoch 28/50\n",
      "80/80 [==============================] - 0s 2ms/step - loss: 0.2909 - dense_11_loss: 0.1048 - dense_14_loss: 0.0780 - dense_17_loss: 0.1081 - dense_11_mse: 0.1048 - dense_14_mse: 0.0780 - dense_17_mse: 0.1081 - val_loss: 0.1009 - val_dense_11_loss: 0.0140 - val_dense_14_loss: 0.0576 - val_dense_17_loss: 0.0293 - val_dense_11_mse: 0.0140 - val_dense_14_mse: 0.0576 - val_dense_17_mse: 0.0293\n",
      "Epoch 29/50\n",
      "80/80 [==============================] - 0s 2ms/step - loss: 0.1893 - dense_11_loss: 0.0528 - dense_14_loss: 0.0559 - dense_17_loss: 0.0806 - dense_11_mse: 0.0528 - dense_14_mse: 0.0559 - dense_17_mse: 0.0806 - val_loss: 2.2428 - val_dense_11_loss: 0.3127 - val_dense_14_loss: 0.8738 - val_dense_17_loss: 1.0563 - val_dense_11_mse: 0.3127 - val_dense_14_mse: 0.8738 - val_dense_17_mse: 1.0563\n",
      "Epoch 30/50\n",
      "80/80 [==============================] - 0s 2ms/step - loss: 0.3447 - dense_11_loss: 0.1325 - dense_14_loss: 0.0894 - dense_17_loss: 0.1227 - dense_11_mse: 0.1325 - dense_14_mse: 0.0894 - dense_17_mse: 0.1227 - val_loss: 0.2036 - val_dense_11_loss: 0.0246 - val_dense_14_loss: 0.1388 - val_dense_17_loss: 0.0402 - val_dense_11_mse: 0.0246 - val_dense_14_mse: 0.1388 - val_dense_17_mse: 0.0402\n",
      "Epoch 31/50\n",
      "80/80 [==============================] - 0s 2ms/step - loss: 0.1926 - dense_11_loss: 0.0428 - dense_14_loss: 0.0667 - dense_17_loss: 0.0831 - dense_11_mse: 0.0428 - dense_14_mse: 0.0667 - dense_17_mse: 0.0831 - val_loss: 0.5421 - val_dense_11_loss: 0.3889 - val_dense_14_loss: 0.1317 - val_dense_17_loss: 0.0215 - val_dense_11_mse: 0.3889 - val_dense_14_mse: 0.1317 - val_dense_17_mse: 0.0215\n",
      "Epoch 32/50\n",
      "80/80 [==============================] - 0s 2ms/step - loss: 0.2251 - dense_11_loss: 0.0712 - dense_14_loss: 0.0733 - dense_17_loss: 0.0806 - dense_11_mse: 0.0712 - dense_14_mse: 0.0733 - dense_17_mse: 0.0806 - val_loss: 1.3893 - val_dense_11_loss: 0.5713 - val_dense_14_loss: 0.3462 - val_dense_17_loss: 0.4717 - val_dense_11_mse: 0.5713 - val_dense_14_mse: 0.3462 - val_dense_17_mse: 0.4717\n",
      "Epoch 33/50\n",
      "80/80 [==============================] - 0s 2ms/step - loss: 0.2810 - dense_11_loss: 0.0665 - dense_14_loss: 0.0912 - dense_17_loss: 0.1233 - dense_11_mse: 0.0665 - dense_14_mse: 0.0912 - dense_17_mse: 0.1233 - val_loss: 0.3805 - val_dense_11_loss: 0.0478 - val_dense_14_loss: 0.1662 - val_dense_17_loss: 0.1664 - val_dense_11_mse: 0.0478 - val_dense_14_mse: 0.1662 - val_dense_17_mse: 0.1664\n",
      "Epoch 34/50\n",
      "80/80 [==============================] - 0s 2ms/step - loss: 0.1640 - dense_11_loss: 0.0272 - dense_14_loss: 0.0598 - dense_17_loss: 0.0770 - dense_11_mse: 0.0272 - dense_14_mse: 0.0598 - dense_17_mse: 0.0770 - val_loss: 0.0965 - val_dense_11_loss: 0.0299 - val_dense_14_loss: 0.0387 - val_dense_17_loss: 0.0279 - val_dense_11_mse: 0.0299 - val_dense_14_mse: 0.0387 - val_dense_17_mse: 0.0279\n",
      "Epoch 35/50\n",
      "80/80 [==============================] - 0s 2ms/step - loss: 0.3831 - dense_11_loss: 0.2343 - dense_14_loss: 0.0755 - dense_17_loss: 0.0733 - dense_11_mse: 0.2343 - dense_14_mse: 0.0755 - dense_17_mse: 0.0733 - val_loss: 0.1688 - val_dense_11_loss: 0.0471 - val_dense_14_loss: 0.0496 - val_dense_17_loss: 0.0720 - val_dense_11_mse: 0.0471 - val_dense_14_mse: 0.0496 - val_dense_17_mse: 0.0720\n",
      "Epoch 36/50\n",
      "80/80 [==============================] - 0s 2ms/step - loss: 0.6647 - dense_11_loss: 0.3863 - dense_14_loss: 0.1255 - dense_17_loss: 0.1530 - dense_11_mse: 0.3863 - dense_14_mse: 0.1255 - dense_17_mse: 0.1530 - val_loss: 0.4120 - val_dense_11_loss: 0.1681 - val_dense_14_loss: 0.0867 - val_dense_17_loss: 0.1572 - val_dense_11_mse: 0.1681 - val_dense_14_mse: 0.0867 - val_dense_17_mse: 0.1572\n",
      "Epoch 37/50\n",
      "80/80 [==============================] - 0s 2ms/step - loss: 0.2467 - dense_11_loss: 0.1610 - dense_14_loss: 0.0416 - dense_17_loss: 0.0441 - dense_11_mse: 0.1610 - dense_14_mse: 0.0416 - dense_17_mse: 0.0441 - val_loss: 0.5050 - val_dense_11_loss: 0.3677 - val_dense_14_loss: 0.0806 - val_dense_17_loss: 0.0567 - val_dense_11_mse: 0.3677 - val_dense_14_mse: 0.0806 - val_dense_17_mse: 0.0567\n",
      "Epoch 38/50\n",
      "80/80 [==============================] - 0s 2ms/step - loss: 0.2732 - dense_11_loss: 0.1606 - dense_14_loss: 0.0513 - dense_17_loss: 0.0613 - dense_11_mse: 0.1606 - dense_14_mse: 0.0513 - dense_17_mse: 0.0613 - val_loss: 0.3878 - val_dense_11_loss: 0.2027 - val_dense_14_loss: 0.1260 - val_dense_17_loss: 0.0591 - val_dense_11_mse: 0.2027 - val_dense_14_mse: 0.1260 - val_dense_17_mse: 0.0591\n",
      "Epoch 39/50\n",
      "80/80 [==============================] - 0s 2ms/step - loss: 1.1191 - dense_11_loss: 0.6889 - dense_14_loss: 0.1987 - dense_17_loss: 0.2314 - dense_11_mse: 0.6889 - dense_14_mse: 0.1987 - dense_17_mse: 0.2314 - val_loss: 11.6472 - val_dense_11_loss: 10.7859 - val_dense_14_loss: 0.5881 - val_dense_17_loss: 0.2732 - val_dense_11_mse: 10.7859 - val_dense_14_mse: 0.5881 - val_dense_17_mse: 0.2732\n",
      "Epoch 40/50\n",
      "80/80 [==============================] - 0s 2ms/step - loss: 104.6301 - dense_11_loss: 40.6899 - dense_14_loss: 27.8987 - dense_17_loss: 36.0415 - dense_11_mse: 40.6899 - dense_14_mse: 27.8987 - dense_17_mse: 36.0415 - val_loss: 12.5849 - val_dense_11_loss: 6.2051 - val_dense_14_loss: 2.4986 - val_dense_17_loss: 3.8811 - val_dense_11_mse: 6.2051 - val_dense_14_mse: 2.4986 - val_dense_17_mse: 3.8811\n",
      "Epoch 41/50\n"
     ]
    },
    {
     "name": "stdout",
     "output_type": "stream",
     "text": [
      "80/80 [==============================] - 0s 2ms/step - loss: 12.7565 - dense_11_loss: 5.7630 - dense_14_loss: 3.1980 - dense_17_loss: 3.7955 - dense_11_mse: 5.7630 - dense_14_mse: 3.1980 - dense_17_mse: 3.7955 - val_loss: 13.4754 - val_dense_11_loss: 3.5821 - val_dense_14_loss: 4.4896 - val_dense_17_loss: 5.4037 - val_dense_11_mse: 3.5821 - val_dense_14_mse: 4.4896 - val_dense_17_mse: 5.4037\n",
      "Epoch 42/50\n",
      "80/80 [==============================] - 0s 2ms/step - loss: 5.7036 - dense_11_loss: 2.6004 - dense_14_loss: 1.4017 - dense_17_loss: 1.7015 - dense_11_mse: 2.6004 - dense_14_mse: 1.4017 - dense_17_mse: 1.7015 - val_loss: 2.2021 - val_dense_11_loss: 1.0197 - val_dense_14_loss: 0.6837 - val_dense_17_loss: 0.4987 - val_dense_11_mse: 1.0197 - val_dense_14_mse: 0.6837 - val_dense_17_mse: 0.4987\n",
      "Epoch 43/50\n",
      "80/80 [==============================] - 0s 2ms/step - loss: 1.2922 - dense_11_loss: 0.7441 - dense_14_loss: 0.2689 - dense_17_loss: 0.2791 - dense_11_mse: 0.7441 - dense_14_mse: 0.2689 - dense_17_mse: 0.2791 - val_loss: 6.4894 - val_dense_11_loss: 6.3741 - val_dense_14_loss: 0.1019 - val_dense_17_loss: 0.0135 - val_dense_11_mse: 6.3741 - val_dense_14_mse: 0.1019 - val_dense_17_mse: 0.0135\n",
      "Epoch 44/50\n",
      "80/80 [==============================] - 0s 2ms/step - loss: 1.8193 - dense_11_loss: 0.8917 - dense_14_loss: 0.4731 - dense_17_loss: 0.4545 - dense_11_mse: 0.8917 - dense_14_mse: 0.4731 - dense_17_mse: 0.4545 - val_loss: 0.2243 - val_dense_11_loss: 0.0311 - val_dense_14_loss: 0.1715 - val_dense_17_loss: 0.0217 - val_dense_11_mse: 0.0311 - val_dense_14_mse: 0.1715 - val_dense_17_mse: 0.0217\n",
      "Epoch 45/50\n",
      "80/80 [==============================] - 0s 2ms/step - loss: 2.3782 - dense_11_loss: 1.1905 - dense_14_loss: 0.5524 - dense_17_loss: 0.6353 - dense_11_mse: 1.1905 - dense_14_mse: 0.5524 - dense_17_mse: 0.6353 - val_loss: 5.3737 - val_dense_11_loss: 3.5751 - val_dense_14_loss: 0.9020 - val_dense_17_loss: 0.8966 - val_dense_11_mse: 3.5751 - val_dense_14_mse: 0.9020 - val_dense_17_mse: 0.8966\n",
      "Epoch 46/50\n",
      "80/80 [==============================] - 0s 2ms/step - loss: 2.0959 - dense_11_loss: 1.0926 - dense_14_loss: 0.4539 - dense_17_loss: 0.5493 - dense_11_mse: 1.0926 - dense_14_mse: 0.4539 - dense_17_mse: 0.5493 - val_loss: 5.1340 - val_dense_11_loss: 0.0179 - val_dense_14_loss: 2.1155 - val_dense_17_loss: 3.0006 - val_dense_11_mse: 0.0179 - val_dense_14_mse: 2.1155 - val_dense_17_mse: 3.0006\n",
      "Epoch 47/50\n",
      "80/80 [==============================] - 0s 2ms/step - loss: 10.5785 - dense_11_loss: 4.2543 - dense_14_loss: 2.8427 - dense_17_loss: 3.4815 - dense_11_mse: 4.2543 - dense_14_mse: 2.8427 - dense_17_mse: 3.4815 - val_loss: 12.5064 - val_dense_11_loss: 2.9323 - val_dense_14_loss: 3.9359 - val_dense_17_loss: 5.6382 - val_dense_11_mse: 2.9323 - val_dense_14_mse: 3.9359 - val_dense_17_mse: 5.6382\n",
      "Epoch 48/50\n",
      "80/80 [==============================] - 0s 2ms/step - loss: 41.9274 - dense_11_loss: 10.9355 - dense_14_loss: 13.4355 - dense_17_loss: 17.5564 - dense_11_mse: 10.9355 - dense_14_mse: 13.4355 - dense_17_mse: 17.5564 - val_loss: 98.5047 - val_dense_11_loss: 30.4288 - val_dense_14_loss: 25.3142 - val_dense_17_loss: 42.7618 - val_dense_11_mse: 30.4288 - val_dense_14_mse: 25.3142 - val_dense_17_mse: 42.7618\n",
      "Epoch 49/50\n",
      "80/80 [==============================] - 0s 2ms/step - loss: 43.0708 - dense_11_loss: 7.6935 - dense_14_loss: 15.6110 - dense_17_loss: 19.7663 - dense_11_mse: 7.6935 - dense_14_mse: 15.6110 - dense_17_mse: 19.7663 - val_loss: 51.0874 - val_dense_11_loss: 13.0544 - val_dense_14_loss: 17.1377 - val_dense_17_loss: 20.8952 - val_dense_11_mse: 13.0544 - val_dense_14_mse: 17.1377 - val_dense_17_mse: 20.8952\n",
      "Epoch 50/50\n",
      "80/80 [==============================] - 0s 2ms/step - loss: 24.9492 - dense_11_loss: 5.4033 - dense_14_loss: 9.0160 - dense_17_loss: 10.5299 - dense_11_mse: 5.4033 - dense_14_mse: 9.0160 - dense_17_mse: 10.5299 - val_loss: 50.9182 - val_dense_11_loss: 0.3439 - val_dense_14_loss: 24.5189 - val_dense_17_loss: 26.0554 - val_dense_11_mse: 0.3439 - val_dense_14_mse: 24.5189 - val_dense_17_mse: 26.0554\n"
     ]
    },
    {
     "data": {
      "text/plain": [
       "<tensorflow.python.keras.callbacks.History at 0x214d44ed088>"
      ]
     },
     "execution_count": 22,
     "metadata": {},
     "output_type": "execute_result"
    }
   ],
   "source": [
    "model.compile(loss='mse', optimizer='adam', metrics=['mse'])\n",
    "model.fit([x1_train, x2_train], [y1_train, y2_train, y3_train],\n",
    "          epochs=50, batch_size=1,\n",
    "          validation_data=([x1_val, x2_val], [y1_val, y2_val, y3_val]))"
   ]
  },
  {
   "cell_type": "code",
   "execution_count": 23,
   "metadata": {},
   "outputs": [
    {
     "name": "stdout",
     "output_type": "stream",
     "text": [
      "10/10 [==============================] - 0s 1ms/step - loss: 41.5858 - dense_11_loss: 0.1751 - dense_14_loss: 20.3527 - dense_17_loss: 21.0580 - dense_11_mse: 0.1751 - dense_14_mse: 20.3527 - dense_17_mse: 21.0580\n",
      "y1 예측값 : \n",
      " [[ 91.24292  190.39621 ]\n",
      " [ 92.27597  191.43654 ]\n",
      " [ 93.309074 192.47693 ]\n",
      " [ 94.34214  193.5173  ]\n",
      " [ 95.37528  194.5577  ]\n",
      " [ 96.40843  195.59808 ]\n",
      " [ 97.4415   196.63849 ]\n",
      " [ 98.465904 197.6711  ]\n",
      " [ 99.48141  198.69566 ]\n",
      " [100.49689  199.72037 ]] \n",
      " y2 예측값 : \n",
      " [[588.7548  684.72534]\n",
      " [589.8062  685.7754 ]\n",
      " [590.8576  686.8255 ]\n",
      " [591.90894 687.8755 ]\n",
      " [592.9604  688.9257 ]\n",
      " [594.01166 689.97577]\n",
      " [595.0631  691.0259 ]\n",
      " [596.1125  692.07526]\n",
      " [597.16    693.1239 ]\n",
      " [598.2075  694.1725 ]] \n",
      " y3 예측값 : \n",
      " [[786.83136 885.5929 ]\n",
      " [787.8796  886.65106]\n",
      " [788.9277  887.7091 ]\n",
      " [789.97577 888.76733]\n",
      " [791.02405 889.82556]\n",
      " [792.0721  890.88385]\n",
      " [793.1203  891.94196]\n",
      " [794.16876 893.0025 ]\n",
      " [795.21716 894.0655 ]\n",
      " [796.2658  895.12854]]\n"
     ]
    }
   ],
   "source": [
    "mse = model.evaluate([x1_test, x2_test],\n",
    "[y1_test, y2_test, y3_test], batch_size=1)\n",
    "\n",
    "y1_predict, y2_predict, y3_predict = model.predict([x1_test, x2_test])\n",
    "print(\"y1 예측값 : \\n\", y1_predict,\n",
    "      \"\\n y2 예측값 : \\n\", y2_predict, \"\\n y3 예측값 : \\n\", y3_predict)"
   ]
  },
  {
   "cell_type": "code",
   "execution_count": 24,
   "metadata": {},
   "outputs": [
    {
     "data": {
      "text/plain": [
       "array([[ 91, 191],\n",
       "       [ 92, 192],\n",
       "       [ 93, 193],\n",
       "       [ 94, 194],\n",
       "       [ 95, 195],\n",
       "       [ 96, 196],\n",
       "       [ 97, 197],\n",
       "       [ 98, 198],\n",
       "       [ 99, 199],\n",
       "       [100, 200]])"
      ]
     },
     "execution_count": 24,
     "metadata": {},
     "output_type": "execute_result"
    }
   ],
   "source": [
    "x1_test"
   ]
  },
  {
   "cell_type": "code",
   "execution_count": 25,
   "metadata": {},
   "outputs": [
    {
     "data": {
      "text/plain": [
       "array([[591, 691],\n",
       "       [592, 692],\n",
       "       [593, 693],\n",
       "       [594, 694],\n",
       "       [595, 695],\n",
       "       [596, 696],\n",
       "       [597, 697],\n",
       "       [598, 698],\n",
       "       [599, 699],\n",
       "       [600, 700]])"
      ]
     },
     "execution_count": 25,
     "metadata": {},
     "output_type": "execute_result"
    }
   ],
   "source": [
    "x2_test"
   ]
  },
  {
   "cell_type": "code",
   "execution_count": 28,
   "metadata": {},
   "outputs": [
    {
     "data": {
      "text/plain": [
       "array([[791, 891],\n",
       "       [792, 892],\n",
       "       [793, 893],\n",
       "       [794, 894],\n",
       "       [795, 895],\n",
       "       [796, 896],\n",
       "       [797, 897],\n",
       "       [798, 898],\n",
       "       [799, 899],\n",
       "       [800, 900]])"
      ]
     },
     "execution_count": 28,
     "metadata": {},
     "output_type": "execute_result"
    }
   ],
   "source": [
    "y3_test"
   ]
  }
 ],
 "metadata": {
  "kernelspec": {
   "display_name": "Python 3",
   "language": "python",
   "name": "python3"
  },
  "language_info": {
   "codemirror_mode": {
    "name": "ipython",
    "version": 3
   },
   "file_extension": ".py",
   "mimetype": "text/x-python",
   "name": "python",
   "nbconvert_exporter": "python",
   "pygments_lexer": "ipython3",
   "version": "3.7.6"
  }
 },
 "nbformat": 4,
 "nbformat_minor": 4
}
