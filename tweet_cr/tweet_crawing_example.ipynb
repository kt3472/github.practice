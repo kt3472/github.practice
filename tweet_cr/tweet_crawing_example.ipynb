{
 "cells": [
  {
   "cell_type": "code",
   "execution_count": 27,
   "metadata": {},
   "outputs": [],
   "source": [
    "import GetOldTweets3 as got\n",
    "from bs4 import BeautifulSoup\n",
    "import requests\n",
    "import pandas as pd\n",
    "import numpy as np"
   ]
  },
  {
   "cell_type": "code",
   "execution_count": 2,
   "metadata": {},
   "outputs": [],
   "source": [
    "import datetime"
   ]
  },
  {
   "cell_type": "code",
   "execution_count": 3,
   "metadata": {},
   "outputs": [
    {
     "name": "stdout",
     "output_type": "stream",
     "text": [
      "=== 설정된 트윗 수집 기간은 2019-04-21 에서 2019-04-21 까지 입니다 ===\n",
      "=== 총 1일 간의 데이터 수집 ===\n"
     ]
    }
   ],
   "source": [
    "days_range = []\n",
    "\n",
    "start = datetime.datetime.strptime(\"2019-04-21\", \"%Y-%m-%d\")\n",
    "end = datetime.datetime.strptime(\"2019-04-22\", \"%Y-%m-%d\")\n",
    "date_generated = [start + datetime.timedelta(days=x) for x in range(0, (end-start).days)]\n",
    "\n",
    "for date in date_generated:\n",
    "    days_range.append(date.strftime(\"%Y-%m-%d\"))\n",
    "\n",
    "print(\"=== 설정된 트윗 수집 기간은 {} 에서 {} 까지 입니다 ===\".format(days_range[0], days_range[-1]))\n",
    "print(\"=== 총 {}일 간의 데이터 수집 ===\".format(len(days_range)))"
   ]
  },
  {
   "cell_type": "code",
   "execution_count": 4,
   "metadata": {},
   "outputs": [],
   "source": [
    "import time\n",
    "\n",
    "# 수집 기간 맞추기\n",
    "start_date = days_range[0]\n",
    "end_date = (datetime.datetime.strptime(days_range[-1], \"%Y-%m-%d\") \n",
    "            + datetime.timedelta(days=1)).strftime(\"%Y-%m-%d\") # setUntil이 끝을 포함하지 않으므로, day + 1\n",
    "\n",
    "# 트윗 수집 기준 정의\n",
    "tweetCriteria = got.manager.TweetCriteria().setQuerySearch('방탄소년단 OR 빅히트')\\\n",
    "                                           .setSince(start_date)\\\n",
    "                                           .setUntil(end_date)\\\n",
    "                                           .setMaxTweets(-1)"
   ]
  },
  {
   "cell_type": "code",
   "execution_count": 5,
   "metadata": {},
   "outputs": [
    {
     "name": "stdout",
     "output_type": "stream",
     "text": [
      "Collecting data start.. from 2019-04-21 to 2019-04-21\n",
      "Collecting data end.. 0.87 Minutes\n",
      "=== Total num of tweets is 607 ===\n"
     ]
    }
   ],
   "source": [
    "print(\"Collecting data start.. from {} to {}\".format(days_range[0], days_range[-1]))\n",
    "start_time = time.time()\n",
    "\n",
    "tweet = got.manager.TweetManager.getTweets(tweetCriteria)\n",
    "\n",
    "print(\"Collecting data end.. {0:0.2f} Minutes\".format((time.time() - start_time)/60))\n",
    "print(\"=== Total num of tweets is {} ===\".format(len(tweet)))"
   ]
  },
  {
   "cell_type": "code",
   "execution_count": 44,
   "metadata": {},
   "outputs": [],
   "source": [
    "tweet_data = pd.DataFrame({\"username\":[],\"date_t\":[],\"text_t\":[], \"favorites\":[], \"hashtags\":[],\"retweets\":[],\"replies\":[], \"author_id\":[]},\n",
    "                          columns = [\"username\",\"date_t\",\"text_t\",\"favorites\",\"hashtags\",\"retweets\",\"replies\", \"author_id\"])"
   ]
  },
  {
   "cell_type": "code",
   "execution_count": 45,
   "metadata": {},
   "outputs": [],
   "source": [
    "for i in range(len(tweet)):\n",
    "    \n",
    "    username = str(tweet[i].username)\n",
    "    date_t = str(tweet[i].date)\n",
    "    text_t = str(tweet[i].text)\n",
    "    favorites = str(tweet[i].favorites)\n",
    "    hashtags = str(tweet[i].hashtags)\n",
    "    retweets = str(tweet[i].retweets)\n",
    "    replies = str(tweet[i].replies)\n",
    "    author_id = str(tweet[i].author_id)\n",
    "        \n",
    "    tweet_data.loc[i] = [username, date_t, text_t, favorites, hashtags, retweets, replies, author_id]\n",
    "    "
   ]
  },
  {
   "cell_type": "code",
   "execution_count": 47,
   "metadata": {},
   "outputs": [
    {
     "data": {
      "text/html": [
       "<div>\n",
       "<style scoped>\n",
       "    .dataframe tbody tr th:only-of-type {\n",
       "        vertical-align: middle;\n",
       "    }\n",
       "\n",
       "    .dataframe tbody tr th {\n",
       "        vertical-align: top;\n",
       "    }\n",
       "\n",
       "    .dataframe thead th {\n",
       "        text-align: right;\n",
       "    }\n",
       "</style>\n",
       "<table border=\"1\" class=\"dataframe\">\n",
       "  <thead>\n",
       "    <tr style=\"text-align: right;\">\n",
       "      <th></th>\n",
       "      <th>username</th>\n",
       "      <th>date_t</th>\n",
       "      <th>text_t</th>\n",
       "      <th>favorites</th>\n",
       "      <th>hashtags</th>\n",
       "      <th>retweets</th>\n",
       "      <th>replies</th>\n",
       "      <th>author_id</th>\n",
       "    </tr>\n",
       "  </thead>\n",
       "  <tbody>\n",
       "    <tr>\n",
       "      <th>0</th>\n",
       "      <td>bts_uttarakhand</td>\n",
       "      <td>2019-04-21 23:59:55+00:00</td>\n",
       "      <td>#PersonaBillboardNo1 Congratulations @BTS_twt ...</td>\n",
       "      <td>1</td>\n",
       "      <td>#PersonaBillboardNo1 #BTS #BTS</td>\n",
       "      <td>0</td>\n",
       "      <td>0</td>\n",
       "      <td>1067821869066158081</td>\n",
       "    </tr>\n",
       "    <tr>\n",
       "      <th>1</th>\n",
       "      <td>uuukorea4</td>\n",
       "      <td>2020-08-04 08:22:54+00:00</td>\n",
       "      <td>요즘 살 빼려고 식단 관리 중인데 이 단백질쉐이크 진짜 좋아요. 맛이 질리지 않고 ...</td>\n",
       "      <td>3521</td>\n",
       "      <td></td>\n",
       "      <td>1358</td>\n",
       "      <td>60</td>\n",
       "      <td>1267644552535367680</td>\n",
       "    </tr>\n",
       "    <tr>\n",
       "      <th>2</th>\n",
       "      <td>hona_0731</td>\n",
       "      <td>2019-04-21 23:59:48+00:00</td>\n",
       "      <td>・ CHIMMYとも撮れた( ¨̮ )♡ ・ #방탄소년단 #지민 #19951013 #b...</td>\n",
       "      <td>0</td>\n",
       "      <td>#bt21 #chimmy #95z</td>\n",
       "      <td>0</td>\n",
       "      <td>0</td>\n",
       "      <td>3271884776</td>\n",
       "    </tr>\n",
       "    <tr>\n",
       "      <th>3</th>\n",
       "      <td>AmberBTS001</td>\n",
       "      <td>2019-04-21 23:59:44+00:00</td>\n",
       "      <td>#방탄소년단, '빌보드 200' 1위..\"11개월 만에 3연속 정상\" | 다음연예 ...</td>\n",
       "      <td>0</td>\n",
       "      <td>#BTS #BTS</td>\n",
       "      <td>0</td>\n",
       "      <td>0</td>\n",
       "      <td>921133392380481536</td>\n",
       "    </tr>\n",
       "    <tr>\n",
       "      <th>4</th>\n",
       "      <td>hokaphoka</td>\n",
       "      <td>2019-04-21 23:59:37+00:00</td>\n",
       "      <td>ㅋㅋㅋ 내 바이오에도 써놨듯이 여긴 #지민악개 박제하는 계정인데? ㅋ 다른멤버 악개...</td>\n",
       "      <td>1</td>\n",
       "      <td></td>\n",
       "      <td>0</td>\n",
       "      <td>0</td>\n",
       "      <td>998423048448495616</td>\n",
       "    </tr>\n",
       "  </tbody>\n",
       "</table>\n",
       "</div>"
      ],
      "text/plain": [
       "          username                     date_t  \\\n",
       "0  bts_uttarakhand  2019-04-21 23:59:55+00:00   \n",
       "1        uuukorea4  2020-08-04 08:22:54+00:00   \n",
       "2        hona_0731  2019-04-21 23:59:48+00:00   \n",
       "3      AmberBTS001  2019-04-21 23:59:44+00:00   \n",
       "4        hokaphoka  2019-04-21 23:59:37+00:00   \n",
       "\n",
       "                                              text_t favorites  \\\n",
       "0  #PersonaBillboardNo1 Congratulations @BTS_twt ...         1   \n",
       "1  요즘 살 빼려고 식단 관리 중인데 이 단백질쉐이크 진짜 좋아요. 맛이 질리지 않고 ...      3521   \n",
       "2  ・ CHIMMYとも撮れた( ¨̮ )♡ ・ #방탄소년단 #지민 #19951013 #b...         0   \n",
       "3  #방탄소년단, '빌보드 200' 1위..\"11개월 만에 3연속 정상\" | 다음연예 ...         0   \n",
       "4  ㅋㅋㅋ 내 바이오에도 써놨듯이 여긴 #지민악개 박제하는 계정인데? ㅋ 다른멤버 악개...         1   \n",
       "\n",
       "                         hashtags retweets replies            author_id  \n",
       "0  #PersonaBillboardNo1 #BTS #BTS        0       0  1067821869066158081  \n",
       "1                                     1358      60  1267644552535367680  \n",
       "2              #bt21 #chimmy #95z        0       0           3271884776  \n",
       "3                       #BTS #BTS        0       0   921133392380481536  \n",
       "4                                        0       0   998423048448495616  "
      ]
     },
     "execution_count": 47,
     "metadata": {},
     "output_type": "execute_result"
    }
   ],
   "source": [
    "tweet_data.head()"
   ]
  },
  {
   "cell_type": "code",
   "execution_count": 52,
   "metadata": {},
   "outputs": [],
   "source": [
    "tweet_data.to_csv(\"tweet_cr_example.csv\", encoding=\"UTF-8\")"
   ]
  },
  {
   "cell_type": "code",
   "execution_count": null,
   "metadata": {},
   "outputs": [],
   "source": []
  }
 ],
 "metadata": {
  "kernelspec": {
   "display_name": "Python 3",
   "language": "python",
   "name": "python3"
  },
  "language_info": {
   "codemirror_mode": {
    "name": "ipython",
    "version": 3
   },
   "file_extension": ".py",
   "mimetype": "text/x-python",
   "name": "python",
   "nbconvert_exporter": "python",
   "pygments_lexer": "ipython3",
   "version": "3.7.6"
  }
 },
 "nbformat": 4,
 "nbformat_minor": 4
}
