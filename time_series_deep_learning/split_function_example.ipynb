{
 "cells": [
  {
   "cell_type": "code",
   "execution_count": 13,
   "metadata": {},
   "outputs": [],
   "source": [
    "import numpy as np\n",
    "dataset = np.array([1,2,3,4,5,6,7,8,9,10])"
   ]
  },
  {
   "cell_type": "markdown",
   "metadata": {},
   "source": [
    "## split 함수 1:1"
   ]
  },
  {
   "cell_type": "code",
   "execution_count": 3,
   "metadata": {},
   "outputs": [],
   "source": [
    "def split_xy1(dataset, time_steps):\n",
    "    \n",
    "    x, y = list(), list()\n",
    "    \n",
    "    for i in range(len(dataset)):\n",
    "        \n",
    "        end_number = i + time_steps\n",
    "        if end_number > len(dataset) - 1:\n",
    "            \n",
    "            break\n",
    "            \n",
    "        tmp_x, tmp_y = dataset[i:end_number], dataset[end_number]\n",
    "        \n",
    "        x.append(tmp_x)\n",
    "        y.append(tmp_y)\n",
    "    \n",
    "    return np.array(x), np.array(y)"
   ]
  },
  {
   "cell_type": "code",
   "execution_count": 8,
   "metadata": {},
   "outputs": [],
   "source": [
    "x, y = split_xy1(dataset, 3)"
   ]
  },
  {
   "cell_type": "code",
   "execution_count": 9,
   "metadata": {},
   "outputs": [
    {
     "name": "stdout",
     "output_type": "stream",
     "text": [
      "[[1 2 3]\n",
      " [2 3 4]\n",
      " [3 4 5]\n",
      " [4 5 6]\n",
      " [5 6 7]\n",
      " [6 7 8]\n",
      " [7 8 9]]\n"
     ]
    }
   ],
   "source": [
    "print(x)"
   ]
  },
  {
   "cell_type": "code",
   "execution_count": 10,
   "metadata": {},
   "outputs": [
    {
     "name": "stdout",
     "output_type": "stream",
     "text": [
      "[ 4  5  6  7  8  9 10]\n"
     ]
    }
   ],
   "source": [
    "print(y)"
   ]
  },
  {
   "cell_type": "markdown",
   "metadata": {},
   "source": [
    "## split 함수 다:다"
   ]
  },
  {
   "cell_type": "code",
   "execution_count": 15,
   "metadata": {},
   "outputs": [],
   "source": [
    "def split_xy2(dataset, time_steps, y_columns):\n",
    "    \n",
    "    x,y = list(), list()\n",
    "    \n",
    "    for i in range(len(dataset)):\n",
    "        \n",
    "        x_end_number = i + time_steps\n",
    "        y_end_number = x_end_number + y_columns\n",
    "        \n",
    "        \n",
    "        if y_end_number > len(dataset) -1:\n",
    "            break\n",
    "            \n",
    "        tmp_x = dataset[i: x_end_number]\n",
    "        tmp_y = dataset[x_end_number : y_end_number]\n",
    "        \n",
    "        x.append(tmp_x)\n",
    "        y.append(tmp_y)\n",
    "        \n",
    "        \n",
    "    return np.array(x), np.array(y)"
   ]
  },
  {
   "cell_type": "code",
   "execution_count": 16,
   "metadata": {},
   "outputs": [],
   "source": [
    "time_steps = 4\n",
    "y_columns = 2\n",
    "\n",
    "x,y = split_xy2(dataset, time_steps, y_columns)"
   ]
  },
  {
   "cell_type": "code",
   "execution_count": 17,
   "metadata": {},
   "outputs": [
    {
     "name": "stdout",
     "output_type": "stream",
     "text": [
      "[[1 2 3 4]\n",
      " [2 3 4 5]\n",
      " [3 4 5 6]\n",
      " [4 5 6 7]] \n",
      " [[5 6]\n",
      " [6 7]\n",
      " [7 8]\n",
      " [8 9]]\n"
     ]
    }
   ],
   "source": [
    "print(x, \"\\n\", y)"
   ]
  },
  {
   "cell_type": "code",
   "execution_count": 18,
   "metadata": {},
   "outputs": [
    {
     "data": {
      "text/plain": [
       "(4, 4)"
      ]
     },
     "execution_count": 18,
     "metadata": {},
     "output_type": "execute_result"
    }
   ],
   "source": [
    "x.shape"
   ]
  },
  {
   "cell_type": "code",
   "execution_count": 19,
   "metadata": {},
   "outputs": [
    {
     "data": {
      "text/plain": [
       "(4, 2)"
      ]
     },
     "execution_count": 19,
     "metadata": {},
     "output_type": "execute_result"
    }
   ],
   "source": [
    "y.shape"
   ]
  },
  {
   "cell_type": "markdown",
   "metadata": {},
   "source": [
    "## split 함수 다:1"
   ]
  },
  {
   "cell_type": "code",
   "execution_count": 21,
   "metadata": {},
   "outputs": [],
   "source": [
    "dataset = np.array([[1,2,3,4,5,6,7,8,9,10],\n",
    "                    [11,12,13,14,15,16,17,18,19,20],\n",
    "                    [21,22,23,24,25,26,27,28,29,30]])"
   ]
  },
  {
   "cell_type": "code",
   "execution_count": 22,
   "metadata": {},
   "outputs": [
    {
     "name": "stdout",
     "output_type": "stream",
     "text": [
      "dataset.shape :  (3, 10)\n",
      "[[ 1 11 21]\n",
      " [ 2 12 22]\n",
      " [ 3 13 23]\n",
      " [ 4 14 24]\n",
      " [ 5 15 25]\n",
      " [ 6 16 26]\n",
      " [ 7 17 27]\n",
      " [ 8 18 28]\n",
      " [ 9 19 29]\n",
      " [10 20 30]]\n",
      "dataset.shape :  (10, 3)\n"
     ]
    }
   ],
   "source": [
    "print(\"dataset.shape : \", dataset.shape)\n",
    "dataset = np.transpose(dataset)\n",
    "print(dataset)\n",
    "print(\"dataset.shape : \", dataset.shape)\n"
   ]
  },
  {
   "cell_type": "code",
   "execution_count": 24,
   "metadata": {},
   "outputs": [],
   "source": [
    "def split_xy3(dataset, time_steps, y_column):\n",
    "    x, y = list(), list()\n",
    "    for i in range(len(dataset)):\n",
    "        x_end_number = i + time_steps\n",
    "        y_end_number = x_end_number + y_column -1 # 수정\n",
    "        \n",
    "        if y_end_number > len(dataset): # 수정\n",
    "            break\n",
    "        \n",
    "        tmp_x = dataset[i:x_end_number, :-1]\n",
    "        tmp_y = dataset[x_end_number-1:y_end_number, -1] # 수정\n",
    "        x.append(tmp_x)\n",
    "        y.append(tmp_y)\n",
    "    \n",
    "    return np.array(x), np.array(y)"
   ]
  },
  {
   "cell_type": "code",
   "execution_count": 25,
   "metadata": {},
   "outputs": [
    {
     "name": "stdout",
     "output_type": "stream",
     "text": [
      "[[[ 1 11]\n",
      "  [ 2 12]\n",
      "  [ 3 13]]\n",
      "\n",
      " [[ 2 12]\n",
      "  [ 3 13]\n",
      "  [ 4 14]]\n",
      "\n",
      " [[ 3 13]\n",
      "  [ 4 14]\n",
      "  [ 5 15]]\n",
      "\n",
      " [[ 4 14]\n",
      "  [ 5 15]\n",
      "  [ 6 16]]\n",
      "\n",
      " [[ 5 15]\n",
      "  [ 6 16]\n",
      "  [ 7 17]]\n",
      "\n",
      " [[ 6 16]\n",
      "  [ 7 17]\n",
      "  [ 8 18]]\n",
      "\n",
      " [[ 7 17]\n",
      "  [ 8 18]\n",
      "  [ 9 19]]\n",
      "\n",
      " [[ 8 18]\n",
      "  [ 9 19]\n",
      "  [10 20]]] \n",
      " [[23]\n",
      " [24]\n",
      " [25]\n",
      " [26]\n",
      " [27]\n",
      " [28]\n",
      " [29]\n",
      " [30]]\n",
      "(8, 3, 2)\n",
      "(8, 1)\n"
     ]
    }
   ],
   "source": [
    "x, y = split_xy3(dataset, 3, 1)\n",
    "print(x, \"\\n\", y)\n",
    "print(x.shape)\n",
    "print(y.shape)"
   ]
  },
  {
   "cell_type": "code",
   "execution_count": 26,
   "metadata": {},
   "outputs": [
    {
     "name": "stdout",
     "output_type": "stream",
     "text": [
      "(8,)\n"
     ]
    }
   ],
   "source": [
    "y = y.reshape(y.shape[0])\n",
    "print(y.shape)"
   ]
  },
  {
   "cell_type": "markdown",
   "metadata": {},
   "source": [
    "## split 다:다(1)"
   ]
  },
  {
   "cell_type": "code",
   "execution_count": 28,
   "metadata": {},
   "outputs": [],
   "source": [
    "dataset = np.array([[1,2,3,4,5,6,7,8,9,10],\n",
    "                    [11,12,13,14,15,16,17,18,19,20],\n",
    "                    [21,22,23,24,25,26,27,28,29,30]])"
   ]
  },
  {
   "cell_type": "code",
   "execution_count": 29,
   "metadata": {},
   "outputs": [
    {
     "name": "stdout",
     "output_type": "stream",
     "text": [
      "dataset.shape :  (3, 10)\n",
      "[[ 1 11 21]\n",
      " [ 2 12 22]\n",
      " [ 3 13 23]\n",
      " [ 4 14 24]\n",
      " [ 5 15 25]\n",
      " [ 6 16 26]\n",
      " [ 7 17 27]\n",
      " [ 8 18 28]\n",
      " [ 9 19 29]\n",
      " [10 20 30]]\n",
      "dataset.shape :  (10, 3)\n"
     ]
    }
   ],
   "source": [
    "print(\"dataset.shape : \", dataset.shape)\n",
    "dataset = np.transpose(dataset)\n",
    "print(dataset)\n",
    "print(\"dataset.shape : \", dataset.shape)"
   ]
  },
  {
   "cell_type": "code",
   "execution_count": 30,
   "metadata": {},
   "outputs": [],
   "source": [
    "def split_xy3(dataset, time_steps, y_column):\n",
    "    x, y = list(), list()\n",
    "    for i in range(len(dataset)):\n",
    "        x_end_number = i + time_steps\n",
    "        y_end_number = x_end_number + y_column -1 # 수정\n",
    "        if y_end_number > len(dataset): # 수정\n",
    "            break\n",
    "        tmp_x = dataset[i:x_end_number, :-1]\n",
    "        tmp_y = dataset[x_end_number-1:y_end_number, -1] # 수정\n",
    "        x.append(tmp_x)\n",
    "        y.append(tmp_y)\n",
    "    return np.array(x), np.array(y)"
   ]
  },
  {
   "cell_type": "code",
   "execution_count": 33,
   "metadata": {},
   "outputs": [
    {
     "name": "stdout",
     "output_type": "stream",
     "text": [
      "[[[ 1 11]\n",
      "  [ 2 12]\n",
      "  [ 3 13]]\n",
      "\n",
      " [[ 2 12]\n",
      "  [ 3 13]\n",
      "  [ 4 14]]\n",
      "\n",
      " [[ 3 13]\n",
      "  [ 4 14]\n",
      "  [ 5 15]]\n",
      "\n",
      " [[ 4 14]\n",
      "  [ 5 15]\n",
      "  [ 6 16]]\n",
      "\n",
      " [[ 5 15]\n",
      "  [ 6 16]\n",
      "  [ 7 17]]\n",
      "\n",
      " [[ 6 16]\n",
      "  [ 7 17]\n",
      "  [ 8 18]]\n",
      "\n",
      " [[ 7 17]\n",
      "  [ 8 18]\n",
      "  [ 9 19]]] \n",
      " [[23 24]\n",
      " [24 25]\n",
      " [25 26]\n",
      " [26 27]\n",
      " [27 28]\n",
      " [28 29]\n",
      " [29 30]]\n",
      "(7, 3, 2)\n",
      "(7, 2)\n"
     ]
    }
   ],
   "source": [
    "x, y = split_xy3(dataset, 3, 2) # 2를 1로 수정\n",
    "print(x, \"\\n\", y)\n",
    "print(x.shape)\n",
    "print(y.shape)"
   ]
  },
  {
   "cell_type": "markdown",
   "metadata": {},
   "source": [
    "## split 다:다(2)"
   ]
  },
  {
   "cell_type": "code",
   "execution_count": 39,
   "metadata": {},
   "outputs": [
    {
     "name": "stdout",
     "output_type": "stream",
     "text": [
      "dataset.shape :  (3, 10)\n"
     ]
    }
   ],
   "source": [
    "dataset = np.array([[1,2,3,4,5,6,7,8,9,10],\n",
    "                   [11,12,13,14,15,16,17,18,19,20],\n",
    "                   [21,22,23,24,25,26,27,28,29,30]])\n",
    "print(\"dataset.shape : \", dataset.shape)"
   ]
  },
  {
   "cell_type": "code",
   "execution_count": 40,
   "metadata": {},
   "outputs": [
    {
     "name": "stdout",
     "output_type": "stream",
     "text": [
      "[[ 1 11 21]\n",
      " [ 2 12 22]\n",
      " [ 3 13 23]\n",
      " [ 4 14 24]\n",
      " [ 5 15 25]\n",
      " [ 6 16 26]\n",
      " [ 7 17 27]\n",
      " [ 8 18 28]\n",
      " [ 9 19 29]\n",
      " [10 20 30]]\n",
      "dataset.shape :  (10, 3)\n"
     ]
    }
   ],
   "source": [
    "dataset = np.transpose(dataset)\n",
    "print(dataset)\n",
    "print(\"dataset.shape : \", dataset.shape)"
   ]
  },
  {
   "cell_type": "code",
   "execution_count": 41,
   "metadata": {},
   "outputs": [],
   "source": [
    "def split_xy5(dataset, time_steps, y_column):\n",
    "    \n",
    "    x, y = list(), list()\n",
    "    \n",
    "    for i in range(len(dataset)):\n",
    "        x_end_number = i + time_steps\n",
    "        y_end_number = x_end_number + y_column # 수정\n",
    "\n",
    "        if y_end_number > len(dataset): # 수정\n",
    "            break\n",
    "        tmp_x = dataset[i:x_end_number, :] # 수정\n",
    "        tmp_y = dataset[x_end_number:y_end_number, :] # 수정\n",
    "        x.append(tmp_x)\n",
    "        y.append(tmp_y)\n",
    "        \n",
    "    return np.array(x), np.array(y)"
   ]
  },
  {
   "cell_type": "code",
   "execution_count": 42,
   "metadata": {},
   "outputs": [
    {
     "name": "stdout",
     "output_type": "stream",
     "text": [
      "[[[ 1 11 21]\n",
      "  [ 2 12 22]\n",
      "  [ 3 13 23]]\n",
      "\n",
      " [[ 2 12 22]\n",
      "  [ 3 13 23]\n",
      "  [ 4 14 24]]\n",
      "\n",
      " [[ 3 13 23]\n",
      "  [ 4 14 24]\n",
      "  [ 5 15 25]]\n",
      "\n",
      " [[ 4 14 24]\n",
      "  [ 5 15 25]\n",
      "  [ 6 16 26]]\n",
      "\n",
      " [[ 5 15 25]\n",
      "  [ 6 16 26]\n",
      "  [ 7 17 27]]\n",
      "\n",
      " [[ 6 16 26]\n",
      "  [ 7 17 27]\n",
      "  [ 8 18 28]]\n",
      "\n",
      " [[ 7 17 27]\n",
      "  [ 8 18 28]\n",
      "  [ 9 19 29]]] \n",
      " [[[ 4 14 24]]\n",
      "\n",
      " [[ 5 15 25]]\n",
      "\n",
      " [[ 6 16 26]]\n",
      "\n",
      " [[ 7 17 27]]\n",
      "\n",
      " [[ 8 18 28]]\n",
      "\n",
      " [[ 9 19 29]]\n",
      "\n",
      " [[10 20 30]]]\n",
      "(7, 3, 3)\n",
      "(7, 1, 3)\n"
     ]
    }
   ],
   "source": [
    "x, y = split_xy5(dataset, 3, 1)\n",
    "print(x, \"\\n\", y)\n",
    "print(x.shape)\n",
    "print(y.shape)"
   ]
  },
  {
   "cell_type": "code",
   "execution_count": null,
   "metadata": {},
   "outputs": [],
   "source": []
  }
 ],
 "metadata": {
  "kernelspec": {
   "display_name": "Python 3",
   "language": "python",
   "name": "python3"
  },
  "language_info": {
   "codemirror_mode": {
    "name": "ipython",
    "version": 3
   },
   "file_extension": ".py",
   "mimetype": "text/x-python",
   "name": "python",
   "nbconvert_exporter": "python",
   "pygments_lexer": "ipython3",
   "version": "3.7.6"
  }
 },
 "nbformat": 4,
 "nbformat_minor": 4
}
