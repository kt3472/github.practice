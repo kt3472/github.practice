{
 "cells": [
  {
   "cell_type": "code",
   "execution_count": 29,
   "metadata": {},
   "outputs": [],
   "source": [
    "# refence : https://wikidocs.net/45101"
   ]
  },
  {
   "cell_type": "code",
   "execution_count": 1,
   "metadata": {},
   "outputs": [],
   "source": [
    "import pandas as pd\n",
    "from string import punctuation\n",
    "from tensorflow.keras.preprocessing.text import Tokenizer\n",
    "from tensorflow.keras.preprocessing.sequence import pad_sequences\n",
    "import numpy as np\n",
    "from tensorflow.keras.utils import to_categorical"
   ]
  },
  {
   "cell_type": "code",
   "execution_count": 4,
   "metadata": {},
   "outputs": [
    {
     "data": {
      "text/html": [
       "<div>\n",
       "<style scoped>\n",
       "    .dataframe tbody tr th:only-of-type {\n",
       "        vertical-align: middle;\n",
       "    }\n",
       "\n",
       "    .dataframe tbody tr th {\n",
       "        vertical-align: top;\n",
       "    }\n",
       "\n",
       "    .dataframe thead th {\n",
       "        text-align: right;\n",
       "    }\n",
       "</style>\n",
       "<table border=\"1\" class=\"dataframe\">\n",
       "  <thead>\n",
       "    <tr style=\"text-align: right;\">\n",
       "      <th></th>\n",
       "      <th>articleID</th>\n",
       "      <th>articleWordCount</th>\n",
       "      <th>byline</th>\n",
       "      <th>documentType</th>\n",
       "      <th>headline</th>\n",
       "      <th>keywords</th>\n",
       "      <th>multimedia</th>\n",
       "      <th>newDesk</th>\n",
       "      <th>printPage</th>\n",
       "      <th>pubDate</th>\n",
       "      <th>sectionName</th>\n",
       "      <th>snippet</th>\n",
       "      <th>source</th>\n",
       "      <th>typeOfMaterial</th>\n",
       "      <th>webURL</th>\n",
       "    </tr>\n",
       "  </thead>\n",
       "  <tbody>\n",
       "    <tr>\n",
       "      <th>0</th>\n",
       "      <td>5adf6684068401528a2aa69b</td>\n",
       "      <td>781</td>\n",
       "      <td>By JOHN BRANCH</td>\n",
       "      <td>article</td>\n",
       "      <td>Former N.F.L. Cheerleaders’ Settlement Offer: ...</td>\n",
       "      <td>['Workplace Hazards and Violations', 'Football...</td>\n",
       "      <td>68</td>\n",
       "      <td>Sports</td>\n",
       "      <td>0</td>\n",
       "      <td>2018-04-24 17:16:49</td>\n",
       "      <td>Pro Football</td>\n",
       "      <td>“I understand that they could meet with us, pa...</td>\n",
       "      <td>The New York Times</td>\n",
       "      <td>News</td>\n",
       "      <td>https://www.nytimes.com/2018/04/24/sports/foot...</td>\n",
       "    </tr>\n",
       "    <tr>\n",
       "      <th>1</th>\n",
       "      <td>5adf653f068401528a2aa697</td>\n",
       "      <td>656</td>\n",
       "      <td>By LISA FRIEDMAN</td>\n",
       "      <td>article</td>\n",
       "      <td>E.P.A. to Unveil a New Rule. Its Effect: Less ...</td>\n",
       "      <td>['Environmental Protection Agency', 'Pruitt, S...</td>\n",
       "      <td>68</td>\n",
       "      <td>Climate</td>\n",
       "      <td>0</td>\n",
       "      <td>2018-04-24 17:11:21</td>\n",
       "      <td>Unknown</td>\n",
       "      <td>The agency plans to publish a new regulation T...</td>\n",
       "      <td>The New York Times</td>\n",
       "      <td>News</td>\n",
       "      <td>https://www.nytimes.com/2018/04/24/climate/epa...</td>\n",
       "    </tr>\n",
       "    <tr>\n",
       "      <th>2</th>\n",
       "      <td>5adf4626068401528a2aa628</td>\n",
       "      <td>2427</td>\n",
       "      <td>By PETE WELLS</td>\n",
       "      <td>article</td>\n",
       "      <td>The New Noma, Explained</td>\n",
       "      <td>['Restaurants', 'Noma (Copenhagen, Restaurant)...</td>\n",
       "      <td>66</td>\n",
       "      <td>Dining</td>\n",
       "      <td>0</td>\n",
       "      <td>2018-04-24 14:58:44</td>\n",
       "      <td>Unknown</td>\n",
       "      <td>What’s it like to eat at the second incarnatio...</td>\n",
       "      <td>The New York Times</td>\n",
       "      <td>News</td>\n",
       "      <td>https://www.nytimes.com/2018/04/24/dining/noma...</td>\n",
       "    </tr>\n",
       "    <tr>\n",
       "      <th>3</th>\n",
       "      <td>5adf40d2068401528a2aa619</td>\n",
       "      <td>626</td>\n",
       "      <td>By JULIE HIRSCHFELD DAVIS and PETER BAKER</td>\n",
       "      <td>article</td>\n",
       "      <td>Unknown</td>\n",
       "      <td>['Macron, Emmanuel (1977- )', 'Trump, Donald J...</td>\n",
       "      <td>68</td>\n",
       "      <td>Washington</td>\n",
       "      <td>0</td>\n",
       "      <td>2018-04-24 14:35:57</td>\n",
       "      <td>Europe</td>\n",
       "      <td>President Trump welcomed President Emmanuel Ma...</td>\n",
       "      <td>The New York Times</td>\n",
       "      <td>News</td>\n",
       "      <td>https://www.nytimes.com/2018/04/24/world/europ...</td>\n",
       "    </tr>\n",
       "    <tr>\n",
       "      <th>4</th>\n",
       "      <td>5adf3d64068401528a2aa60f</td>\n",
       "      <td>815</td>\n",
       "      <td>By IAN AUSTEN and DAN BILEFSKY</td>\n",
       "      <td>article</td>\n",
       "      <td>Unknown</td>\n",
       "      <td>['Toronto, Ontario, Attack (April, 2018)', 'Mu...</td>\n",
       "      <td>68</td>\n",
       "      <td>Foreign</td>\n",
       "      <td>0</td>\n",
       "      <td>2018-04-24 14:21:21</td>\n",
       "      <td>Canada</td>\n",
       "      <td>Alek Minassian, 25, a resident of Toronto’s Ri...</td>\n",
       "      <td>The New York Times</td>\n",
       "      <td>News</td>\n",
       "      <td>https://www.nytimes.com/2018/04/24/world/canad...</td>\n",
       "    </tr>\n",
       "  </tbody>\n",
       "</table>\n",
       "</div>"
      ],
      "text/plain": [
       "                  articleID  articleWordCount  \\\n",
       "0  5adf6684068401528a2aa69b               781   \n",
       "1  5adf653f068401528a2aa697               656   \n",
       "2  5adf4626068401528a2aa628              2427   \n",
       "3  5adf40d2068401528a2aa619               626   \n",
       "4  5adf3d64068401528a2aa60f               815   \n",
       "\n",
       "                                      byline documentType  \\\n",
       "0                             By JOHN BRANCH      article   \n",
       "1                           By LISA FRIEDMAN      article   \n",
       "2                              By PETE WELLS      article   \n",
       "3  By JULIE HIRSCHFELD DAVIS and PETER BAKER      article   \n",
       "4             By IAN AUSTEN and DAN BILEFSKY      article   \n",
       "\n",
       "                                            headline  \\\n",
       "0  Former N.F.L. Cheerleaders’ Settlement Offer: ...   \n",
       "1  E.P.A. to Unveil a New Rule. Its Effect: Less ...   \n",
       "2                            The New Noma, Explained   \n",
       "3                                            Unknown   \n",
       "4                                            Unknown   \n",
       "\n",
       "                                            keywords  multimedia     newDesk  \\\n",
       "0  ['Workplace Hazards and Violations', 'Football...          68      Sports   \n",
       "1  ['Environmental Protection Agency', 'Pruitt, S...          68     Climate   \n",
       "2  ['Restaurants', 'Noma (Copenhagen, Restaurant)...          66      Dining   \n",
       "3  ['Macron, Emmanuel (1977- )', 'Trump, Donald J...          68  Washington   \n",
       "4  ['Toronto, Ontario, Attack (April, 2018)', 'Mu...          68     Foreign   \n",
       "\n",
       "   printPage              pubDate   sectionName  \\\n",
       "0          0  2018-04-24 17:16:49  Pro Football   \n",
       "1          0  2018-04-24 17:11:21       Unknown   \n",
       "2          0  2018-04-24 14:58:44       Unknown   \n",
       "3          0  2018-04-24 14:35:57        Europe   \n",
       "4          0  2018-04-24 14:21:21        Canada   \n",
       "\n",
       "                                             snippet              source  \\\n",
       "0  “I understand that they could meet with us, pa...  The New York Times   \n",
       "1  The agency plans to publish a new regulation T...  The New York Times   \n",
       "2  What’s it like to eat at the second incarnatio...  The New York Times   \n",
       "3  President Trump welcomed President Emmanuel Ma...  The New York Times   \n",
       "4  Alek Minassian, 25, a resident of Toronto’s Ri...  The New York Times   \n",
       "\n",
       "  typeOfMaterial                                             webURL  \n",
       "0           News  https://www.nytimes.com/2018/04/24/sports/foot...  \n",
       "1           News  https://www.nytimes.com/2018/04/24/climate/epa...  \n",
       "2           News  https://www.nytimes.com/2018/04/24/dining/noma...  \n",
       "3           News  https://www.nytimes.com/2018/04/24/world/europ...  \n",
       "4           News  https://www.nytimes.com/2018/04/24/world/canad...  "
      ]
     },
     "execution_count": 4,
     "metadata": {},
     "output_type": "execute_result"
    }
   ],
   "source": [
    "df=pd.read_csv('ArticlesApril2018.csv')\n",
    "df.head()"
   ]
  },
  {
   "cell_type": "code",
   "execution_count": 5,
   "metadata": {},
   "outputs": [
    {
     "data": {
      "text/plain": [
       "(1324, 15)"
      ]
     },
     "execution_count": 5,
     "metadata": {},
     "output_type": "execute_result"
    }
   ],
   "source": [
    "df.shape"
   ]
  },
  {
   "cell_type": "code",
   "execution_count": 6,
   "metadata": {},
   "outputs": [
    {
     "name": "stdout",
     "output_type": "stream",
     "text": [
      "열의 개수:  15\n",
      "Index(['articleID', 'articleWordCount', 'byline', 'documentType', 'headline',\n",
      "       'keywords', 'multimedia', 'newDesk', 'printPage', 'pubDate',\n",
      "       'sectionName', 'snippet', 'source', 'typeOfMaterial', 'webURL'],\n",
      "      dtype='object')\n"
     ]
    }
   ],
   "source": [
    "print('열의 개수: ',len(df.columns))\n",
    "print(df.columns)"
   ]
  },
  {
   "cell_type": "code",
   "execution_count": 7,
   "metadata": {},
   "outputs": [
    {
     "data": {
      "text/plain": [
       "False"
      ]
     },
     "execution_count": 7,
     "metadata": {},
     "output_type": "execute_result"
    }
   ],
   "source": [
    "df['headline'].isnull().values.any()"
   ]
  },
  {
   "cell_type": "code",
   "execution_count": 8,
   "metadata": {},
   "outputs": [
    {
     "data": {
      "text/plain": [
       "['Former N.F.L. Cheerleaders’ Settlement Offer: $1 and a Meeting With Goodell',\n",
       " 'E.P.A. to Unveil a New Rule. Its Effect: Less Science in Policymaking.',\n",
       " 'The New Noma, Explained',\n",
       " 'Unknown',\n",
       " 'Unknown']"
      ]
     },
     "execution_count": 8,
     "metadata": {},
     "output_type": "execute_result"
    }
   ],
   "source": [
    "headline = [] # 리스트 선언\n",
    "headline.extend(list(df.headline.values)) # 헤드라인의 값들을 리스트로 저장\n",
    "headline[:5] # 상위 5개만 출력"
   ]
  },
  {
   "cell_type": "code",
   "execution_count": 10,
   "metadata": {},
   "outputs": [
    {
     "name": "stdout",
     "output_type": "stream",
     "text": [
      "총 샘플의 개수 : 1324\n"
     ]
    }
   ],
   "source": [
    "print('총 샘플의 개수 : {}'.format(len(headline))) # 현재 샘플의 개수"
   ]
  },
  {
   "cell_type": "code",
   "execution_count": 12,
   "metadata": {},
   "outputs": [
    {
     "name": "stdout",
     "output_type": "stream",
     "text": [
      "노이즈값 제거 후 샘플의 개수 : 1214\n"
     ]
    }
   ],
   "source": [
    "headline = [n for n in headline if n != \"Unknown\"] # Unknown 값을 가진 샘플 제거\n",
    "print('노이즈값 제거 후 샘플의 개수 : {}'.format(len(headline))) # 제거 후 샘플의 개수"
   ]
  },
  {
   "cell_type": "code",
   "execution_count": 13,
   "metadata": {},
   "outputs": [
    {
     "data": {
      "text/plain": [
       "['Former N.F.L. Cheerleaders’ Settlement Offer: $1 and a Meeting With Goodell',\n",
       " 'E.P.A. to Unveil a New Rule. Its Effect: Less Science in Policymaking.',\n",
       " 'The New Noma, Explained',\n",
       " 'How a Bag of Texas Dirt  Became a Times Tradition',\n",
       " 'Is School a Place for Self-Expression?']"
      ]
     },
     "execution_count": 13,
     "metadata": {},
     "output_type": "execute_result"
    }
   ],
   "source": [
    "headline[:5]"
   ]
  },
  {
   "cell_type": "code",
   "execution_count": 14,
   "metadata": {},
   "outputs": [
    {
     "data": {
      "text/plain": [
       "['former nfl cheerleaders settlement offer 1 and a meeting with goodell',\n",
       " 'epa to unveil a new rule its effect less science in policymaking',\n",
       " 'the new noma explained',\n",
       " 'how a bag of texas dirt  became a times tradition',\n",
       " 'is school a place for selfexpression']"
      ]
     },
     "execution_count": 14,
     "metadata": {},
     "output_type": "execute_result"
    }
   ],
   "source": [
    "def repreprocessing(s):\n",
    "    s=s.encode(\"utf8\").decode(\"ascii\",'ignore')\n",
    "    return ''.join(c for c in s if c not in punctuation).lower() # 구두점 제거와 동시에 소문자화\n",
    "\n",
    "text = [repreprocessing(x) for x in headline]\n",
    "text[:5]"
   ]
  },
  {
   "cell_type": "code",
   "execution_count": 15,
   "metadata": {},
   "outputs": [
    {
     "name": "stdout",
     "output_type": "stream",
     "text": [
      "단어 집합의 크기 : 3494\n"
     ]
    }
   ],
   "source": [
    "t = Tokenizer()\n",
    "t.fit_on_texts(text)\n",
    "vocab_size = len(t.word_index) + 1\n",
    "print('단어 집합의 크기 : %d' % vocab_size)"
   ]
  },
  {
   "cell_type": "code",
   "execution_count": 16,
   "metadata": {},
   "outputs": [
    {
     "data": {
      "text/plain": [
       "[[99, 269],\n",
       " [99, 269, 371],\n",
       " [99, 269, 371, 1115],\n",
       " [99, 269, 371, 1115, 582],\n",
       " [99, 269, 371, 1115, 582, 52],\n",
       " [99, 269, 371, 1115, 582, 52, 7],\n",
       " [99, 269, 371, 1115, 582, 52, 7, 2],\n",
       " [99, 269, 371, 1115, 582, 52, 7, 2, 372],\n",
       " [99, 269, 371, 1115, 582, 52, 7, 2, 372, 10],\n",
       " [99, 269, 371, 1115, 582, 52, 7, 2, 372, 10, 1116],\n",
       " [100, 3]]"
      ]
     },
     "execution_count": 16,
     "metadata": {},
     "output_type": "execute_result"
    }
   ],
   "source": [
    "sequences = list()\n",
    "\n",
    "for line in text: # 1,214 개의 샘플에 대해서 샘플을 1개씩 가져온다.\n",
    "    encoded = t.texts_to_sequences([line])[0] # 각 샘플에 대한 정수 인코딩\n",
    "    for i in range(1, len(encoded)):\n",
    "        sequence = encoded[:i+1]\n",
    "        sequences.append(sequence)\n",
    "\n",
    "sequences[:11] # 11개의 샘플 출력"
   ]
  },
  {
   "cell_type": "code",
   "execution_count": 17,
   "metadata": {},
   "outputs": [
    {
     "name": "stdout",
     "output_type": "stream",
     "text": [
      "빈도수 상위 582번 단어 : offer\n"
     ]
    }
   ],
   "source": [
    "index_to_word={}\n",
    "for key, value in t.word_index.items(): # 인덱스를 단어로 바꾸기 위해 index_to_word를 생성\n",
    "    index_to_word[value] = key\n",
    "\n",
    "print('빈도수 상위 582번 단어 : {}'.format(index_to_word[582]))"
   ]
  },
  {
   "cell_type": "code",
   "execution_count": 18,
   "metadata": {},
   "outputs": [
    {
     "name": "stdout",
     "output_type": "stream",
     "text": [
      "샘플의 최대 길이 : 24\n"
     ]
    }
   ],
   "source": [
    "max_len=max(len(l) for l in sequences)\n",
    "print('샘플의 최대 길이 : {}'.format(max_len))"
   ]
  },
  {
   "cell_type": "code",
   "execution_count": 19,
   "metadata": {},
   "outputs": [
    {
     "name": "stdout",
     "output_type": "stream",
     "text": [
      "[[   0    0    0    0    0    0    0    0    0    0    0    0    0    0\n",
      "     0    0    0    0    0    0    0    0   99  269]\n",
      " [   0    0    0    0    0    0    0    0    0    0    0    0    0    0\n",
      "     0    0    0    0    0    0    0   99  269  371]\n",
      " [   0    0    0    0    0    0    0    0    0    0    0    0    0    0\n",
      "     0    0    0    0    0    0   99  269  371 1115]]\n"
     ]
    }
   ],
   "source": [
    "sequences = pad_sequences(sequences, maxlen=max_len, padding='pre')\n",
    "print(sequences[:3])"
   ]
  },
  {
   "cell_type": "code",
   "execution_count": 20,
   "metadata": {},
   "outputs": [],
   "source": [
    "sequences = np.array(sequences)\n",
    "X = sequences[:,:-1]\n",
    "y = sequences[:,-1]"
   ]
  },
  {
   "cell_type": "code",
   "execution_count": 21,
   "metadata": {},
   "outputs": [
    {
     "name": "stdout",
     "output_type": "stream",
     "text": [
      "[[  0   0   0   0   0   0   0   0   0   0   0   0   0   0   0   0   0   0\n",
      "    0   0   0   0  99]\n",
      " [  0   0   0   0   0   0   0   0   0   0   0   0   0   0   0   0   0   0\n",
      "    0   0   0  99 269]\n",
      " [  0   0   0   0   0   0   0   0   0   0   0   0   0   0   0   0   0   0\n",
      "    0   0  99 269 371]]\n"
     ]
    }
   ],
   "source": [
    "print(X[:3])"
   ]
  },
  {
   "cell_type": "code",
   "execution_count": 22,
   "metadata": {},
   "outputs": [
    {
     "name": "stdout",
     "output_type": "stream",
     "text": [
      "[ 269  371 1115]\n"
     ]
    }
   ],
   "source": [
    "print(y[:3]) # 레이블"
   ]
  },
  {
   "cell_type": "code",
   "execution_count": 23,
   "metadata": {},
   "outputs": [],
   "source": [
    "y = to_categorical(y, num_classes=vocab_size)"
   ]
  },
  {
   "cell_type": "code",
   "execution_count": 24,
   "metadata": {},
   "outputs": [],
   "source": [
    "from tensorflow.keras.models import Sequential\n",
    "from tensorflow.keras.layers import Embedding, Dense, LSTM"
   ]
  },
  {
   "cell_type": "code",
   "execution_count": 25,
   "metadata": {},
   "outputs": [
    {
     "name": "stdout",
     "output_type": "stream",
     "text": [
      "Epoch 1/200\n",
      "244/244 - 4s - loss: 7.6555 - accuracy: 0.0288\n",
      "Epoch 2/200\n",
      "244/244 - 4s - loss: 7.1153 - accuracy: 0.0314\n",
      "Epoch 3/200\n",
      "244/244 - 5s - loss: 6.9758 - accuracy: 0.0323\n",
      "Epoch 4/200\n",
      "244/244 - 4s - loss: 6.8499 - accuracy: 0.0417\n",
      "Epoch 5/200\n",
      "244/244 - 4s - loss: 6.6913 - accuracy: 0.0466\n",
      "Epoch 6/200\n",
      "244/244 - 4s - loss: 6.5044 - accuracy: 0.0474\n",
      "Epoch 7/200\n",
      "244/244 - 4s - loss: 6.2970 - accuracy: 0.0560\n",
      "Epoch 8/200\n",
      "244/244 - 4s - loss: 6.0948 - accuracy: 0.0591\n",
      "Epoch 9/200\n",
      "244/244 - 4s - loss: 5.8980 - accuracy: 0.0645\n",
      "Epoch 10/200\n",
      "244/244 - 4s - loss: 5.7177 - accuracy: 0.0675\n",
      "Epoch 11/200\n",
      "244/244 - 4s - loss: 5.5468 - accuracy: 0.0724\n",
      "Epoch 12/200\n",
      "244/244 - 4s - loss: 5.3857 - accuracy: 0.0771\n",
      "Epoch 13/200\n",
      "244/244 - 4s - loss: 5.2296 - accuracy: 0.0839\n",
      "Epoch 14/200\n",
      "244/244 - 4s - loss: 5.0839 - accuracy: 0.0888\n",
      "Epoch 15/200\n",
      "244/244 - 4s - loss: 4.9422 - accuracy: 0.0992\n",
      "Epoch 16/200\n",
      "244/244 - 4s - loss: 4.8082 - accuracy: 0.1064\n",
      "Epoch 17/200\n",
      "244/244 - 4s - loss: 4.6795 - accuracy: 0.1167\n",
      "Epoch 18/200\n",
      "244/244 - 4s - loss: 4.5561 - accuracy: 0.1364\n",
      "Epoch 19/200\n",
      "244/244 - 3s - loss: 4.4361 - accuracy: 0.1496\n",
      "Epoch 20/200\n",
      "244/244 - 4s - loss: 4.3203 - accuracy: 0.1656\n",
      "Epoch 21/200\n",
      "244/244 - 4s - loss: 4.2069 - accuracy: 0.1806\n",
      "Epoch 22/200\n",
      "244/244 - 4s - loss: 4.0951 - accuracy: 0.2008\n",
      "Epoch 23/200\n",
      "244/244 - 4s - loss: 3.9911 - accuracy: 0.2135\n",
      "Epoch 24/200\n",
      "244/244 - 4s - loss: 3.8871 - accuracy: 0.2336\n",
      "Epoch 25/200\n",
      "244/244 - 4s - loss: 3.7883 - accuracy: 0.2444\n",
      "Epoch 26/200\n",
      "244/244 - 3s - loss: 3.6901 - accuracy: 0.2677\n",
      "Epoch 27/200\n",
      "244/244 - 4s - loss: 3.5978 - accuracy: 0.2795\n",
      "Epoch 28/200\n",
      "244/244 - 3s - loss: 3.5068 - accuracy: 0.2942\n",
      "Epoch 29/200\n",
      "244/244 - 3s - loss: 3.4230 - accuracy: 0.3089\n",
      "Epoch 30/200\n",
      "244/244 - 3s - loss: 3.3370 - accuracy: 0.3251\n",
      "Epoch 31/200\n",
      "244/244 - 3s - loss: 3.2570 - accuracy: 0.3374\n",
      "Epoch 32/200\n",
      "244/244 - 3s - loss: 3.1794 - accuracy: 0.3542\n",
      "Epoch 33/200\n",
      "244/244 - 4s - loss: 3.1105 - accuracy: 0.3681\n",
      "Epoch 34/200\n",
      "244/244 - 3s - loss: 3.0362 - accuracy: 0.3792\n",
      "Epoch 35/200\n",
      "244/244 - 3s - loss: 2.9645 - accuracy: 0.3905\n",
      "Epoch 36/200\n",
      "244/244 - 4s - loss: 2.8965 - accuracy: 0.4034\n",
      "Epoch 37/200\n",
      "244/244 - 3s - loss: 2.8317 - accuracy: 0.4200\n",
      "Epoch 38/200\n",
      "244/244 - 4s - loss: 2.7711 - accuracy: 0.4256\n",
      "Epoch 39/200\n",
      "244/244 - 4s - loss: 2.7085 - accuracy: 0.4391\n",
      "Epoch 40/200\n",
      "244/244 - 3s - loss: 2.6492 - accuracy: 0.4544\n",
      "Epoch 41/200\n",
      "244/244 - 4s - loss: 2.5924 - accuracy: 0.4628\n",
      "Epoch 42/200\n",
      "244/244 - 3s - loss: 2.5381 - accuracy: 0.4771\n",
      "Epoch 43/200\n",
      "244/244 - 3s - loss: 2.4832 - accuracy: 0.4869\n",
      "Epoch 44/200\n",
      "244/244 - 3s - loss: 2.4281 - accuracy: 0.4971\n",
      "Epoch 45/200\n",
      "244/244 - 3s - loss: 2.3809 - accuracy: 0.5058\n",
      "Epoch 46/200\n",
      "244/244 - 3s - loss: 2.3280 - accuracy: 0.5154\n",
      "Epoch 47/200\n",
      "244/244 - 3s - loss: 2.2850 - accuracy: 0.5258\n",
      "Epoch 48/200\n",
      "244/244 - 3s - loss: 2.2335 - accuracy: 0.5375\n",
      "Epoch 49/200\n",
      "244/244 - 3s - loss: 2.1883 - accuracy: 0.5490\n",
      "Epoch 50/200\n",
      "244/244 - 3s - loss: 2.1440 - accuracy: 0.5531\n",
      "Epoch 51/200\n",
      "244/244 - 3s - loss: 2.0999 - accuracy: 0.5673\n",
      "Epoch 52/200\n",
      "244/244 - 3s - loss: 2.0559 - accuracy: 0.5748\n",
      "Epoch 53/200\n",
      "244/244 - 3s - loss: 2.0123 - accuracy: 0.5834\n",
      "Epoch 54/200\n",
      "244/244 - 4s - loss: 1.9714 - accuracy: 0.5950\n",
      "Epoch 55/200\n",
      "244/244 - 3s - loss: 1.9305 - accuracy: 0.6026\n",
      "Epoch 56/200\n",
      "244/244 - 4s - loss: 1.8892 - accuracy: 0.6143\n",
      "Epoch 57/200\n",
      "244/244 - 3s - loss: 1.8494 - accuracy: 0.6223\n",
      "Epoch 58/200\n",
      "244/244 - 4s - loss: 1.8084 - accuracy: 0.6330\n",
      "Epoch 59/200\n",
      "244/244 - 4s - loss: 1.7747 - accuracy: 0.6392\n",
      "Epoch 60/200\n",
      "244/244 - 4s - loss: 1.7374 - accuracy: 0.6469\n",
      "Epoch 61/200\n",
      "244/244 - 4s - loss: 1.6985 - accuracy: 0.6550\n",
      "Epoch 62/200\n",
      "244/244 - 3s - loss: 1.6626 - accuracy: 0.6613\n",
      "Epoch 63/200\n",
      "244/244 - 4s - loss: 1.6249 - accuracy: 0.6746\n",
      "Epoch 64/200\n",
      "244/244 - 3s - loss: 1.5918 - accuracy: 0.6776\n",
      "Epoch 65/200\n",
      "244/244 - 3s - loss: 1.5574 - accuracy: 0.6854\n",
      "Epoch 66/200\n",
      "244/244 - 3s - loss: 1.5245 - accuracy: 0.6913\n",
      "Epoch 67/200\n",
      "244/244 - 3s - loss: 1.4909 - accuracy: 0.7006\n",
      "Epoch 68/200\n",
      "244/244 - 3s - loss: 1.4589 - accuracy: 0.7073\n",
      "Epoch 69/200\n",
      "244/244 - 3s - loss: 1.4270 - accuracy: 0.7165\n",
      "Epoch 70/200\n",
      "244/244 - 4s - loss: 1.3947 - accuracy: 0.7187\n",
      "Epoch 71/200\n",
      "244/244 - 3s - loss: 1.3650 - accuracy: 0.7273\n",
      "Epoch 72/200\n",
      "244/244 - 3s - loss: 1.3337 - accuracy: 0.7357\n",
      "Epoch 73/200\n",
      "244/244 - 3s - loss: 1.3036 - accuracy: 0.7396\n",
      "Epoch 74/200\n",
      "244/244 - 3s - loss: 1.2749 - accuracy: 0.7483\n",
      "Epoch 75/200\n",
      "244/244 - 3s - loss: 1.2473 - accuracy: 0.7534\n",
      "Epoch 76/200\n",
      "244/244 - 4s - loss: 1.2173 - accuracy: 0.7573\n",
      "Epoch 77/200\n",
      "244/244 - 4s - loss: 1.1908 - accuracy: 0.7647\n",
      "Epoch 78/200\n",
      "244/244 - 3s - loss: 1.1670 - accuracy: 0.7693\n",
      "Epoch 79/200\n",
      "244/244 - 3s - loss: 1.1372 - accuracy: 0.7773\n",
      "Epoch 80/200\n",
      "244/244 - 3s - loss: 1.1130 - accuracy: 0.7800\n",
      "Epoch 81/200\n",
      "244/244 - 4s - loss: 1.0865 - accuracy: 0.7869\n",
      "Epoch 82/200\n",
      "244/244 - 4s - loss: 1.0652 - accuracy: 0.7905\n",
      "Epoch 83/200\n",
      "244/244 - 4s - loss: 1.0386 - accuracy: 0.7944\n",
      "Epoch 84/200\n",
      "244/244 - 4s - loss: 1.0164 - accuracy: 0.7991\n",
      "Epoch 85/200\n",
      "244/244 - 4s - loss: 0.9906 - accuracy: 0.8060\n",
      "Epoch 86/200\n",
      "244/244 - 5s - loss: 0.9696 - accuracy: 0.8048\n",
      "Epoch 87/200\n",
      "244/244 - 5s - loss: 0.9483 - accuracy: 0.8119\n",
      "Epoch 88/200\n",
      "244/244 - 4s - loss: 0.9277 - accuracy: 0.8161\n",
      "Epoch 89/200\n",
      "244/244 - 4s - loss: 0.9048 - accuracy: 0.8189\n",
      "Epoch 90/200\n",
      "244/244 - 4s - loss: 0.8863 - accuracy: 0.8251\n",
      "Epoch 91/200\n",
      "244/244 - 4s - loss: 0.8652 - accuracy: 0.8267\n",
      "Epoch 92/200\n",
      "244/244 - 5s - loss: 0.8465 - accuracy: 0.8290\n",
      "Epoch 93/200\n",
      "244/244 - 5s - loss: 0.8249 - accuracy: 0.8360\n",
      "Epoch 94/200\n",
      "244/244 - 5s - loss: 0.8089 - accuracy: 0.8392\n",
      "Epoch 95/200\n",
      "244/244 - 5s - loss: 0.7896 - accuracy: 0.8412\n",
      "Epoch 96/200\n",
      "244/244 - 5s - loss: 0.7724 - accuracy: 0.8451\n",
      "Epoch 97/200\n",
      "244/244 - 5s - loss: 0.7580 - accuracy: 0.8457\n",
      "Epoch 98/200\n",
      "244/244 - 5s - loss: 0.7403 - accuracy: 0.8534\n",
      "Epoch 99/200\n",
      "244/244 - 5s - loss: 0.7217 - accuracy: 0.8560\n",
      "Epoch 100/200\n",
      "244/244 - 5s - loss: 0.7062 - accuracy: 0.8560\n",
      "Epoch 101/200\n",
      "244/244 - 5s - loss: 0.6897 - accuracy: 0.8618\n",
      "Epoch 102/200\n",
      "244/244 - 5s - loss: 0.6766 - accuracy: 0.8631\n",
      "Epoch 103/200\n",
      "244/244 - 5s - loss: 0.6616 - accuracy: 0.8643\n",
      "Epoch 104/200\n",
      "244/244 - 5s - loss: 0.6480 - accuracy: 0.8681\n",
      "Epoch 105/200\n",
      "244/244 - 5s - loss: 0.6321 - accuracy: 0.8716\n",
      "Epoch 106/200\n",
      "244/244 - 5s - loss: 0.6180 - accuracy: 0.8742\n",
      "Epoch 107/200\n",
      "244/244 - 5s - loss: 0.6059 - accuracy: 0.8758\n",
      "Epoch 108/200\n",
      "244/244 - 5s - loss: 0.5948 - accuracy: 0.8798\n",
      "Epoch 109/200\n",
      "244/244 - 5s - loss: 0.5807 - accuracy: 0.8813\n",
      "Epoch 110/200\n",
      "244/244 - 5s - loss: 0.5713 - accuracy: 0.8840\n",
      "Epoch 111/200\n",
      "244/244 - 6s - loss: 0.5579 - accuracy: 0.8861\n",
      "Epoch 112/200\n",
      "244/244 - 4s - loss: 0.5462 - accuracy: 0.8881\n",
      "Epoch 113/200\n",
      "244/244 - 4s - loss: 0.5369 - accuracy: 0.8908\n",
      "Epoch 114/200\n",
      "244/244 - 4s - loss: 0.5242 - accuracy: 0.8925\n",
      "Epoch 115/200\n",
      "244/244 - 4s - loss: 0.5127 - accuracy: 0.8949\n",
      "Epoch 116/200\n",
      "244/244 - 6s - loss: 0.5036 - accuracy: 0.8950\n",
      "Epoch 117/200\n",
      "244/244 - 5s - loss: 0.4944 - accuracy: 0.8954\n",
      "Epoch 118/200\n",
      "244/244 - 5s - loss: 0.4863 - accuracy: 0.8991\n",
      "Epoch 119/200\n",
      "244/244 - 5s - loss: 0.4744 - accuracy: 0.8999\n",
      "Epoch 120/200\n",
      "244/244 - 5s - loss: 0.4647 - accuracy: 0.9025\n",
      "Epoch 121/200\n",
      "244/244 - 5s - loss: 0.4581 - accuracy: 0.9013\n",
      "Epoch 122/200\n",
      "244/244 - 5s - loss: 0.4494 - accuracy: 0.9030\n",
      "Epoch 123/200\n",
      "244/244 - 5s - loss: 0.4405 - accuracy: 0.9044\n",
      "Epoch 124/200\n",
      "244/244 - 5s - loss: 0.4343 - accuracy: 0.9052\n",
      "Epoch 125/200\n",
      "244/244 - 5s - loss: 0.4277 - accuracy: 0.9045\n",
      "Epoch 126/200\n",
      "244/244 - 5s - loss: 0.4238 - accuracy: 0.9067\n",
      "Epoch 127/200\n",
      "244/244 - 5s - loss: 0.4172 - accuracy: 0.9066\n",
      "Epoch 128/200\n",
      "244/244 - 5s - loss: 0.4072 - accuracy: 0.9085\n",
      "Epoch 129/200\n",
      "244/244 - 5s - loss: 0.3998 - accuracy: 0.9104\n",
      "Epoch 130/200\n",
      "244/244 - 5s - loss: 0.3934 - accuracy: 0.9085\n",
      "Epoch 131/200\n",
      "244/244 - 5s - loss: 0.3877 - accuracy: 0.9091\n",
      "Epoch 132/200\n",
      "244/244 - 5s - loss: 0.3819 - accuracy: 0.9100\n",
      "Epoch 133/200\n",
      "244/244 - 5s - loss: 0.3767 - accuracy: 0.9114\n",
      "Epoch 134/200\n",
      "244/244 - 5s - loss: 0.3723 - accuracy: 0.9103\n",
      "Epoch 135/200\n",
      "244/244 - 5s - loss: 0.3681 - accuracy: 0.9113\n",
      "Epoch 136/200\n",
      "244/244 - 5s - loss: 0.3631 - accuracy: 0.9123\n",
      "Epoch 137/200\n"
     ]
    },
    {
     "name": "stdout",
     "output_type": "stream",
     "text": [
      "244/244 - 5s - loss: 0.3574 - accuracy: 0.9145\n",
      "Epoch 138/200\n",
      "244/244 - 5s - loss: 0.3529 - accuracy: 0.9132\n",
      "Epoch 139/200\n",
      "244/244 - 5s - loss: 0.3493 - accuracy: 0.9126\n",
      "Epoch 140/200\n",
      "244/244 - 5s - loss: 0.3448 - accuracy: 0.9144\n",
      "Epoch 141/200\n",
      "244/244 - 5s - loss: 0.3415 - accuracy: 0.9145\n",
      "Epoch 142/200\n",
      "244/244 - 5s - loss: 0.4348 - accuracy: 0.8949\n",
      "Epoch 143/200\n",
      "244/244 - 5s - loss: 0.3679 - accuracy: 0.9090\n",
      "Epoch 144/200\n",
      "244/244 - 5s - loss: 0.3341 - accuracy: 0.9172\n",
      "Epoch 145/200\n",
      "244/244 - 5s - loss: 0.3262 - accuracy: 0.9149\n",
      "Epoch 146/200\n",
      "244/244 - 5s - loss: 0.3214 - accuracy: 0.9154\n",
      "Epoch 147/200\n",
      "244/244 - 5s - loss: 0.3197 - accuracy: 0.9148\n",
      "Epoch 148/200\n",
      "244/244 - 5s - loss: 0.3174 - accuracy: 0.9157\n",
      "Epoch 149/200\n",
      "244/244 - 5s - loss: 0.3151 - accuracy: 0.9144\n",
      "Epoch 150/200\n",
      "244/244 - 5s - loss: 0.3128 - accuracy: 0.9181\n",
      "Epoch 151/200\n",
      "244/244 - 5s - loss: 0.3111 - accuracy: 0.9164\n",
      "Epoch 152/200\n",
      "244/244 - 5s - loss: 0.3089 - accuracy: 0.9166\n",
      "Epoch 153/200\n",
      "244/244 - 5s - loss: 0.3066 - accuracy: 0.9149\n",
      "Epoch 154/200\n",
      "244/244 - 5s - loss: 0.3052 - accuracy: 0.9153\n",
      "Epoch 155/200\n",
      "244/244 - 4s - loss: 0.3041 - accuracy: 0.9172\n",
      "Epoch 156/200\n",
      "244/244 - 4s - loss: 0.3078 - accuracy: 0.9155\n",
      "Epoch 157/200\n",
      "244/244 - 4s - loss: 0.3073 - accuracy: 0.9149\n",
      "Epoch 158/200\n",
      "244/244 - 5s - loss: 0.3019 - accuracy: 0.9145\n",
      "Epoch 159/200\n",
      "244/244 - 5s - loss: 0.2998 - accuracy: 0.9168\n",
      "Epoch 160/200\n",
      "244/244 - 5s - loss: 0.2949 - accuracy: 0.9158\n",
      "Epoch 161/200\n",
      "244/244 - 5s - loss: 0.2938 - accuracy: 0.9173\n",
      "Epoch 162/200\n",
      "244/244 - 5s - loss: 0.2919 - accuracy: 0.9176\n",
      "Epoch 163/200\n",
      "244/244 - 5s - loss: 0.2924 - accuracy: 0.9155\n",
      "Epoch 164/200\n",
      "244/244 - 5s - loss: 0.2894 - accuracy: 0.9170\n",
      "Epoch 165/200\n",
      "244/244 - 5s - loss: 0.2880 - accuracy: 0.9171\n",
      "Epoch 166/200\n",
      "244/244 - 5s - loss: 0.2875 - accuracy: 0.9167\n",
      "Epoch 167/200\n",
      "244/244 - 5s - loss: 0.2908 - accuracy: 0.9164\n",
      "Epoch 168/200\n",
      "244/244 - 5s - loss: 0.2985 - accuracy: 0.9149\n",
      "Epoch 169/200\n",
      "244/244 - 5s - loss: 0.2877 - accuracy: 0.9157\n",
      "Epoch 170/200\n",
      "244/244 - 5s - loss: 0.2827 - accuracy: 0.9161\n",
      "Epoch 171/200\n",
      "244/244 - 5s - loss: 0.2813 - accuracy: 0.9159\n",
      "Epoch 172/200\n",
      "244/244 - 5s - loss: 0.2806 - accuracy: 0.9175\n",
      "Epoch 173/200\n",
      "244/244 - 5s - loss: 0.2794 - accuracy: 0.9176\n",
      "Epoch 174/200\n",
      "244/244 - 5s - loss: 0.2778 - accuracy: 0.9173\n",
      "Epoch 175/200\n",
      "244/244 - 5s - loss: 0.2776 - accuracy: 0.9146\n",
      "Epoch 176/200\n",
      "244/244 - 5s - loss: 0.2790 - accuracy: 0.9167\n",
      "Epoch 177/200\n",
      "244/244 - 5s - loss: 0.2772 - accuracy: 0.9170\n",
      "Epoch 178/200\n",
      "244/244 - 5s - loss: 0.2765 - accuracy: 0.9163\n",
      "Epoch 179/200\n",
      "244/244 - 5s - loss: 0.2751 - accuracy: 0.9162\n",
      "Epoch 180/200\n",
      "244/244 - 5s - loss: 0.2736 - accuracy: 0.9163\n",
      "Epoch 181/200\n",
      "244/244 - 5s - loss: 0.2741 - accuracy: 0.9154\n",
      "Epoch 182/200\n",
      "244/244 - 5s - loss: 0.2730 - accuracy: 0.9175\n",
      "Epoch 183/200\n",
      "244/244 - 5s - loss: 0.2907 - accuracy: 0.9126\n",
      "Epoch 184/200\n",
      "244/244 - 5s - loss: 0.3019 - accuracy: 0.9122\n",
      "Epoch 185/200\n",
      "244/244 - 5s - loss: 0.2754 - accuracy: 0.9162\n",
      "Epoch 186/200\n",
      "244/244 - 5s - loss: 0.2708 - accuracy: 0.9166\n",
      "Epoch 187/200\n",
      "244/244 - 5s - loss: 0.2683 - accuracy: 0.9173\n",
      "Epoch 188/200\n",
      "244/244 - 5s - loss: 0.2693 - accuracy: 0.9172\n",
      "Epoch 189/200\n",
      "244/244 - 5s - loss: 0.2674 - accuracy: 0.9155\n",
      "Epoch 190/200\n",
      "244/244 - 5s - loss: 0.2681 - accuracy: 0.9154\n",
      "Epoch 191/200\n",
      "244/244 - 5s - loss: 0.2683 - accuracy: 0.9171\n",
      "Epoch 192/200\n",
      "244/244 - 5s - loss: 0.2676 - accuracy: 0.9162\n",
      "Epoch 193/200\n",
      "244/244 - 5s - loss: 0.2671 - accuracy: 0.9182\n",
      "Epoch 194/200\n",
      "244/244 - 5s - loss: 0.2648 - accuracy: 0.9170\n",
      "Epoch 195/200\n",
      "244/244 - 5s - loss: 0.2673 - accuracy: 0.9164\n",
      "Epoch 196/200\n",
      "244/244 - 5s - loss: 0.2647 - accuracy: 0.9173\n",
      "Epoch 197/200\n",
      "244/244 - 5s - loss: 0.2647 - accuracy: 0.9171\n",
      "Epoch 198/200\n",
      "244/244 - 5s - loss: 0.2657 - accuracy: 0.9173\n",
      "Epoch 199/200\n",
      "244/244 - 5s - loss: 0.2651 - accuracy: 0.9158\n",
      "Epoch 200/200\n",
      "244/244 - 5s - loss: 0.2639 - accuracy: 0.9163\n"
     ]
    },
    {
     "data": {
      "text/plain": [
       "<tensorflow.python.keras.callbacks.History at 0x1cb1ee72388>"
      ]
     },
     "execution_count": 25,
     "metadata": {},
     "output_type": "execute_result"
    }
   ],
   "source": [
    "model = Sequential()\n",
    "model.add(Embedding(vocab_size, 10, input_length=max_len-1))\n",
    "# y데이터를 분리하였으므로 이제 X데이터의 길이는 기존 데이터의 길이 - 1\n",
    "model.add(LSTM(128))\n",
    "model.add(Dense(vocab_size, activation='softmax'))\n",
    "model.compile(loss='categorical_crossentropy', optimizer='adam', metrics=['accuracy'])\n",
    "model.fit(X, y, epochs=200, verbose=2)"
   ]
  },
  {
   "cell_type": "code",
   "execution_count": 26,
   "metadata": {},
   "outputs": [],
   "source": [
    "def sentence_generation(model, t, current_word, n): # 모델, 토크나이저, 현재 단어, 반복할 횟수\n",
    "    init_word = current_word # 처음 들어온 단어도 마지막에 같이 출력하기위해 저장\n",
    "    sentence = ''\n",
    "    for _ in range(n): # n번 반복\n",
    "        encoded = t.texts_to_sequences([current_word])[0] # 현재 단어에 대한 정수 인코딩\n",
    "        encoded = pad_sequences([encoded], maxlen=23, padding='pre') # 데이터에 대한 패딩\n",
    "        result = model.predict_classes(encoded, verbose=0)\n",
    "    # 입력한 X(현재 단어)에 대해서 y를 예측하고 y(예측한 단어)를 result에 저장.\n",
    "        for word, index in t.word_index.items(): \n",
    "            if index == result: # 만약 예측한 단어와 인덱스와 동일한 단어가 있다면\n",
    "                break # 해당 단어가 예측 단어이므로 break\n",
    "        current_word = current_word + ' '  + word # 현재 단어 + ' ' + 예측 단어를 현재 단어로 변경\n",
    "        sentence = sentence + ' ' + word # 예측 단어를 문장에 저장\n",
    "    # for문이므로 이 행동을 다시 반복\n",
    "    sentence = init_word + sentence\n",
    "    return sentence"
   ]
  },
  {
   "cell_type": "code",
   "execution_count": 27,
   "metadata": {},
   "outputs": [
    {
     "name": "stdout",
     "output_type": "stream",
     "text": [
      "WARNING:tensorflow:From <ipython-input-26-4fcb1994ebdf>:7: Sequential.predict_classes (from tensorflow.python.keras.engine.sequential) is deprecated and will be removed after 2021-01-01.\n",
      "Instructions for updating:\n",
      "Please use instead:* `np.argmax(model.predict(x), axis=-1)`,   if your model does multi-class classification   (e.g. if it uses a `softmax` last-layer activation).* `(model.predict(x) > 0.5).astype(\"int32\")`,   if your model does binary classification   (e.g. if it uses a `sigmoid` last-layer activation).\n",
      "i want to be rich and im not sorry border fight\n"
     ]
    }
   ],
   "source": [
    "print(sentence_generation(model, t, 'i', 10))\n",
    "# 임의의 단어 'i'에 대해서 10개의 단어를 추가 생성"
   ]
  },
  {
   "cell_type": "code",
   "execution_count": 28,
   "metadata": {},
   "outputs": [
    {
     "name": "stdout",
     "output_type": "stream",
     "text": [
      "how do you get your nature fix how the lone bellow\n"
     ]
    }
   ],
   "source": [
    "print(sentence_generation(model, t, 'how', 10))"
   ]
  },
  {
   "cell_type": "code",
   "execution_count": null,
   "metadata": {},
   "outputs": [],
   "source": []
  }
 ],
 "metadata": {
  "kernelspec": {
   "display_name": "Python 3",
   "language": "python",
   "name": "python3"
  },
  "language_info": {
   "codemirror_mode": {
    "name": "ipython",
    "version": 3
   },
   "file_extension": ".py",
   "mimetype": "text/x-python",
   "name": "python",
   "nbconvert_exporter": "python",
   "pygments_lexer": "ipython3",
   "version": "3.7.6"
  }
 },
 "nbformat": 4,
 "nbformat_minor": 4
}
