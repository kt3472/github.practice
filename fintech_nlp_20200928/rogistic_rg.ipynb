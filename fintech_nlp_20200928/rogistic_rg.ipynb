{
  "nbformat": 4,
  "nbformat_minor": 0,
  "metadata": {
    "colab": {
      "name": "rogistic_rg.ipynb",
      "provenance": []
    },
    "kernelspec": {
      "name": "python3",
      "display_name": "Python 3"
    }
  },
  "cells": [
    {
      "cell_type": "code",
      "metadata": {
        "id": "rNwKafrdDswi"
      },
      "source": [
        "from tensorflow.keras.models import Sequential\n",
        "from tensorflow.keras.layers import Dense\n",
        "from tensorflow.keras import optimizers\n",
        "import numpy as np\n",
        "%matplotlib inline\n",
        "import matplotlib.pyplot as plt"
      ],
      "execution_count": 4,
      "outputs": []
    },
    {
      "cell_type": "code",
      "metadata": {
        "id": "2_K7WnhBDtYa"
      },
      "source": [
        "learning_rate = 0.01\n",
        "epochs = 50"
      ],
      "execution_count": 5,
      "outputs": []
    },
    {
      "cell_type": "code",
      "metadata": {
        "id": "ugoFQS3TDyPo",
        "outputId": "3a2e0fab-3637-42f4-8e5e-650941d356f8",
        "colab": {
          "base_uri": "https://localhost:8080/",
          "height": 279
        }
      },
      "source": [
        "x = [35, 40, 55, 60, 75, 80, 95, 100]\n",
        "y = [0, 0, 0, 0, 1, 1, 1, 1]\n",
        "\n",
        "plt.plot(x, y)\n",
        "plt.scatter(x, y)\n",
        "plt.xlabel('score')\n",
        "plt.ylabel('result')\n",
        "plt.grid()"
      ],
      "execution_count": 6,
      "outputs": [
        {
          "output_type": "display_data",
          "data": {
            "image/png": "[encoded data removed]",
            "text/plain": [
              "<Figure size 432x288 with 1 Axes>"
            ]
          },
          "metadata": {
            "tags": [],
            "needs_background": "light"
          }
        }
      ]
    },
    {
      "cell_type": "code",
      "metadata": {
        "id": "MVhBkD67Dyow",
        "outputId": "60acd613-d144-4207-fe3d-b179f0e904f0",
        "colab": {
          "base_uri": "https://localhost:8080/",
          "height": 281
        }
      },
      "source": [
        "def sigmoid(x):\n",
        "    return 1/(1+np.exp(-x))\n",
        "x = np.arange(-5.0, 5.0, 0.1)\n",
        "y1 = sigmoid(0.5*x)\n",
        "y2 = sigmoid(x)\n",
        "y3 = sigmoid(2*x)\n",
        "\n",
        "plt.plot(x, y1, 'r', linestyle='--')\n",
        "plt.plot(x, y2, 'g')\n",
        "plt.plot(x, y3, 'b', linestyle='--')\n",
        "plt.plot([0,0],[1.0,0.0], ':')\n",
        "plt.title('Sigmoid')\n",
        "plt.show()"
      ],
      "execution_count": 7,
      "outputs": [
        {
          "output_type": "display_data",
          "data": {
            "image/png": "[encoded data removed]",
            "text/plain": [
              "<Figure size 432x288 with 1 Axes>"
            ]
          },
          "metadata": {
            "tags": [],
            "needs_background": "light"
          }
        }
      ]
    },
    {
      "cell_type": "code",
      "metadata": {
        "id": "X0mnHEx4D2AB",
        "outputId": "dc9c12c3-a2eb-48a3-bace-bab16769e799",
        "colab": {
          "base_uri": "https://localhost:8080/",
          "height": 1000
        }
      },
      "source": [
        "X = np.arange(-50, 50, 2)\n",
        "y = np.concatenate([np.zeros(25), np.ones(25)])\n",
        "model=Sequential()\n",
        "model.add(Dense(1, input_dim=1, activation='sigmoid'))\n",
        "sgd=optimizers.SGD(lr=learning_rate)\n",
        "model.compile(optimizer=sgd ,loss='binary_crossentropy',metrics=['binary_accuracy'])\n",
        "\n",
        "model.fit(X,y, batch_size=1, epochs=epochs, shuffle=False)"
      ],
      "execution_count": 8,
      "outputs": [
        {
          "output_type": "stream",
          "text": [
            "Epoch 1/50\n",
            "50/50 [==============================] - 0s 729us/step - loss: 0.5544 - binary_accuracy: 0.9600\n",
            "Epoch 2/50\n",
            "50/50 [==============================] - 0s 685us/step - loss: 0.0490 - binary_accuracy: 0.9800\n",
            "Epoch 3/50\n",
            "50/50 [==============================] - 0s 727us/step - loss: 0.0423 - binary_accuracy: 0.9800\n",
            "Epoch 4/50\n",
            "50/50 [==============================] - 0s 730us/step - loss: 0.0383 - binary_accuracy: 0.9800\n",
            "Epoch 5/50\n",
            "50/50 [==============================] - 0s 742us/step - loss: 0.0356 - binary_accuracy: 0.9800\n",
            "Epoch 6/50\n",
            "50/50 [==============================] - 0s 743us/step - loss: 0.0336 - binary_accuracy: 1.0000\n",
            "Epoch 7/50\n",
            "50/50 [==============================] - 0s 732us/step - loss: 0.0320 - binary_accuracy: 1.0000\n",
            "Epoch 8/50\n",
            "50/50 [==============================] - 0s 725us/step - loss: 0.0307 - binary_accuracy: 1.0000\n",
            "Epoch 9/50\n",
            "50/50 [==============================] - 0s 751us/step - loss: 0.0296 - binary_accuracy: 1.0000\n",
            "Epoch 10/50\n",
            "50/50 [==============================] - 0s 863us/step - loss: 0.0287 - binary_accuracy: 1.0000\n",
            "Epoch 11/50\n",
            "50/50 [==============================] - 0s 720us/step - loss: 0.0279 - binary_accuracy: 1.0000\n",
            "Epoch 12/50\n",
            "50/50 [==============================] - 0s 756us/step - loss: 0.0272 - binary_accuracy: 1.0000\n",
            "Epoch 13/50\n",
            "50/50 [==============================] - 0s 703us/step - loss: 0.0265 - binary_accuracy: 1.0000\n",
            "Epoch 14/50\n",
            "50/50 [==============================] - 0s 722us/step - loss: 0.0259 - binary_accuracy: 1.0000\n",
            "Epoch 15/50\n",
            "50/50 [==============================] - 0s 748us/step - loss: 0.0254 - binary_accuracy: 1.0000\n",
            "Epoch 16/50\n",
            "50/50 [==============================] - 0s 776us/step - loss: 0.0249 - binary_accuracy: 1.0000\n",
            "Epoch 17/50\n",
            "50/50 [==============================] - 0s 719us/step - loss: 0.0245 - binary_accuracy: 1.0000\n",
            "Epoch 18/50\n",
            "50/50 [==============================] - 0s 761us/step - loss: 0.0241 - binary_accuracy: 1.0000\n",
            "Epoch 19/50\n",
            "50/50 [==============================] - 0s 791us/step - loss: 0.0237 - binary_accuracy: 1.0000\n",
            "Epoch 20/50\n",
            "50/50 [==============================] - 0s 994us/step - loss: 0.0233 - binary_accuracy: 1.0000\n",
            "Epoch 21/50\n",
            "50/50 [==============================] - 0s 866us/step - loss: 0.0230 - binary_accuracy: 1.0000\n",
            "Epoch 22/50\n",
            "50/50 [==============================] - 0s 790us/step - loss: 0.0227 - binary_accuracy: 1.0000\n",
            "Epoch 23/50\n",
            "50/50 [==============================] - 0s 720us/step - loss: 0.0224 - binary_accuracy: 1.0000\n",
            "Epoch 24/50\n",
            "50/50 [==============================] - 0s 674us/step - loss: 0.0221 - binary_accuracy: 1.0000\n",
            "Epoch 25/50\n",
            "50/50 [==============================] - 0s 814us/step - loss: 0.0218 - binary_accuracy: 1.0000\n",
            "Epoch 26/50\n",
            "50/50 [==============================] - 0s 701us/step - loss: 0.0216 - binary_accuracy: 1.0000\n",
            "Epoch 27/50\n",
            "50/50 [==============================] - 0s 693us/step - loss: 0.0213 - binary_accuracy: 1.0000\n",
            "Epoch 28/50\n",
            "50/50 [==============================] - 0s 696us/step - loss: 0.0211 - binary_accuracy: 1.0000\n",
            "Epoch 29/50\n",
            "50/50 [==============================] - 0s 714us/step - loss: 0.0209 - binary_accuracy: 1.0000\n",
            "Epoch 30/50\n",
            "50/50 [==============================] - 0s 672us/step - loss: 0.0207 - binary_accuracy: 1.0000\n",
            "Epoch 31/50\n",
            "50/50 [==============================] - 0s 714us/step - loss: 0.0205 - binary_accuracy: 1.0000\n",
            "Epoch 32/50\n",
            "50/50 [==============================] - 0s 677us/step - loss: 0.0203 - binary_accuracy: 1.0000\n",
            "Epoch 33/50\n",
            "50/50 [==============================] - 0s 652us/step - loss: 0.0201 - binary_accuracy: 1.0000\n",
            "Epoch 34/50\n",
            "50/50 [==============================] - 0s 857us/step - loss: 0.0199 - binary_accuracy: 1.0000\n",
            "Epoch 35/50\n",
            "50/50 [==============================] - 0s 687us/step - loss: 0.0197 - binary_accuracy: 1.0000\n",
            "Epoch 36/50\n",
            "50/50 [==============================] - 0s 780us/step - loss: 0.0196 - binary_accuracy: 1.0000\n",
            "Epoch 37/50\n",
            "50/50 [==============================] - 0s 767us/step - loss: 0.0194 - binary_accuracy: 1.0000\n",
            "Epoch 38/50\n",
            "50/50 [==============================] - 0s 744us/step - loss: 0.0193 - binary_accuracy: 1.0000\n",
            "Epoch 39/50\n",
            "50/50 [==============================] - 0s 737us/step - loss: 0.0191 - binary_accuracy: 1.0000\n",
            "Epoch 40/50\n",
            "50/50 [==============================] - 0s 784us/step - loss: 0.0190 - binary_accuracy: 1.0000\n",
            "Epoch 41/50\n",
            "50/50 [==============================] - 0s 739us/step - loss: 0.0188 - binary_accuracy: 1.0000\n",
            "Epoch 42/50\n",
            "50/50 [==============================] - 0s 755us/step - loss: 0.0187 - binary_accuracy: 1.0000\n",
            "Epoch 43/50\n",
            "50/50 [==============================] - 0s 711us/step - loss: 0.0185 - binary_accuracy: 1.0000\n",
            "Epoch 44/50\n",
            "50/50 [==============================] - 0s 686us/step - loss: 0.0184 - binary_accuracy: 1.0000\n",
            "Epoch 45/50\n",
            "50/50 [==============================] - 0s 714us/step - loss: 0.0183 - binary_accuracy: 1.0000\n",
            "Epoch 46/50\n",
            "50/50 [==============================] - 0s 710us/step - loss: 0.0182 - binary_accuracy: 1.0000\n",
            "Epoch 47/50\n",
            "50/50 [==============================] - 0s 757us/step - loss: 0.0180 - binary_accuracy: 1.0000\n",
            "Epoch 48/50\n",
            "50/50 [==============================] - 0s 717us/step - loss: 0.0179 - binary_accuracy: 1.0000\n",
            "Epoch 49/50\n",
            "50/50 [==============================] - 0s 726us/step - loss: 0.0178 - binary_accuracy: 1.0000\n",
            "Epoch 50/50\n",
            "50/50 [==============================] - 0s 714us/step - loss: 0.0177 - binary_accuracy: 1.0000\n"
          ],
          "name": "stdout"
        },
        {
          "output_type": "execute_result",
          "data": {
            "text/plain": [
              "<tensorflow.python.keras.callbacks.History at 0x7f020d7a1e80>"
            ]
          },
          "metadata": {
            "tags": []
          },
          "execution_count": 8
        }
      ]
    },
    {
      "cell_type": "code",
      "metadata": {
        "id": "oe1ahO-nD5Iw",
        "outputId": "eb1a21d7-ab65-41aa-9bf0-c5ba52fc510c",
        "colab": {
          "base_uri": "https://localhost:8080/",
          "height": 301
        }
      },
      "source": [
        "plt.plot(X, model.predict(X), 'b', X,y, 'k.')"
      ],
      "execution_count": 9,
      "outputs": [
        {
          "output_type": "execute_result",
          "data": {
            "text/plain": [
              "[<matplotlib.lines.Line2D at 0x7f020b6e1b70>,\n",
              " <matplotlib.lines.Line2D at 0x7f020b6e1c88>]"
            ]
          },
          "metadata": {
            "tags": []
          },
          "execution_count": 9
        },
        {
          "output_type": "display_data",
          "data": {
            "image/png": "[encoded data removed]",
            "text/plain": [
              "<Figure size 432x288 with 1 Axes>"
            ]
          },
          "metadata": {
            "tags": [],
            "needs_background": "light"
          }
        }
      ]
    },
    {
      "cell_type": "code",
      "metadata": {
        "id": "K2Cba0TuD5Z4"
      },
      "source": [
        ""
      ],
      "execution_count": null,
      "outputs": []
    }
  ]
}