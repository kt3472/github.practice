{
 "cells": [
  {
   "cell_type": "code",
   "execution_count": 79,
   "metadata": {},
   "outputs": [],
   "source": [
    "import numpy as np\n",
    "import pandas as pd"
   ]
  },
  {
   "cell_type": "code",
   "execution_count": 102,
   "metadata": {},
   "outputs": [],
   "source": [
    "df1 = pd.read_csv(\"D:/ml/deepwalk-master/kospi200/data/kospi200.csv\",\n",
    "                 index_col = 0,\n",
    "                 header=0,\n",
    "                 encoding='cp949', sep=',')"
   ]
  },
  {
   "cell_type": "code",
   "execution_count": 103,
   "metadata": {},
   "outputs": [
    {
     "data": {
      "text/html": [
       "<div>\n",
       "<style scoped>\n",
       "    .dataframe tbody tr th:only-of-type {\n",
       "        vertical-align: middle;\n",
       "    }\n",
       "\n",
       "    .dataframe tbody tr th {\n",
       "        vertical-align: top;\n",
       "    }\n",
       "\n",
       "    .dataframe thead th {\n",
       "        text-align: right;\n",
       "    }\n",
       "</style>\n",
       "<table border=\"1\" class=\"dataframe\">\n",
       "  <thead>\n",
       "    <tr style=\"text-align: right;\">\n",
       "      <th></th>\n",
       "      <th>시가</th>\n",
       "      <th>고가</th>\n",
       "      <th>저가</th>\n",
       "      <th>현재가</th>\n",
       "      <th>거래량</th>\n",
       "    </tr>\n",
       "    <tr>\n",
       "      <th>일자</th>\n",
       "      <th></th>\n",
       "      <th></th>\n",
       "      <th></th>\n",
       "      <th></th>\n",
       "      <th></th>\n",
       "    </tr>\n",
       "  </thead>\n",
       "  <tbody>\n",
       "    <tr>\n",
       "      <th>2020-01-31</th>\n",
       "      <td>290.24</td>\n",
       "      <td>291.47</td>\n",
       "      <td>284.53</td>\n",
       "      <td>284.53</td>\n",
       "      <td>101,455</td>\n",
       "    </tr>\n",
       "    <tr>\n",
       "      <th>2020-01-30</th>\n",
       "      <td>293.27</td>\n",
       "      <td>294.11</td>\n",
       "      <td>287.09</td>\n",
       "      <td>288.37</td>\n",
       "      <td>101,535</td>\n",
       "    </tr>\n",
       "    <tr>\n",
       "      <th>2020-01-29</th>\n",
       "      <td>294.38</td>\n",
       "      <td>295.67</td>\n",
       "      <td>292.45</td>\n",
       "      <td>293.98</td>\n",
       "      <td>85,731</td>\n",
       "    </tr>\n",
       "    <tr>\n",
       "      <th>2020-01-28</th>\n",
       "      <td>294.98</td>\n",
       "      <td>296.30</td>\n",
       "      <td>291.30</td>\n",
       "      <td>292.77</td>\n",
       "      <td>130,172</td>\n",
       "    </tr>\n",
       "    <tr>\n",
       "      <th>2020-01-23</th>\n",
       "      <td>303.77</td>\n",
       "      <td>304.72</td>\n",
       "      <td>301.71</td>\n",
       "      <td>302.33</td>\n",
       "      <td>86,908</td>\n",
       "    </tr>\n",
       "  </tbody>\n",
       "</table>\n",
       "</div>"
      ],
      "text/plain": [
       "                시가      고가      저가     현재가      거래량\n",
       "일자                                                 \n",
       "2020-01-31  290.24  291.47  284.53  284.53  101,455\n",
       "2020-01-30  293.27  294.11  287.09  288.37  101,535\n",
       "2020-01-29  294.38  295.67  292.45  293.98   85,731\n",
       "2020-01-28  294.98  296.30  291.30  292.77  130,172\n",
       "2020-01-23  303.77  304.72  301.71  302.33   86,908"
      ]
     },
     "execution_count": 103,
     "metadata": {},
     "output_type": "execute_result"
    }
   ],
   "source": [
    "df1.head()"
   ]
  },
  {
   "cell_type": "code",
   "execution_count": 104,
   "metadata": {},
   "outputs": [
    {
     "name": "stdout",
     "output_type": "stream",
     "text": [
      "(426, 5)\n"
     ]
    }
   ],
   "source": [
    "print(df1.shape)"
   ]
  },
  {
   "cell_type": "code",
   "execution_count": 105,
   "metadata": {},
   "outputs": [],
   "source": [
    "df2 = pd.read_csv(\"D:/ml/deepwalk-master/kospi200/data/samsung.csv\",\n",
    "                 index_col = 0,\n",
    "                 header=0,\n",
    "                 encoding='cp949', sep=',')"
   ]
  },
  {
   "cell_type": "code",
   "execution_count": 106,
   "metadata": {},
   "outputs": [
    {
     "data": {
      "text/html": [
       "<div>\n",
       "<style scoped>\n",
       "    .dataframe tbody tr th:only-of-type {\n",
       "        vertical-align: middle;\n",
       "    }\n",
       "\n",
       "    .dataframe tbody tr th {\n",
       "        vertical-align: top;\n",
       "    }\n",
       "\n",
       "    .dataframe thead th {\n",
       "        text-align: right;\n",
       "    }\n",
       "</style>\n",
       "<table border=\"1\" class=\"dataframe\">\n",
       "  <thead>\n",
       "    <tr style=\"text-align: right;\">\n",
       "      <th></th>\n",
       "      <th>시가</th>\n",
       "      <th>고가</th>\n",
       "      <th>저가</th>\n",
       "      <th>종가</th>\n",
       "      <th>거래량</th>\n",
       "    </tr>\n",
       "    <tr>\n",
       "      <th>일자</th>\n",
       "      <th></th>\n",
       "      <th></th>\n",
       "      <th></th>\n",
       "      <th></th>\n",
       "      <th></th>\n",
       "    </tr>\n",
       "  </thead>\n",
       "  <tbody>\n",
       "    <tr>\n",
       "      <th>2020-01-31</th>\n",
       "      <td>57,800</td>\n",
       "      <td>58,400</td>\n",
       "      <td>56,400</td>\n",
       "      <td>56,400</td>\n",
       "      <td>19,749,457</td>\n",
       "    </tr>\n",
       "    <tr>\n",
       "      <th>2020-01-30</th>\n",
       "      <td>58,800</td>\n",
       "      <td>58,800</td>\n",
       "      <td>56,800</td>\n",
       "      <td>57,200</td>\n",
       "      <td>20,821,939</td>\n",
       "    </tr>\n",
       "    <tr>\n",
       "      <th>2020-01-29</th>\n",
       "      <td>59,100</td>\n",
       "      <td>59,700</td>\n",
       "      <td>58,800</td>\n",
       "      <td>59,100</td>\n",
       "      <td>16,446,102</td>\n",
       "    </tr>\n",
       "    <tr>\n",
       "      <th>2020-01-28</th>\n",
       "      <td>59,400</td>\n",
       "      <td>59,400</td>\n",
       "      <td>58,300</td>\n",
       "      <td>58,800</td>\n",
       "      <td>23,664,541</td>\n",
       "    </tr>\n",
       "    <tr>\n",
       "      <th>2020-01-23</th>\n",
       "      <td>61,800</td>\n",
       "      <td>61,800</td>\n",
       "      <td>60,700</td>\n",
       "      <td>60,800</td>\n",
       "      <td>14,916,555</td>\n",
       "    </tr>\n",
       "  </tbody>\n",
       "</table>\n",
       "</div>"
      ],
      "text/plain": [
       "                시가      고가      저가      종가         거래량\n",
       "일자                                                    \n",
       "2020-01-31  57,800  58,400  56,400  56,400  19,749,457\n",
       "2020-01-30  58,800  58,800  56,800  57,200  20,821,939\n",
       "2020-01-29  59,100  59,700  58,800  59,100  16,446,102\n",
       "2020-01-28  59,400  59,400  58,300  58,800  23,664,541\n",
       "2020-01-23  61,800  61,800  60,700  60,800  14,916,555"
      ]
     },
     "execution_count": 106,
     "metadata": {},
     "output_type": "execute_result"
    }
   ],
   "source": [
    "df2.head()"
   ]
  },
  {
   "cell_type": "code",
   "execution_count": 107,
   "metadata": {},
   "outputs": [
    {
     "name": "stdout",
     "output_type": "stream",
     "text": [
      "(426, 5)\n"
     ]
    }
   ],
   "source": [
    "print(df2.shape)"
   ]
  },
  {
   "cell_type": "code",
   "execution_count": 108,
   "metadata": {},
   "outputs": [
    {
     "data": {
      "text/plain": [
       "시가     float64\n",
       "고가     float64\n",
       "저가     float64\n",
       "현재가    float64\n",
       "거래량     object\n",
       "dtype: object"
      ]
     },
     "execution_count": 108,
     "metadata": {},
     "output_type": "execute_result"
    }
   ],
   "source": [
    "df1.dtypes"
   ]
  },
  {
   "cell_type": "code",
   "execution_count": 109,
   "metadata": {},
   "outputs": [
    {
     "data": {
      "text/plain": [
       "시가     object\n",
       "고가     object\n",
       "저가     object\n",
       "종가     object\n",
       "거래량    object\n",
       "dtype: object"
      ]
     },
     "execution_count": 109,
     "metadata": {},
     "output_type": "execute_result"
    }
   ],
   "source": [
    "df2.dtypes"
   ]
  },
  {
   "cell_type": "code",
   "execution_count": 110,
   "metadata": {},
   "outputs": [],
   "source": [
    "for i in range(len(df1.index)):\n",
    "    \n",
    "    df1.iloc[i,4] = int(df1.iloc[i,4].replace(',',''))"
   ]
  },
  {
   "cell_type": "code",
   "execution_count": 111,
   "metadata": {},
   "outputs": [
    {
     "data": {
      "text/html": [
       "<div>\n",
       "<style scoped>\n",
       "    .dataframe tbody tr th:only-of-type {\n",
       "        vertical-align: middle;\n",
       "    }\n",
       "\n",
       "    .dataframe tbody tr th {\n",
       "        vertical-align: top;\n",
       "    }\n",
       "\n",
       "    .dataframe thead th {\n",
       "        text-align: right;\n",
       "    }\n",
       "</style>\n",
       "<table border=\"1\" class=\"dataframe\">\n",
       "  <thead>\n",
       "    <tr style=\"text-align: right;\">\n",
       "      <th></th>\n",
       "      <th>시가</th>\n",
       "      <th>고가</th>\n",
       "      <th>저가</th>\n",
       "      <th>현재가</th>\n",
       "      <th>거래량</th>\n",
       "    </tr>\n",
       "    <tr>\n",
       "      <th>일자</th>\n",
       "      <th></th>\n",
       "      <th></th>\n",
       "      <th></th>\n",
       "      <th></th>\n",
       "      <th></th>\n",
       "    </tr>\n",
       "  </thead>\n",
       "  <tbody>\n",
       "    <tr>\n",
       "      <th>2020-01-31</th>\n",
       "      <td>290.24</td>\n",
       "      <td>291.47</td>\n",
       "      <td>284.53</td>\n",
       "      <td>284.53</td>\n",
       "      <td>101455</td>\n",
       "    </tr>\n",
       "    <tr>\n",
       "      <th>2020-01-30</th>\n",
       "      <td>293.27</td>\n",
       "      <td>294.11</td>\n",
       "      <td>287.09</td>\n",
       "      <td>288.37</td>\n",
       "      <td>101535</td>\n",
       "    </tr>\n",
       "    <tr>\n",
       "      <th>2020-01-29</th>\n",
       "      <td>294.38</td>\n",
       "      <td>295.67</td>\n",
       "      <td>292.45</td>\n",
       "      <td>293.98</td>\n",
       "      <td>85731</td>\n",
       "    </tr>\n",
       "  </tbody>\n",
       "</table>\n",
       "</div>"
      ],
      "text/plain": [
       "                시가      고가      저가     현재가     거래량\n",
       "일자                                                \n",
       "2020-01-31  290.24  291.47  284.53  284.53  101455\n",
       "2020-01-30  293.27  294.11  287.09  288.37  101535\n",
       "2020-01-29  294.38  295.67  292.45  293.98   85731"
      ]
     },
     "execution_count": 111,
     "metadata": {},
     "output_type": "execute_result"
    }
   ],
   "source": [
    "df1.head(3)"
   ]
  },
  {
   "cell_type": "code",
   "execution_count": 112,
   "metadata": {},
   "outputs": [],
   "source": [
    "for i in range(len(df2.index)):\n",
    "    \n",
    "    for j in range(len(df2.iloc[i])):\n",
    "        \n",
    "        df2.iloc[i,j] = int(df2.iloc[i,j].replace(',',''))"
   ]
  },
  {
   "cell_type": "code",
   "execution_count": 113,
   "metadata": {},
   "outputs": [
    {
     "data": {
      "text/html": [
       "<div>\n",
       "<style scoped>\n",
       "    .dataframe tbody tr th:only-of-type {\n",
       "        vertical-align: middle;\n",
       "    }\n",
       "\n",
       "    .dataframe tbody tr th {\n",
       "        vertical-align: top;\n",
       "    }\n",
       "\n",
       "    .dataframe thead th {\n",
       "        text-align: right;\n",
       "    }\n",
       "</style>\n",
       "<table border=\"1\" class=\"dataframe\">\n",
       "  <thead>\n",
       "    <tr style=\"text-align: right;\">\n",
       "      <th></th>\n",
       "      <th>시가</th>\n",
       "      <th>고가</th>\n",
       "      <th>저가</th>\n",
       "      <th>종가</th>\n",
       "      <th>거래량</th>\n",
       "    </tr>\n",
       "    <tr>\n",
       "      <th>일자</th>\n",
       "      <th></th>\n",
       "      <th></th>\n",
       "      <th></th>\n",
       "      <th></th>\n",
       "      <th></th>\n",
       "    </tr>\n",
       "  </thead>\n",
       "  <tbody>\n",
       "    <tr>\n",
       "      <th>2020-01-31</th>\n",
       "      <td>57800</td>\n",
       "      <td>58400</td>\n",
       "      <td>56400</td>\n",
       "      <td>56400</td>\n",
       "      <td>19749457</td>\n",
       "    </tr>\n",
       "    <tr>\n",
       "      <th>2020-01-30</th>\n",
       "      <td>58800</td>\n",
       "      <td>58800</td>\n",
       "      <td>56800</td>\n",
       "      <td>57200</td>\n",
       "      <td>20821939</td>\n",
       "    </tr>\n",
       "    <tr>\n",
       "      <th>2020-01-29</th>\n",
       "      <td>59100</td>\n",
       "      <td>59700</td>\n",
       "      <td>58800</td>\n",
       "      <td>59100</td>\n",
       "      <td>16446102</td>\n",
       "    </tr>\n",
       "    <tr>\n",
       "      <th>2020-01-28</th>\n",
       "      <td>59400</td>\n",
       "      <td>59400</td>\n",
       "      <td>58300</td>\n",
       "      <td>58800</td>\n",
       "      <td>23664541</td>\n",
       "    </tr>\n",
       "    <tr>\n",
       "      <th>2020-01-23</th>\n",
       "      <td>61800</td>\n",
       "      <td>61800</td>\n",
       "      <td>60700</td>\n",
       "      <td>60800</td>\n",
       "      <td>14916555</td>\n",
       "    </tr>\n",
       "  </tbody>\n",
       "</table>\n",
       "</div>"
      ],
      "text/plain": [
       "               시가     고가     저가     종가       거래량\n",
       "일자                                              \n",
       "2020-01-31  57800  58400  56400  56400  19749457\n",
       "2020-01-30  58800  58800  56800  57200  20821939\n",
       "2020-01-29  59100  59700  58800  59100  16446102\n",
       "2020-01-28  59400  59400  58300  58800  23664541\n",
       "2020-01-23  61800  61800  60700  60800  14916555"
      ]
     },
     "execution_count": 113,
     "metadata": {},
     "output_type": "execute_result"
    }
   ],
   "source": [
    "df2.head()"
   ]
  },
  {
   "cell_type": "code",
   "execution_count": 114,
   "metadata": {},
   "outputs": [],
   "source": [
    "df1 = df1.sort_values(['일자'], ascending=True)\n",
    "df2 = df2.sort_values(['일자'], ascending=True)"
   ]
  },
  {
   "cell_type": "code",
   "execution_count": 115,
   "metadata": {},
   "outputs": [
    {
     "data": {
      "text/html": [
       "<div>\n",
       "<style scoped>\n",
       "    .dataframe tbody tr th:only-of-type {\n",
       "        vertical-align: middle;\n",
       "    }\n",
       "\n",
       "    .dataframe tbody tr th {\n",
       "        vertical-align: top;\n",
       "    }\n",
       "\n",
       "    .dataframe thead th {\n",
       "        text-align: right;\n",
       "    }\n",
       "</style>\n",
       "<table border=\"1\" class=\"dataframe\">\n",
       "  <thead>\n",
       "    <tr style=\"text-align: right;\">\n",
       "      <th></th>\n",
       "      <th>시가</th>\n",
       "      <th>고가</th>\n",
       "      <th>저가</th>\n",
       "      <th>현재가</th>\n",
       "      <th>거래량</th>\n",
       "    </tr>\n",
       "    <tr>\n",
       "      <th>일자</th>\n",
       "      <th></th>\n",
       "      <th></th>\n",
       "      <th></th>\n",
       "      <th></th>\n",
       "      <th></th>\n",
       "    </tr>\n",
       "  </thead>\n",
       "  <tbody>\n",
       "    <tr>\n",
       "      <th>2018-05-04</th>\n",
       "      <td>320.56</td>\n",
       "      <td>321.00</td>\n",
       "      <td>316.75</td>\n",
       "      <td>316.75</td>\n",
       "      <td>173911</td>\n",
       "    </tr>\n",
       "    <tr>\n",
       "      <th>2018-05-08</th>\n",
       "      <td>317.79</td>\n",
       "      <td>319.53</td>\n",
       "      <td>314.95</td>\n",
       "      <td>315.87</td>\n",
       "      <td>141252</td>\n",
       "    </tr>\n",
       "  </tbody>\n",
       "</table>\n",
       "</div>"
      ],
      "text/plain": [
       "                시가      고가      저가     현재가     거래량\n",
       "일자                                                \n",
       "2018-05-04  320.56  321.00  316.75  316.75  173911\n",
       "2018-05-08  317.79  319.53  314.95  315.87  141252"
      ]
     },
     "execution_count": 115,
     "metadata": {},
     "output_type": "execute_result"
    }
   ],
   "source": [
    "df1.head(2)"
   ]
  },
  {
   "cell_type": "code",
   "execution_count": 116,
   "metadata": {},
   "outputs": [
    {
     "data": {
      "text/html": [
       "<div>\n",
       "<style scoped>\n",
       "    .dataframe tbody tr th:only-of-type {\n",
       "        vertical-align: middle;\n",
       "    }\n",
       "\n",
       "    .dataframe tbody tr th {\n",
       "        vertical-align: top;\n",
       "    }\n",
       "\n",
       "    .dataframe thead th {\n",
       "        text-align: right;\n",
       "    }\n",
       "</style>\n",
       "<table border=\"1\" class=\"dataframe\">\n",
       "  <thead>\n",
       "    <tr style=\"text-align: right;\">\n",
       "      <th></th>\n",
       "      <th>시가</th>\n",
       "      <th>고가</th>\n",
       "      <th>저가</th>\n",
       "      <th>종가</th>\n",
       "      <th>거래량</th>\n",
       "    </tr>\n",
       "    <tr>\n",
       "      <th>일자</th>\n",
       "      <th></th>\n",
       "      <th></th>\n",
       "      <th></th>\n",
       "      <th></th>\n",
       "      <th></th>\n",
       "    </tr>\n",
       "  </thead>\n",
       "  <tbody>\n",
       "    <tr>\n",
       "      <th>2018-05-04</th>\n",
       "      <td>53000</td>\n",
       "      <td>53900</td>\n",
       "      <td>51800</td>\n",
       "      <td>51900</td>\n",
       "      <td>39565391</td>\n",
       "    </tr>\n",
       "    <tr>\n",
       "      <th>2018-05-08</th>\n",
       "      <td>52600</td>\n",
       "      <td>53200</td>\n",
       "      <td>51900</td>\n",
       "      <td>52600</td>\n",
       "      <td>23104720</td>\n",
       "    </tr>\n",
       "  </tbody>\n",
       "</table>\n",
       "</div>"
      ],
      "text/plain": [
       "               시가     고가     저가     종가       거래량\n",
       "일자                                              \n",
       "2018-05-04  53000  53900  51800  51900  39565391\n",
       "2018-05-08  52600  53200  51900  52600  23104720"
      ]
     },
     "execution_count": 116,
     "metadata": {},
     "output_type": "execute_result"
    }
   ],
   "source": [
    "df2.head(2)"
   ]
  },
  {
   "cell_type": "code",
   "execution_count": 117,
   "metadata": {},
   "outputs": [
    {
     "data": {
      "text/plain": [
       "시가     float64\n",
       "고가     float64\n",
       "저가     float64\n",
       "현재가    float64\n",
       "거래량     object\n",
       "dtype: object"
      ]
     },
     "execution_count": 117,
     "metadata": {},
     "output_type": "execute_result"
    }
   ],
   "source": [
    "df1.dtypes"
   ]
  },
  {
   "cell_type": "code",
   "execution_count": 118,
   "metadata": {},
   "outputs": [],
   "source": [
    "df1['거래량'] = df1['거래량'].astype('float64')"
   ]
  },
  {
   "cell_type": "code",
   "execution_count": 119,
   "metadata": {},
   "outputs": [
    {
     "data": {
      "text/plain": [
       "시가     object\n",
       "고가     object\n",
       "저가     object\n",
       "종가     object\n",
       "거래량    object\n",
       "dtype: object"
      ]
     },
     "execution_count": 119,
     "metadata": {},
     "output_type": "execute_result"
    }
   ],
   "source": [
    "df2.dtypes"
   ]
  },
  {
   "cell_type": "code",
   "execution_count": 120,
   "metadata": {},
   "outputs": [],
   "source": [
    "df2['시가'] = df2['시가'].astype('float64')\n",
    "df2['고가'] = df2['고가'].astype('float64')\n",
    "df2['저가'] = df2['저가'].astype('float64')\n",
    "df2['종가'] = df2['종가'].astype('float64')\n",
    "df2['거래량'] = df2['거래량'].astype('float64')"
   ]
  },
  {
   "cell_type": "code",
   "execution_count": 121,
   "metadata": {},
   "outputs": [
    {
     "data": {
      "text/plain": [
       "시가     float64\n",
       "고가     float64\n",
       "저가     float64\n",
       "현재가    float64\n",
       "거래량    float64\n",
       "dtype: object"
      ]
     },
     "execution_count": 121,
     "metadata": {},
     "output_type": "execute_result"
    }
   ],
   "source": [
    "df1.dtypes"
   ]
  },
  {
   "cell_type": "code",
   "execution_count": 122,
   "metadata": {},
   "outputs": [
    {
     "data": {
      "text/plain": [
       "시가     float64\n",
       "고가     float64\n",
       "저가     float64\n",
       "종가     float64\n",
       "거래량    float64\n",
       "dtype: object"
      ]
     },
     "execution_count": 122,
     "metadata": {},
     "output_type": "execute_result"
    }
   ],
   "source": [
    "df2.dtypes"
   ]
  },
  {
   "cell_type": "code",
   "execution_count": 123,
   "metadata": {},
   "outputs": [],
   "source": [
    "df1 = df1.values\n",
    "df2 = df2.values"
   ]
  },
  {
   "cell_type": "code",
   "execution_count": 124,
   "metadata": {},
   "outputs": [
    {
     "data": {
      "text/plain": [
       "numpy.ndarray"
      ]
     },
     "execution_count": 124,
     "metadata": {},
     "output_type": "execute_result"
    }
   ],
   "source": [
    "type(df1)"
   ]
  },
  {
   "cell_type": "code",
   "execution_count": 125,
   "metadata": {},
   "outputs": [
    {
     "data": {
      "text/plain": [
       "numpy.ndarray"
      ]
     },
     "execution_count": 125,
     "metadata": {},
     "output_type": "execute_result"
    }
   ],
   "source": [
    "type(df2)"
   ]
  },
  {
   "cell_type": "code",
   "execution_count": 126,
   "metadata": {},
   "outputs": [
    {
     "data": {
      "text/plain": [
       "array([[   320.56,    321.  ,    316.75,    316.75, 173911.  ],\n",
       "       [   317.79,    319.53,    314.95,    315.87, 141252.  ],\n",
       "       [   315.93,    316.08,    312.6 ,    314.42, 123610.  ],\n",
       "       ...,\n",
       "       [   294.38,    295.67,    292.45,    293.98,  85731.  ],\n",
       "       [   293.27,    294.11,    287.09,    288.37, 101535.  ],\n",
       "       [   290.24,    291.47,    284.53,    284.53, 101455.  ]])"
      ]
     },
     "execution_count": 126,
     "metadata": {},
     "output_type": "execute_result"
    }
   ],
   "source": [
    "df1"
   ]
  },
  {
   "cell_type": "code",
   "execution_count": 127,
   "metadata": {},
   "outputs": [
    {
     "data": {
      "text/plain": [
       "array([[   53000.,    53900.,    51800.,    51900., 39565391.],\n",
       "       [   52600.,    53200.,    51900.,    52600., 23104720.],\n",
       "       [   52600.,    52800.,    50900.,    50900., 16128305.],\n",
       "       ...,\n",
       "       [   59100.,    59700.,    58800.,    59100., 16446102.],\n",
       "       [   58800.,    58800.,    56800.,    57200., 20821939.],\n",
       "       [   57800.,    58400.,    56400.,    56400., 19749457.]])"
      ]
     },
     "execution_count": 127,
     "metadata": {},
     "output_type": "execute_result"
    }
   ],
   "source": [
    "df2"
   ]
  },
  {
   "cell_type": "code",
   "execution_count": 128,
   "metadata": {},
   "outputs": [
    {
     "data": {
      "text/plain": [
       "(426, 5)"
      ]
     },
     "execution_count": 128,
     "metadata": {},
     "output_type": "execute_result"
    }
   ],
   "source": [
    "df1.shape"
   ]
  },
  {
   "cell_type": "code",
   "execution_count": 129,
   "metadata": {},
   "outputs": [
    {
     "data": {
      "text/plain": [
       "(426, 5)"
      ]
     },
     "execution_count": 129,
     "metadata": {},
     "output_type": "execute_result"
    }
   ],
   "source": [
    "df2.shape"
   ]
  },
  {
   "cell_type": "code",
   "execution_count": 130,
   "metadata": {},
   "outputs": [],
   "source": [
    "np.save('kospi200.npy', arr=df1)\n",
    "np.save('samsung.npy', arr=df2)"
   ]
  },
  {
   "cell_type": "markdown",
   "metadata": {},
   "source": [
    "## npy 데이터 불러오기"
   ]
  },
  {
   "cell_type": "code",
   "execution_count": 35,
   "metadata": {},
   "outputs": [],
   "source": [
    "#kospi200 = np.load('kospi200.npy')\n",
    "#samsung = np.load('samsung.npy')"
   ]
  },
  {
   "cell_type": "code",
   "execution_count": 131,
   "metadata": {},
   "outputs": [],
   "source": [
    "kospi200 = df1.copy()\n",
    "samsung = df2.copy()"
   ]
  },
  {
   "cell_type": "code",
   "execution_count": 132,
   "metadata": {},
   "outputs": [
    {
     "name": "stdout",
     "output_type": "stream",
     "text": [
      "[[   320.56    321.      316.75    316.75 173911.  ]\n",
      " [   317.79    319.53    314.95    315.87 141252.  ]\n",
      " [   315.93    316.08    312.6     314.42 123610.  ]\n",
      " ...\n",
      " [   294.38    295.67    292.45    293.98  85731.  ]\n",
      " [   293.27    294.11    287.09    288.37 101535.  ]\n",
      " [   290.24    291.47    284.53    284.53 101455.  ]]\n",
      "[[   53000.    53900.    51800.    51900. 39565391.]\n",
      " [   52600.    53200.    51900.    52600. 23104720.]\n",
      " [   52600.    52800.    50900.    50900. 16128305.]\n",
      " ...\n",
      " [   59100.    59700.    58800.    59100. 16446102.]\n",
      " [   58800.    58800.    56800.    57200. 20821939.]\n",
      " [   57800.    58400.    56400.    56400. 19749457.]]\n",
      "(426, 5)\n",
      "(426, 5)\n"
     ]
    }
   ],
   "source": [
    "print(kospi200)\n",
    "print(samsung)\n",
    "print(kospi200.shape)\n",
    "print(samsung.shape)"
   ]
  },
  {
   "cell_type": "code",
   "execution_count": 133,
   "metadata": {},
   "outputs": [
    {
     "name": "stdout",
     "output_type": "stream",
     "text": [
      "[[   53000.    53900.    51800.    51900. 39565391.]\n",
      " [   52600.    53200.    51900.    52600. 23104720.]\n",
      " [   52600.    52800.    50900.    50900. 16128305.]\n",
      " [   51700.    51700.    50600.    51600. 13905263.]\n",
      " [   52000.    52200.    51200.    51300. 10314997.]] \n",
      " [50100.]\n",
      "(421, 5, 5)\n",
      "(421, 1)\n"
     ]
    }
   ],
   "source": [
    "def split_xy5(dataset, time_steps, y_column):\n",
    "    \n",
    "    x, y = list(), list()\n",
    "    \n",
    "    for i in range(len(dataset)):\n",
    "        \n",
    "        x_end_number = i + time_steps\n",
    "        y_end_number = x_end_number + y_column\n",
    "        \n",
    "        \n",
    "        if y_end_number > len(dataset):\n",
    "            break\n",
    "            \n",
    "        \n",
    "        tmp_x = dataset[i:x_end_number, :]\n",
    "        tmp_y = dataset[x_end_number:y_end_number, 3]\n",
    "        \n",
    "        x.append(tmp_x)\n",
    "        y.append(tmp_y)\n",
    "        \n",
    "    return np.array(x), np.array(y)\n",
    "\n",
    "\n",
    "x,y = split_xy5(samsung, 5, 1)\n",
    "\n",
    "print(x[0,:], \"\\n\", y[0])\n",
    "print(x.shape)\n",
    "print(y.shape)\n",
    "        \n",
    "        "
   ]
  },
  {
   "cell_type": "code",
   "execution_count": 134,
   "metadata": {},
   "outputs": [],
   "source": [
    "from sklearn.model_selection import train_test_split"
   ]
  },
  {
   "cell_type": "code",
   "execution_count": 135,
   "metadata": {},
   "outputs": [],
   "source": [
    "x_train, x_test, y_train, y_test = train_test_split(x,\n",
    "                                                   y,\n",
    "                                                   random_state=1,\n",
    "                                                   test_size = 0.3)"
   ]
  },
  {
   "cell_type": "code",
   "execution_count": 136,
   "metadata": {},
   "outputs": [
    {
     "name": "stdout",
     "output_type": "stream",
     "text": [
      "(294, 5, 5)\n",
      "(127, 5, 5)\n",
      "(294, 1)\n",
      "(127, 1)\n"
     ]
    }
   ],
   "source": [
    "print(x_train.shape)\n",
    "print(x_test.shape)\n",
    "print(y_train.shape)\n",
    "print(y_test.shape)"
   ]
  },
  {
   "cell_type": "code",
   "execution_count": 137,
   "metadata": {},
   "outputs": [],
   "source": [
    "x_train = np.reshape(x_train,\n",
    "                    (x_train.shape[0], x_train.shape[1]*x_train.shape[2]))"
   ]
  },
  {
   "cell_type": "code",
   "execution_count": 138,
   "metadata": {},
   "outputs": [],
   "source": [
    "x_test = np.reshape(x_test,\n",
    "                   (x_test.shape[0], x_test.shape[1]*x_test.shape[2]))"
   ]
  },
  {
   "cell_type": "code",
   "execution_count": 139,
   "metadata": {},
   "outputs": [
    {
     "name": "stdout",
     "output_type": "stream",
     "text": [
      "(294, 25)\n",
      "(127, 25)\n"
     ]
    }
   ],
   "source": [
    "print(x_train.shape)\n",
    "print(x_test.shape)"
   ]
  },
  {
   "cell_type": "code",
   "execution_count": 140,
   "metadata": {},
   "outputs": [],
   "source": [
    "from sklearn.preprocessing import StandardScaler"
   ]
  },
  {
   "cell_type": "code",
   "execution_count": 141,
   "metadata": {},
   "outputs": [
    {
     "name": "stdout",
     "output_type": "stream",
     "text": [
      "[ 1.13392563  1.07633086  1.02393741  0.93187013 -0.028819    1.05994459\n",
      "  1.04756614  1.06686328  0.94933344  1.53138774  0.79093879  0.80213886\n",
      "  0.84540479  0.81507608  0.10811605  0.73712199  0.68893234  0.71073997\n",
      "  0.69657856  0.37360361  0.85647275  0.80021877  0.80910994  0.69442952\n",
      " -0.16973555]\n"
     ]
    }
   ],
   "source": [
    "scaler = StandardScaler()\n",
    "scaler.fit(x_train)\n",
    "x_train_scaled = scaler.transform(x_train)\n",
    "x_test_scaled = scaler.transform(x_test)\n",
    "print(x_train_scaled[0, :])"
   ]
  },
  {
   "cell_type": "code",
   "execution_count": 142,
   "metadata": {},
   "outputs": [],
   "source": [
    "from keras.models import Sequential\n",
    "from keras.layers import Dense"
   ]
  },
  {
   "cell_type": "code",
   "execution_count": 143,
   "metadata": {},
   "outputs": [],
   "source": [
    "model = Sequential()"
   ]
  },
  {
   "cell_type": "code",
   "execution_count": 144,
   "metadata": {},
   "outputs": [],
   "source": [
    "model.add(Dense(64, input_shape=(25,)))"
   ]
  },
  {
   "cell_type": "code",
   "execution_count": 145,
   "metadata": {},
   "outputs": [],
   "source": [
    "model.add(Dense(32, activation = 'relu'))\n",
    "model.add(Dense(32, activation = 'relu'))\n",
    "model.add(Dense(32, activation = 'relu'))\n",
    "model.add(Dense(32, activation = 'relu'))\n",
    "model.add(Dense(32, activation = 'relu'))"
   ]
  },
  {
   "cell_type": "code",
   "execution_count": 146,
   "metadata": {},
   "outputs": [],
   "source": [
    "model.add(Dense(1))"
   ]
  },
  {
   "cell_type": "code",
   "execution_count": 147,
   "metadata": {},
   "outputs": [
    {
     "name": "stdout",
     "output_type": "stream",
     "text": [
      "Model: \"sequential_3\"\n",
      "_________________________________________________________________\n",
      "Layer (type)                 Output Shape              Param #   \n",
      "=================================================================\n",
      "dense_20 (Dense)             (None, 64)                1664      \n",
      "_________________________________________________________________\n",
      "dense_21 (Dense)             (None, 32)                2080      \n",
      "_________________________________________________________________\n",
      "dense_22 (Dense)             (None, 32)                1056      \n",
      "_________________________________________________________________\n",
      "dense_23 (Dense)             (None, 32)                1056      \n",
      "_________________________________________________________________\n",
      "dense_24 (Dense)             (None, 32)                1056      \n",
      "_________________________________________________________________\n",
      "dense_25 (Dense)             (None, 32)                1056      \n",
      "_________________________________________________________________\n",
      "dense_26 (Dense)             (None, 1)                 33        \n",
      "=================================================================\n",
      "Total params: 8,001\n",
      "Trainable params: 8,001\n",
      "Non-trainable params: 0\n",
      "_________________________________________________________________\n"
     ]
    }
   ],
   "source": [
    "model.summary()"
   ]
  },
  {
   "cell_type": "code",
   "execution_count": 148,
   "metadata": {},
   "outputs": [],
   "source": [
    "model.compile(optimizer='adam', loss='mse', metrics = ['mse'])"
   ]
  },
  {
   "cell_type": "code",
   "execution_count": 154,
   "metadata": {},
   "outputs": [],
   "source": [
    "#from keras.callbacks import EarlyStopping\n",
    "from tensorflow.keras.callbacks import EarlyStopping"
   ]
  },
  {
   "cell_type": "code",
   "execution_count": 155,
   "metadata": {},
   "outputs": [],
   "source": [
    "early_stopping = EarlyStopping(patience=20)"
   ]
  },
  {
   "cell_type": "code",
   "execution_count": 156,
   "metadata": {},
   "outputs": [],
   "source": [
    "model.compile(optimizer='adam', loss='mse', metrics = ['mse'])"
   ]
  },
  {
   "cell_type": "code",
   "execution_count": 157,
   "metadata": {
    "scrolled": true
   },
   "outputs": [
    {
     "name": "stdout",
     "output_type": "stream",
     "text": [
      "Epoch 1/100\n",
      "235/235 [==============================] - 0s 2ms/step - loss: 1648222720.0000 - mse: 1648222720.0000 - val_loss: 694129792.0000 - val_mse: 694129792.0000\n",
      "Epoch 2/100\n",
      "235/235 [==============================] - 0s 976us/step - loss: 905580224.0000 - mse: 905580224.0000 - val_loss: 765533632.0000 - val_mse: 765533632.0000\n",
      "Epoch 3/100\n",
      "235/235 [==============================] - 0s 1ms/step - loss: 801375104.0000 - mse: 801375104.0000 - val_loss: 568044416.0000 - val_mse: 568044416.0000\n",
      "Epoch 4/100\n",
      "235/235 [==============================] - 0s 1ms/step - loss: 593374464.0000 - mse: 593374464.0000 - val_loss: 378529216.0000 - val_mse: 378529216.0000\n",
      "Epoch 5/100\n",
      "235/235 [==============================] - 0s 983us/step - loss: 319429440.0000 - mse: 319429440.0000 - val_loss: 286339616.0000 - val_mse: 286339616.0000\n",
      "Epoch 6/100\n",
      "235/235 [==============================] - 0s 1ms/step - loss: 181023120.0000 - mse: 181023120.0000 - val_loss: 141185072.0000 - val_mse: 141185072.0000\n",
      "Epoch 7/100\n",
      "235/235 [==============================] - 0s 1ms/step - loss: 72488624.0000 - mse: 72488624.0000 - val_loss: 49841632.0000 - val_mse: 49841632.0000\n",
      "Epoch 8/100\n",
      "235/235 [==============================] - 0s 980us/step - loss: 29160236.0000 - mse: 29160236.0000 - val_loss: 23855042.0000 - val_mse: 23855042.0000\n",
      "Epoch 9/100\n",
      "235/235 [==============================] - 0s 1ms/step - loss: 15570347.0000 - mse: 15570347.0000 - val_loss: 9931339.0000 - val_mse: 9931339.0000\n",
      "Epoch 10/100\n",
      "235/235 [==============================] - 0s 1ms/step - loss: 8703924.0000 - mse: 8703924.0000 - val_loss: 8595127.0000 - val_mse: 8595127.0000\n",
      "Epoch 11/100\n",
      "235/235 [==============================] - 0s 1ms/step - loss: 5791191.0000 - mse: 5791191.0000 - val_loss: 8381753.0000 - val_mse: 8381753.0000\n",
      "Epoch 12/100\n",
      "235/235 [==============================] - 0s 2ms/step - loss: 5851378.5000 - mse: 5851378.5000 - val_loss: 2910620.7500 - val_mse: 2910620.7500\n",
      "Epoch 13/100\n",
      "235/235 [==============================] - 0s 934us/step - loss: 2810208.5000 - mse: 2810208.5000 - val_loss: 2676428.7500 - val_mse: 2676428.7500\n",
      "Epoch 14/100\n",
      "235/235 [==============================] - 0s 951us/step - loss: 2880448.0000 - mse: 2880448.0000 - val_loss: 2149562.5000 - val_mse: 2149562.5000\n",
      "Epoch 15/100\n",
      "235/235 [==============================] - 0s 934us/step - loss: 1896589.7500 - mse: 1896589.7500 - val_loss: 1530314.2500 - val_mse: 1530314.2500\n",
      "Epoch 16/100\n",
      "235/235 [==============================] - 0s 924us/step - loss: 1620325.2500 - mse: 1620325.2500 - val_loss: 1680381.0000 - val_mse: 1680381.0000\n",
      "Epoch 17/100\n",
      "235/235 [==============================] - 0s 908us/step - loss: 1797503.7500 - mse: 1797503.7500 - val_loss: 1513267.5000 - val_mse: 1513267.5000\n",
      "Epoch 18/100\n",
      "235/235 [==============================] - 0s 993us/step - loss: 2623740.5000 - mse: 2623740.5000 - val_loss: 1002983.5000 - val_mse: 1002983.5000\n",
      "Epoch 19/100\n",
      "235/235 [==============================] - 0s 984us/step - loss: 1514455.2500 - mse: 1514455.2500 - val_loss: 1386279.8750 - val_mse: 1386279.8750\n",
      "Epoch 20/100\n",
      "235/235 [==============================] - 0s 997us/step - loss: 1810891.6250 - mse: 1810891.6250 - val_loss: 1935516.2500 - val_mse: 1935516.2500\n",
      "Epoch 21/100\n",
      "235/235 [==============================] - 0s 1ms/step - loss: 2122785.7500 - mse: 2122785.7500 - val_loss: 1089824.6250 - val_mse: 1089824.6250\n",
      "Epoch 22/100\n",
      "235/235 [==============================] - 0s 980us/step - loss: 938477.8750 - mse: 938477.8750 - val_loss: 705694.6875 - val_mse: 705694.6875\n",
      "Epoch 23/100\n",
      "235/235 [==============================] - 0s 989us/step - loss: 1968575.5000 - mse: 1968575.5000 - val_loss: 1030107.1250 - val_mse: 1030107.1250\n",
      "Epoch 24/100\n",
      "235/235 [==============================] - 0s 1ms/step - loss: 1774493.8750 - mse: 1774493.8750 - val_loss: 1851963.7500 - val_mse: 1851963.7500\n",
      "Epoch 25/100\n",
      "235/235 [==============================] - 0s 901us/step - loss: 1707462.1250 - mse: 1707462.1250 - val_loss: 1253064.8750 - val_mse: 1253064.8750\n",
      "Epoch 26/100\n",
      "235/235 [==============================] - 0s 1ms/step - loss: 5772234.5000 - mse: 5772234.5000 - val_loss: 716751.0625 - val_mse: 716751.0625\n",
      "Epoch 27/100\n",
      "235/235 [==============================] - 0s 904us/step - loss: 1573190.5000 - mse: 1573190.5000 - val_loss: 913040.7500 - val_mse: 913040.7500\n",
      "Epoch 28/100\n",
      "235/235 [==============================] - 0s 1ms/step - loss: 6236959.5000 - mse: 6236959.5000 - val_loss: 1094398.8750 - val_mse: 1094398.8750\n",
      "Epoch 29/100\n",
      "235/235 [==============================] - 0s 1ms/step - loss: 1481104.6250 - mse: 1481104.6250 - val_loss: 811207.1875 - val_mse: 811207.1875\n",
      "Epoch 30/100\n",
      "235/235 [==============================] - 0s 1ms/step - loss: 944170.7500 - mse: 944170.7500 - val_loss: 1959892.2500 - val_mse: 1959892.2500\n",
      "Epoch 31/100\n",
      "235/235 [==============================] - 0s 1ms/step - loss: 2545902.5000 - mse: 2545902.5000 - val_loss: 1008478.8750 - val_mse: 1008478.8750\n",
      "Epoch 32/100\n",
      "235/235 [==============================] - 0s 900us/step - loss: 2009582.2500 - mse: 2009582.2500 - val_loss: 2380957.5000 - val_mse: 2380957.5000\n",
      "Epoch 33/100\n",
      "235/235 [==============================] - 0s 887us/step - loss: 1853137.0000 - mse: 1853137.0000 - val_loss: 1488372.1250 - val_mse: 1488372.1250\n",
      "Epoch 34/100\n",
      "235/235 [==============================] - 0s 1ms/step - loss: 2388819.2500 - mse: 2388819.2500 - val_loss: 934161.3125 - val_mse: 934161.3125\n",
      "Epoch 35/100\n",
      "235/235 [==============================] - 0s 1ms/step - loss: 1445641.0000 - mse: 1445641.0000 - val_loss: 1536471.0000 - val_mse: 1536471.0000\n",
      "Epoch 36/100\n",
      "235/235 [==============================] - 0s 1ms/step - loss: 2578765.5000 - mse: 2578765.5000 - val_loss: 16053785.0000 - val_mse: 16053785.0000\n",
      "Epoch 37/100\n",
      "235/235 [==============================] - 0s 959us/step - loss: 3421511.7500 - mse: 3421511.7500 - val_loss: 909408.9375 - val_mse: 909408.9375\n",
      "Epoch 38/100\n",
      "235/235 [==============================] - 0s 957us/step - loss: 1240164.5000 - mse: 1240164.5000 - val_loss: 3142457.0000 - val_mse: 3142457.0000\n",
      "Epoch 39/100\n",
      "235/235 [==============================] - 0s 1ms/step - loss: 1701144.2500 - mse: 1701144.2500 - val_loss: 13627900.0000 - val_mse: 13627900.0000\n",
      "Epoch 40/100\n",
      "235/235 [==============================] - 0s 925us/step - loss: 3719736.2500 - mse: 3719736.2500 - val_loss: 771624.9375 - val_mse: 771624.9375\n",
      "Epoch 41/100\n",
      "235/235 [==============================] - 0s 929us/step - loss: 1975274.6250 - mse: 1975274.6250 - val_loss: 1225654.2500 - val_mse: 1225654.2500\n",
      "Epoch 42/100\n",
      "235/235 [==============================] - 0s 906us/step - loss: 2583281.7500 - mse: 2583281.7500 - val_loss: 1561764.1250 - val_mse: 1561764.1250\n"
     ]
    },
    {
     "data": {
      "text/plain": [
       "<tensorflow.python.keras.callbacks.History at 0x265f2f44148>"
      ]
     },
     "execution_count": 157,
     "metadata": {},
     "output_type": "execute_result"
    }
   ],
   "source": [
    "model.fit(x_train_scaled, y_train, validation_split=0.2, verbose = 1,\n",
    "          batch_size = 1, epochs = 100, callbacks = [early_stopping])"
   ]
  },
  {
   "cell_type": "code",
   "execution_count": 158,
   "metadata": {},
   "outputs": [
    {
     "name": "stdout",
     "output_type": "stream",
     "text": [
      "127/127 [==============================] - 0s 887us/step - loss: 1272636.8750 - mse: 1272636.8750\n",
      "loss :  1272636.875\n",
      "mse :  1272636.875\n"
     ]
    }
   ],
   "source": [
    "loss, mse = model.evaluate(x_test_scaled, y_test, batch_size=1)\n",
    "print('loss : ', loss)\n",
    "print('mse : ', mse)\n"
   ]
  },
  {
   "cell_type": "code",
   "execution_count": 159,
   "metadata": {},
   "outputs": [
    {
     "name": "stdout",
     "output_type": "stream",
     "text": [
      "종가 :  [52200.] / 예측가 :  [51824.1]\n",
      "종가 :  [41450.] / 예측가 :  [42691.363]\n",
      "종가 :  [49650.] / 예측가 :  [50714.387]\n",
      "종가 :  [44800.] / 예측가 :  [46184.29]\n",
      "종가 :  [49500.] / 예측가 :  [48662.184]\n"
     ]
    }
   ],
   "source": [
    "y_pred = model.predict(x_test_scaled)\n",
    "\n",
    "for i in range(5):\n",
    "    print('종가 : ', y_test[i], '/ 예측가 : ', y_pred[i])"
   ]
  },
  {
   "cell_type": "code",
   "execution_count": null,
   "metadata": {},
   "outputs": [],
   "source": []
  },
  {
   "cell_type": "code",
   "execution_count": null,
   "metadata": {},
   "outputs": [],
   "source": []
  },
  {
   "cell_type": "code",
   "execution_count": null,
   "metadata": {},
   "outputs": [],
   "source": []
  }
 ],
 "metadata": {
  "kernelspec": {
   "display_name": "Python 3",
   "language": "python",
   "name": "python3"
  },
  "language_info": {
   "codemirror_mode": {
    "name": "ipython",
    "version": 3
   },
   "file_extension": ".py",
   "mimetype": "text/x-python",
   "name": "python",
   "nbconvert_exporter": "python",
   "pygments_lexer": "ipython3",
   "version": "3.7.6"
  }
 },
 "nbformat": 4,
 "nbformat_minor": 4
}
