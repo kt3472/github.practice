{
 "cells": [
  {
   "cell_type": "markdown",
   "metadata": {},
   "source": [
    "## Using Scattertext to Analyze PyData Talks\n",
    "Let's pull titles abstracts and descriptions of PyData talks to see how novice-level talks differed from intermediate and advanced talks.\n",
    "\n",
    "Please check out Scattertext on Github: https://github.com/JasonKessler/scattertext"
   ]
  },
  {
   "cell_type": "code",
   "execution_count": 2,
   "metadata": {},
   "outputs": [
    {
     "data": {
      "text/html": [
       "<style>.container { width:98% !important; }</style>"
      ],
      "text/plain": [
       "<IPython.core.display.HTML object>"
      ]
     },
     "metadata": {},
     "output_type": "display_data"
    }
   ],
   "source": [
    "import pandas as pd\n",
    "import requests\n",
    "from bs4 import BeautifulSoup\n",
    "import re, time\n",
    "import pygal\n",
    "import scattertext as st\n",
    "from IPython.display import IFrame\n",
    "from IPython.core.display import display, HTML\n",
    "import seaborn as sns\n",
    "display(HTML(\"<style>.container { width:98% !important; }</style>\"))\n",
    "import spacy\n",
    "import scattertext as st\n",
    "%matplotlib inline"
   ]
  },
  {
   "cell_type": "markdown",
   "metadata": {},
   "source": [
    "## First, let's scrape pydata.org"
   ]
  },
  {
   "cell_type": "code",
   "execution_count": 23,
   "metadata": {
    "collapsed": true
   },
   "outputs": [],
   "source": [
    "sched.to_csv('pydata_talks.csv', index=False)"
   ]
  },
  {
   "cell_type": "code",
   "execution_count": 5,
   "metadata": {},
   "outputs": [],
   "source": [
    "sched = pd.read_csv('pydata_talks.csv')"
   ]
  },
  {
   "cell_type": "code",
   "execution_count": 7,
   "metadata": {},
   "outputs": [],
   "source": [
    "nlp = spacy.load('en')"
   ]
  },
  {
   "cell_type": "code",
   "execution_count": 8,
   "metadata": {},
   "outputs": [],
   "source": [
    "sched = sched[~sched['title'].isin(['BoF', 'Unconference Presentation'])]"
   ]
  },
  {
   "cell_type": "code",
   "execution_count": 9,
   "metadata": {},
   "outputs": [],
   "source": [
    "sched['is_novice'] = (sched.level == 'Novice').apply(lambda x: 'Novice' if x else 'Not Novice')"
   ]
  },
  {
   "cell_type": "code",
   "execution_count": 10,
   "metadata": {},
   "outputs": [],
   "source": [
    "sched['parse'] = (sched['title'] + '\\n \\n' + sched['abstract'].fillna('') + '\\n \\n' + sched['description'].fillna('')).apply(nlp)"
   ]
  },
  {
   "cell_type": "code",
   "execution_count": 11,
   "metadata": {},
   "outputs": [],
   "source": [
    "sched = sched.loc[sched['title'].drop_duplicates().index]"
   ]
  },
  {
   "cell_type": "code",
   "execution_count": 12,
   "metadata": {},
   "outputs": [
    {
     "data": {
      "text/html": [
       "<div>\n",
       "<style scoped>\n",
       "    .dataframe tbody tr th:only-of-type {\n",
       "        vertical-align: middle;\n",
       "    }\n",
       "\n",
       "    .dataframe tbody tr th {\n",
       "        vertical-align: top;\n",
       "    }\n",
       "\n",
       "    .dataframe thead th {\n",
       "        text-align: right;\n",
       "    }\n",
       "</style>\n",
       "<table border=\"1\" class=\"dataframe\">\n",
       "  <thead>\n",
       "    <tr style=\"text-align: right;\">\n",
       "      <th></th>\n",
       "      <th>abstract</th>\n",
       "      <th>author</th>\n",
       "      <th>description</th>\n",
       "      <th>level</th>\n",
       "      <th>location</th>\n",
       "      <th>title</th>\n",
       "      <th>year</th>\n",
       "      <th>is_novice</th>\n",
       "      <th>parse</th>\n",
       "    </tr>\n",
       "  </thead>\n",
       "  <tbody>\n",
       "    <tr>\n",
       "      <th>0</th>\n",
       "      <td>Topics to be covered include ...\\n\\nCognitive ...</td>\n",
       "      <td>Dave DeBarr</td>\n",
       "      <td>We will review tutorial examples of using CNTK...</td>\n",
       "      <td>Intermediate</td>\n",
       "      <td>seattle</td>\n",
       "      <td>Using CNTK's Python Interface for Deep Learning</td>\n",
       "      <td>2017</td>\n",
       "      <td>Not Novice</td>\n",
       "      <td>(Using, CNTK, 's, Python, Interface, for, Deep...</td>\n",
       "    </tr>\n",
       "    <tr>\n",
       "      <th>1</th>\n",
       "      <td>Jupyter is great for tinkering and research. B...</td>\n",
       "      <td>Pavlo Andriychenko</td>\n",
       "      <td>I will show the tools and processes for buildi...</td>\n",
       "      <td>Experienced</td>\n",
       "      <td>london</td>\n",
       "      <td>Make your research interactive with Jupyter Da...</td>\n",
       "      <td>2017</td>\n",
       "      <td>Not Novice</td>\n",
       "      <td>(Make, your, research, interactive, with, Jupy...</td>\n",
       "    </tr>\n",
       "    <tr>\n",
       "      <th>2</th>\n",
       "      <td>What will we do in the workshop\\n\\nReading CSV...</td>\n",
       "      <td>Eduard Goma</td>\n",
       "      <td>Introductory workshop to show the first steps ...</td>\n",
       "      <td>Novice</td>\n",
       "      <td>barcelona</td>\n",
       "      <td>Introduction to data analysis with Pandas</td>\n",
       "      <td>2017</td>\n",
       "      <td>Novice</td>\n",
       "      <td>(Introduction, to, data, analysis, with, Panda...</td>\n",
       "    </tr>\n",
       "    <tr>\n",
       "      <th>3</th>\n",
       "      <td>Pandas is the Swiss-Multipurpose Knife for Dat...</td>\n",
       "      <td>Alexander Hendorf</td>\n",
       "      <td>Pandas is the Swiss-Multipurpose Knife for Dat...</td>\n",
       "      <td>Novice</td>\n",
       "      <td>berlin</td>\n",
       "      <td>Introduction to Data-Analysis with Pandas</td>\n",
       "      <td>2017</td>\n",
       "      <td>Novice</td>\n",
       "      <td>(Introduction, to, Data, -, Analysis, with, Pa...</td>\n",
       "    </tr>\n",
       "    <tr>\n",
       "      <th>4</th>\n",
       "      <td>The tutorial will introduce users to the core ...</td>\n",
       "      <td>Skipper Seabold</td>\n",
       "      <td>Dask is a relatively new library for parallel ...</td>\n",
       "      <td>Novice</td>\n",
       "      <td>dc</td>\n",
       "      <td>Using Dask for Parallel Computing in Python</td>\n",
       "      <td>2016</td>\n",
       "      <td>Novice</td>\n",
       "      <td>(Using, Dask, for, Parallel, Computing, in, Py...</td>\n",
       "    </tr>\n",
       "    <tr>\n",
       "      <th>...</th>\n",
       "      <td>...</td>\n",
       "      <td>...</td>\n",
       "      <td>...</td>\n",
       "      <td>...</td>\n",
       "      <td>...</td>\n",
       "      <td>...</td>\n",
       "      <td>...</td>\n",
       "      <td>...</td>\n",
       "      <td>...</td>\n",
       "    </tr>\n",
       "    <tr>\n",
       "      <th>4409</th>\n",
       "      <td>The robot detection module that I will present...</td>\n",
       "      <td>Eszter Windhager-Pokol</td>\n",
       "      <td>In this talk, I will present the robot detecti...</td>\n",
       "      <td>Intermediate</td>\n",
       "      <td>london</td>\n",
       "      <td>Robot detection in IT environments</td>\n",
       "      <td>2016</td>\n",
       "      <td>Not Novice</td>\n",
       "      <td>(Robot, detection, in, IT, environments, \\n \\n...</td>\n",
       "    </tr>\n",
       "    <tr>\n",
       "      <th>4410</th>\n",
       "      <td>Imagine you are in London and want to travel s...</td>\n",
       "      <td>Nikolai Nowaczyk</td>\n",
       "      <td>Spherical Voronoi diagrams partition the surfa...</td>\n",
       "      <td>Intermediate</td>\n",
       "      <td>london</td>\n",
       "      <td>Spherical Voronoi Diagrams in Python</td>\n",
       "      <td>2016</td>\n",
       "      <td>Not Novice</td>\n",
       "      <td>(Spherical, Voronoi, Diagrams, in, Python, \\n ...</td>\n",
       "    </tr>\n",
       "    <tr>\n",
       "      <th>4411</th>\n",
       "      <td>Traditionally, risk scoring frameworks are bui...</td>\n",
       "      <td>Natalia Angarita-Jaimes</td>\n",
       "      <td>We will talk about a framework we have develop...</td>\n",
       "      <td>Intermediate</td>\n",
       "      <td>london</td>\n",
       "      <td>Assurance Scoring: Using Machine Learning and ...</td>\n",
       "      <td>2016</td>\n",
       "      <td>Not Novice</td>\n",
       "      <td>(Assurance, Scoring, :, Using, Machine, Learni...</td>\n",
       "    </tr>\n",
       "    <tr>\n",
       "      <th>4412</th>\n",
       "      <td>Jupyter Notebooks are code-centric documents i...</td>\n",
       "      <td>Thomas Kluyver</td>\n",
       "      <td>nbconvert is a set of tools to convert Jupyter...</td>\n",
       "      <td>Experienced</td>\n",
       "      <td>london</td>\n",
       "      <td>Customising nbconvert: how to turn Jupyter not...</td>\n",
       "      <td>2016</td>\n",
       "      <td>Not Novice</td>\n",
       "      <td>(Customising, nbconvert, :, how, to, turn, Jup...</td>\n",
       "    </tr>\n",
       "    <tr>\n",
       "      <th>4413</th>\n",
       "      <td>In 2016 nobody needs convincing that crowdsour...</td>\n",
       "      <td>Maciej Gryka</td>\n",
       "      <td>If you have ever used crowdsourcing, you know ...</td>\n",
       "      <td>Intermediate</td>\n",
       "      <td>london</td>\n",
       "      <td>Gotta catch'em all: recognizing sloppy work in...</td>\n",
       "      <td>2016</td>\n",
       "      <td>Not Novice</td>\n",
       "      <td>(Got, ta, catch'em, all, :, recognizing, slopp...</td>\n",
       "    </tr>\n",
       "  </tbody>\n",
       "</table>\n",
       "<p>510 rows × 9 columns</p>\n",
       "</div>"
      ],
      "text/plain": [
       "                                               abstract  \\\n",
       "0     Topics to be covered include ...\\n\\nCognitive ...   \n",
       "1     Jupyter is great for tinkering and research. B...   \n",
       "2     What will we do in the workshop\\n\\nReading CSV...   \n",
       "3     Pandas is the Swiss-Multipurpose Knife for Dat...   \n",
       "4     The tutorial will introduce users to the core ...   \n",
       "...                                                 ...   \n",
       "4409  The robot detection module that I will present...   \n",
       "4410  Imagine you are in London and want to travel s...   \n",
       "4411  Traditionally, risk scoring frameworks are bui...   \n",
       "4412  Jupyter Notebooks are code-centric documents i...   \n",
       "4413  In 2016 nobody needs convincing that crowdsour...   \n",
       "\n",
       "                       author  \\\n",
       "0                 Dave DeBarr   \n",
       "1          Pavlo Andriychenko   \n",
       "2                 Eduard Goma   \n",
       "3           Alexander Hendorf   \n",
       "4             Skipper Seabold   \n",
       "...                       ...   \n",
       "4409   Eszter Windhager-Pokol   \n",
       "4410         Nikolai Nowaczyk   \n",
       "4411  Natalia Angarita-Jaimes   \n",
       "4412           Thomas Kluyver   \n",
       "4413             Maciej Gryka   \n",
       "\n",
       "                                            description         level  \\\n",
       "0     We will review tutorial examples of using CNTK...  Intermediate   \n",
       "1     I will show the tools and processes for buildi...   Experienced   \n",
       "2     Introductory workshop to show the first steps ...        Novice   \n",
       "3     Pandas is the Swiss-Multipurpose Knife for Dat...        Novice   \n",
       "4     Dask is a relatively new library for parallel ...        Novice   \n",
       "...                                                 ...           ...   \n",
       "4409  In this talk, I will present the robot detecti...  Intermediate   \n",
       "4410  Spherical Voronoi diagrams partition the surfa...  Intermediate   \n",
       "4411  We will talk about a framework we have develop...  Intermediate   \n",
       "4412  nbconvert is a set of tools to convert Jupyter...   Experienced   \n",
       "4413  If you have ever used crowdsourcing, you know ...  Intermediate   \n",
       "\n",
       "       location                                              title  year  \\\n",
       "0       seattle    Using CNTK's Python Interface for Deep Learning  2017   \n",
       "1        london  Make your research interactive with Jupyter Da...  2017   \n",
       "2     barcelona          Introduction to data analysis with Pandas  2017   \n",
       "3        berlin          Introduction to Data-Analysis with Pandas  2017   \n",
       "4            dc        Using Dask for Parallel Computing in Python  2016   \n",
       "...         ...                                                ...   ...   \n",
       "4409     london                 Robot detection in IT environments  2016   \n",
       "4410     london               Spherical Voronoi Diagrams in Python  2016   \n",
       "4411     london  Assurance Scoring: Using Machine Learning and ...  2016   \n",
       "4412     london  Customising nbconvert: how to turn Jupyter not...  2016   \n",
       "4413     london  Gotta catch'em all: recognizing sloppy work in...  2016   \n",
       "\n",
       "       is_novice                                              parse  \n",
       "0     Not Novice  (Using, CNTK, 's, Python, Interface, for, Deep...  \n",
       "1     Not Novice  (Make, your, research, interactive, with, Jupy...  \n",
       "2         Novice  (Introduction, to, data, analysis, with, Panda...  \n",
       "3         Novice  (Introduction, to, Data, -, Analysis, with, Pa...  \n",
       "4         Novice  (Using, Dask, for, Parallel, Computing, in, Py...  \n",
       "...          ...                                                ...  \n",
       "4409  Not Novice  (Robot, detection, in, IT, environments, \\n \\n...  \n",
       "4410  Not Novice  (Spherical, Voronoi, Diagrams, in, Python, \\n ...  \n",
       "4411  Not Novice  (Assurance, Scoring, :, Using, Machine, Learni...  \n",
       "4412  Not Novice  (Customising, nbconvert, :, how, to, turn, Jup...  \n",
       "4413  Not Novice  (Got, ta, catch'em, all, :, recognizing, slopp...  \n",
       "\n",
       "[510 rows x 9 columns]"
      ]
     },
     "execution_count": 12,
     "metadata": {},
     "output_type": "execute_result"
    }
   ],
   "source": [
    "sched"
   ]
  },
  {
   "cell_type": "markdown",
   "metadata": {},
   "source": [
    "## Let's see how descriptions of novice-directed talks sound compared to directed at more seasoned audiences"
   ]
  },
  {
   "cell_type": "code",
   "execution_count": 12,
   "metadata": {},
   "outputs": [
    {
     "data": {
      "text/html": [
       "\n",
       "        <iframe\n",
       "            width=\"1200\"\n",
       "            height=\"700\"\n",
       "            src=\"output/PydataNoviceVsNotNovice.html\"\n",
       "            frameborder=\"0\"\n",
       "            allowfullscreen\n",
       "        ></iframe>\n",
       "        "
      ],
      "text/plain": [
       "<IPython.lib.display.IFrame at 0x11b46f1d0>"
      ]
     },
     "execution_count": 12,
     "metadata": {},
     "output_type": "execute_result"
    }
   ],
   "source": [
    "html = st.produce_scattertext_explorer(st.CorpusFromParsedDocuments(sched, category_col = 'is_novice', parsed_col = 'parse').build(),\n",
    "                                       category='Novice',\n",
    "                                       category_name='Novice',\n",
    "                                       not_category_name='Intermediate or Advanced',\n",
    "                                       minimum_term_frequency=8,\n",
    "                                       pmi_threshold_coefficient=10,\n",
    "                                       width_in_pixels=1000,\n",
    "                                       term_ranker=st.OncePerDocFrequencyRanker,\n",
    "                                       use_full_doc=True,\n",
    "                                       metadata=sched['author'] + ' ('+sched['location'] + ', '+ sched['level'] + ')',)\n",
    "file_name = 'output/PydataNoviceVsNotNovice.html'\n",
    "open(file_name, 'wb').write(html.encode('utf-8'))\n",
    "IFrame(src=file_name, width = 1200, height=700)"
   ]
  },
  {
   "cell_type": "markdown",
   "metadata": {},
   "source": [
    "## Let's see how the experiened talk descriptions sound"
   ]
  },
  {
   "cell_type": "code",
   "execution_count": 23,
   "metadata": {},
   "outputs": [
    {
     "data": {
      "text/html": [
       "\n",
       "        <iframe\n",
       "            width=\"1200\"\n",
       "            height=\"700\"\n",
       "            src=\"output/PydataAdvancedVsRest.html\"\n",
       "            frameborder=\"0\"\n",
       "            allowfullscreen\n",
       "        ></iframe>\n",
       "        "
      ],
      "text/plain": [
       "<IPython.lib.display.IFrame at 0x179683e10>"
      ]
     },
     "execution_count": 23,
     "metadata": {},
     "output_type": "execute_result"
    }
   ],
   "source": [
    "sched['is_advanced'] = (sched.level == 'Experienced').apply(lambda x: 'Experienced' if x else 'Not Experienced')\n",
    "html = st.produce_scattertext_explorer(st.CorpusFromParsedDocuments(sched, category_col = 'is_advanced', parsed_col = 'parse').build(),\n",
    "                                       category='Experienced',\n",
    "                                       category_name='Experienced',\n",
    "                                       not_category_name='Not Experienced',\n",
    "                                       minimum_term_frequency=8,\n",
    "                                       pmi_filter_thresold=8,                                       \n",
    "                                       width_in_pixels=1000,\n",
    "                                       term_ranker=st.OncePerDocFrequencyRanker,\n",
    "                                       use_full_doc=True,\n",
    "                                       metadata=sched['author'] + ' ('+sched['location'] + ', '+ sched['level'] + ')',)\n",
    "file_name = 'output/PydataAdvancedVsRest.html'\n",
    "open(file_name, 'wb').write(html.encode('utf-8'))\n",
    "IFrame(src=file_name, width = 1200, height=700)"
   ]
  },
  {
   "cell_type": "code",
   "execution_count": null,
   "metadata": {
    "collapsed": true
   },
   "outputs": [],
   "source": []
  }
 ],
 "metadata": {
  "anaconda-cloud": {},
  "kernelspec": {
   "display_name": "Python 3",
   "language": "python",
   "name": "python3"
  },
  "language_info": {
   "codemirror_mode": {
    "name": "ipython",
    "version": 3
   },
   "file_extension": ".py",
   "mimetype": "text/x-python",
   "name": "python",
   "nbconvert_exporter": "python",
   "pygments_lexer": "ipython3",
   "version": "3.7.6"
  }
 },
 "nbformat": 4,
 "nbformat_minor": 2
}
