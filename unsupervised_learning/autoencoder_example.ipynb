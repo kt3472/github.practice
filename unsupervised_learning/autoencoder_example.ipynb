{
 "cells": [
  {
   "cell_type": "code",
   "execution_count": 1,
   "metadata": {},
   "outputs": [
    {
     "name": "stderr",
     "output_type": "stream",
     "text": [
      "\n",
      "Bad key \"text.kerning_factor\" on line 4 in\n",
      "C:\\anaconda3\\lib\\site-packages\\matplotlib\\mpl-data\\stylelib\\_classic_test_patch.mplstyle.\n",
      "You probably need to get an updated matplotlibrc file from\n",
      "https://github.com/matplotlib/matplotlib/blob/v3.1.3/matplotlibrc.template\n",
      "or from the matplotlib source distribution\n",
      "Using TensorFlow backend.\n"
     ]
    }
   ],
   "source": [
    "import pickle\n",
    "import numpy as np\n",
    "import matplotlib.pyplot as plt\n",
    "from keras.models import Model\n",
    "from keras.layers import Input, Dense"
   ]
  },
  {
   "cell_type": "code",
   "execution_count": 2,
   "metadata": {},
   "outputs": [],
   "source": [
    "with open('data_batch_1', 'rb') as f:\n",
    "    dat = pickle.load(f, encoding='bytes')"
   ]
  },
  {
   "cell_type": "code",
   "execution_count": 7,
   "metadata": {},
   "outputs": [],
   "source": [
    "images = np.zeros((10000, 32, 32, 3), dtype='uint8')\n",
    "\n",
    "for idx, img in enumerate(dat[b'data']):\n",
    "    images[idx, :, :, 0] = img[:1024].reshape((32, 32)) # Red\n",
    "    images[idx, :, :, 1] = img[1024:2048].reshape((32, 32)) # Green\n",
    "    images[idx, :, :, 2] = img[2048:].reshape((32, 32)) # Blue"
   ]
  },
  {
   "cell_type": "code",
   "execution_count": 8,
   "metadata": {},
   "outputs": [
    {
     "data": {
      "text/plain": [
       "array([[0.24052288, 0.1751634 , 0.18431373, ..., 0.70588235, 0.46143791,\n",
       "        0.3751634 ],\n",
       "       [0.67712418, 0.52156863, 0.39738562, ..., 0.54248366, 0.54771242,\n",
       "        0.54901961],\n",
       "       [1.        , 0.99215686, 0.99215686, ..., 0.32156863, 0.32287582,\n",
       "        0.32679739],\n",
       "       ...,\n",
       "       [0.25098039, 0.21437908, 0.27843137, ..., 0.28888889, 0.29673203,\n",
       "        0.29934641],\n",
       "       [0.99346405, 0.99477124, 0.85620915, ..., 0.8379085 , 1.        ,\n",
       "        0.99738562],\n",
       "       [0.1620915 , 0.16078431, 0.15816993, ..., 0.64705882, 0.64705882,\n",
       "        0.64836601]])"
      ]
     },
     "execution_count": 8,
     "metadata": {},
     "output_type": "execute_result"
    }
   ],
   "source": [
    "images = images.mean(axis=-1)\n",
    "images = images / 255.0\n",
    "images = images.reshape((-1, 32 ** 2))\n",
    "images"
   ]
  },
  {
   "cell_type": "code",
   "execution_count": 9,
   "metadata": {},
   "outputs": [],
   "source": [
    "input_layer = Input(shape=(1024,))"
   ]
  },
  {
   "cell_type": "code",
   "execution_count": 10,
   "metadata": {},
   "outputs": [],
   "source": [
    "encoding_stage = Dense(256, activation='relu')(input_layer)"
   ]
  },
  {
   "cell_type": "code",
   "execution_count": 11,
   "metadata": {},
   "outputs": [],
   "source": [
    "decoding_stage = Dense(1024, activation='sigmoid')(encoding_stage)"
   ]
  },
  {
   "cell_type": "code",
   "execution_count": 12,
   "metadata": {},
   "outputs": [],
   "source": [
    "autoencoder = Model(input_layer, decoding_stage)"
   ]
  },
  {
   "cell_type": "code",
   "execution_count": 13,
   "metadata": {},
   "outputs": [],
   "source": [
    "autoencoder.compile(loss='binary_crossentropy',\n",
    "              optimizer='adadelta')"
   ]
  },
  {
   "cell_type": "code",
   "execution_count": 14,
   "metadata": {},
   "outputs": [
    {
     "name": "stdout",
     "output_type": "stream",
     "text": [
      "Epoch 1/100\n",
      "313/313 [==============================] - 2s 7ms/step - loss: 0.7027\n",
      "Epoch 2/100\n",
      "313/313 [==============================] - 2s 7ms/step - loss: 0.7020\n",
      "Epoch 3/100\n",
      "313/313 [==============================] - 2s 7ms/step - loss: 0.7014\n",
      "Epoch 4/100\n",
      "313/313 [==============================] - 2s 8ms/step - loss: 0.7009\n",
      "Epoch 5/100\n",
      "313/313 [==============================] - 2s 7ms/step - loss: 0.7004\n",
      "Epoch 6/100\n",
      "313/313 [==============================] - 2s 7ms/step - loss: 0.6999\n",
      "Epoch 7/100\n",
      "313/313 [==============================] - 3s 9ms/step - loss: 0.6995\n",
      "Epoch 8/100\n",
      "313/313 [==============================] - 2s 7ms/step - loss: 0.6991\n",
      "Epoch 9/100\n",
      "313/313 [==============================] - 2s 7ms/step - loss: 0.6988\n",
      "Epoch 10/100\n",
      "313/313 [==============================] - 2s 7ms/step - loss: 0.6984\n",
      "Epoch 11/100\n",
      "313/313 [==============================] - 2s 7ms/step - loss: 0.6981\n",
      "Epoch 12/100\n",
      "313/313 [==============================] - 2s 7ms/step - loss: 0.6978\n",
      "Epoch 13/100\n",
      "313/313 [==============================] - 2s 7ms/step - loss: 0.6975\n",
      "Epoch 14/100\n",
      "313/313 [==============================] - 3s 8ms/step - loss: 0.6973\n",
      "Epoch 15/100\n",
      "313/313 [==============================] - 2s 7ms/step - loss: 0.6970\n",
      "Epoch 16/100\n",
      "313/313 [==============================] - 2s 7ms/step - loss: 0.6968\n",
      "Epoch 17/100\n",
      "313/313 [==============================] - 3s 8ms/step - loss: 0.6966\n",
      "Epoch 18/100\n",
      "313/313 [==============================] - 2s 7ms/step - loss: 0.6964\n",
      "Epoch 19/100\n",
      "313/313 [==============================] - 2s 6ms/step - loss: 0.6962\n",
      "Epoch 20/100\n",
      "313/313 [==============================] - 2s 7ms/step - loss: 0.6961\n",
      "Epoch 21/100\n",
      "313/313 [==============================] - 2s 8ms/step - loss: 0.6959\n",
      "Epoch 22/100\n",
      "313/313 [==============================] - 2s 7ms/step - loss: 0.6957\n",
      "Epoch 23/100\n",
      "313/313 [==============================] - 2s 8ms/step - loss: 0.6956\n",
      "Epoch 24/100\n",
      "313/313 [==============================] - 3s 8ms/step - loss: 0.6955\n",
      "Epoch 25/100\n",
      "313/313 [==============================] - 2s 7ms/step - loss: 0.6953\n",
      "Epoch 26/100\n",
      "313/313 [==============================] - 2s 6ms/step - loss: 0.6952\n",
      "Epoch 27/100\n",
      "313/313 [==============================] - 3s 8ms/step - loss: 0.6951\n",
      "Epoch 28/100\n",
      "313/313 [==============================] - 2s 7ms/step - loss: 0.6950\n",
      "Epoch 29/100\n",
      "313/313 [==============================] - 2s 6ms/step - loss: 0.6949\n",
      "Epoch 30/100\n",
      "313/313 [==============================] - 3s 8ms/step - loss: 0.6948\n",
      "Epoch 31/100\n",
      "313/313 [==============================] - 2s 7ms/step - loss: 0.6947\n",
      "Epoch 32/100\n",
      "313/313 [==============================] - 2s 6ms/step - loss: 0.6946\n",
      "Epoch 33/100\n",
      "313/313 [==============================] - 2s 8ms/step - loss: 0.6945\n",
      "Epoch 34/100\n",
      "313/313 [==============================] - 2s 7ms/step - loss: 0.6945\n",
      "Epoch 35/100\n",
      "313/313 [==============================] - 2s 6ms/step - loss: 0.6944\n",
      "Epoch 36/100\n",
      "313/313 [==============================] - 2s 7ms/step - loss: 0.6943\n",
      "Epoch 37/100\n",
      "313/313 [==============================] - 3s 8ms/step - loss: 0.6942\n",
      "Epoch 38/100\n",
      "313/313 [==============================] - 2s 7ms/step - loss: 0.6942\n",
      "Epoch 39/100\n",
      "313/313 [==============================] - 2s 8ms/step - loss: 0.6941\n",
      "Epoch 40/100\n",
      "313/313 [==============================] - 2s 7ms/step - loss: 0.6940\n",
      "Epoch 41/100\n",
      "313/313 [==============================] - 2s 7ms/step - loss: 0.6940\n",
      "Epoch 42/100\n",
      "313/313 [==============================] - 2s 7ms/step - loss: 0.6939\n",
      "Epoch 43/100\n",
      "313/313 [==============================] - 2s 7ms/step - loss: 0.6939\n",
      "Epoch 44/100\n",
      "313/313 [==============================] - 2s 7ms/step - loss: 0.6938\n",
      "Epoch 45/100\n",
      "313/313 [==============================] - 2s 8ms/step - loss: 0.6938\n",
      "Epoch 46/100\n",
      "313/313 [==============================] - 2s 8ms/step - loss: 0.6937\n",
      "Epoch 47/100\n",
      "313/313 [==============================] - 2s 7ms/step - loss: 0.6937\n",
      "Epoch 48/100\n",
      "313/313 [==============================] - 2s 8ms/step - loss: 0.6936\n",
      "Epoch 49/100\n",
      "313/313 [==============================] - 3s 8ms/step - loss: 0.6936\n",
      "Epoch 50/100\n",
      "313/313 [==============================] - 2s 6ms/step - loss: 0.6936\n",
      "Epoch 51/100\n",
      "313/313 [==============================] - 2s 7ms/step - loss: 0.6935\n",
      "Epoch 52/100\n",
      "313/313 [==============================] - 2s 8ms/step - loss: 0.6935\n",
      "Epoch 53/100\n",
      "313/313 [==============================] - 2s 7ms/step - loss: 0.6935\n",
      "Epoch 54/100\n",
      "313/313 [==============================] - 2s 7ms/step - loss: 0.6934\n",
      "Epoch 55/100\n",
      "313/313 [==============================] - 2s 8ms/step - loss: 0.6934\n",
      "Epoch 56/100\n",
      "313/313 [==============================] - 2s 7ms/step - loss: 0.6934\n",
      "Epoch 57/100\n",
      "313/313 [==============================] - 2s 7ms/step - loss: 0.6933\n",
      "Epoch 58/100\n",
      "313/313 [==============================] - 2s 8ms/step - loss: 0.6933\n",
      "Epoch 59/100\n",
      "313/313 [==============================] - 2s 7ms/step - loss: 0.6933\n",
      "Epoch 60/100\n",
      "313/313 [==============================] - 2s 7ms/step - loss: 0.6932\n",
      "Epoch 61/100\n",
      "313/313 [==============================] - 2s 8ms/step - loss: 0.6932\n",
      "Epoch 62/100\n",
      "313/313 [==============================] - 2s 7ms/step - loss: 0.6932\n",
      "Epoch 63/100\n",
      "313/313 [==============================] - 3s 8ms/step - loss: 0.6932A: 0s - loss\n",
      "Epoch 64/100\n",
      "313/313 [==============================] - 2s 7ms/step - loss: 0.6931\n",
      "Epoch 65/100\n",
      "313/313 [==============================] - 2s 7ms/step - loss: 0.6931\n",
      "Epoch 66/100\n",
      "313/313 [==============================] - 2s 8ms/step - loss: 0.6931\n",
      "Epoch 67/100\n",
      "313/313 [==============================] - 2s 8ms/step - loss: 0.6931\n",
      "Epoch 68/100\n",
      "313/313 [==============================] - 2s 6ms/step - loss: 0.6930\n",
      "Epoch 69/100\n",
      "313/313 [==============================] - 2s 7ms/step - loss: 0.6930\n",
      "Epoch 70/100\n",
      "313/313 [==============================] - 2s 7ms/step - loss: 0.6930\n",
      "Epoch 71/100\n",
      "313/313 [==============================] - 2s 6ms/step - loss: 0.6930\n",
      "Epoch 72/100\n",
      "313/313 [==============================] - 2s 7ms/step - loss: 0.6929\n",
      "Epoch 73/100\n",
      "313/313 [==============================] - 2s 8ms/step - loss: 0.6929\n",
      "Epoch 74/100\n",
      "313/313 [==============================] - 2s 6ms/step - loss: 0.6929\n",
      "Epoch 75/100\n",
      "313/313 [==============================] - 2s 7ms/step - loss: 0.6929\n",
      "Epoch 76/100\n",
      "313/313 [==============================] - 2s 8ms/step - loss: 0.6929\n",
      "Epoch 77/100\n",
      "313/313 [==============================] - 2s 7ms/step - loss: 0.6928\n",
      "Epoch 78/100\n",
      "313/313 [==============================] - 2s 7ms/step - loss: 0.6928\n",
      "Epoch 79/100\n",
      "313/313 [==============================] - 2s 7ms/step - loss: 0.6928\n",
      "Epoch 80/100\n",
      "313/313 [==============================] - 2s 7ms/step - loss: 0.6928\n",
      "Epoch 81/100\n",
      "313/313 [==============================] - 2s 7ms/step - loss: 0.6928\n",
      "Epoch 82/100\n",
      "313/313 [==============================] - 2s 7ms/step - loss: 0.6928\n",
      "Epoch 83/100\n",
      "313/313 [==============================] - 2s 8ms/step - loss: 0.6927\n",
      "Epoch 84/100\n",
      "313/313 [==============================] - 2s 7ms/step - loss: 0.6927\n",
      "Epoch 85/100\n",
      "313/313 [==============================] - 2s 6ms/step - loss: 0.6927\n",
      "Epoch 86/100\n",
      "313/313 [==============================] - 2s 8ms/step - loss: 0.6927\n",
      "Epoch 87/100\n",
      "313/313 [==============================] - 2s 7ms/step - loss: 0.6927\n",
      "Epoch 88/100\n",
      "313/313 [==============================] - 2s 7ms/step - loss: 0.6927\n",
      "Epoch 89/100\n",
      "313/313 [==============================] - 2s 7ms/step - loss: 0.6926\n",
      "Epoch 90/100\n",
      "313/313 [==============================] - 2s 7ms/step - loss: 0.6926\n",
      "Epoch 91/100\n",
      "313/313 [==============================] - 2s 8ms/step - loss: 0.6926\n",
      "Epoch 92/100\n",
      "313/313 [==============================] - 3s 9ms/step - loss: 0.6926\n",
      "Epoch 93/100\n",
      "313/313 [==============================] - 3s 10ms/step - loss: 0.6926\n",
      "Epoch 94/100\n",
      "313/313 [==============================] - 3s 9ms/step - loss: 0.6926\n",
      "Epoch 95/100\n",
      "313/313 [==============================] - 3s 8ms/step - loss: 0.6925\n",
      "Epoch 96/100\n",
      "313/313 [==============================] - 3s 8ms/step - loss: 0.6925\n",
      "Epoch 97/100\n",
      "313/313 [==============================] - 2s 7ms/step - loss: 0.6925\n",
      "Epoch 98/100\n",
      "313/313 [==============================] - 2s 8ms/step - loss: 0.6925\n",
      "Epoch 99/100\n"
     ]
    },
    {
     "name": "stdout",
     "output_type": "stream",
     "text": [
      "313/313 [==============================] - 3s 10ms/step - loss: 0.6925\n",
      "Epoch 100/100\n",
      "313/313 [==============================] - 3s 10ms/step - loss: 0.6925\n"
     ]
    },
    {
     "data": {
      "text/plain": [
       "<tensorflow.python.keras.callbacks.History at 0x1c681e3ad88>"
      ]
     },
     "execution_count": 14,
     "metadata": {},
     "output_type": "execute_result"
    }
   ],
   "source": [
    "autoencoder.fit(images, images, epochs=100)"
   ]
  },
  {
   "cell_type": "code",
   "execution_count": 15,
   "metadata": {},
   "outputs": [],
   "source": [
    "encoder_output = Model(input_layer, encoding_stage).predict(images[:5])"
   ]
  },
  {
   "cell_type": "code",
   "execution_count": 16,
   "metadata": {},
   "outputs": [],
   "source": [
    "encoder_output = encoder_output.reshape((-1, 16, 16)) * 255"
   ]
  },
  {
   "cell_type": "code",
   "execution_count": 17,
   "metadata": {},
   "outputs": [],
   "source": [
    "decoder_output = autoencoder.predict(images[:5])"
   ]
  },
  {
   "cell_type": "code",
   "execution_count": 18,
   "metadata": {},
   "outputs": [],
   "source": [
    "decoder_output = decoder_output.reshape((-1, 32,32)) * 255"
   ]
  },
  {
   "cell_type": "code",
   "execution_count": 19,
   "metadata": {},
   "outputs": [],
   "source": [
    "images = images.reshape((-1, 32, 32))"
   ]
  },
  {
   "cell_type": "code",
   "execution_count": 20,
   "metadata": {},
   "outputs": [
    {
     "data": {
      "image/png": "[encoded data removed]",
      "text/plain": [
       "<Figure size 720x504 with 15 Axes>"
      ]
     },
     "metadata": {
      "needs_background": "light"
     },
     "output_type": "display_data"
    }
   ],
   "source": [
    "plt.figure(figsize=(10, 7))\n",
    "for i in range(5):\n",
    "    plt.subplot(3, 5, i + 1)\n",
    "    plt.imshow(images[i], cmap='gray')\n",
    "    plt.axis('off')\n",
    "    \n",
    "    plt.subplot(3, 5, i + 6)\n",
    "    plt.imshow(encoder_output[i], cmap='gray')\n",
    "    plt.axis('off')   \n",
    "    \n",
    "    plt.subplot(3, 5, i + 11)\n",
    "    plt.imshow(decoder_output[i], cmap='gray')\n",
    "    plt.axis('off')        "
   ]
  },
  {
   "cell_type": "code",
   "execution_count": null,
   "metadata": {},
   "outputs": [],
   "source": []
  }
 ],
 "metadata": {
  "kernelspec": {
   "display_name": "Python 3",
   "language": "python",
   "name": "python3"
  },
  "language_info": {
   "codemirror_mode": {
    "name": "ipython",
    "version": 3
   },
   "file_extension": ".py",
   "mimetype": "text/x-python",
   "name": "python",
   "nbconvert_exporter": "python",
   "pygments_lexer": "ipython3",
   "version": "3.7.6"
  }
 },
 "nbformat": 4,
 "nbformat_minor": 4
}
