{
 "cells": [
  {
   "cell_type": "code",
   "execution_count": 32,
   "metadata": {},
   "outputs": [],
   "source": [
    "import numpy as np\n",
    "x1 = np.array([range(1, 101), range(101, 201)])\n",
    "x2 = np.array([range(501, 601), range(601, 701)])\n",
    "y = np.array([range(1, 101), range(101, 201)])"
   ]
  },
  {
   "cell_type": "code",
   "execution_count": 33,
   "metadata": {},
   "outputs": [
    {
     "data": {
      "text/plain": [
       "array([[  1,   2,   3,   4,   5,   6,   7,   8,   9,  10,  11,  12,  13,\n",
       "         14,  15,  16,  17,  18,  19,  20,  21,  22,  23,  24,  25,  26,\n",
       "         27,  28,  29,  30,  31,  32,  33,  34,  35,  36,  37,  38,  39,\n",
       "         40,  41,  42,  43,  44,  45,  46,  47,  48,  49,  50,  51,  52,\n",
       "         53,  54,  55,  56,  57,  58,  59,  60,  61,  62,  63,  64,  65,\n",
       "         66,  67,  68,  69,  70,  71,  72,  73,  74,  75,  76,  77,  78,\n",
       "         79,  80,  81,  82,  83,  84,  85,  86,  87,  88,  89,  90,  91,\n",
       "         92,  93,  94,  95,  96,  97,  98,  99, 100],\n",
       "       [101, 102, 103, 104, 105, 106, 107, 108, 109, 110, 111, 112, 113,\n",
       "        114, 115, 116, 117, 118, 119, 120, 121, 122, 123, 124, 125, 126,\n",
       "        127, 128, 129, 130, 131, 132, 133, 134, 135, 136, 137, 138, 139,\n",
       "        140, 141, 142, 143, 144, 145, 146, 147, 148, 149, 150, 151, 152,\n",
       "        153, 154, 155, 156, 157, 158, 159, 160, 161, 162, 163, 164, 165,\n",
       "        166, 167, 168, 169, 170, 171, 172, 173, 174, 175, 176, 177, 178,\n",
       "        179, 180, 181, 182, 183, 184, 185, 186, 187, 188, 189, 190, 191,\n",
       "        192, 193, 194, 195, 196, 197, 198, 199, 200]])"
      ]
     },
     "execution_count": 33,
     "metadata": {},
     "output_type": "execute_result"
    }
   ],
   "source": [
    "x1"
   ]
  },
  {
   "cell_type": "code",
   "execution_count": 34,
   "metadata": {},
   "outputs": [
    {
     "data": {
      "text/plain": [
       "array([[501, 502, 503, 504, 505, 506, 507, 508, 509, 510, 511, 512, 513,\n",
       "        514, 515, 516, 517, 518, 519, 520, 521, 522, 523, 524, 525, 526,\n",
       "        527, 528, 529, 530, 531, 532, 533, 534, 535, 536, 537, 538, 539,\n",
       "        540, 541, 542, 543, 544, 545, 546, 547, 548, 549, 550, 551, 552,\n",
       "        553, 554, 555, 556, 557, 558, 559, 560, 561, 562, 563, 564, 565,\n",
       "        566, 567, 568, 569, 570, 571, 572, 573, 574, 575, 576, 577, 578,\n",
       "        579, 580, 581, 582, 583, 584, 585, 586, 587, 588, 589, 590, 591,\n",
       "        592, 593, 594, 595, 596, 597, 598, 599, 600],\n",
       "       [601, 602, 603, 604, 605, 606, 607, 608, 609, 610, 611, 612, 613,\n",
       "        614, 615, 616, 617, 618, 619, 620, 621, 622, 623, 624, 625, 626,\n",
       "        627, 628, 629, 630, 631, 632, 633, 634, 635, 636, 637, 638, 639,\n",
       "        640, 641, 642, 643, 644, 645, 646, 647, 648, 649, 650, 651, 652,\n",
       "        653, 654, 655, 656, 657, 658, 659, 660, 661, 662, 663, 664, 665,\n",
       "        666, 667, 668, 669, 670, 671, 672, 673, 674, 675, 676, 677, 678,\n",
       "        679, 680, 681, 682, 683, 684, 685, 686, 687, 688, 689, 690, 691,\n",
       "        692, 693, 694, 695, 696, 697, 698, 699, 700]])"
      ]
     },
     "execution_count": 34,
     "metadata": {},
     "output_type": "execute_result"
    }
   ],
   "source": [
    "x2"
   ]
  },
  {
   "cell_type": "code",
   "execution_count": 35,
   "metadata": {},
   "outputs": [
    {
     "data": {
      "text/plain": [
       "array([[  1,   2,   3,   4,   5,   6,   7,   8,   9,  10,  11,  12,  13,\n",
       "         14,  15,  16,  17,  18,  19,  20,  21,  22,  23,  24,  25,  26,\n",
       "         27,  28,  29,  30,  31,  32,  33,  34,  35,  36,  37,  38,  39,\n",
       "         40,  41,  42,  43,  44,  45,  46,  47,  48,  49,  50,  51,  52,\n",
       "         53,  54,  55,  56,  57,  58,  59,  60,  61,  62,  63,  64,  65,\n",
       "         66,  67,  68,  69,  70,  71,  72,  73,  74,  75,  76,  77,  78,\n",
       "         79,  80,  81,  82,  83,  84,  85,  86,  87,  88,  89,  90,  91,\n",
       "         92,  93,  94,  95,  96,  97,  98,  99, 100],\n",
       "       [101, 102, 103, 104, 105, 106, 107, 108, 109, 110, 111, 112, 113,\n",
       "        114, 115, 116, 117, 118, 119, 120, 121, 122, 123, 124, 125, 126,\n",
       "        127, 128, 129, 130, 131, 132, 133, 134, 135, 136, 137, 138, 139,\n",
       "        140, 141, 142, 143, 144, 145, 146, 147, 148, 149, 150, 151, 152,\n",
       "        153, 154, 155, 156, 157, 158, 159, 160, 161, 162, 163, 164, 165,\n",
       "        166, 167, 168, 169, 170, 171, 172, 173, 174, 175, 176, 177, 178,\n",
       "        179, 180, 181, 182, 183, 184, 185, 186, 187, 188, 189, 190, 191,\n",
       "        192, 193, 194, 195, 196, 197, 198, 199, 200]])"
      ]
     },
     "execution_count": 35,
     "metadata": {},
     "output_type": "execute_result"
    }
   ],
   "source": [
    "y"
   ]
  },
  {
   "cell_type": "code",
   "execution_count": 36,
   "metadata": {},
   "outputs": [
    {
     "name": "stdout",
     "output_type": "stream",
     "text": [
      "(2, 100)\n",
      "(2, 100)\n",
      "(2, 100)\n"
     ]
    }
   ],
   "source": [
    "print(x1.shape)\n",
    "print(x2.shape)\n",
    "print(y.shape)"
   ]
  },
  {
   "cell_type": "code",
   "execution_count": 37,
   "metadata": {},
   "outputs": [
    {
     "name": "stdout",
     "output_type": "stream",
     "text": [
      "(100, 2)\n",
      "(100, 2)\n",
      "(100, 2)\n"
     ]
    }
   ],
   "source": [
    "x1 = np.transpose(x1)\n",
    "x2 = np.transpose(x2)\n",
    "y = np.transpose(y)\n",
    "print(x1.shape)\n",
    "print(x2.shape)\n",
    "print(y.shape)"
   ]
  },
  {
   "cell_type": "code",
   "execution_count": 67,
   "metadata": {},
   "outputs": [],
   "source": [
    "from sklearn.model_selection import train_test_split"
   ]
  },
  {
   "cell_type": "code",
   "execution_count": 68,
   "metadata": {},
   "outputs": [],
   "source": [
    "x1_train, x1_test, y_train, y_test = train_test_split(x1,y,random_state=2020,\n",
    "                                                      test_size=0.2,shuffle=False)\n",
    "                                                      \n",
    "                                                      "
   ]
  },
  {
   "cell_type": "code",
   "execution_count": 69,
   "metadata": {},
   "outputs": [],
   "source": [
    "x1_val, x1_test, y_val, y_test = train_test_split(x1_test,y_test,\n",
    "                                                 random_state = 2020,\n",
    "                                                  test_size=0.5,\n",
    "                                                 shuffle = False)"
   ]
  },
  {
   "cell_type": "code",
   "execution_count": 70,
   "metadata": {},
   "outputs": [],
   "source": [
    "x2_train, x2_test = train_test_split(\n",
    "x2, random_state=2020, test_size=0.2, shuffle = False\n",
    ")"
   ]
  },
  {
   "cell_type": "code",
   "execution_count": 71,
   "metadata": {},
   "outputs": [],
   "source": [
    "x2_val, x2_test = train_test_split(\n",
    "x2_test, random_state=2020, test_size=0.5, shuffle = False\n",
    ")\n"
   ]
  },
  {
   "cell_type": "code",
   "execution_count": 72,
   "metadata": {},
   "outputs": [
    {
     "name": "stdout",
     "output_type": "stream",
     "text": [
      "x2_train.shape :  (80, 2)\n",
      "x2_val.shape :  (10, 2)\n",
      "x2_test.shape :  (10, 2)\n"
     ]
    }
   ],
   "source": [
    "print('x2_train.shape : ', x2_train.shape)\n",
    "print('x2_val.shape : ', x2_val.shape)\n",
    "print('x2_test.shape : ', x2_test.shape)"
   ]
  },
  {
   "cell_type": "code",
   "execution_count": 75,
   "metadata": {},
   "outputs": [],
   "source": [
    "from keras.models import Sequential, Model\n",
    "from keras.layers import Dense, Input"
   ]
  },
  {
   "cell_type": "code",
   "execution_count": 76,
   "metadata": {},
   "outputs": [],
   "source": [
    "input1 = Input(shape=(2,))\n",
    "dense1 = Dense(100, activation='relu')(input1)\n",
    "dense1 = Dense(30)(dense1)\n",
    "dense1 = Dense(7)(dense1)"
   ]
  },
  {
   "cell_type": "code",
   "execution_count": 77,
   "metadata": {},
   "outputs": [],
   "source": [
    "input2 = Input(shape=(2,))\n",
    "dense2 = Dense(50, activation='relu')(input2)\n",
    "dense2 = Dense(30)(dense2)\n",
    "dense2 = Dense(7)(dense2)"
   ]
  },
  {
   "cell_type": "code",
   "execution_count": 78,
   "metadata": {},
   "outputs": [],
   "source": [
    "from keras.layers.merge import concatenate\n",
    "merge1 = concatenate([dense1, dense2])"
   ]
  },
  {
   "cell_type": "code",
   "execution_count": 79,
   "metadata": {},
   "outputs": [],
   "source": [
    "output1 = Dense(30)(merge1)\n",
    "output1 = Dense(7)(output1)\n",
    "output1 = Dense(2)(output1)"
   ]
  },
  {
   "cell_type": "code",
   "execution_count": 80,
   "metadata": {},
   "outputs": [],
   "source": [
    "model = Model(inputs = [input1, input2],\n",
    "outputs = output1\n",
    ")"
   ]
  },
  {
   "cell_type": "code",
   "execution_count": 81,
   "metadata": {},
   "outputs": [
    {
     "name": "stdout",
     "output_type": "stream",
     "text": [
      "Model: \"model_2\"\n",
      "__________________________________________________________________________________________________\n",
      "Layer (type)                    Output Shape         Param #     Connected to                     \n",
      "==================================================================================================\n",
      "input_5 (InputLayer)            [(None, 2)]          0                                            \n",
      "__________________________________________________________________________________________________\n",
      "input_6 (InputLayer)            [(None, 2)]          0                                            \n",
      "__________________________________________________________________________________________________\n",
      "dense_18 (Dense)                (None, 100)          300         input_5[0][0]                    \n",
      "__________________________________________________________________________________________________\n",
      "dense_21 (Dense)                (None, 50)           150         input_6[0][0]                    \n",
      "__________________________________________________________________________________________________\n",
      "dense_19 (Dense)                (None, 30)           3030        dense_18[0][0]                   \n",
      "__________________________________________________________________________________________________\n",
      "dense_22 (Dense)                (None, 30)           1530        dense_21[0][0]                   \n",
      "__________________________________________________________________________________________________\n",
      "dense_20 (Dense)                (None, 7)            217         dense_19[0][0]                   \n",
      "__________________________________________________________________________________________________\n",
      "dense_23 (Dense)                (None, 7)            217         dense_22[0][0]                   \n",
      "__________________________________________________________________________________________________\n",
      "concatenate_2 (Concatenate)     (None, 14)           0           dense_20[0][0]                   \n",
      "                                                                 dense_23[0][0]                   \n",
      "__________________________________________________________________________________________________\n",
      "dense_24 (Dense)                (None, 30)           450         concatenate_2[0][0]              \n",
      "__________________________________________________________________________________________________\n",
      "dense_25 (Dense)                (None, 7)            217         dense_24[0][0]                   \n",
      "__________________________________________________________________________________________________\n",
      "dense_26 (Dense)                (None, 2)            16          dense_25[0][0]                   \n",
      "==================================================================================================\n",
      "Total params: 6,127\n",
      "Trainable params: 6,127\n",
      "Non-trainable params: 0\n",
      "__________________________________________________________________________________________________\n"
     ]
    }
   ],
   "source": [
    "model.summary()"
   ]
  },
  {
   "cell_type": "code",
   "execution_count": 82,
   "metadata": {},
   "outputs": [],
   "source": [
    "model.compile(loss='mse', optimizer='adam', metrics = ['mse'])"
   ]
  },
  {
   "cell_type": "code",
   "execution_count": 87,
   "metadata": {},
   "outputs": [
    {
     "name": "stdout",
     "output_type": "stream",
     "text": [
      "Epoch 1/50\n",
      "80/80 [==============================] - 0s 3ms/step - loss: 1361.9452 - mse: 1361.9452 - val_loss: 410.1905 - val_mse: 410.1905\n",
      "Epoch 2/50\n",
      "80/80 [==============================] - 0s 1ms/step - loss: 142.7801 - mse: 142.7801 - val_loss: 254.4222 - val_mse: 254.4222\n",
      "Epoch 3/50\n",
      "80/80 [==============================] - 0s 1ms/step - loss: 23.4514 - mse: 23.4514 - val_loss: 8.4097 - val_mse: 8.4097\n",
      "Epoch 4/50\n",
      "80/80 [==============================] - 0s 2ms/step - loss: 0.4451 - mse: 0.4451 - val_loss: 1.1092 - val_mse: 1.1092\n",
      "Epoch 5/50\n",
      "80/80 [==============================] - 0s 1ms/step - loss: 0.0252 - mse: 0.0252 - val_loss: 0.4762 - val_mse: 0.4762\n",
      "Epoch 6/50\n",
      "80/80 [==============================] - 0s 1ms/step - loss: 0.0131 - mse: 0.0131 - val_loss: 0.2730 - val_mse: 0.2730\n",
      "Epoch 7/50\n",
      "80/80 [==============================] - 0s 1ms/step - loss: 0.0133 - mse: 0.0133 - val_loss: 0.3670 - val_mse: 0.3670\n",
      "Epoch 8/50\n",
      "80/80 [==============================] - 0s 1ms/step - loss: 0.0233 - mse: 0.0233 - val_loss: 0.5129 - val_mse: 0.5129\n",
      "Epoch 9/50\n",
      "80/80 [==============================] - 0s 1ms/step - loss: 0.0166 - mse: 0.0166 - val_loss: 0.1823 - val_mse: 0.1823\n",
      "Epoch 10/50\n",
      "80/80 [==============================] - 0s 1ms/step - loss: 0.0114 - mse: 0.0114 - val_loss: 0.2474 - val_mse: 0.2474\n",
      "Epoch 11/50\n",
      "80/80 [==============================] - 0s 1ms/step - loss: 0.0115 - mse: 0.0115 - val_loss: 0.6237 - val_mse: 0.6237\n",
      "Epoch 12/50\n",
      "80/80 [==============================] - 0s 1ms/step - loss: 0.0208 - mse: 0.0208 - val_loss: 0.4797 - val_mse: 0.4797\n",
      "Epoch 13/50\n",
      "80/80 [==============================] - 0s 2ms/step - loss: 0.0167 - mse: 0.0167 - val_loss: 0.3001 - val_mse: 0.3001\n",
      "Epoch 14/50\n",
      "80/80 [==============================] - 0s 2ms/step - loss: 0.0096 - mse: 0.0096 - val_loss: 0.3731 - val_mse: 0.3731\n",
      "Epoch 15/50\n",
      "80/80 [==============================] - 0s 2ms/step - loss: 0.0161 - mse: 0.0161 - val_loss: 0.2188 - val_mse: 0.2188\n",
      "Epoch 16/50\n",
      "80/80 [==============================] - 0s 2ms/step - loss: 0.0234 - mse: 0.0234 - val_loss: 0.2771 - val_mse: 0.2771\n",
      "Epoch 17/50\n",
      "80/80 [==============================] - 0s 2ms/step - loss: 0.0275 - mse: 0.0275 - val_loss: 0.2150 - val_mse: 0.2150\n",
      "Epoch 18/50\n",
      "80/80 [==============================] - 0s 1ms/step - loss: 0.0177 - mse: 0.0177 - val_loss: 0.0967 - val_mse: 0.0967\n",
      "Epoch 19/50\n",
      "80/80 [==============================] - 0s 1ms/step - loss: 0.0169 - mse: 0.0169 - val_loss: 0.3087 - val_mse: 0.3087\n",
      "Epoch 20/50\n",
      "80/80 [==============================] - 0s 1ms/step - loss: 0.0145 - mse: 0.0145 - val_loss: 0.0741 - val_mse: 0.0741\n",
      "Epoch 21/50\n",
      "80/80 [==============================] - 0s 1ms/step - loss: 0.0263 - mse: 0.0263 - val_loss: 0.1916 - val_mse: 0.1916\n",
      "Epoch 22/50\n",
      "80/80 [==============================] - 0s 1ms/step - loss: 0.0081 - mse: 0.0081 - val_loss: 0.2121 - val_mse: 0.2121\n",
      "Epoch 23/50\n",
      "80/80 [==============================] - 0s 1ms/step - loss: 0.0197 - mse: 0.0197 - val_loss: 0.2227 - val_mse: 0.2227\n",
      "Epoch 24/50\n",
      "80/80 [==============================] - 0s 1ms/step - loss: 0.0088 - mse: 0.0088 - val_loss: 0.2357 - val_mse: 0.2357\n",
      "Epoch 25/50\n",
      "80/80 [==============================] - 0s 1ms/step - loss: 0.0124 - mse: 0.0124 - val_loss: 0.3763 - val_mse: 0.3763\n",
      "Epoch 26/50\n",
      "80/80 [==============================] - 0s 2ms/step - loss: 0.0380 - mse: 0.0380 - val_loss: 0.1028 - val_mse: 0.1028\n",
      "Epoch 27/50\n",
      "80/80 [==============================] - 0s 2ms/step - loss: 0.0449 - mse: 0.0449 - val_loss: 0.1893 - val_mse: 0.1893\n",
      "Epoch 28/50\n",
      "80/80 [==============================] - 0s 2ms/step - loss: 0.0072 - mse: 0.0072 - val_loss: 0.1341 - val_mse: 0.1341\n",
      "Epoch 29/50\n",
      "80/80 [==============================] - 0s 2ms/step - loss: 0.0078 - mse: 0.0078 - val_loss: 0.1922 - val_mse: 0.1922\n",
      "Epoch 30/50\n",
      "80/80 [==============================] - 0s 2ms/step - loss: 0.0119 - mse: 0.0119 - val_loss: 0.0910 - val_mse: 0.0910\n",
      "Epoch 31/50\n",
      "80/80 [==============================] - 0s 2ms/step - loss: 0.0101 - mse: 0.0101 - val_loss: 0.1672 - val_mse: 0.1672\n",
      "Epoch 32/50\n",
      "80/80 [==============================] - 0s 2ms/step - loss: 0.0226 - mse: 0.0226 - val_loss: 0.2719 - val_mse: 0.2719\n",
      "Epoch 33/50\n",
      "80/80 [==============================] - 0s 1ms/step - loss: 0.0054 - mse: 0.0054 - val_loss: 0.2532 - val_mse: 0.2532\n",
      "Epoch 34/50\n",
      "80/80 [==============================] - 0s 1ms/step - loss: 0.0098 - mse: 0.0098 - val_loss: 0.2513 - val_mse: 0.2513\n",
      "Epoch 35/50\n",
      "80/80 [==============================] - 0s 1ms/step - loss: 0.0176 - mse: 0.0176 - val_loss: 0.1660 - val_mse: 0.1660\n",
      "Epoch 36/50\n",
      "80/80 [==============================] - 0s 1ms/step - loss: 0.0073 - mse: 0.0073 - val_loss: 0.0969 - val_mse: 0.0969\n",
      "Epoch 37/50\n",
      "80/80 [==============================] - 0s 1ms/step - loss: 0.0073 - mse: 0.0073 - val_loss: 0.1546 - val_mse: 0.1546\n",
      "Epoch 38/50\n",
      "80/80 [==============================] - 0s 1ms/step - loss: 0.0140 - mse: 0.0140 - val_loss: 0.4780 - val_mse: 0.4780\n",
      "Epoch 39/50\n",
      "80/80 [==============================] - 0s 1ms/step - loss: 0.0429 - mse: 0.0429 - val_loss: 0.0566 - val_mse: 0.0566\n",
      "Epoch 40/50\n",
      "80/80 [==============================] - 0s 1ms/step - loss: 0.0541 - mse: 0.0541 - val_loss: 0.1577 - val_mse: 0.1577\n",
      "Epoch 41/50\n",
      "80/80 [==============================] - 0s 1ms/step - loss: 0.0078 - mse: 0.0078 - val_loss: 0.1514 - val_mse: 0.1514\n",
      "Epoch 42/50\n",
      "80/80 [==============================] - 0s 1ms/step - loss: 0.0403 - mse: 0.0403 - val_loss: 0.6957 - val_mse: 0.6957\n",
      "Epoch 43/50\n",
      "80/80 [==============================] - 0s 1ms/step - loss: 0.0424 - mse: 0.0424 - val_loss: 0.4320 - val_mse: 0.4320\n",
      "Epoch 44/50\n",
      "80/80 [==============================] - 0s 1ms/step - loss: 3.9620 - mse: 3.9620 - val_loss: 66.6921 - val_mse: 66.6921\n",
      "Epoch 45/50\n",
      "80/80 [==============================] - 0s 1ms/step - loss: 2.9914 - mse: 2.9914 - val_loss: 0.2099 - val_mse: 0.2099\n",
      "Epoch 46/50\n",
      "80/80 [==============================] - 0s 1ms/step - loss: 0.3125 - mse: 0.3125 - val_loss: 0.3940 - val_mse: 0.3940\n",
      "Epoch 47/50\n",
      "80/80 [==============================] - 0s 1ms/step - loss: 0.1709 - mse: 0.1709 - val_loss: 0.4796 - val_mse: 0.4796\n",
      "Epoch 48/50\n",
      "80/80 [==============================] - 0s 1ms/step - loss: 0.0872 - mse: 0.0872 - val_loss: 0.0446 - val_mse: 0.0446\n",
      "Epoch 49/50\n",
      "80/80 [==============================] - 0s 1ms/step - loss: 0.0389 - mse: 0.0389 - val_loss: 0.0248 - val_mse: 0.0248\n",
      "Epoch 50/50\n",
      "80/80 [==============================] - 0s 1ms/step - loss: 0.1708 - mse: 0.1708 - val_loss: 0.0117 - val_mse: 0.0117\n"
     ]
    },
    {
     "data": {
      "text/plain": [
       "<tensorflow.python.keras.callbacks.History at 0x2336300f148>"
      ]
     },
     "execution_count": 87,
     "metadata": {},
     "output_type": "execute_result"
    }
   ],
   "source": [
    "model.fit([x1_train, x2_train], y_train,\n",
    "         epochs=50, batch_size=1, \n",
    "         validation_data=([x1_val, x2_val], y_val))"
   ]
  },
  {
   "cell_type": "code",
   "execution_count": 88,
   "metadata": {},
   "outputs": [
    {
     "name": "stdout",
     "output_type": "stream",
     "text": [
      "10/10 [==============================] - 0s 898us/step - loss: 0.3341 - mse: 0.3341\n",
      "mse :  [0.33412978053092957, 0.33412978053092957]\n"
     ]
    }
   ],
   "source": [
    "mse = model.evaluate([x1_test, x2_test], y_test, batch_size=1)\n",
    "print(\"mse : \", mse)"
   ]
  },
  {
   "cell_type": "code",
   "execution_count": 89,
   "metadata": {},
   "outputs": [
    {
     "name": "stdout",
     "output_type": "stream",
     "text": [
      "y1 예측값 : \n",
      " [[ 90.78453  190.74878 ]\n",
      " [ 91.71093  191.69345 ]\n",
      " [ 92.63732  192.63817 ]\n",
      " [ 93.56373  193.5829  ]\n",
      " [ 94.49013  194.52757 ]\n",
      " [ 95.41652  195.47229 ]\n",
      " [ 96.33665  196.41115 ]\n",
      " [ 97.244705 197.33884 ]\n",
      " [ 98.14651  198.25992 ]\n",
      " [ 99.04292  199.17532 ]]\n"
     ]
    }
   ],
   "source": [
    "y_predict = model.predict([x1_test, x2_test])\n",
    "print(\"y1 예측값 : \\n\", y_predict)"
   ]
  },
  {
   "cell_type": "code",
   "execution_count": null,
   "metadata": {},
   "outputs": [],
   "source": []
  }
 ],
 "metadata": {
  "kernelspec": {
   "display_name": "Python 3",
   "language": "python",
   "name": "python3"
  },
  "language_info": {
   "codemirror_mode": {
    "name": "ipython",
    "version": 3
   },
   "file_extension": ".py",
   "mimetype": "text/x-python",
   "name": "python",
   "nbconvert_exporter": "python",
   "pygments_lexer": "ipython3",
   "version": "3.7.6"
  }
 },
 "nbformat": 4,
 "nbformat_minor": 4
}
